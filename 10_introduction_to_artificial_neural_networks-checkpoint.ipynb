{
 "cells": [
  {
   "cell_type": "code",
   "execution_count": 1,
   "metadata": {},
   "outputs": [],
   "source": [
    "# pip install watermark"
   ]
  },
  {
   "cell_type": "code",
   "execution_count": 2,
   "metadata": {
    "scrolled": true
   },
   "outputs": [
    {
     "name": "stdout",
     "output_type": "stream",
     "text": [
      "CPython 3.6.6\n",
      "IPython 7.1.1\n",
      "\n",
      "numpy 1.15.4\n",
      "scipy 1.1.0\n",
      "matplotlib 3.0.1\n",
      "tensorflow 1.12.0\n"
     ]
    }
   ],
   "source": [
    "%load_ext watermark\n",
    "%watermark -v -p numpy,scipy,matplotlib,tensorflow"
   ]
  },
  {
   "cell_type": "code",
   "execution_count": 3,
   "metadata": {},
   "outputs": [],
   "source": [
    "# pip install tqdm\n",
    "from tqdm import tqdm, trange"
   ]
  },
  {
   "cell_type": "markdown",
   "metadata": {},
   "source": [
    "**10장 – 인공 신경망 소개**"
   ]
  },
  {
   "cell_type": "markdown",
   "metadata": {},
   "source": [
    "_이 노트북은 10장에 있는 모든 샘플 코드와 연습문제 해답을 가지고 있습니다._"
   ]
  },
  {
   "cell_type": "markdown",
   "metadata": {},
   "source": [
    "# 설정"
   ]
  },
  {
   "cell_type": "markdown",
   "metadata": {},
   "source": [
    "파이썬 2와 3을 모두 지원합니다. 공통 모듈을 임포트하고 맷플롯립 그림이 노트북 안에 포함되도록 설정하고 생성한 그림을 저장하기 위한 함수를 준비합니다:"
   ]
  },
  {
   "cell_type": "code",
   "execution_count": 4,
   "metadata": {},
   "outputs": [],
   "source": [
    "# 파이썬 2와 파이썬 3 지원\n",
    "from __future__ import division, print_function, unicode_literals\n",
    "\n",
    "# 공통\n",
    "import numpy as np\n",
    "import os\n",
    "\n",
    "# 일관된 출력을 위해 유사난수 초기화\n",
    "def reset_graph(seed=42):\n",
    "    tf.reset_default_graph()\n",
    "    tf.set_random_seed(seed)\n",
    "    np.random.seed(seed)\n",
    "\n",
    "# 맷플롯립 설정\n",
    "%matplotlib inline\n",
    "import matplotlib\n",
    "import matplotlib.pyplot as plt\n",
    "plt.rcParams['axes.labelsize'] = 14\n",
    "plt.rcParams['xtick.labelsize'] = 12\n",
    "plt.rcParams['ytick.labelsize'] = 12\n",
    "\n",
    "# 그래프 한글 깨지지않게 설정하는 코드 \n",
    "import matplotlib\n",
    "from matplotlib import font_manager, rc\n",
    "import platform\n",
    "\n",
    "if platform.system() == 'Windows': # 윈도우인 경우\n",
    "    font_name = font_manager.FontProperties(fname=\"c:/Windows/Fonts/malgun.ttf\").get_name()\n",
    "    rc('font', family=font_name)\n",
    "else: # Mac 인 경우\n",
    "    rc('font', family='AppleGothic')\n",
    "\n",
    "matplotlib.rcParams['axes.unicode_minus'] = False #그래프에서 마이너스 기호가 표시되도록 하는 설정\n",
    "\n",
    "# 그림을 저장할 폴더\n",
    "PROJECT_ROOT_DIR = \".\"\n",
    "CHAPTER_ID = \"ann\"\n",
    "\n",
    "def save_fig(fig_id, tight_layout=True):\n",
    "    path = os.path.join(PROJECT_ROOT_DIR, \"images\", CHAPTER_ID, fig_id + \".png\")\n",
    "    if tight_layout:\n",
    "        plt.tight_layout()\n",
    "    plt.savefig(path, format='png', dpi=300)"
   ]
  },
  {
   "cell_type": "markdown",
   "metadata": {},
   "source": [
    "# 퍼셉트론"
   ]
  },
  {
   "cell_type": "code",
   "execution_count": 5,
   "metadata": {},
   "outputs": [
    {
     "name": "stderr",
     "output_type": "stream",
     "text": [
      "/anaconda3/lib/python3.6/site-packages/sklearn/linear_model/stochastic_gradient.py:183: FutureWarning: max_iter and tol parameters have been added in Perceptron in 0.19. If max_iter is set but tol is left unset, the default value for tol in 0.19 and 0.20 will be None (which is equivalent to -infinity, so it has no effect) but will change in 0.21 to 1e-3. Specify tol to silence this warning.\n",
      "  FutureWarning)\n"
     ]
    }
   ],
   "source": [
    "import numpy as np\n",
    "from sklearn.datasets import load_iris\n",
    "from sklearn.linear_model import Perceptron\n",
    "\n",
    "iris = load_iris()\n",
    "X = iris.data[:, (2, 3)]  # 꽃잎 길이, 꽃잎 너비\n",
    "y = (iris.target == 0).astype(np.int)\n",
    "\n",
    "per_clf = Perceptron(max_iter=100, random_state=42)\n",
    "per_clf.fit(X, y)\n",
    "\n",
    "y_pred = per_clf.predict([[2, 0.5]])"
   ]
  },
  {
   "cell_type": "code",
   "execution_count": 6,
   "metadata": {},
   "outputs": [
    {
     "data": {
      "text/plain": [
       "array([1])"
      ]
     },
     "execution_count": 6,
     "metadata": {},
     "output_type": "execute_result"
    }
   ],
   "source": [
    "y_pred"
   ]
  },
  {
   "cell_type": "code",
   "execution_count": 7,
   "metadata": {},
   "outputs": [
    {
     "data": {
      "image/png": "[encoded data removed]",
      "text/plain": [
       "<Figure size 720x288 with 1 Axes>"
      ]
     },
     "metadata": {
      "needs_background": "light"
     },
     "output_type": "display_data"
    }
   ],
   "source": [
    "a = -per_clf.coef_[0][0] / per_clf.coef_[0][1]\n",
    "b = -per_clf.intercept_ / per_clf.coef_[0][1]\n",
    "\n",
    "axes = [0, 5, 0, 2]\n",
    "\n",
    "x0, x1 = np.meshgrid(\n",
    "        np.linspace(axes[0], axes[1], 500).reshape(-1, 1),\n",
    "        np.linspace(axes[2], axes[3], 200).reshape(-1, 1),\n",
    "    )\n",
    "X_new = np.c_[x0.ravel(), x1.ravel()]\n",
    "y_predict = per_clf.predict(X_new)\n",
    "zz = y_predict.reshape(x0.shape)\n",
    "\n",
    "plt.figure(figsize=(10, 4))\n",
    "plt.plot(X[y==0, 0], X[y==0, 1], \"bs\", label=\"Iris-Setosa 아님\")\n",
    "plt.plot(X[y==1, 0], X[y==1, 1], \"yo\", label=\"Iris-Setosa\")\n",
    "\n",
    "plt.plot([axes[0], axes[1]], [a * axes[0] + b, a * axes[1] + b], \"k-\", linewidth=3)\n",
    "from matplotlib.colors import ListedColormap\n",
    "custom_cmap = ListedColormap(['#9898ff', '#fafab0'])\n",
    "\n",
    "plt.contourf(x0, x1, zz, cmap=custom_cmap)\n",
    "plt.xlabel(\"꽃잎 길이\", fontsize=14)\n",
    "plt.ylabel(\"꽃잎 너비\", fontsize=14)\n",
    "plt.legend(loc=\"lower right\", fontsize=14)\n",
    "plt.axis(axes)\n",
    "\n",
    "save_fig(\"perceptron_iris_plot\")\n",
    "plt.show()"
   ]
  },
  {
   "cell_type": "markdown",
   "metadata": {},
   "source": [
    "# 활성화 함수"
   ]
  },
  {
   "cell_type": "code",
   "execution_count": 8,
   "metadata": {},
   "outputs": [],
   "source": [
    "def logit(z):\n",
    "    return 1 / (1 + np.exp(-z))\n",
    "\n",
    "def relu(z):\n",
    "    return np.maximum(0, z)\n",
    "\n",
    "def derivative(f, z, eps=0.000001):\n",
    "    return (f(z + eps) - f(z - eps))/(2 * eps)"
   ]
  },
  {
   "cell_type": "code",
   "execution_count": 9,
   "metadata": {},
   "outputs": [
    {
     "data": {
      "image/png": "[encoded data removed]",
      "text/plain": [
       "<Figure size 792x288 with 2 Axes>"
      ]
     },
     "metadata": {
      "needs_background": "light"
     },
     "output_type": "display_data"
    }
   ],
   "source": [
    "z = np.linspace(-5, 5, 200)\n",
    "\n",
    "plt.figure(figsize=(11,4))\n",
    "\n",
    "plt.subplot(121)\n",
    "plt.plot(z, np.sign(z), \"r-\", linewidth=2, label=\"스텝\")\n",
    "plt.plot(z, logit(z), \"g--\", linewidth=2, label=\"로지스틱\")\n",
    "plt.plot(z, np.tanh(z), \"b-\", linewidth=2, label=\"Tanh\")\n",
    "plt.plot(z, relu(z), \"m-.\", linewidth=2, label=\"ReLU\")\n",
    "plt.grid(True)\n",
    "plt.legend(loc=\"center right\", fontsize=14)\n",
    "plt.title(\"활성화 함수\", fontsize=14)\n",
    "plt.axis([-5, 5, -1.2, 1.2])\n",
    "\n",
    "plt.subplot(122)\n",
    "plt.plot(z, derivative(np.sign, z), \"r-\", linewidth=2, label=\"Step\")\n",
    "plt.plot(0, 0, \"ro\", markersize=5)\n",
    "plt.plot(0, 0, \"rx\", markersize=10)\n",
    "plt.plot(z, derivative(logit, z), \"g--\", linewidth=2, label=\"Logit\")\n",
    "plt.plot(z, derivative(np.tanh, z), \"b-\", linewidth=2, label=\"Tanh\")\n",
    "plt.plot(z, derivative(relu, z), \"m-.\", linewidth=2, label=\"ReLU\")\n",
    "plt.grid(True)\n",
    "plt.title(\"도함수\", fontsize=14)\n",
    "plt.axis([-5, 5, -0.2, 1.2])\n",
    "\n",
    "save_fig(\"activation_functions_plot\")\n",
    "plt.show()"
   ]
  },
  {
   "cell_type": "code",
   "execution_count": 10,
   "metadata": {},
   "outputs": [],
   "source": [
    "def heaviside(z):\n",
    "    return (z >= 0).astype(z.dtype)\n",
    "\n",
    "def sigmoid(z):\n",
    "    return 1/(1+np.exp(-z))\n",
    "\n",
    "def mlp_xor(x1, x2, activation=heaviside):\n",
    "    return activation(-activation(x1 + x2 - 1.5) + activation(x1 + x2 - 0.5) - 0.5)"
   ]
  },
  {
   "cell_type": "code",
   "execution_count": 11,
   "metadata": {},
   "outputs": [
    {
     "data": {
      "image/png": "[encoded data removed]",
      "text/plain": [
       "<Figure size 720x288 with 2 Axes>"
      ]
     },
     "metadata": {
      "needs_background": "light"
     },
     "output_type": "display_data"
    }
   ],
   "source": [
    "x1s = np.linspace(-0.2, 1.2, 100)\n",
    "x2s = np.linspace(-0.2, 1.2, 100)\n",
    "x1, x2 = np.meshgrid(x1s, x2s)\n",
    "\n",
    "z1 = mlp_xor(x1, x2, activation=heaviside)\n",
    "z2 = mlp_xor(x1, x2, activation=sigmoid)\n",
    "\n",
    "plt.figure(figsize=(10,4))\n",
    "\n",
    "plt.subplot(121)\n",
    "plt.contourf(x1, x2, z1)\n",
    "plt.plot([0, 1], [0, 1], \"gs\", markersize=20)\n",
    "plt.plot([0, 1], [1, 0], \"y^\", markersize=20)\n",
    "plt.title(\"활성화 함수: 헤비사이드\", fontsize=14)\n",
    "plt.grid(True)\n",
    "\n",
    "plt.subplot(122)\n",
    "plt.contourf(x1, x2, z2)\n",
    "plt.plot([0, 1], [0, 1], \"gs\", markersize=20)\n",
    "plt.plot([0, 1], [1, 0], \"y^\", markersize=20)\n",
    "plt.title(\"활성화 함수: 시그모이드\", fontsize=14)\n",
    "plt.grid(True)"
   ]
  },
  {
   "cell_type": "markdown",
   "metadata": {},
   "source": [
    "# MNIST를 위한 FNN"
   ]
  },
  {
   "cell_type": "code",
   "execution_count": 12,
   "metadata": {},
   "outputs": [],
   "source": [
    "import tensorflow as tf"
   ]
  },
  {
   "cell_type": "markdown",
   "metadata": {},
   "source": [
    "주의: `tf.examples.tutorials.mnist`은 삭제될 예정이므로 대신 `tf.keras.datasets.mnist`를 사용하겠습니다. `tf.contrib.learn` API는 `tf.estimator`와 `tf.feature_column`로 옮겨졌고 상당히 많이 바뀌었습니다. 특히 `infer_real_valued_columns_from_input()` 함수와 `SKCompat` 클래스가 없습니다."
   ]
  },
  {
   "cell_type": "code",
   "execution_count": 13,
   "metadata": {},
   "outputs": [],
   "source": [
    "(X_train, y_train), (X_test, y_test) = tf.keras.datasets.mnist.load_data()\n",
    "X_train = X_train.astype(np.float32).reshape(-1, 28*28) / 255.0\n",
    "X_test = X_test.astype(np.float32).reshape(-1, 28*28) / 255.0\n",
    "y_train = y_train.astype(np.int32)\n",
    "y_test = y_test.astype(np.int32)\n",
    "X_valid, X_train = X_train[:5000], X_train[5000:]\n",
    "y_valid, y_train = y_train[:5000], y_train[5000:]"
   ]
  },
  {
   "cell_type": "markdown",
   "metadata": {},
   "source": [
    "## Estimator API를 사용"
   ]
  },
  {
   "cell_type": "code",
   "execution_count": 14,
   "metadata": {},
   "outputs": [
    {
     "name": "stdout",
     "output_type": "stream",
     "text": [
      "INFO:tensorflow:Using default config.\n",
      "WARNING:tensorflow:Using temporary folder as model directory: /var/folders/23/mg281cys48n4dvql2mw8hl480000gn/T/tmpjp81mlm8\n",
      "INFO:tensorflow:Using config: {'_model_dir': '/var/folders/23/mg281cys48n4dvql2mw8hl480000gn/T/tmpjp81mlm8', '_tf_random_seed': None, '_save_summary_steps': 100, '_save_checkpoints_steps': None, '_save_checkpoints_secs': 600, '_session_config': allow_soft_placement: true\n",
      "graph_options {\n",
      "  rewrite_options {\n",
      "    meta_optimizer_iterations: ONE\n",
      "  }\n",
      "}\n",
      ", '_keep_checkpoint_max': 5, '_keep_checkpoint_every_n_hours': 10000, '_log_step_count_steps': 100, '_train_distribute': None, '_device_fn': None, '_protocol': None, '_eval_distribute': None, '_experimental_distribute': None, '_service': None, '_cluster_spec': <tensorflow.python.training.server_lib.ClusterSpec object at 0x1a41eb4588>, '_task_type': 'worker', '_task_id': 0, '_global_id_in_cluster': 0, '_master': '', '_evaluation_master': '', '_is_chief': True, '_num_ps_replicas': 0, '_num_worker_replicas': 1}\n",
      "WARNING:tensorflow:From /anaconda3/lib/python3.6/site-packages/tensorflow/python/estimator/inputs/queues/feeding_queue_runner.py:62: QueueRunner.__init__ (from tensorflow.python.training.queue_runner_impl) is deprecated and will be removed in a future version.\n",
      "Instructions for updating:\n",
      "To construct input pipelines, use the `tf.data` module.\n",
      "WARNING:tensorflow:From /anaconda3/lib/python3.6/site-packages/tensorflow/python/estimator/inputs/queues/feeding_functions.py:500: add_queue_runner (from tensorflow.python.training.queue_runner_impl) is deprecated and will be removed in a future version.\n",
      "Instructions for updating:\n",
      "To construct input pipelines, use the `tf.data` module.\n",
      "INFO:tensorflow:Calling model_fn.\n",
      "INFO:tensorflow:Done calling model_fn.\n",
      "INFO:tensorflow:Create CheckpointSaverHook.\n",
      "INFO:tensorflow:Graph was finalized.\n",
      "INFO:tensorflow:Running local_init_op.\n",
      "INFO:tensorflow:Done running local_init_op.\n",
      "WARNING:tensorflow:From /anaconda3/lib/python3.6/site-packages/tensorflow/python/training/monitored_session.py:804: start_queue_runners (from tensorflow.python.training.queue_runner_impl) is deprecated and will be removed in a future version.\n",
      "Instructions for updating:\n",
      "To construct input pipelines, use the `tf.data` module.\n",
      "INFO:tensorflow:Saving checkpoints for 0 into /var/folders/23/mg281cys48n4dvql2mw8hl480000gn/T/tmpjp81mlm8/model.ckpt.\n",
      "INFO:tensorflow:loss = 116.23395, step = 1\n",
      "INFO:tensorflow:global_step/sec: 121.912\n",
      "INFO:tensorflow:loss = 13.558041, step = 101 (0.822 sec)\n",
      "INFO:tensorflow:global_step/sec: 150.638\n",
      "INFO:tensorflow:loss = 18.699718, step = 201 (0.664 sec)\n",
      "INFO:tensorflow:global_step/sec: 158.149\n",
      "INFO:tensorflow:loss = 8.406268, step = 301 (0.632 sec)\n",
      "INFO:tensorflow:global_step/sec: 159.973\n",
      "INFO:tensorflow:loss = 7.7369637, step = 401 (0.625 sec)\n",
      "INFO:tensorflow:global_step/sec: 156.658\n",
      "INFO:tensorflow:loss = 11.119509, step = 501 (0.638 sec)\n",
      "INFO:tensorflow:global_step/sec: 156.846\n",
      "INFO:tensorflow:loss = 5.593773, step = 601 (0.638 sec)\n",
      "INFO:tensorflow:global_step/sec: 165.332\n",
      "INFO:tensorflow:loss = 6.2117653, step = 701 (0.604 sec)\n",
      "INFO:tensorflow:global_step/sec: 164.512\n",
      "INFO:tensorflow:loss = 4.83063, step = 801 (0.609 sec)\n",
      "INFO:tensorflow:global_step/sec: 157.879\n",
      "INFO:tensorflow:loss = 0.6720581, step = 901 (0.633 sec)\n",
      "INFO:tensorflow:global_step/sec: 159.976\n",
      "INFO:tensorflow:loss = 3.4201617, step = 1001 (0.625 sec)\n",
      "INFO:tensorflow:global_step/sec: 158.579\n",
      "INFO:tensorflow:loss = 4.0465918, step = 1101 (0.630 sec)\n",
      "INFO:tensorflow:global_step/sec: 160.845\n",
      "INFO:tensorflow:loss = 1.1939733, step = 1201 (0.622 sec)\n",
      "INFO:tensorflow:global_step/sec: 158.132\n",
      "INFO:tensorflow:loss = 5.854469, step = 1301 (0.632 sec)\n",
      "INFO:tensorflow:global_step/sec: 157.521\n",
      "INFO:tensorflow:loss = 3.6446488, step = 1401 (0.635 sec)\n",
      "INFO:tensorflow:global_step/sec: 163.221\n",
      "INFO:tensorflow:loss = 5.4497023, step = 1501 (0.612 sec)\n",
      "INFO:tensorflow:global_step/sec: 163.704\n",
      "INFO:tensorflow:loss = 1.4547986, step = 1601 (0.611 sec)\n",
      "INFO:tensorflow:global_step/sec: 158.829\n",
      "INFO:tensorflow:loss = 1.1373148, step = 1701 (0.630 sec)\n",
      "INFO:tensorflow:global_step/sec: 161.246\n",
      "INFO:tensorflow:loss = 2.5751665, step = 1801 (0.620 sec)\n",
      "INFO:tensorflow:global_step/sec: 158.751\n",
      "INFO:tensorflow:loss = 6.403867, step = 1901 (0.629 sec)\n",
      "INFO:tensorflow:global_step/sec: 164.763\n",
      "INFO:tensorflow:loss = 7.399488, step = 2001 (0.607 sec)\n",
      "INFO:tensorflow:global_step/sec: 159.25\n",
      "INFO:tensorflow:loss = 0.9127205, step = 2101 (0.628 sec)\n",
      "INFO:tensorflow:global_step/sec: 162.405\n",
      "INFO:tensorflow:loss = 3.559182, step = 2201 (0.615 sec)\n",
      "INFO:tensorflow:global_step/sec: 165.793\n",
      "INFO:tensorflow:loss = 0.753761, step = 2301 (0.604 sec)\n",
      "INFO:tensorflow:global_step/sec: 162.71\n",
      "INFO:tensorflow:loss = 1.4024818, step = 2401 (0.614 sec)\n",
      "INFO:tensorflow:global_step/sec: 155.209\n",
      "INFO:tensorflow:loss = 9.143069, step = 2501 (0.644 sec)\n",
      "INFO:tensorflow:global_step/sec: 160.385\n",
      "INFO:tensorflow:loss = 0.8117353, step = 2601 (0.624 sec)\n",
      "INFO:tensorflow:global_step/sec: 158.42\n",
      "INFO:tensorflow:loss = 0.5164771, step = 2701 (0.631 sec)\n",
      "INFO:tensorflow:global_step/sec: 164.871\n",
      "INFO:tensorflow:loss = 7.258825, step = 2801 (0.606 sec)\n",
      "INFO:tensorflow:global_step/sec: 158.629\n",
      "INFO:tensorflow:loss = 0.25784388, step = 2901 (0.631 sec)\n",
      "INFO:tensorflow:global_step/sec: 157.031\n",
      "INFO:tensorflow:loss = 0.27945974, step = 3001 (0.637 sec)\n",
      "INFO:tensorflow:global_step/sec: 158.114\n",
      "INFO:tensorflow:loss = 5.0315948, step = 3101 (0.632 sec)\n",
      "INFO:tensorflow:global_step/sec: 152.974\n",
      "INFO:tensorflow:loss = 1.2254559, step = 3201 (0.654 sec)\n",
      "INFO:tensorflow:global_step/sec: 147.613\n",
      "INFO:tensorflow:loss = 4.6914563, step = 3301 (0.677 sec)\n",
      "INFO:tensorflow:global_step/sec: 156.92\n",
      "INFO:tensorflow:loss = 0.23536208, step = 3401 (0.638 sec)\n",
      "INFO:tensorflow:global_step/sec: 152.164\n",
      "INFO:tensorflow:loss = 1.7416344, step = 3501 (0.657 sec)\n",
      "INFO:tensorflow:global_step/sec: 163.589\n",
      "INFO:tensorflow:loss = 0.748957, step = 3601 (0.611 sec)\n",
      "INFO:tensorflow:global_step/sec: 164.416\n",
      "INFO:tensorflow:loss = 0.49917132, step = 3701 (0.609 sec)\n",
      "INFO:tensorflow:global_step/sec: 155.366\n",
      "INFO:tensorflow:loss = 0.25518557, step = 3801 (0.644 sec)\n",
      "INFO:tensorflow:global_step/sec: 155.171\n",
      "INFO:tensorflow:loss = 6.134795, step = 3901 (0.644 sec)\n",
      "INFO:tensorflow:global_step/sec: 161.523\n",
      "INFO:tensorflow:loss = 0.37557372, step = 4001 (0.619 sec)\n",
      "INFO:tensorflow:global_step/sec: 144.028\n",
      "INFO:tensorflow:loss = 3.9902432, step = 4101 (0.694 sec)\n",
      "INFO:tensorflow:global_step/sec: 159.884\n",
      "INFO:tensorflow:loss = 1.2740273, step = 4201 (0.625 sec)\n",
      "INFO:tensorflow:global_step/sec: 162.561\n",
      "INFO:tensorflow:loss = 0.44352895, step = 4301 (0.616 sec)\n",
      "INFO:tensorflow:global_step/sec: 160.35\n",
      "INFO:tensorflow:loss = 0.81731737, step = 4401 (0.624 sec)\n",
      "INFO:tensorflow:global_step/sec: 164.684\n",
      "INFO:tensorflow:loss = 0.2630822, step = 4501 (0.607 sec)\n",
      "INFO:tensorflow:global_step/sec: 166.469\n",
      "INFO:tensorflow:loss = 2.7945526, step = 4601 (0.600 sec)\n",
      "INFO:tensorflow:global_step/sec: 168.903\n",
      "INFO:tensorflow:loss = 1.0853328, step = 4701 (0.593 sec)\n",
      "INFO:tensorflow:global_step/sec: 169.151\n",
      "INFO:tensorflow:loss = 1.7177315, step = 4801 (0.592 sec)\n",
      "INFO:tensorflow:global_step/sec: 163.954\n",
      "INFO:tensorflow:loss = 2.0795321, step = 4901 (0.610 sec)\n",
      "INFO:tensorflow:global_step/sec: 170.783\n",
      "INFO:tensorflow:loss = 6.7812724, step = 5001 (0.585 sec)\n",
      "INFO:tensorflow:global_step/sec: 168.111\n",
      "INFO:tensorflow:loss = 1.948555, step = 5101 (0.595 sec)\n",
      "INFO:tensorflow:global_step/sec: 160.238\n",
      "INFO:tensorflow:loss = 1.7857878, step = 5201 (0.625 sec)\n",
      "INFO:tensorflow:global_step/sec: 162.25\n",
      "INFO:tensorflow:loss = 1.2226094, step = 5301 (0.616 sec)\n",
      "INFO:tensorflow:global_step/sec: 163.887\n",
      "INFO:tensorflow:loss = 0.89423376, step = 5401 (0.610 sec)\n",
      "INFO:tensorflow:global_step/sec: 164.247\n",
      "INFO:tensorflow:loss = 0.90626764, step = 5501 (0.609 sec)\n",
      "INFO:tensorflow:global_step/sec: 161.949\n",
      "INFO:tensorflow:loss = 0.42800778, step = 5601 (0.618 sec)\n",
      "INFO:tensorflow:global_step/sec: 164.932\n",
      "INFO:tensorflow:loss = 0.4778517, step = 5701 (0.606 sec)\n",
      "INFO:tensorflow:global_step/sec: 161.355\n",
      "INFO:tensorflow:loss = 12.093938, step = 5801 (0.620 sec)\n",
      "INFO:tensorflow:global_step/sec: 161.487\n"
     ]
    },
    {
     "name": "stdout",
     "output_type": "stream",
     "text": [
      "INFO:tensorflow:loss = 0.95834637, step = 5901 (0.620 sec)\n",
      "INFO:tensorflow:global_step/sec: 158.171\n",
      "INFO:tensorflow:loss = 0.7461034, step = 6001 (0.632 sec)\n",
      "INFO:tensorflow:global_step/sec: 161.664\n",
      "INFO:tensorflow:loss = 0.23506975, step = 6101 (0.618 sec)\n",
      "INFO:tensorflow:global_step/sec: 165.112\n",
      "INFO:tensorflow:loss = 0.6983001, step = 6201 (0.605 sec)\n",
      "INFO:tensorflow:global_step/sec: 167.256\n",
      "INFO:tensorflow:loss = 0.57910866, step = 6301 (0.598 sec)\n",
      "INFO:tensorflow:global_step/sec: 161.92\n",
      "INFO:tensorflow:loss = 1.2875218, step = 6401 (0.618 sec)\n",
      "INFO:tensorflow:global_step/sec: 162.283\n",
      "INFO:tensorflow:loss = 0.32066476, step = 6501 (0.616 sec)\n",
      "INFO:tensorflow:global_step/sec: 168.321\n",
      "INFO:tensorflow:loss = 0.5902267, step = 6601 (0.594 sec)\n",
      "INFO:tensorflow:global_step/sec: 168.983\n",
      "INFO:tensorflow:loss = 2.6558263, step = 6701 (0.592 sec)\n",
      "INFO:tensorflow:global_step/sec: 164.703\n",
      "INFO:tensorflow:loss = 0.20520219, step = 6801 (0.607 sec)\n",
      "INFO:tensorflow:global_step/sec: 163.43\n",
      "INFO:tensorflow:loss = 0.55800456, step = 6901 (0.612 sec)\n",
      "INFO:tensorflow:global_step/sec: 161.757\n",
      "INFO:tensorflow:loss = 0.38667223, step = 7001 (0.618 sec)\n",
      "INFO:tensorflow:global_step/sec: 164.79\n",
      "INFO:tensorflow:loss = 5.0575156, step = 7101 (0.607 sec)\n",
      "INFO:tensorflow:global_step/sec: 158.696\n",
      "INFO:tensorflow:loss = 1.4384912, step = 7201 (0.631 sec)\n",
      "INFO:tensorflow:global_step/sec: 163.557\n",
      "INFO:tensorflow:loss = 1.1092315, step = 7301 (0.611 sec)\n",
      "INFO:tensorflow:global_step/sec: 160.917\n",
      "INFO:tensorflow:loss = 1.262631, step = 7401 (0.622 sec)\n",
      "INFO:tensorflow:global_step/sec: 165.352\n",
      "INFO:tensorflow:loss = 0.17756592, step = 7501 (0.604 sec)\n",
      "INFO:tensorflow:global_step/sec: 160.525\n",
      "INFO:tensorflow:loss = 0.333707, step = 7601 (0.623 sec)\n",
      "INFO:tensorflow:global_step/sec: 161.047\n",
      "INFO:tensorflow:loss = 2.8270466, step = 7701 (0.621 sec)\n",
      "INFO:tensorflow:global_step/sec: 159.794\n",
      "INFO:tensorflow:loss = 0.4918373, step = 7801 (0.626 sec)\n",
      "INFO:tensorflow:global_step/sec: 144.11\n",
      "INFO:tensorflow:loss = 2.0144715, step = 7901 (0.694 sec)\n",
      "INFO:tensorflow:global_step/sec: 153.309\n",
      "INFO:tensorflow:loss = 0.15219384, step = 8001 (0.652 sec)\n",
      "INFO:tensorflow:global_step/sec: 163.881\n",
      "INFO:tensorflow:loss = 0.18659921, step = 8101 (0.610 sec)\n",
      "INFO:tensorflow:global_step/sec: 151.047\n",
      "INFO:tensorflow:loss = 1.6397877, step = 8201 (0.662 sec)\n",
      "INFO:tensorflow:global_step/sec: 165.718\n",
      "INFO:tensorflow:loss = 0.19641966, step = 8301 (0.604 sec)\n",
      "INFO:tensorflow:global_step/sec: 162.786\n",
      "INFO:tensorflow:loss = 0.19937277, step = 8401 (0.615 sec)\n",
      "INFO:tensorflow:global_step/sec: 163.319\n",
      "INFO:tensorflow:loss = 0.09737612, step = 8501 (0.612 sec)\n",
      "INFO:tensorflow:global_step/sec: 167.551\n",
      "INFO:tensorflow:loss = 1.1106279, step = 8601 (0.597 sec)\n",
      "INFO:tensorflow:global_step/sec: 167.651\n",
      "INFO:tensorflow:loss = 0.9704967, step = 8701 (0.597 sec)\n",
      "INFO:tensorflow:global_step/sec: 158.085\n",
      "INFO:tensorflow:loss = 0.04157032, step = 8801 (0.632 sec)\n",
      "INFO:tensorflow:global_step/sec: 153.562\n",
      "INFO:tensorflow:loss = 0.7585379, step = 8901 (0.651 sec)\n",
      "INFO:tensorflow:global_step/sec: 153.362\n",
      "INFO:tensorflow:loss = 0.073499165, step = 9001 (0.652 sec)\n",
      "INFO:tensorflow:global_step/sec: 154.058\n",
      "INFO:tensorflow:loss = 0.29502383, step = 9101 (0.648 sec)\n",
      "INFO:tensorflow:global_step/sec: 166.965\n",
      "INFO:tensorflow:loss = 0.089894354, step = 9201 (0.600 sec)\n",
      "INFO:tensorflow:global_step/sec: 161.089\n",
      "INFO:tensorflow:loss = 0.35417497, step = 9301 (0.621 sec)\n",
      "INFO:tensorflow:global_step/sec: 162.894\n",
      "INFO:tensorflow:loss = 0.3787562, step = 9401 (0.613 sec)\n",
      "INFO:tensorflow:global_step/sec: 162.664\n",
      "INFO:tensorflow:loss = 1.0287814, step = 9501 (0.615 sec)\n",
      "INFO:tensorflow:global_step/sec: 163.204\n",
      "INFO:tensorflow:loss = 0.63334036, step = 9601 (0.613 sec)\n",
      "INFO:tensorflow:global_step/sec: 162.154\n",
      "INFO:tensorflow:loss = 2.290489, step = 9701 (0.616 sec)\n",
      "INFO:tensorflow:global_step/sec: 162.325\n",
      "INFO:tensorflow:loss = 0.10894744, step = 9801 (0.616 sec)\n",
      "INFO:tensorflow:global_step/sec: 157.959\n",
      "INFO:tensorflow:loss = 0.1479449, step = 9901 (0.633 sec)\n",
      "INFO:tensorflow:global_step/sec: 158.499\n",
      "INFO:tensorflow:loss = 1.7403979, step = 10001 (0.632 sec)\n",
      "INFO:tensorflow:global_step/sec: 161.976\n",
      "INFO:tensorflow:loss = 0.19362544, step = 10101 (0.617 sec)\n",
      "INFO:tensorflow:global_step/sec: 162.462\n",
      "INFO:tensorflow:loss = 0.066281006, step = 10201 (0.615 sec)\n",
      "INFO:tensorflow:global_step/sec: 160.149\n",
      "INFO:tensorflow:loss = 0.13418926, step = 10301 (0.625 sec)\n",
      "INFO:tensorflow:global_step/sec: 152.861\n",
      "INFO:tensorflow:loss = 0.32274452, step = 10401 (0.654 sec)\n",
      "INFO:tensorflow:global_step/sec: 163.249\n",
      "INFO:tensorflow:loss = 0.41838366, step = 10501 (0.612 sec)\n",
      "INFO:tensorflow:global_step/sec: 165.971\n",
      "INFO:tensorflow:loss = 0.33674484, step = 10601 (0.603 sec)\n",
      "INFO:tensorflow:global_step/sec: 164.672\n",
      "INFO:tensorflow:loss = 0.036713194, step = 10701 (0.608 sec)\n",
      "INFO:tensorflow:global_step/sec: 162.556\n",
      "INFO:tensorflow:loss = 0.07890212, step = 10801 (0.615 sec)\n",
      "INFO:tensorflow:global_step/sec: 164.973\n",
      "INFO:tensorflow:loss = 0.2233741, step = 10901 (0.606 sec)\n",
      "INFO:tensorflow:global_step/sec: 172.45\n",
      "INFO:tensorflow:loss = 2.9531214, step = 11001 (0.580 sec)\n",
      "INFO:tensorflow:global_step/sec: 172.164\n",
      "INFO:tensorflow:loss = 0.19518518, step = 11101 (0.581 sec)\n",
      "INFO:tensorflow:global_step/sec: 173.882\n",
      "INFO:tensorflow:loss = 0.17100632, step = 11201 (0.575 sec)\n",
      "INFO:tensorflow:global_step/sec: 173.487\n",
      "INFO:tensorflow:loss = 0.095695786, step = 11301 (0.576 sec)\n",
      "INFO:tensorflow:global_step/sec: 173.4\n",
      "INFO:tensorflow:loss = 0.33030733, step = 11401 (0.577 sec)\n",
      "INFO:tensorflow:global_step/sec: 170.465\n",
      "INFO:tensorflow:loss = 0.20865652, step = 11501 (0.587 sec)\n",
      "INFO:tensorflow:global_step/sec: 162.849\n",
      "INFO:tensorflow:loss = 0.64394015, step = 11601 (0.614 sec)\n",
      "INFO:tensorflow:global_step/sec: 164.494\n",
      "INFO:tensorflow:loss = 0.14154452, step = 11701 (0.608 sec)\n",
      "INFO:tensorflow:global_step/sec: 162.826\n",
      "INFO:tensorflow:loss = 0.07932198, step = 11801 (0.614 sec)\n",
      "INFO:tensorflow:global_step/sec: 161.404\n",
      "INFO:tensorflow:loss = 0.662655, step = 11901 (0.620 sec)\n",
      "INFO:tensorflow:global_step/sec: 155.25\n",
      "INFO:tensorflow:loss = 0.14612405, step = 12001 (0.644 sec)\n",
      "INFO:tensorflow:global_step/sec: 162.245\n",
      "INFO:tensorflow:loss = 0.1425188, step = 12101 (0.616 sec)\n",
      "INFO:tensorflow:global_step/sec: 152.52\n",
      "INFO:tensorflow:loss = 0.17236555, step = 12201 (0.657 sec)\n",
      "INFO:tensorflow:global_step/sec: 162.217\n",
      "INFO:tensorflow:loss = 0.047261346, step = 12301 (0.616 sec)\n",
      "INFO:tensorflow:global_step/sec: 155.256\n",
      "INFO:tensorflow:loss = 0.3015085, step = 12401 (0.645 sec)\n",
      "INFO:tensorflow:global_step/sec: 154.819\n",
      "INFO:tensorflow:loss = 0.17574134, step = 12501 (0.645 sec)\n",
      "INFO:tensorflow:global_step/sec: 159.917\n",
      "INFO:tensorflow:loss = 0.71472377, step = 12601 (0.625 sec)\n",
      "INFO:tensorflow:global_step/sec: 162.922\n",
      "INFO:tensorflow:loss = 0.5581096, step = 12701 (0.614 sec)\n",
      "INFO:tensorflow:global_step/sec: 162.533\n",
      "INFO:tensorflow:loss = 0.50564444, step = 12801 (0.615 sec)\n",
      "INFO:tensorflow:global_step/sec: 163.694\n",
      "INFO:tensorflow:loss = 0.047676284, step = 12901 (0.611 sec)\n",
      "INFO:tensorflow:global_step/sec: 163.37\n",
      "INFO:tensorflow:loss = 0.4023758, step = 13001 (0.613 sec)\n",
      "INFO:tensorflow:global_step/sec: 160.199\n",
      "INFO:tensorflow:loss = 0.18141392, step = 13101 (0.624 sec)\n",
      "INFO:tensorflow:global_step/sec: 163.591\n",
      "INFO:tensorflow:loss = 0.2130005, step = 13201 (0.611 sec)\n",
      "INFO:tensorflow:global_step/sec: 164.268\n",
      "INFO:tensorflow:loss = 0.44931898, step = 13301 (0.609 sec)\n",
      "INFO:tensorflow:global_step/sec: 162.318\n",
      "INFO:tensorflow:loss = 0.05407285, step = 13401 (0.616 sec)\n",
      "INFO:tensorflow:global_step/sec: 156.891\n",
      "INFO:tensorflow:loss = 0.4129439, step = 13501 (0.637 sec)\n",
      "INFO:tensorflow:global_step/sec: 168.135\n",
      "INFO:tensorflow:loss = 0.4950132, step = 13601 (0.595 sec)\n",
      "INFO:tensorflow:global_step/sec: 163.257\n",
      "INFO:tensorflow:loss = 0.37180206, step = 13701 (0.613 sec)\n",
      "INFO:tensorflow:global_step/sec: 164.236\n",
      "INFO:tensorflow:loss = 0.22734325, step = 13801 (0.609 sec)\n",
      "INFO:tensorflow:global_step/sec: 159.918\n",
      "INFO:tensorflow:loss = 0.013205234, step = 13901 (0.626 sec)\n",
      "INFO:tensorflow:global_step/sec: 151.713\n",
      "INFO:tensorflow:loss = 0.047936074, step = 14001 (0.659 sec)\n",
      "INFO:tensorflow:global_step/sec: 159.091\n"
     ]
    },
    {
     "name": "stdout",
     "output_type": "stream",
     "text": [
      "INFO:tensorflow:loss = 0.04510744, step = 14101 (0.629 sec)\n",
      "INFO:tensorflow:global_step/sec: 164.967\n",
      "INFO:tensorflow:loss = 0.12947214, step = 14201 (0.606 sec)\n",
      "INFO:tensorflow:global_step/sec: 164.43\n",
      "INFO:tensorflow:loss = 0.066033855, step = 14301 (0.608 sec)\n",
      "INFO:tensorflow:global_step/sec: 163.75\n",
      "INFO:tensorflow:loss = 0.030007698, step = 14401 (0.610 sec)\n",
      "INFO:tensorflow:global_step/sec: 162.097\n",
      "INFO:tensorflow:loss = 0.08173098, step = 14501 (0.618 sec)\n",
      "INFO:tensorflow:global_step/sec: 164.325\n",
      "INFO:tensorflow:loss = 0.20407228, step = 14601 (0.608 sec)\n",
      "INFO:tensorflow:global_step/sec: 161.88\n",
      "INFO:tensorflow:loss = 0.20888364, step = 14701 (0.618 sec)\n",
      "INFO:tensorflow:global_step/sec: 160.807\n",
      "INFO:tensorflow:loss = 0.35974532, step = 14801 (0.622 sec)\n",
      "INFO:tensorflow:global_step/sec: 162.209\n",
      "INFO:tensorflow:loss = 0.038604714, step = 14901 (0.616 sec)\n",
      "INFO:tensorflow:global_step/sec: 162.784\n",
      "INFO:tensorflow:loss = 0.025499659, step = 15001 (0.614 sec)\n",
      "INFO:tensorflow:global_step/sec: 149.78\n",
      "INFO:tensorflow:loss = 0.06332104, step = 15101 (0.671 sec)\n",
      "INFO:tensorflow:global_step/sec: 163.338\n",
      "INFO:tensorflow:loss = 0.18568629, step = 15201 (0.609 sec)\n",
      "INFO:tensorflow:global_step/sec: 162.166\n",
      "INFO:tensorflow:loss = 0.04551048, step = 15301 (0.616 sec)\n",
      "INFO:tensorflow:global_step/sec: 160.516\n",
      "INFO:tensorflow:loss = 0.05420808, step = 15401 (0.624 sec)\n",
      "INFO:tensorflow:global_step/sec: 151.611\n",
      "INFO:tensorflow:loss = 0.16442896, step = 15501 (0.660 sec)\n",
      "INFO:tensorflow:global_step/sec: 164.453\n",
      "INFO:tensorflow:loss = 0.091493, step = 15601 (0.608 sec)\n",
      "INFO:tensorflow:global_step/sec: 162.77\n",
      "INFO:tensorflow:loss = 0.18023904, step = 15701 (0.615 sec)\n",
      "INFO:tensorflow:global_step/sec: 160.977\n",
      "INFO:tensorflow:loss = 0.021994181, step = 15801 (0.622 sec)\n",
      "INFO:tensorflow:global_step/sec: 156.284\n",
      "INFO:tensorflow:loss = 0.13550757, step = 15901 (0.640 sec)\n",
      "INFO:tensorflow:global_step/sec: 151.706\n",
      "INFO:tensorflow:loss = 0.41863436, step = 16001 (0.659 sec)\n",
      "INFO:tensorflow:global_step/sec: 162.294\n",
      "INFO:tensorflow:loss = 0.26327083, step = 16101 (0.616 sec)\n",
      "INFO:tensorflow:global_step/sec: 157.463\n",
      "INFO:tensorflow:loss = 0.12621976, step = 16201 (0.635 sec)\n",
      "INFO:tensorflow:global_step/sec: 153.918\n",
      "INFO:tensorflow:loss = 0.10129981, step = 16301 (0.650 sec)\n",
      "INFO:tensorflow:global_step/sec: 159.125\n",
      "INFO:tensorflow:loss = 0.011704455, step = 16401 (0.628 sec)\n",
      "INFO:tensorflow:global_step/sec: 166.835\n",
      "INFO:tensorflow:loss = 0.089944124, step = 16501 (0.599 sec)\n",
      "INFO:tensorflow:global_step/sec: 168.309\n",
      "INFO:tensorflow:loss = 0.017277032, step = 16601 (0.594 sec)\n",
      "INFO:tensorflow:global_step/sec: 171.526\n",
      "INFO:tensorflow:loss = 0.20185605, step = 16701 (0.584 sec)\n",
      "INFO:tensorflow:global_step/sec: 165.858\n",
      "INFO:tensorflow:loss = 0.0854368, step = 16801 (0.603 sec)\n",
      "INFO:tensorflow:global_step/sec: 163.199\n",
      "INFO:tensorflow:loss = 0.07030845, step = 16901 (0.612 sec)\n",
      "INFO:tensorflow:global_step/sec: 168.237\n",
      "INFO:tensorflow:loss = 0.36670792, step = 17001 (0.595 sec)\n",
      "INFO:tensorflow:global_step/sec: 164.948\n",
      "INFO:tensorflow:loss = 0.11098079, step = 17101 (0.606 sec)\n",
      "INFO:tensorflow:global_step/sec: 162.782\n",
      "INFO:tensorflow:loss = 0.026213555, step = 17201 (0.615 sec)\n",
      "INFO:tensorflow:global_step/sec: 157.075\n",
      "INFO:tensorflow:loss = 0.11634773, step = 17301 (0.636 sec)\n",
      "INFO:tensorflow:global_step/sec: 165.748\n",
      "INFO:tensorflow:loss = 0.102801815, step = 17401 (0.603 sec)\n",
      "INFO:tensorflow:global_step/sec: 165.342\n",
      "INFO:tensorflow:loss = 0.02350069, step = 17501 (0.605 sec)\n",
      "INFO:tensorflow:global_step/sec: 162.537\n",
      "INFO:tensorflow:loss = 0.031851757, step = 17601 (0.616 sec)\n",
      "INFO:tensorflow:global_step/sec: 160.718\n",
      "INFO:tensorflow:loss = 0.034878526, step = 17701 (0.622 sec)\n",
      "INFO:tensorflow:global_step/sec: 164.341\n",
      "INFO:tensorflow:loss = 0.21817213, step = 17801 (0.609 sec)\n",
      "INFO:tensorflow:global_step/sec: 163.255\n",
      "INFO:tensorflow:loss = 0.14794287, step = 17901 (0.613 sec)\n",
      "INFO:tensorflow:global_step/sec: 162.112\n",
      "INFO:tensorflow:loss = 0.009753928, step = 18001 (0.617 sec)\n",
      "INFO:tensorflow:global_step/sec: 162.925\n",
      "INFO:tensorflow:loss = 0.17343159, step = 18101 (0.613 sec)\n",
      "INFO:tensorflow:global_step/sec: 162.173\n",
      "INFO:tensorflow:loss = 0.18282095, step = 18201 (0.617 sec)\n",
      "INFO:tensorflow:global_step/sec: 145.385\n",
      "INFO:tensorflow:loss = 0.18365756, step = 18301 (0.688 sec)\n",
      "INFO:tensorflow:global_step/sec: 140.652\n",
      "INFO:tensorflow:loss = 0.18698172, step = 18401 (0.712 sec)\n",
      "INFO:tensorflow:global_step/sec: 139.978\n",
      "INFO:tensorflow:loss = 0.07232902, step = 18501 (0.714 sec)\n",
      "INFO:tensorflow:global_step/sec: 127.616\n",
      "INFO:tensorflow:loss = 0.044526294, step = 18601 (0.784 sec)\n",
      "INFO:tensorflow:global_step/sec: 133.029\n",
      "INFO:tensorflow:loss = 0.06469613, step = 18701 (0.751 sec)\n",
      "INFO:tensorflow:global_step/sec: 126.85\n",
      "INFO:tensorflow:loss = 0.22791086, step = 18801 (0.789 sec)\n",
      "INFO:tensorflow:global_step/sec: 112.513\n",
      "INFO:tensorflow:loss = 0.033917896, step = 18901 (0.889 sec)\n",
      "INFO:tensorflow:global_step/sec: 106.907\n",
      "INFO:tensorflow:loss = 0.10300581, step = 19001 (0.936 sec)\n",
      "INFO:tensorflow:global_step/sec: 118.444\n",
      "INFO:tensorflow:loss = 0.31158477, step = 19101 (0.844 sec)\n",
      "INFO:tensorflow:global_step/sec: 129.023\n",
      "INFO:tensorflow:loss = 0.33262613, step = 19201 (0.775 sec)\n",
      "INFO:tensorflow:global_step/sec: 135.439\n",
      "INFO:tensorflow:loss = 0.0980385, step = 19301 (0.738 sec)\n",
      "INFO:tensorflow:global_step/sec: 152.076\n",
      "INFO:tensorflow:loss = 0.090721786, step = 19401 (0.657 sec)\n",
      "INFO:tensorflow:global_step/sec: 153.486\n",
      "INFO:tensorflow:loss = 0.038765598, step = 19501 (0.652 sec)\n",
      "INFO:tensorflow:global_step/sec: 163.922\n",
      "INFO:tensorflow:loss = 0.04711055, step = 19601 (0.610 sec)\n",
      "INFO:tensorflow:global_step/sec: 148.855\n",
      "INFO:tensorflow:loss = 0.15383461, step = 19701 (0.672 sec)\n",
      "INFO:tensorflow:global_step/sec: 159.911\n",
      "INFO:tensorflow:loss = 0.016512541, step = 19801 (0.625 sec)\n",
      "INFO:tensorflow:global_step/sec: 165.916\n",
      "INFO:tensorflow:loss = 0.017902287, step = 19901 (0.602 sec)\n",
      "INFO:tensorflow:global_step/sec: 156.459\n",
      "INFO:tensorflow:loss = 0.041033328, step = 20001 (0.639 sec)\n",
      "INFO:tensorflow:global_step/sec: 161.537\n",
      "INFO:tensorflow:loss = 0.38886812, step = 20101 (0.619 sec)\n",
      "INFO:tensorflow:global_step/sec: 164.092\n",
      "INFO:tensorflow:loss = 0.021521293, step = 20201 (0.610 sec)\n",
      "INFO:tensorflow:global_step/sec: 169.811\n",
      "INFO:tensorflow:loss = 0.06901181, step = 20301 (0.589 sec)\n",
      "INFO:tensorflow:global_step/sec: 162.097\n",
      "INFO:tensorflow:loss = 0.033724356, step = 20401 (0.617 sec)\n",
      "INFO:tensorflow:global_step/sec: 167.292\n",
      "INFO:tensorflow:loss = 0.10719903, step = 20501 (0.597 sec)\n",
      "INFO:tensorflow:global_step/sec: 168.045\n",
      "INFO:tensorflow:loss = 0.09236395, step = 20601 (0.595 sec)\n",
      "INFO:tensorflow:global_step/sec: 165.907\n",
      "INFO:tensorflow:loss = 0.045310505, step = 20701 (0.603 sec)\n",
      "INFO:tensorflow:global_step/sec: 159.415\n",
      "INFO:tensorflow:loss = 0.08691656, step = 20801 (0.626 sec)\n",
      "INFO:tensorflow:global_step/sec: 163.871\n",
      "INFO:tensorflow:loss = 0.03728608, step = 20901 (0.610 sec)\n",
      "INFO:tensorflow:global_step/sec: 162.92\n",
      "INFO:tensorflow:loss = 0.015151875, step = 21001 (0.614 sec)\n",
      "INFO:tensorflow:global_step/sec: 167.327\n",
      "INFO:tensorflow:loss = 0.06899673, step = 21101 (0.597 sec)\n",
      "INFO:tensorflow:global_step/sec: 166.919\n",
      "INFO:tensorflow:loss = 0.22522593, step = 21201 (0.599 sec)\n",
      "INFO:tensorflow:global_step/sec: 168.203\n",
      "INFO:tensorflow:loss = 0.07642766, step = 21301 (0.595 sec)\n",
      "INFO:tensorflow:global_step/sec: 171.216\n",
      "INFO:tensorflow:loss = 0.08045094, step = 21401 (0.584 sec)\n",
      "INFO:tensorflow:global_step/sec: 164.536\n",
      "INFO:tensorflow:loss = 0.06049053, step = 21501 (0.607 sec)\n",
      "INFO:tensorflow:global_step/sec: 169.106\n",
      "INFO:tensorflow:loss = 0.12074554, step = 21601 (0.592 sec)\n",
      "INFO:tensorflow:global_step/sec: 166.116\n",
      "INFO:tensorflow:loss = 0.016026998, step = 21701 (0.602 sec)\n",
      "INFO:tensorflow:global_step/sec: 163.472\n",
      "INFO:tensorflow:loss = 0.05741959, step = 21801 (0.612 sec)\n",
      "INFO:tensorflow:global_step/sec: 163.72\n",
      "INFO:tensorflow:loss = 0.1482723, step = 21901 (0.612 sec)\n",
      "INFO:tensorflow:global_step/sec: 158.83\n",
      "INFO:tensorflow:loss = 0.071020775, step = 22001 (0.629 sec)\n",
      "INFO:tensorflow:global_step/sec: 162.093\n",
      "INFO:tensorflow:loss = 0.03700663, step = 22101 (0.617 sec)\n",
      "INFO:tensorflow:global_step/sec: 165.476\n"
     ]
    },
    {
     "name": "stdout",
     "output_type": "stream",
     "text": [
      "INFO:tensorflow:loss = 0.042912934, step = 22201 (0.604 sec)\n",
      "INFO:tensorflow:global_step/sec: 156.45\n",
      "INFO:tensorflow:loss = 0.034356676, step = 22301 (0.639 sec)\n",
      "INFO:tensorflow:global_step/sec: 157.536\n",
      "INFO:tensorflow:loss = 0.056945667, step = 22401 (0.635 sec)\n",
      "INFO:tensorflow:global_step/sec: 164.775\n",
      "INFO:tensorflow:loss = 0.0019222058, step = 22501 (0.607 sec)\n",
      "INFO:tensorflow:global_step/sec: 164.245\n",
      "INFO:tensorflow:loss = 0.0665994, step = 22601 (0.609 sec)\n",
      "INFO:tensorflow:global_step/sec: 160.441\n",
      "INFO:tensorflow:loss = 0.07001826, step = 22701 (0.623 sec)\n",
      "INFO:tensorflow:global_step/sec: 162.392\n",
      "INFO:tensorflow:loss = 0.007595256, step = 22801 (0.615 sec)\n",
      "INFO:tensorflow:global_step/sec: 162.716\n",
      "INFO:tensorflow:loss = 0.15681417, step = 22901 (0.615 sec)\n",
      "INFO:tensorflow:global_step/sec: 161.048\n",
      "INFO:tensorflow:loss = 0.023209846, step = 23001 (0.621 sec)\n",
      "INFO:tensorflow:global_step/sec: 162.619\n",
      "INFO:tensorflow:loss = 0.011836271, step = 23101 (0.615 sec)\n",
      "INFO:tensorflow:global_step/sec: 162.359\n",
      "INFO:tensorflow:loss = 0.026759773, step = 23201 (0.616 sec)\n",
      "INFO:tensorflow:global_step/sec: 161.66\n",
      "INFO:tensorflow:loss = 0.13671876, step = 23301 (0.619 sec)\n",
      "INFO:tensorflow:global_step/sec: 163.158\n",
      "INFO:tensorflow:loss = 0.014731688, step = 23401 (0.613 sec)\n",
      "INFO:tensorflow:global_step/sec: 162.992\n",
      "INFO:tensorflow:loss = 0.03832954, step = 23501 (0.613 sec)\n",
      "INFO:tensorflow:global_step/sec: 163.382\n",
      "INFO:tensorflow:loss = 0.11966888, step = 23601 (0.612 sec)\n",
      "INFO:tensorflow:global_step/sec: 160.029\n",
      "INFO:tensorflow:loss = 0.032622147, step = 23701 (0.625 sec)\n",
      "INFO:tensorflow:global_step/sec: 154.228\n",
      "INFO:tensorflow:loss = 0.04866457, step = 23801 (0.649 sec)\n",
      "INFO:tensorflow:global_step/sec: 151.409\n",
      "INFO:tensorflow:loss = 0.0509349, step = 23901 (0.661 sec)\n",
      "INFO:tensorflow:global_step/sec: 122.428\n",
      "INFO:tensorflow:loss = 0.024351154, step = 24001 (0.818 sec)\n",
      "INFO:tensorflow:global_step/sec: 115.655\n",
      "INFO:tensorflow:loss = 0.057944696, step = 24101 (0.863 sec)\n",
      "INFO:tensorflow:global_step/sec: 116.395\n",
      "INFO:tensorflow:loss = 0.053612363, step = 24201 (0.860 sec)\n",
      "INFO:tensorflow:global_step/sec: 114.666\n",
      "INFO:tensorflow:loss = 0.031137234, step = 24301 (0.873 sec)\n",
      "INFO:tensorflow:global_step/sec: 120.35\n",
      "INFO:tensorflow:loss = 0.05173719, step = 24401 (0.830 sec)\n",
      "INFO:tensorflow:global_step/sec: 125.493\n",
      "INFO:tensorflow:loss = 0.14371909, step = 24501 (0.796 sec)\n",
      "INFO:tensorflow:global_step/sec: 129.824\n",
      "INFO:tensorflow:loss = 0.03888423, step = 24601 (0.771 sec)\n",
      "INFO:tensorflow:global_step/sec: 124.953\n",
      "INFO:tensorflow:loss = 0.08139805, step = 24701 (0.800 sec)\n",
      "INFO:tensorflow:global_step/sec: 125.664\n",
      "INFO:tensorflow:loss = 0.072853684, step = 24801 (0.796 sec)\n",
      "INFO:tensorflow:global_step/sec: 125.878\n",
      "INFO:tensorflow:loss = 0.035018366, step = 24901 (0.795 sec)\n",
      "INFO:tensorflow:global_step/sec: 121.709\n",
      "INFO:tensorflow:loss = 0.006380327, step = 25001 (0.822 sec)\n",
      "INFO:tensorflow:global_step/sec: 124.088\n",
      "INFO:tensorflow:loss = 0.01958483, step = 25101 (0.805 sec)\n",
      "INFO:tensorflow:global_step/sec: 123.351\n",
      "INFO:tensorflow:loss = 0.03192208, step = 25201 (0.811 sec)\n",
      "INFO:tensorflow:global_step/sec: 122.334\n",
      "INFO:tensorflow:loss = 0.065277144, step = 25301 (0.817 sec)\n",
      "INFO:tensorflow:global_step/sec: 120.098\n",
      "INFO:tensorflow:loss = 0.12279695, step = 25401 (0.832 sec)\n",
      "INFO:tensorflow:global_step/sec: 125.154\n",
      "INFO:tensorflow:loss = 0.0669045, step = 25501 (0.800 sec)\n",
      "INFO:tensorflow:global_step/sec: 127.394\n",
      "INFO:tensorflow:loss = 0.045669485, step = 25601 (0.785 sec)\n",
      "INFO:tensorflow:global_step/sec: 117.822\n",
      "INFO:tensorflow:loss = 0.08147948, step = 25701 (0.849 sec)\n",
      "INFO:tensorflow:global_step/sec: 123.793\n",
      "INFO:tensorflow:loss = 0.090247184, step = 25801 (0.808 sec)\n",
      "INFO:tensorflow:global_step/sec: 128.564\n",
      "INFO:tensorflow:loss = 0.09868029, step = 25901 (0.776 sec)\n",
      "INFO:tensorflow:global_step/sec: 144.81\n",
      "INFO:tensorflow:loss = 0.05333063, step = 26001 (0.691 sec)\n",
      "INFO:tensorflow:global_step/sec: 155.612\n",
      "INFO:tensorflow:loss = 0.0047117495, step = 26101 (0.642 sec)\n",
      "INFO:tensorflow:global_step/sec: 160.391\n",
      "INFO:tensorflow:loss = 0.055486847, step = 26201 (0.624 sec)\n",
      "INFO:tensorflow:global_step/sec: 163.228\n",
      "INFO:tensorflow:loss = 0.037987377, step = 26301 (0.612 sec)\n",
      "INFO:tensorflow:global_step/sec: 166.894\n",
      "INFO:tensorflow:loss = 0.011750564, step = 26401 (0.600 sec)\n",
      "INFO:tensorflow:global_step/sec: 167.035\n",
      "INFO:tensorflow:loss = 0.042997845, step = 26501 (0.598 sec)\n",
      "INFO:tensorflow:global_step/sec: 170.41\n",
      "INFO:tensorflow:loss = 0.02130723, step = 26601 (0.587 sec)\n",
      "INFO:tensorflow:global_step/sec: 168.034\n",
      "INFO:tensorflow:loss = 0.0067012953, step = 26701 (0.595 sec)\n",
      "INFO:tensorflow:global_step/sec: 160.11\n",
      "INFO:tensorflow:loss = 0.034706622, step = 26801 (0.625 sec)\n",
      "INFO:tensorflow:global_step/sec: 146.956\n",
      "INFO:tensorflow:loss = 0.0046464493, step = 26901 (0.680 sec)\n",
      "INFO:tensorflow:global_step/sec: 146.716\n",
      "INFO:tensorflow:loss = 0.12175567, step = 27001 (0.681 sec)\n",
      "INFO:tensorflow:global_step/sec: 132.637\n",
      "INFO:tensorflow:loss = 0.010515736, step = 27101 (0.754 sec)\n",
      "INFO:tensorflow:global_step/sec: 136.265\n",
      "INFO:tensorflow:loss = 0.007112331, step = 27201 (0.733 sec)\n",
      "INFO:tensorflow:global_step/sec: 148.608\n",
      "INFO:tensorflow:loss = 0.0040915855, step = 27301 (0.673 sec)\n",
      "INFO:tensorflow:global_step/sec: 152.792\n",
      "INFO:tensorflow:loss = 0.037733722, step = 27401 (0.655 sec)\n",
      "INFO:tensorflow:global_step/sec: 158.32\n",
      "INFO:tensorflow:loss = 0.02214744, step = 27501 (0.632 sec)\n",
      "INFO:tensorflow:global_step/sec: 153.54\n",
      "INFO:tensorflow:loss = 0.025975019, step = 27601 (0.652 sec)\n",
      "INFO:tensorflow:global_step/sec: 150.602\n",
      "INFO:tensorflow:loss = 0.045612864, step = 27701 (0.664 sec)\n",
      "INFO:tensorflow:global_step/sec: 146.888\n",
      "INFO:tensorflow:loss = 0.043455154, step = 27801 (0.681 sec)\n",
      "INFO:tensorflow:global_step/sec: 160.804\n",
      "INFO:tensorflow:loss = 0.03788304, step = 27901 (0.624 sec)\n",
      "INFO:tensorflow:global_step/sec: 158.184\n",
      "INFO:tensorflow:loss = 0.08199785, step = 28001 (0.631 sec)\n",
      "INFO:tensorflow:global_step/sec: 158.63\n",
      "INFO:tensorflow:loss = 0.017287971, step = 28101 (0.631 sec)\n",
      "INFO:tensorflow:global_step/sec: 159.39\n",
      "INFO:tensorflow:loss = 0.013545613, step = 28201 (0.626 sec)\n",
      "INFO:tensorflow:global_step/sec: 157.756\n",
      "INFO:tensorflow:loss = 0.050572455, step = 28301 (0.635 sec)\n",
      "INFO:tensorflow:global_step/sec: 161.117\n",
      "INFO:tensorflow:loss = 0.041343484, step = 28401 (0.620 sec)\n",
      "INFO:tensorflow:global_step/sec: 161.869\n",
      "INFO:tensorflow:loss = 0.032161623, step = 28501 (0.618 sec)\n",
      "INFO:tensorflow:global_step/sec: 161.47\n",
      "INFO:tensorflow:loss = 0.028097054, step = 28601 (0.619 sec)\n",
      "INFO:tensorflow:global_step/sec: 159.377\n",
      "INFO:tensorflow:loss = 0.07940149, step = 28701 (0.628 sec)\n",
      "INFO:tensorflow:global_step/sec: 158.984\n",
      "INFO:tensorflow:loss = 0.014433971, step = 28801 (0.629 sec)\n",
      "INFO:tensorflow:global_step/sec: 164.883\n",
      "INFO:tensorflow:loss = 0.012862427, step = 28901 (0.606 sec)\n",
      "INFO:tensorflow:global_step/sec: 164.595\n",
      "INFO:tensorflow:loss = 0.032596245, step = 29001 (0.607 sec)\n",
      "INFO:tensorflow:global_step/sec: 166.262\n",
      "INFO:tensorflow:loss = 0.03773965, step = 29101 (0.602 sec)\n",
      "INFO:tensorflow:global_step/sec: 161.753\n",
      "INFO:tensorflow:loss = 0.07265763, step = 29201 (0.618 sec)\n",
      "INFO:tensorflow:global_step/sec: 160.173\n",
      "INFO:tensorflow:loss = 0.0005766818, step = 29301 (0.624 sec)\n",
      "INFO:tensorflow:global_step/sec: 164.582\n",
      "INFO:tensorflow:loss = 0.06646146, step = 29401 (0.608 sec)\n",
      "INFO:tensorflow:global_step/sec: 161.855\n",
      "INFO:tensorflow:loss = 0.017795235, step = 29501 (0.618 sec)\n",
      "INFO:tensorflow:global_step/sec: 162.249\n",
      "INFO:tensorflow:loss = 0.034091644, step = 29601 (0.616 sec)\n",
      "INFO:tensorflow:global_step/sec: 154.118\n",
      "INFO:tensorflow:loss = 0.22194722, step = 29701 (0.648 sec)\n",
      "INFO:tensorflow:global_step/sec: 161.439\n",
      "INFO:tensorflow:loss = 0.033164702, step = 29801 (0.620 sec)\n",
      "INFO:tensorflow:global_step/sec: 163.484\n",
      "INFO:tensorflow:loss = 0.012743235, step = 29901 (0.612 sec)\n",
      "INFO:tensorflow:global_step/sec: 160.978\n",
      "INFO:tensorflow:loss = 0.057505567, step = 30001 (0.621 sec)\n",
      "INFO:tensorflow:global_step/sec: 160.668\n",
      "INFO:tensorflow:loss = 0.026703162, step = 30101 (0.623 sec)\n",
      "INFO:tensorflow:global_step/sec: 159.178\n",
      "INFO:tensorflow:loss = 0.02221127, step = 30201 (0.628 sec)\n",
      "INFO:tensorflow:global_step/sec: 161.393\n"
     ]
    },
    {
     "name": "stdout",
     "output_type": "stream",
     "text": [
      "INFO:tensorflow:loss = 0.029396847, step = 30301 (0.620 sec)\n",
      "INFO:tensorflow:global_step/sec: 160.828\n",
      "INFO:tensorflow:loss = 0.030758128, step = 30401 (0.622 sec)\n",
      "INFO:tensorflow:global_step/sec: 161.71\n",
      "INFO:tensorflow:loss = 0.029853934, step = 30501 (0.618 sec)\n",
      "INFO:tensorflow:global_step/sec: 159.704\n",
      "INFO:tensorflow:loss = 0.027814964, step = 30601 (0.626 sec)\n",
      "INFO:tensorflow:global_step/sec: 163.498\n",
      "INFO:tensorflow:loss = 0.026394071, step = 30701 (0.611 sec)\n",
      "INFO:tensorflow:global_step/sec: 162.655\n",
      "INFO:tensorflow:loss = 0.031205406, step = 30801 (0.616 sec)\n",
      "INFO:tensorflow:global_step/sec: 160.237\n",
      "INFO:tensorflow:loss = 0.036798984, step = 30901 (0.623 sec)\n",
      "INFO:tensorflow:global_step/sec: 162.667\n",
      "INFO:tensorflow:loss = 0.06068653, step = 31001 (0.615 sec)\n",
      "INFO:tensorflow:global_step/sec: 141.813\n",
      "INFO:tensorflow:loss = 0.073818676, step = 31101 (0.705 sec)\n",
      "INFO:tensorflow:global_step/sec: 155.295\n",
      "INFO:tensorflow:loss = 0.061030984, step = 31201 (0.644 sec)\n",
      "INFO:tensorflow:global_step/sec: 163.858\n",
      "INFO:tensorflow:loss = 0.0272764, step = 31301 (0.610 sec)\n",
      "INFO:tensorflow:global_step/sec: 151.817\n",
      "INFO:tensorflow:loss = 0.010790275, step = 31401 (0.659 sec)\n",
      "INFO:tensorflow:global_step/sec: 160.791\n",
      "INFO:tensorflow:loss = 0.02608509, step = 31501 (0.622 sec)\n",
      "INFO:tensorflow:global_step/sec: 160.978\n",
      "INFO:tensorflow:loss = 0.01790677, step = 31601 (0.621 sec)\n",
      "INFO:tensorflow:global_step/sec: 161.519\n",
      "INFO:tensorflow:loss = 0.010357066, step = 31701 (0.619 sec)\n",
      "INFO:tensorflow:global_step/sec: 164.334\n",
      "INFO:tensorflow:loss = 0.013513981, step = 31801 (0.609 sec)\n",
      "INFO:tensorflow:global_step/sec: 160.187\n",
      "INFO:tensorflow:loss = 0.04297668, step = 31901 (0.625 sec)\n",
      "INFO:tensorflow:global_step/sec: 157.173\n",
      "INFO:tensorflow:loss = 0.004769788, step = 32001 (0.636 sec)\n",
      "INFO:tensorflow:global_step/sec: 157.35\n",
      "INFO:tensorflow:loss = 0.037008807, step = 32101 (0.635 sec)\n",
      "INFO:tensorflow:global_step/sec: 158.807\n",
      "INFO:tensorflow:loss = 0.03798982, step = 32201 (0.631 sec)\n",
      "INFO:tensorflow:global_step/sec: 159.293\n",
      "INFO:tensorflow:loss = 0.029129587, step = 32301 (0.627 sec)\n",
      "INFO:tensorflow:global_step/sec: 161.291\n",
      "INFO:tensorflow:loss = 0.024269305, step = 32401 (0.620 sec)\n",
      "INFO:tensorflow:global_step/sec: 168.014\n",
      "INFO:tensorflow:loss = 0.011293347, step = 32501 (0.595 sec)\n",
      "INFO:tensorflow:global_step/sec: 163.298\n",
      "INFO:tensorflow:loss = 0.017778456, step = 32601 (0.613 sec)\n",
      "INFO:tensorflow:global_step/sec: 162.042\n",
      "INFO:tensorflow:loss = 0.0040319683, step = 32701 (0.616 sec)\n",
      "INFO:tensorflow:global_step/sec: 163.796\n",
      "INFO:tensorflow:loss = 0.05988982, step = 32801 (0.611 sec)\n",
      "INFO:tensorflow:global_step/sec: 161.386\n",
      "INFO:tensorflow:loss = 0.03775453, step = 32901 (0.619 sec)\n",
      "INFO:tensorflow:global_step/sec: 159.302\n",
      "INFO:tensorflow:loss = 0.0226168, step = 33001 (0.628 sec)\n",
      "INFO:tensorflow:global_step/sec: 161.356\n",
      "INFO:tensorflow:loss = 0.022062695, step = 33101 (0.619 sec)\n",
      "INFO:tensorflow:global_step/sec: 164.482\n",
      "INFO:tensorflow:loss = 0.021576375, step = 33201 (0.608 sec)\n",
      "INFO:tensorflow:global_step/sec: 162.743\n",
      "INFO:tensorflow:loss = 0.016361244, step = 33301 (0.614 sec)\n",
      "INFO:tensorflow:global_step/sec: 165.908\n",
      "INFO:tensorflow:loss = 0.016035724, step = 33401 (0.603 sec)\n",
      "INFO:tensorflow:global_step/sec: 145.817\n",
      "INFO:tensorflow:loss = 0.08530277, step = 33501 (0.686 sec)\n",
      "INFO:tensorflow:global_step/sec: 164.374\n",
      "INFO:tensorflow:loss = 0.020044522, step = 33601 (0.608 sec)\n",
      "INFO:tensorflow:global_step/sec: 164.932\n",
      "INFO:tensorflow:loss = 0.030811688, step = 33701 (0.607 sec)\n",
      "INFO:tensorflow:global_step/sec: 155.701\n",
      "INFO:tensorflow:loss = 0.0043261005, step = 33801 (0.642 sec)\n",
      "INFO:tensorflow:global_step/sec: 157.664\n",
      "INFO:tensorflow:loss = 0.032412183, step = 33901 (0.634 sec)\n",
      "INFO:tensorflow:global_step/sec: 158.771\n",
      "INFO:tensorflow:loss = 0.006940146, step = 34001 (0.629 sec)\n",
      "INFO:tensorflow:global_step/sec: 156.461\n",
      "INFO:tensorflow:loss = 0.026111363, step = 34101 (0.639 sec)\n",
      "INFO:tensorflow:global_step/sec: 165.656\n",
      "INFO:tensorflow:loss = 0.0053361924, step = 34201 (0.603 sec)\n",
      "INFO:tensorflow:global_step/sec: 163.807\n",
      "INFO:tensorflow:loss = 0.0624433, step = 34301 (0.610 sec)\n",
      "INFO:tensorflow:global_step/sec: 166.531\n",
      "INFO:tensorflow:loss = 0.036611214, step = 34401 (0.601 sec)\n",
      "INFO:tensorflow:global_step/sec: 159.91\n",
      "INFO:tensorflow:loss = 0.015700987, step = 34501 (0.625 sec)\n",
      "INFO:tensorflow:global_step/sec: 161.079\n",
      "INFO:tensorflow:loss = 0.03561374, step = 34601 (0.621 sec)\n",
      "INFO:tensorflow:global_step/sec: 162.22\n",
      "INFO:tensorflow:loss = 0.043711852, step = 34701 (0.617 sec)\n",
      "INFO:tensorflow:global_step/sec: 160.547\n",
      "INFO:tensorflow:loss = 0.003989276, step = 34801 (0.622 sec)\n",
      "INFO:tensorflow:global_step/sec: 163.441\n",
      "INFO:tensorflow:loss = 0.007588426, step = 34901 (0.612 sec)\n",
      "INFO:tensorflow:global_step/sec: 165.019\n",
      "INFO:tensorflow:loss = 0.03995814, step = 35001 (0.606 sec)\n",
      "INFO:tensorflow:global_step/sec: 146.587\n",
      "INFO:tensorflow:loss = 0.045140766, step = 35101 (0.682 sec)\n",
      "INFO:tensorflow:global_step/sec: 151.869\n",
      "INFO:tensorflow:loss = 0.041498393, step = 35201 (0.659 sec)\n",
      "INFO:tensorflow:global_step/sec: 154.623\n",
      "INFO:tensorflow:loss = 0.020803988, step = 35301 (0.646 sec)\n",
      "INFO:tensorflow:global_step/sec: 147.641\n",
      "INFO:tensorflow:loss = 0.03092951, step = 35401 (0.678 sec)\n",
      "INFO:tensorflow:global_step/sec: 156.561\n",
      "INFO:tensorflow:loss = 0.07335992, step = 35501 (0.638 sec)\n",
      "INFO:tensorflow:global_step/sec: 156.013\n",
      "INFO:tensorflow:loss = 0.0076707313, step = 35601 (0.641 sec)\n",
      "INFO:tensorflow:global_step/sec: 155.939\n",
      "INFO:tensorflow:loss = 0.027100358, step = 35701 (0.641 sec)\n",
      "INFO:tensorflow:global_step/sec: 159.484\n",
      "INFO:tensorflow:loss = 0.02595934, step = 35801 (0.628 sec)\n",
      "INFO:tensorflow:global_step/sec: 160.119\n",
      "INFO:tensorflow:loss = 0.011397736, step = 35901 (0.624 sec)\n",
      "INFO:tensorflow:global_step/sec: 165.745\n",
      "INFO:tensorflow:loss = 0.017676553, step = 36001 (0.604 sec)\n",
      "INFO:tensorflow:global_step/sec: 161.638\n",
      "INFO:tensorflow:loss = 0.012721806, step = 36101 (0.619 sec)\n",
      "INFO:tensorflow:global_step/sec: 159.796\n",
      "INFO:tensorflow:loss = 0.041565403, step = 36201 (0.625 sec)\n",
      "INFO:tensorflow:global_step/sec: 167.682\n",
      "INFO:tensorflow:loss = 0.019141573, step = 36301 (0.597 sec)\n",
      "INFO:tensorflow:global_step/sec: 161.09\n",
      "INFO:tensorflow:loss = 0.0062479572, step = 36401 (0.621 sec)\n",
      "INFO:tensorflow:global_step/sec: 161.324\n",
      "INFO:tensorflow:loss = 0.007571037, step = 36501 (0.620 sec)\n",
      "INFO:tensorflow:global_step/sec: 162.821\n",
      "INFO:tensorflow:loss = 0.0125259645, step = 36601 (0.614 sec)\n",
      "INFO:tensorflow:global_step/sec: 162.587\n",
      "INFO:tensorflow:loss = 0.06321384, step = 36701 (0.615 sec)\n",
      "INFO:tensorflow:global_step/sec: 158.784\n",
      "INFO:tensorflow:loss = 0.017070532, step = 36801 (0.630 sec)\n",
      "INFO:tensorflow:global_step/sec: 160.359\n",
      "INFO:tensorflow:loss = 0.021350149, step = 36901 (0.624 sec)\n",
      "INFO:tensorflow:global_step/sec: 161.43\n",
      "INFO:tensorflow:loss = 0.036039412, step = 37001 (0.620 sec)\n",
      "INFO:tensorflow:global_step/sec: 165.709\n",
      "INFO:tensorflow:loss = 0.0027928292, step = 37101 (0.603 sec)\n",
      "INFO:tensorflow:global_step/sec: 161.791\n",
      "INFO:tensorflow:loss = 0.030826485, step = 37201 (0.618 sec)\n",
      "INFO:tensorflow:global_step/sec: 161.069\n",
      "INFO:tensorflow:loss = 0.04914579, step = 37301 (0.621 sec)\n",
      "INFO:tensorflow:global_step/sec: 171.62\n",
      "INFO:tensorflow:loss = 0.020582084, step = 37401 (0.582 sec)\n",
      "INFO:tensorflow:global_step/sec: 164.304\n",
      "INFO:tensorflow:loss = 0.014889585, step = 37501 (0.609 sec)\n",
      "INFO:tensorflow:global_step/sec: 166.071\n",
      "INFO:tensorflow:loss = 0.02776293, step = 37601 (0.603 sec)\n",
      "INFO:tensorflow:global_step/sec: 162.189\n",
      "INFO:tensorflow:loss = 0.035422824, step = 37701 (0.616 sec)\n",
      "INFO:tensorflow:global_step/sec: 157.986\n",
      "INFO:tensorflow:loss = 0.009042036, step = 37801 (0.633 sec)\n",
      "INFO:tensorflow:global_step/sec: 162.363\n",
      "INFO:tensorflow:loss = 0.09823747, step = 37901 (0.615 sec)\n",
      "INFO:tensorflow:global_step/sec: 174.493\n",
      "INFO:tensorflow:loss = 0.01611094, step = 38001 (0.573 sec)\n",
      "INFO:tensorflow:global_step/sec: 169.972\n",
      "INFO:tensorflow:loss = 0.020192062, step = 38101 (0.588 sec)\n",
      "INFO:tensorflow:global_step/sec: 167.893\n",
      "INFO:tensorflow:loss = 0.0332715, step = 38201 (0.596 sec)\n",
      "INFO:tensorflow:global_step/sec: 164.416\n",
      "INFO:tensorflow:loss = 0.0064976104, step = 38301 (0.608 sec)\n"
     ]
    },
    {
     "name": "stdout",
     "output_type": "stream",
     "text": [
      "INFO:tensorflow:global_step/sec: 164.462\n",
      "INFO:tensorflow:loss = 0.011825176, step = 38401 (0.608 sec)\n",
      "INFO:tensorflow:global_step/sec: 159.872\n",
      "INFO:tensorflow:loss = 0.019989634, step = 38501 (0.626 sec)\n",
      "INFO:tensorflow:global_step/sec: 160.575\n",
      "INFO:tensorflow:loss = 0.005557492, step = 38601 (0.623 sec)\n",
      "INFO:tensorflow:global_step/sec: 160.251\n",
      "INFO:tensorflow:loss = 0.023771577, step = 38701 (0.624 sec)\n",
      "INFO:tensorflow:global_step/sec: 164.21\n",
      "INFO:tensorflow:loss = 0.0019525937, step = 38801 (0.609 sec)\n",
      "INFO:tensorflow:global_step/sec: 167.099\n",
      "INFO:tensorflow:loss = 0.08813454, step = 38901 (0.598 sec)\n",
      "INFO:tensorflow:global_step/sec: 163.89\n",
      "INFO:tensorflow:loss = 0.023549754, step = 39001 (0.610 sec)\n",
      "INFO:tensorflow:global_step/sec: 150.376\n",
      "INFO:tensorflow:loss = 0.027160715, step = 39101 (0.666 sec)\n",
      "INFO:tensorflow:global_step/sec: 156.752\n",
      "INFO:tensorflow:loss = 0.07371475, step = 39201 (0.638 sec)\n",
      "INFO:tensorflow:global_step/sec: 156.113\n",
      "INFO:tensorflow:loss = 0.012436561, step = 39301 (0.641 sec)\n",
      "INFO:tensorflow:global_step/sec: 161.472\n",
      "INFO:tensorflow:loss = 0.019981822, step = 39401 (0.619 sec)\n",
      "INFO:tensorflow:global_step/sec: 147.929\n",
      "INFO:tensorflow:loss = 0.0130979, step = 39501 (0.676 sec)\n",
      "INFO:tensorflow:global_step/sec: 156.533\n",
      "INFO:tensorflow:loss = 0.07271507, step = 39601 (0.639 sec)\n",
      "INFO:tensorflow:global_step/sec: 157.39\n",
      "INFO:tensorflow:loss = 0.028191876, step = 39701 (0.635 sec)\n",
      "INFO:tensorflow:global_step/sec: 162.604\n",
      "INFO:tensorflow:loss = 0.018840767, step = 39801 (0.615 sec)\n",
      "INFO:tensorflow:global_step/sec: 167.101\n",
      "INFO:tensorflow:loss = 0.012836806, step = 39901 (0.599 sec)\n",
      "INFO:tensorflow:global_step/sec: 161.612\n",
      "INFO:tensorflow:loss = 0.0053968183, step = 40001 (0.618 sec)\n",
      "INFO:tensorflow:global_step/sec: 157.191\n",
      "INFO:tensorflow:loss = 0.010872715, step = 40101 (0.637 sec)\n",
      "INFO:tensorflow:global_step/sec: 158.468\n",
      "INFO:tensorflow:loss = 0.06796967, step = 40201 (0.630 sec)\n",
      "INFO:tensorflow:global_step/sec: 162.659\n",
      "INFO:tensorflow:loss = 0.017690592, step = 40301 (0.616 sec)\n",
      "INFO:tensorflow:global_step/sec: 161.578\n",
      "INFO:tensorflow:loss = 0.0073258905, step = 40401 (0.618 sec)\n",
      "INFO:tensorflow:global_step/sec: 160.018\n",
      "INFO:tensorflow:loss = 0.018525153, step = 40501 (0.626 sec)\n",
      "INFO:tensorflow:global_step/sec: 160.315\n",
      "INFO:tensorflow:loss = 0.0058151362, step = 40601 (0.623 sec)\n",
      "INFO:tensorflow:global_step/sec: 162.181\n",
      "INFO:tensorflow:loss = 0.04080181, step = 40701 (0.617 sec)\n",
      "INFO:tensorflow:global_step/sec: 163.035\n",
      "INFO:tensorflow:loss = 0.0322474, step = 40801 (0.614 sec)\n",
      "INFO:tensorflow:global_step/sec: 163.861\n",
      "INFO:tensorflow:loss = 0.0039876993, step = 40901 (0.610 sec)\n",
      "INFO:tensorflow:global_step/sec: 166.244\n",
      "INFO:tensorflow:loss = 0.058740612, step = 41001 (0.602 sec)\n",
      "INFO:tensorflow:global_step/sec: 158.606\n",
      "INFO:tensorflow:loss = 0.015783545, step = 41101 (0.630 sec)\n",
      "INFO:tensorflow:global_step/sec: 161.43\n",
      "INFO:tensorflow:loss = 0.016048895, step = 41201 (0.620 sec)\n",
      "INFO:tensorflow:global_step/sec: 165.809\n",
      "INFO:tensorflow:loss = 0.021693647, step = 41301 (0.603 sec)\n",
      "INFO:tensorflow:global_step/sec: 163.751\n",
      "INFO:tensorflow:loss = 0.013206728, step = 41401 (0.611 sec)\n",
      "INFO:tensorflow:global_step/sec: 155.547\n",
      "INFO:tensorflow:loss = 0.009918291, step = 41501 (0.643 sec)\n",
      "INFO:tensorflow:global_step/sec: 161.551\n",
      "INFO:tensorflow:loss = 0.017914614, step = 41601 (0.620 sec)\n",
      "INFO:tensorflow:global_step/sec: 161.373\n",
      "INFO:tensorflow:loss = 0.029317088, step = 41701 (0.620 sec)\n",
      "INFO:tensorflow:global_step/sec: 166.566\n",
      "INFO:tensorflow:loss = 0.08685726, step = 41801 (0.600 sec)\n",
      "INFO:tensorflow:global_step/sec: 165.363\n",
      "INFO:tensorflow:loss = 0.020468194, step = 41901 (0.605 sec)\n",
      "INFO:tensorflow:global_step/sec: 167.205\n",
      "INFO:tensorflow:loss = 0.003267384, step = 42001 (0.599 sec)\n",
      "INFO:tensorflow:global_step/sec: 167.789\n",
      "INFO:tensorflow:loss = 0.016723275, step = 42101 (0.596 sec)\n",
      "INFO:tensorflow:global_step/sec: 163.79\n",
      "INFO:tensorflow:loss = 0.04603961, step = 42201 (0.610 sec)\n",
      "INFO:tensorflow:global_step/sec: 162.9\n",
      "INFO:tensorflow:loss = 0.021711664, step = 42301 (0.614 sec)\n",
      "INFO:tensorflow:global_step/sec: 159.025\n",
      "INFO:tensorflow:loss = 0.027949218, step = 42401 (0.629 sec)\n",
      "INFO:tensorflow:global_step/sec: 159.021\n",
      "INFO:tensorflow:loss = 0.0036026186, step = 42501 (0.629 sec)\n",
      "INFO:tensorflow:global_step/sec: 167.399\n",
      "INFO:tensorflow:loss = 0.012187367, step = 42601 (0.597 sec)\n",
      "INFO:tensorflow:global_step/sec: 166.683\n",
      "INFO:tensorflow:loss = 0.012402529, step = 42701 (0.600 sec)\n",
      "INFO:tensorflow:global_step/sec: 160.51\n",
      "INFO:tensorflow:loss = 0.03802026, step = 42801 (0.624 sec)\n",
      "INFO:tensorflow:global_step/sec: 161.447\n",
      "INFO:tensorflow:loss = 0.013977852, step = 42901 (0.619 sec)\n",
      "INFO:tensorflow:global_step/sec: 160.734\n",
      "INFO:tensorflow:loss = 0.013510078, step = 43001 (0.623 sec)\n",
      "INFO:tensorflow:global_step/sec: 158.173\n",
      "INFO:tensorflow:loss = 0.021345098, step = 43101 (0.633 sec)\n",
      "INFO:tensorflow:global_step/sec: 151.263\n",
      "INFO:tensorflow:loss = 0.020182714, step = 43201 (0.661 sec)\n",
      "INFO:tensorflow:global_step/sec: 161.06\n",
      "INFO:tensorflow:loss = 0.010815086, step = 43301 (0.621 sec)\n",
      "INFO:tensorflow:global_step/sec: 152.869\n",
      "INFO:tensorflow:loss = 0.018062003, step = 43401 (0.654 sec)\n",
      "INFO:tensorflow:global_step/sec: 155.187\n",
      "INFO:tensorflow:loss = 0.021365143, step = 43501 (0.644 sec)\n",
      "INFO:tensorflow:global_step/sec: 149.478\n",
      "INFO:tensorflow:loss = 0.05077304, step = 43601 (0.669 sec)\n",
      "INFO:tensorflow:global_step/sec: 155.909\n",
      "INFO:tensorflow:loss = 0.0346177, step = 43701 (0.641 sec)\n",
      "INFO:tensorflow:global_step/sec: 158.349\n",
      "INFO:tensorflow:loss = 0.076647684, step = 43801 (0.632 sec)\n",
      "INFO:tensorflow:global_step/sec: 160.948\n",
      "INFO:tensorflow:loss = 0.020968188, step = 43901 (0.621 sec)\n",
      "INFO:tensorflow:Saving checkpoints for 44000 into /var/folders/23/mg281cys48n4dvql2mw8hl480000gn/T/tmpjp81mlm8/model.ckpt.\n",
      "INFO:tensorflow:Loss for final step: 0.014763139.\n",
      "CPU times: user 14min 46s, sys: 1min 55s, total: 16min 41s\n",
      "Wall time: 4min 42s\n"
     ]
    }
   ],
   "source": [
    "%%time\n",
    "\n",
    "# Wall time: 4min 52s\n",
    "\n",
    "feature_cols = [tf.feature_column.numeric_column(\"X\", shape=[28 * 28])]\n",
    "dnn_clf = tf.estimator.DNNClassifier(hidden_units=[300,100], n_classes=10,\n",
    "                                     feature_columns=feature_cols)\n",
    "\n",
    "input_fn = tf.estimator.inputs.numpy_input_fn(\n",
    "    x={\"X\": X_train}, y=y_train, num_epochs=40, batch_size=50, shuffle=True)\n",
    "dnn_clf.train(input_fn=input_fn)"
   ]
  },
  {
   "cell_type": "code",
   "execution_count": 15,
   "metadata": {
    "scrolled": true
   },
   "outputs": [
    {
     "name": "stdout",
     "output_type": "stream",
     "text": [
      "INFO:tensorflow:Calling model_fn.\n",
      "INFO:tensorflow:Done calling model_fn.\n",
      "INFO:tensorflow:Starting evaluation at 2018-12-11-00:15:46\n",
      "INFO:tensorflow:Graph was finalized.\n",
      "INFO:tensorflow:Restoring parameters from /var/folders/23/mg281cys48n4dvql2mw8hl480000gn/T/tmpjp81mlm8/model.ckpt-44000\n",
      "INFO:tensorflow:Running local_init_op.\n",
      "INFO:tensorflow:Done running local_init_op.\n",
      "INFO:tensorflow:Finished evaluation at 2018-12-11-00:15:47\n",
      "INFO:tensorflow:Saving dict for global step 44000: accuracy = 0.979, average_loss = 0.098135866, global_step = 44000, loss = 12.422261\n",
      "INFO:tensorflow:Saving 'checkpoint_path' summary for global step 44000: /var/folders/23/mg281cys48n4dvql2mw8hl480000gn/T/tmpjp81mlm8/model.ckpt-44000\n"
     ]
    }
   ],
   "source": [
    "test_input_fn = tf.estimator.inputs.numpy_input_fn(\n",
    "    x={\"X\": X_test}, y=y_test, shuffle=False)\n",
    "eval_results = dnn_clf.evaluate(input_fn=test_input_fn)"
   ]
  },
  {
   "cell_type": "code",
   "execution_count": 16,
   "metadata": {},
   "outputs": [
    {
     "data": {
      "text/plain": [
       "{'accuracy': 0.979,\n",
       " 'average_loss': 0.098135866,\n",
       " 'loss': 12.422261,\n",
       " 'global_step': 44000}"
      ]
     },
     "execution_count": 16,
     "metadata": {},
     "output_type": "execute_result"
    }
   ],
   "source": [
    "eval_results"
   ]
  },
  {
   "cell_type": "code",
   "execution_count": 17,
   "metadata": {},
   "outputs": [
    {
     "name": "stdout",
     "output_type": "stream",
     "text": [
      "INFO:tensorflow:Calling model_fn.\n",
      "INFO:tensorflow:Done calling model_fn.\n",
      "INFO:tensorflow:Graph was finalized.\n",
      "INFO:tensorflow:Restoring parameters from /var/folders/23/mg281cys48n4dvql2mw8hl480000gn/T/tmpjp81mlm8/model.ckpt-44000\n",
      "INFO:tensorflow:Running local_init_op.\n",
      "INFO:tensorflow:Done running local_init_op.\n"
     ]
    },
    {
     "data": {
      "text/plain": [
       "{'logits': array([ -8.386289  ,   2.8267696 ,   0.79436946,   2.3293989 ,\n",
       "        -10.570758  ,  -5.848694  , -22.581095  ,  25.677898  ,\n",
       "         -3.6353228 ,   2.8196704 ], dtype=float32),\n",
       " 'probabilities': array([1.6073556e-15, 1.1909143e-10, 1.5603440e-11, 7.2422845e-11,\n",
       "        1.8088734e-16, 2.0331759e-14, 1.0999799e-21, 1.0000000e+00,\n",
       "        1.8596443e-13, 1.1824898e-10], dtype=float32),\n",
       " 'class_ids': array([7]),\n",
       " 'classes': array([b'7'], dtype=object)}"
      ]
     },
     "execution_count": 17,
     "metadata": {},
     "output_type": "execute_result"
    }
   ],
   "source": [
    "y_pred_iter = dnn_clf.predict(input_fn=test_input_fn)\n",
    "y_pred = list(y_pred_iter)\n",
    "y_pred[0]"
   ]
  },
  {
   "cell_type": "markdown",
   "metadata": {},
   "source": [
    "## `tf.contrib.learn`을 사용"
   ]
  },
  {
   "cell_type": "code",
   "execution_count": 18,
   "metadata": {
    "scrolled": true
   },
   "outputs": [],
   "source": [
    "# from tensorflow.examples.tutorials.mnist import input_data\n",
    "# mnist = input_data.read_data_sets(\"/tmp/data/\")"
   ]
  },
  {
   "cell_type": "code",
   "execution_count": 19,
   "metadata": {},
   "outputs": [],
   "source": [
    "# X_train = mnist.train.images\n",
    "# X_test = mnist.test.images\n",
    "# y_train = mnist.train.labels.astype(\"int\")\n",
    "# y_test = mnist.test.labels.astype(\"int\")"
   ]
  },
  {
   "cell_type": "code",
   "execution_count": 20,
   "metadata": {},
   "outputs": [
    {
     "name": "stdout",
     "output_type": "stream",
     "text": [
      "WARNING:tensorflow:From <timed exec>:4: RunConfig.__init__ (from tensorflow.contrib.learn.python.learn.estimators.run_config) is deprecated and will be removed in a future version.\n",
      "Instructions for updating:\n",
      "When switching to tf.estimator.Estimator, use tf.estimator.RunConfig instead.\n",
      "WARNING:tensorflow:From <timed exec>:6: infer_real_valued_columns_from_input (from tensorflow.contrib.learn.python.learn.estimators.estimator) is deprecated and will be removed in a future version.\n",
      "Instructions for updating:\n",
      "Please specify feature columns explicitly.\n",
      "WARNING:tensorflow:From /anaconda3/lib/python3.6/site-packages/tensorflow/contrib/learn/python/learn/estimators/estimator.py:143: setup_train_data_feeder (from tensorflow.contrib.learn.python.learn.learn_io.data_feeder) is deprecated and will be removed in a future version.\n",
      "Instructions for updating:\n",
      "Please use tensorflow/transform or tf.data.\n",
      "WARNING:tensorflow:From /anaconda3/lib/python3.6/site-packages/tensorflow/contrib/learn/python/learn/learn_io/data_feeder.py:96: extract_dask_data (from tensorflow.contrib.learn.python.learn.learn_io.dask_io) is deprecated and will be removed in a future version.\n",
      "Instructions for updating:\n",
      "Please feed input to tf.data to support dask.\n",
      "WARNING:tensorflow:From /anaconda3/lib/python3.6/site-packages/tensorflow/contrib/learn/python/learn/learn_io/data_feeder.py:100: extract_pandas_data (from tensorflow.contrib.learn.python.learn.learn_io.pandas_io) is deprecated and will be removed in a future version.\n",
      "Instructions for updating:\n",
      "Please access pandas data directly.\n",
      "WARNING:tensorflow:From /anaconda3/lib/python3.6/site-packages/tensorflow/contrib/learn/python/learn/learn_io/data_feeder.py:159: DataFeeder.__init__ (from tensorflow.contrib.learn.python.learn.learn_io.data_feeder) is deprecated and will be removed in a future version.\n",
      "Instructions for updating:\n",
      "Please use tensorflow/transform or tf.data.\n",
      "WARNING:tensorflow:From /anaconda3/lib/python3.6/site-packages/tensorflow/contrib/learn/python/learn/learn_io/data_feeder.py:340: check_array (from tensorflow.contrib.learn.python.learn.learn_io.data_feeder) is deprecated and will be removed in a future version.\n",
      "Instructions for updating:\n",
      "Please convert numpy dtypes explicitly.\n",
      "WARNING:tensorflow:From /anaconda3/lib/python3.6/site-packages/tensorflow/contrib/learn/python/learn/estimators/estimator.py:183: infer_real_valued_columns_from_input_fn (from tensorflow.contrib.learn.python.learn.estimators.estimator) is deprecated and will be removed in a future version.\n",
      "Instructions for updating:\n",
      "Please specify feature columns explicitly.\n",
      "WARNING:tensorflow:From /anaconda3/lib/python3.6/site-packages/tensorflow/contrib/learn/python/learn/estimators/dnn.py:378: multi_class_head (from tensorflow.contrib.learn.python.learn.estimators.head) is deprecated and will be removed in a future version.\n",
      "Instructions for updating:\n",
      "Please switch to tf.contrib.estimator.*_head.\n",
      "WARNING:tensorflow:From /anaconda3/lib/python3.6/site-packages/tensorflow/contrib/learn/python/learn/estimators/estimator.py:1180: BaseEstimator.__init__ (from tensorflow.contrib.learn.python.learn.estimators.estimator) is deprecated and will be removed in a future version.\n",
      "Instructions for updating:\n",
      "Please replace uses of any Estimator from tf.contrib.learn with an Estimator from tf.estimator.*\n",
      "WARNING:tensorflow:Using temporary folder as model directory: /var/folders/23/mg281cys48n4dvql2mw8hl480000gn/T/tmpgc7n74k7\n",
      "INFO:tensorflow:Using config: {'_task_type': None, '_task_id': 0, '_cluster_spec': <tensorflow.python.training.server_lib.ClusterSpec object at 0x1a44aecf60>, '_master': '', '_num_ps_replicas': 0, '_num_worker_replicas': 0, '_environment': 'local', '_is_chief': True, '_evaluation_master': '', '_train_distribute': None, '_eval_distribute': None, '_device_fn': None, '_tf_config': gpu_options {\n",
      "  per_process_gpu_memory_fraction: 1.0\n",
      "}\n",
      ", '_tf_random_seed': 42, '_save_summary_steps': 100, '_save_checkpoints_secs': 600, '_log_step_count_steps': 100, '_protocol': None, '_session_config': None, '_save_checkpoints_steps': None, '_keep_checkpoint_max': 5, '_keep_checkpoint_every_n_hours': 10000, '_model_dir': '/var/folders/23/mg281cys48n4dvql2mw8hl480000gn/T/tmpgc7n74k7'}\n",
      "WARNING:tensorflow:From <timed exec>:9: SKCompat.__init__ (from tensorflow.contrib.learn.python.learn.estimators.estimator) is deprecated and will be removed in a future version.\n",
      "Instructions for updating:\n",
      "Please switch to the Estimator interface.\n",
      "WARNING:tensorflow:From /anaconda3/lib/python3.6/site-packages/tensorflow/contrib/learn/python/learn/learn_io/data_feeder.py:98: extract_dask_labels (from tensorflow.contrib.learn.python.learn.learn_io.dask_io) is deprecated and will be removed in a future version.\n",
      "Instructions for updating:\n",
      "Please feed input to tf.data to support dask.\n",
      "WARNING:tensorflow:From /anaconda3/lib/python3.6/site-packages/tensorflow/contrib/learn/python/learn/learn_io/data_feeder.py:102: extract_pandas_labels (from tensorflow.contrib.learn.python.learn.learn_io.pandas_io) is deprecated and will be removed in a future version.\n",
      "Instructions for updating:\n",
      "Please access pandas data directly.\n",
      "WARNING:tensorflow:From /anaconda3/lib/python3.6/site-packages/tensorflow/contrib/learn/python/learn/estimators/head.py:678: ModelFnOps.__new__ (from tensorflow.contrib.learn.python.learn.estimators.model_fn) is deprecated and will be removed in a future version.\n",
      "Instructions for updating:\n",
      "When switching to tf.estimator.Estimator, use tf.estimator.EstimatorSpec. You can use the `estimator_spec` method to create an equivalent one.\n",
      "INFO:tensorflow:Create CheckpointSaverHook.\n",
      "INFO:tensorflow:Graph was finalized.\n",
      "INFO:tensorflow:Running local_init_op.\n",
      "INFO:tensorflow:Done running local_init_op.\n",
      "INFO:tensorflow:Saving checkpoints for 0 into /var/folders/23/mg281cys48n4dvql2mw8hl480000gn/T/tmpgc7n74k7/model.ckpt.\n",
      "INFO:tensorflow:loss = 2.4005778, step = 1\n",
      "INFO:tensorflow:global_step/sec: 141.878\n",
      "INFO:tensorflow:loss = 0.31267598, step = 101 (0.706 sec)\n",
      "INFO:tensorflow:global_step/sec: 185.134\n",
      "INFO:tensorflow:loss = 0.29636884, step = 201 (0.541 sec)\n",
      "INFO:tensorflow:global_step/sec: 178.037\n",
      "INFO:tensorflow:loss = 0.40807682, step = 301 (0.561 sec)\n",
      "INFO:tensorflow:global_step/sec: 165.328\n",
      "INFO:tensorflow:loss = 0.23435774, step = 401 (0.604 sec)\n",
      "INFO:tensorflow:global_step/sec: 145.889\n",
      "INFO:tensorflow:loss = 0.29130784, step = 501 (0.686 sec)\n",
      "INFO:tensorflow:global_step/sec: 179.646\n",
      "INFO:tensorflow:loss = 0.07167662, step = 601 (0.557 sec)\n",
      "INFO:tensorflow:global_step/sec: 170.445\n",
      "INFO:tensorflow:loss = 0.14161879, step = 701 (0.586 sec)\n",
      "INFO:tensorflow:global_step/sec: 181.853\n",
      "INFO:tensorflow:loss = 0.2013877, step = 801 (0.549 sec)\n",
      "INFO:tensorflow:global_step/sec: 187.179\n",
      "INFO:tensorflow:loss = 0.11518532, step = 901 (0.534 sec)\n",
      "INFO:tensorflow:global_step/sec: 183.735\n",
      "INFO:tensorflow:loss = 0.24996687, step = 1001 (0.545 sec)\n",
      "INFO:tensorflow:global_step/sec: 180.095\n",
      "INFO:tensorflow:loss = 0.1878364, step = 1101 (0.555 sec)\n",
      "INFO:tensorflow:global_step/sec: 172.304\n",
      "INFO:tensorflow:loss = 0.15286075, step = 1201 (0.581 sec)\n",
      "INFO:tensorflow:global_step/sec: 168.903\n",
      "INFO:tensorflow:loss = 0.18100676, step = 1301 (0.593 sec)\n",
      "INFO:tensorflow:global_step/sec: 186.725\n",
      "INFO:tensorflow:loss = 0.075989306, step = 1401 (0.535 sec)\n",
      "INFO:tensorflow:global_step/sec: 186.54\n",
      "INFO:tensorflow:loss = 0.12037781, step = 1501 (0.536 sec)\n",
      "INFO:tensorflow:global_step/sec: 158.069\n",
      "INFO:tensorflow:loss = 0.092805, step = 1601 (0.633 sec)\n",
      "INFO:tensorflow:global_step/sec: 185.027\n",
      "INFO:tensorflow:loss = 0.03960047, step = 1701 (0.540 sec)\n",
      "INFO:tensorflow:global_step/sec: 183.551\n",
      "INFO:tensorflow:loss = 0.1489997, step = 1801 (0.545 sec)\n",
      "INFO:tensorflow:global_step/sec: 186.103\n",
      "INFO:tensorflow:loss = 0.106191635, step = 1901 (0.537 sec)\n",
      "INFO:tensorflow:global_step/sec: 183.422\n",
      "INFO:tensorflow:loss = 0.11857261, step = 2001 (0.545 sec)\n",
      "INFO:tensorflow:global_step/sec: 188.058\n",
      "INFO:tensorflow:loss = 0.019116536, step = 2101 (0.532 sec)\n",
      "INFO:tensorflow:global_step/sec: 187.364\n",
      "INFO:tensorflow:loss = 0.0231692, step = 2201 (0.534 sec)\n",
      "INFO:tensorflow:global_step/sec: 182.622\n",
      "INFO:tensorflow:loss = 0.06039824, step = 2301 (0.548 sec)\n"
     ]
    },
    {
     "name": "stdout",
     "output_type": "stream",
     "text": [
      "INFO:tensorflow:global_step/sec: 192.669\n",
      "INFO:tensorflow:loss = 0.051699225, step = 2401 (0.519 sec)\n",
      "INFO:tensorflow:global_step/sec: 194.728\n",
      "INFO:tensorflow:loss = 0.09671933, step = 2501 (0.514 sec)\n",
      "INFO:tensorflow:global_step/sec: 193.742\n",
      "INFO:tensorflow:loss = 0.054478735, step = 2601 (0.515 sec)\n",
      "INFO:tensorflow:global_step/sec: 195.236\n",
      "INFO:tensorflow:loss = 0.014949869, step = 2701 (0.513 sec)\n",
      "INFO:tensorflow:global_step/sec: 194.978\n",
      "INFO:tensorflow:loss = 0.053374816, step = 2801 (0.513 sec)\n",
      "INFO:tensorflow:global_step/sec: 193.66\n",
      "INFO:tensorflow:loss = 0.16239949, step = 2901 (0.516 sec)\n",
      "INFO:tensorflow:global_step/sec: 196.811\n",
      "INFO:tensorflow:loss = 0.01655282, step = 3001 (0.508 sec)\n",
      "INFO:tensorflow:global_step/sec: 192.717\n",
      "INFO:tensorflow:loss = 0.051867627, step = 3101 (0.519 sec)\n",
      "INFO:tensorflow:global_step/sec: 196.026\n",
      "INFO:tensorflow:loss = 0.009632718, step = 3201 (0.510 sec)\n",
      "INFO:tensorflow:global_step/sec: 192.82\n",
      "INFO:tensorflow:loss = 0.039461646, step = 3301 (0.518 sec)\n",
      "INFO:tensorflow:global_step/sec: 189.351\n",
      "INFO:tensorflow:loss = 0.2277114, step = 3401 (0.528 sec)\n",
      "INFO:tensorflow:global_step/sec: 196.951\n",
      "INFO:tensorflow:loss = 0.11150303, step = 3501 (0.508 sec)\n",
      "INFO:tensorflow:global_step/sec: 199.904\n",
      "INFO:tensorflow:loss = 0.18468376, step = 3601 (0.500 sec)\n",
      "INFO:tensorflow:global_step/sec: 196.482\n",
      "INFO:tensorflow:loss = 0.033816792, step = 3701 (0.509 sec)\n",
      "INFO:tensorflow:global_step/sec: 196.583\n",
      "INFO:tensorflow:loss = 0.012002038, step = 3801 (0.508 sec)\n",
      "INFO:tensorflow:global_step/sec: 192.549\n",
      "INFO:tensorflow:loss = 0.04524261, step = 3901 (0.520 sec)\n",
      "INFO:tensorflow:global_step/sec: 196.651\n",
      "INFO:tensorflow:loss = 0.1026613, step = 4001 (0.508 sec)\n",
      "INFO:tensorflow:global_step/sec: 194.997\n",
      "INFO:tensorflow:loss = 0.026224827, step = 4101 (0.512 sec)\n",
      "INFO:tensorflow:global_step/sec: 196.183\n",
      "INFO:tensorflow:loss = 0.063488685, step = 4201 (0.510 sec)\n",
      "INFO:tensorflow:global_step/sec: 190.317\n",
      "INFO:tensorflow:loss = 0.17907383, step = 4301 (0.525 sec)\n",
      "INFO:tensorflow:global_step/sec: 191.843\n",
      "INFO:tensorflow:loss = 0.13725688, step = 4401 (0.521 sec)\n",
      "INFO:tensorflow:global_step/sec: 189.757\n",
      "INFO:tensorflow:loss = 0.014942684, step = 4501 (0.527 sec)\n",
      "INFO:tensorflow:global_step/sec: 189.159\n",
      "INFO:tensorflow:loss = 0.017828543, step = 4601 (0.529 sec)\n",
      "INFO:tensorflow:global_step/sec: 192.761\n",
      "INFO:tensorflow:loss = 0.01182899, step = 4701 (0.519 sec)\n",
      "INFO:tensorflow:global_step/sec: 188.258\n",
      "INFO:tensorflow:loss = 0.021269662, step = 4801 (0.531 sec)\n",
      "INFO:tensorflow:global_step/sec: 185.522\n",
      "INFO:tensorflow:loss = 0.09330607, step = 4901 (0.539 sec)\n",
      "INFO:tensorflow:global_step/sec: 185.353\n",
      "INFO:tensorflow:loss = 0.09756999, step = 5001 (0.540 sec)\n",
      "INFO:tensorflow:global_step/sec: 185.703\n",
      "INFO:tensorflow:loss = 0.0149070285, step = 5101 (0.538 sec)\n",
      "INFO:tensorflow:global_step/sec: 185.693\n",
      "INFO:tensorflow:loss = 0.033799775, step = 5201 (0.539 sec)\n",
      "INFO:tensorflow:global_step/sec: 189.366\n",
      "INFO:tensorflow:loss = 0.031242149, step = 5301 (0.528 sec)\n",
      "INFO:tensorflow:global_step/sec: 185.826\n",
      "INFO:tensorflow:loss = 0.031046955, step = 5401 (0.538 sec)\n",
      "INFO:tensorflow:global_step/sec: 181.787\n",
      "INFO:tensorflow:loss = 0.017973403, step = 5501 (0.550 sec)\n",
      "INFO:tensorflow:global_step/sec: 193.435\n",
      "INFO:tensorflow:loss = 0.050058853, step = 5601 (0.517 sec)\n",
      "INFO:tensorflow:global_step/sec: 195.241\n",
      "INFO:tensorflow:loss = 0.008866558, step = 5701 (0.512 sec)\n",
      "INFO:tensorflow:global_step/sec: 192.291\n",
      "INFO:tensorflow:loss = 0.006747884, step = 5801 (0.520 sec)\n",
      "INFO:tensorflow:global_step/sec: 194.726\n",
      "INFO:tensorflow:loss = 0.07270671, step = 5901 (0.514 sec)\n",
      "INFO:tensorflow:global_step/sec: 177.136\n",
      "INFO:tensorflow:loss = 0.08565301, step = 6001 (0.564 sec)\n",
      "INFO:tensorflow:global_step/sec: 193.488\n",
      "INFO:tensorflow:loss = 0.015699124, step = 6101 (0.517 sec)\n",
      "INFO:tensorflow:global_step/sec: 191.158\n",
      "INFO:tensorflow:loss = 0.014081226, step = 6201 (0.523 sec)\n",
      "INFO:tensorflow:global_step/sec: 182.87\n",
      "INFO:tensorflow:loss = 0.04692776, step = 6301 (0.548 sec)\n",
      "INFO:tensorflow:global_step/sec: 184.991\n",
      "INFO:tensorflow:loss = 0.03206613, step = 6401 (0.540 sec)\n",
      "INFO:tensorflow:global_step/sec: 192.901\n",
      "INFO:tensorflow:loss = 0.008060835, step = 6501 (0.519 sec)\n",
      "INFO:tensorflow:global_step/sec: 195.463\n",
      "INFO:tensorflow:loss = 0.016233142, step = 6601 (0.511 sec)\n",
      "INFO:tensorflow:global_step/sec: 185.158\n",
      "INFO:tensorflow:loss = 0.018030006, step = 6701 (0.540 sec)\n",
      "INFO:tensorflow:global_step/sec: 192.742\n",
      "INFO:tensorflow:loss = 0.0066050817, step = 6801 (0.520 sec)\n",
      "INFO:tensorflow:global_step/sec: 190.976\n",
      "INFO:tensorflow:loss = 0.012355358, step = 6901 (0.523 sec)\n",
      "INFO:tensorflow:global_step/sec: 194.919\n",
      "INFO:tensorflow:loss = 0.01836014, step = 7001 (0.514 sec)\n",
      "INFO:tensorflow:global_step/sec: 195.491\n",
      "INFO:tensorflow:loss = 0.008870578, step = 7101 (0.511 sec)\n",
      "INFO:tensorflow:global_step/sec: 193.77\n",
      "INFO:tensorflow:loss = 0.06386986, step = 7201 (0.516 sec)\n",
      "INFO:tensorflow:global_step/sec: 192.401\n",
      "INFO:tensorflow:loss = 0.009344885, step = 7301 (0.520 sec)\n",
      "INFO:tensorflow:global_step/sec: 193.728\n",
      "INFO:tensorflow:loss = 0.02136971, step = 7401 (0.516 sec)\n",
      "INFO:tensorflow:global_step/sec: 190.867\n",
      "INFO:tensorflow:loss = 0.00909393, step = 7501 (0.524 sec)\n",
      "INFO:tensorflow:global_step/sec: 196.045\n",
      "INFO:tensorflow:loss = 0.011146245, step = 7601 (0.510 sec)\n",
      "INFO:tensorflow:global_step/sec: 184.656\n",
      "INFO:tensorflow:loss = 0.0071219653, step = 7701 (0.541 sec)\n",
      "INFO:tensorflow:global_step/sec: 174.067\n",
      "INFO:tensorflow:loss = 0.00546518, step = 7801 (0.576 sec)\n",
      "INFO:tensorflow:global_step/sec: 165.327\n",
      "INFO:tensorflow:loss = 0.005700022, step = 7901 (0.604 sec)\n",
      "INFO:tensorflow:global_step/sec: 182.31\n",
      "INFO:tensorflow:loss = 0.0020719105, step = 8001 (0.549 sec)\n",
      "INFO:tensorflow:global_step/sec: 184.243\n",
      "INFO:tensorflow:loss = 0.008054492, step = 8101 (0.543 sec)\n",
      "INFO:tensorflow:global_step/sec: 168.795\n",
      "INFO:tensorflow:loss = 0.036747586, step = 8201 (0.592 sec)\n",
      "INFO:tensorflow:global_step/sec: 187.677\n",
      "INFO:tensorflow:loss = 0.024813624, step = 8301 (0.532 sec)\n",
      "INFO:tensorflow:global_step/sec: 180.304\n",
      "INFO:tensorflow:loss = 0.006074928, step = 8401 (0.554 sec)\n",
      "INFO:tensorflow:global_step/sec: 193.122\n",
      "INFO:tensorflow:loss = 0.005707273, step = 8501 (0.518 sec)\n",
      "INFO:tensorflow:global_step/sec: 192.945\n",
      "INFO:tensorflow:loss = 0.004793661, step = 8601 (0.519 sec)\n",
      "INFO:tensorflow:global_step/sec: 191.193\n",
      "INFO:tensorflow:loss = 0.0056745624, step = 8701 (0.523 sec)\n",
      "INFO:tensorflow:global_step/sec: 190.285\n",
      "INFO:tensorflow:loss = 0.0065067816, step = 8801 (0.525 sec)\n",
      "INFO:tensorflow:global_step/sec: 190.173\n",
      "INFO:tensorflow:loss = 0.0023897486, step = 8901 (0.526 sec)\n",
      "INFO:tensorflow:global_step/sec: 190.546\n",
      "INFO:tensorflow:loss = 0.003950238, step = 9001 (0.524 sec)\n",
      "INFO:tensorflow:global_step/sec: 194.902\n",
      "INFO:tensorflow:loss = 0.0090157, step = 9101 (0.514 sec)\n",
      "INFO:tensorflow:global_step/sec: 191.05\n",
      "INFO:tensorflow:loss = 0.0051005455, step = 9201 (0.523 sec)\n",
      "INFO:tensorflow:global_step/sec: 192.873\n",
      "INFO:tensorflow:loss = 0.0056580137, step = 9301 (0.519 sec)\n",
      "INFO:tensorflow:global_step/sec: 191.451\n",
      "INFO:tensorflow:loss = 0.06458924, step = 9401 (0.523 sec)\n",
      "INFO:tensorflow:global_step/sec: 199.572\n",
      "INFO:tensorflow:loss = 0.0036056528, step = 9501 (0.500 sec)\n",
      "INFO:tensorflow:global_step/sec: 201.6\n",
      "INFO:tensorflow:loss = 0.02139302, step = 9601 (0.496 sec)\n",
      "INFO:tensorflow:global_step/sec: 192.26\n",
      "INFO:tensorflow:loss = 0.0058755516, step = 9701 (0.520 sec)\n",
      "INFO:tensorflow:global_step/sec: 189.77\n",
      "INFO:tensorflow:loss = 0.0018890398, step = 9801 (0.527 sec)\n",
      "INFO:tensorflow:global_step/sec: 188.054\n",
      "INFO:tensorflow:loss = 0.01602128, step = 9901 (0.532 sec)\n",
      "INFO:tensorflow:global_step/sec: 190.231\n",
      "INFO:tensorflow:loss = 0.005831282, step = 10001 (0.526 sec)\n",
      "INFO:tensorflow:global_step/sec: 186.923\n",
      "INFO:tensorflow:loss = 0.00525539, step = 10101 (0.535 sec)\n",
      "INFO:tensorflow:global_step/sec: 195.55\n",
      "INFO:tensorflow:loss = 0.011872475, step = 10201 (0.511 sec)\n",
      "INFO:tensorflow:global_step/sec: 192.319\n",
      "INFO:tensorflow:loss = 0.002158959, step = 10301 (0.520 sec)\n",
      "INFO:tensorflow:global_step/sec: 194.973\n",
      "INFO:tensorflow:loss = 0.0048741554, step = 10401 (0.513 sec)\n",
      "INFO:tensorflow:global_step/sec: 191.285\n"
     ]
    },
    {
     "name": "stdout",
     "output_type": "stream",
     "text": [
      "INFO:tensorflow:loss = 0.0044538756, step = 10501 (0.523 sec)\n",
      "INFO:tensorflow:global_step/sec: 192.156\n",
      "INFO:tensorflow:loss = 0.018435968, step = 10601 (0.520 sec)\n",
      "INFO:tensorflow:global_step/sec: 182.701\n",
      "INFO:tensorflow:loss = 0.03243466, step = 10701 (0.548 sec)\n",
      "INFO:tensorflow:global_step/sec: 184.478\n",
      "INFO:tensorflow:loss = 0.0058387737, step = 10801 (0.542 sec)\n",
      "INFO:tensorflow:global_step/sec: 192.748\n",
      "INFO:tensorflow:loss = 0.0015697209, step = 10901 (0.518 sec)\n",
      "INFO:tensorflow:global_step/sec: 193.311\n",
      "INFO:tensorflow:loss = 0.020247236, step = 11001 (0.518 sec)\n",
      "INFO:tensorflow:global_step/sec: 178.874\n",
      "INFO:tensorflow:loss = 0.0030722916, step = 11101 (0.559 sec)\n",
      "INFO:tensorflow:global_step/sec: 189.541\n",
      "INFO:tensorflow:loss = 0.00090730184, step = 11201 (0.527 sec)\n",
      "INFO:tensorflow:global_step/sec: 194.563\n",
      "INFO:tensorflow:loss = 0.008249149, step = 11301 (0.515 sec)\n",
      "INFO:tensorflow:global_step/sec: 188.301\n",
      "INFO:tensorflow:loss = 0.00577297, step = 11401 (0.531 sec)\n",
      "INFO:tensorflow:global_step/sec: 185.681\n",
      "INFO:tensorflow:loss = 0.013039139, step = 11501 (0.539 sec)\n",
      "INFO:tensorflow:global_step/sec: 186.367\n",
      "INFO:tensorflow:loss = 0.0011508444, step = 11601 (0.537 sec)\n",
      "INFO:tensorflow:global_step/sec: 185.579\n",
      "INFO:tensorflow:loss = 0.0031575903, step = 11701 (0.538 sec)\n",
      "INFO:tensorflow:global_step/sec: 192.003\n",
      "INFO:tensorflow:loss = 0.0004404749, step = 11801 (0.521 sec)\n",
      "INFO:tensorflow:global_step/sec: 185.79\n",
      "INFO:tensorflow:loss = 0.0053213835, step = 11901 (0.539 sec)\n",
      "INFO:tensorflow:global_step/sec: 183.306\n",
      "INFO:tensorflow:loss = 0.0006984577, step = 12001 (0.546 sec)\n",
      "INFO:tensorflow:global_step/sec: 183.279\n",
      "INFO:tensorflow:loss = 0.0027874338, step = 12101 (0.545 sec)\n",
      "INFO:tensorflow:global_step/sec: 190.745\n",
      "INFO:tensorflow:loss = 0.0031103278, step = 12201 (0.524 sec)\n",
      "INFO:tensorflow:global_step/sec: 193.089\n",
      "INFO:tensorflow:loss = 0.005283286, step = 12301 (0.518 sec)\n",
      "INFO:tensorflow:global_step/sec: 191.15\n",
      "INFO:tensorflow:loss = 0.00041960122, step = 12401 (0.524 sec)\n",
      "INFO:tensorflow:global_step/sec: 193.129\n",
      "INFO:tensorflow:loss = 0.0011976097, step = 12501 (0.517 sec)\n",
      "INFO:tensorflow:global_step/sec: 192.192\n",
      "INFO:tensorflow:loss = 0.0031875328, step = 12601 (0.520 sec)\n",
      "INFO:tensorflow:global_step/sec: 197.365\n",
      "INFO:tensorflow:loss = 0.0024428568, step = 12701 (0.506 sec)\n",
      "INFO:tensorflow:global_step/sec: 192.884\n",
      "INFO:tensorflow:loss = 0.015983908, step = 12801 (0.518 sec)\n",
      "INFO:tensorflow:global_step/sec: 197.936\n",
      "INFO:tensorflow:loss = 0.0023572831, step = 12901 (0.505 sec)\n",
      "INFO:tensorflow:global_step/sec: 194.637\n",
      "INFO:tensorflow:loss = 0.006973002, step = 13001 (0.514 sec)\n",
      "INFO:tensorflow:global_step/sec: 197.452\n",
      "INFO:tensorflow:loss = 0.002277622, step = 13101 (0.507 sec)\n",
      "INFO:tensorflow:global_step/sec: 191.984\n",
      "INFO:tensorflow:loss = 0.0017686588, step = 13201 (0.520 sec)\n",
      "INFO:tensorflow:global_step/sec: 190.323\n",
      "INFO:tensorflow:loss = 0.011532732, step = 13301 (0.526 sec)\n",
      "INFO:tensorflow:global_step/sec: 194.911\n",
      "INFO:tensorflow:loss = 0.005807261, step = 13401 (0.513 sec)\n",
      "INFO:tensorflow:global_step/sec: 196.319\n",
      "INFO:tensorflow:loss = 0.003395413, step = 13501 (0.509 sec)\n",
      "INFO:tensorflow:global_step/sec: 193.048\n",
      "INFO:tensorflow:loss = 0.0043138526, step = 13601 (0.518 sec)\n",
      "INFO:tensorflow:global_step/sec: 194.634\n",
      "INFO:tensorflow:loss = 0.0024980283, step = 13701 (0.514 sec)\n",
      "INFO:tensorflow:global_step/sec: 192.587\n",
      "INFO:tensorflow:loss = 0.0053887223, step = 13801 (0.519 sec)\n",
      "INFO:tensorflow:global_step/sec: 193.528\n",
      "INFO:tensorflow:loss = 0.003800971, step = 13901 (0.517 sec)\n",
      "INFO:tensorflow:global_step/sec: 190.349\n",
      "INFO:tensorflow:loss = 0.0032089937, step = 14001 (0.526 sec)\n",
      "INFO:tensorflow:global_step/sec: 192.728\n",
      "INFO:tensorflow:loss = 0.008373085, step = 14101 (0.519 sec)\n",
      "INFO:tensorflow:global_step/sec: 190.724\n",
      "INFO:tensorflow:loss = 0.0044848593, step = 14201 (0.524 sec)\n",
      "INFO:tensorflow:global_step/sec: 193.896\n",
      "INFO:tensorflow:loss = 0.0010901641, step = 14301 (0.516 sec)\n",
      "INFO:tensorflow:global_step/sec: 192.334\n",
      "INFO:tensorflow:loss = 0.0011531728, step = 14401 (0.520 sec)\n",
      "INFO:tensorflow:global_step/sec: 191.445\n",
      "INFO:tensorflow:loss = 0.00094968453, step = 14501 (0.522 sec)\n",
      "INFO:tensorflow:global_step/sec: 195.085\n",
      "INFO:tensorflow:loss = 0.0038634387, step = 14601 (0.513 sec)\n",
      "INFO:tensorflow:global_step/sec: 192.765\n",
      "INFO:tensorflow:loss = 0.0011735511, step = 14701 (0.518 sec)\n",
      "INFO:tensorflow:global_step/sec: 194.545\n",
      "INFO:tensorflow:loss = 0.0010661614, step = 14801 (0.515 sec)\n",
      "INFO:tensorflow:global_step/sec: 194.875\n",
      "INFO:tensorflow:loss = 0.0021871657, step = 14901 (0.512 sec)\n",
      "INFO:tensorflow:global_step/sec: 197.938\n",
      "INFO:tensorflow:loss = 0.0014230773, step = 15001 (0.506 sec)\n",
      "INFO:tensorflow:global_step/sec: 200.799\n",
      "INFO:tensorflow:loss = 0.0019941232, step = 15101 (0.498 sec)\n",
      "INFO:tensorflow:global_step/sec: 189.478\n",
      "INFO:tensorflow:loss = 0.0010224463, step = 15201 (0.528 sec)\n",
      "INFO:tensorflow:global_step/sec: 186.697\n",
      "INFO:tensorflow:loss = 0.002129728, step = 15301 (0.535 sec)\n",
      "INFO:tensorflow:global_step/sec: 188.453\n",
      "INFO:tensorflow:loss = 0.0027067754, step = 15401 (0.531 sec)\n",
      "INFO:tensorflow:global_step/sec: 174.027\n",
      "INFO:tensorflow:loss = 0.005306622, step = 15501 (0.576 sec)\n",
      "INFO:tensorflow:global_step/sec: 180.924\n",
      "INFO:tensorflow:loss = 0.003159374, step = 15601 (0.552 sec)\n",
      "INFO:tensorflow:global_step/sec: 185.542\n",
      "INFO:tensorflow:loss = 0.0069232183, step = 15701 (0.539 sec)\n",
      "INFO:tensorflow:global_step/sec: 187.123\n",
      "INFO:tensorflow:loss = 0.00094569236, step = 15801 (0.534 sec)\n",
      "INFO:tensorflow:global_step/sec: 173.416\n",
      "INFO:tensorflow:loss = 0.00075048313, step = 15901 (0.577 sec)\n",
      "INFO:tensorflow:global_step/sec: 196.868\n",
      "INFO:tensorflow:loss = 0.0064382837, step = 16001 (0.509 sec)\n",
      "INFO:tensorflow:global_step/sec: 199.338\n",
      "INFO:tensorflow:loss = 0.0031563663, step = 16101 (0.502 sec)\n",
      "INFO:tensorflow:global_step/sec: 191.816\n",
      "INFO:tensorflow:loss = 0.00016039617, step = 16201 (0.520 sec)\n",
      "INFO:tensorflow:global_step/sec: 195.572\n",
      "INFO:tensorflow:loss = 0.002045087, step = 16301 (0.511 sec)\n",
      "INFO:tensorflow:global_step/sec: 193.504\n",
      "INFO:tensorflow:loss = 0.0016702992, step = 16401 (0.518 sec)\n",
      "INFO:tensorflow:global_step/sec: 191.649\n",
      "INFO:tensorflow:loss = 0.0021896556, step = 16501 (0.522 sec)\n",
      "INFO:tensorflow:global_step/sec: 191.836\n",
      "INFO:tensorflow:loss = 0.002886038, step = 16601 (0.520 sec)\n",
      "INFO:tensorflow:global_step/sec: 189.458\n",
      "INFO:tensorflow:loss = 0.0020523923, step = 16701 (0.528 sec)\n",
      "INFO:tensorflow:global_step/sec: 193.027\n",
      "INFO:tensorflow:loss = 0.0022540588, step = 16801 (0.518 sec)\n",
      "INFO:tensorflow:global_step/sec: 192.698\n",
      "INFO:tensorflow:loss = 0.0015631631, step = 16901 (0.519 sec)\n",
      "INFO:tensorflow:global_step/sec: 174.745\n",
      "INFO:tensorflow:loss = 0.003647779, step = 17001 (0.572 sec)\n",
      "INFO:tensorflow:global_step/sec: 178.294\n",
      "INFO:tensorflow:loss = 0.0025605625, step = 17101 (0.561 sec)\n",
      "INFO:tensorflow:global_step/sec: 189.776\n",
      "INFO:tensorflow:loss = 0.0021832332, step = 17201 (0.527 sec)\n",
      "INFO:tensorflow:global_step/sec: 181.25\n",
      "INFO:tensorflow:loss = 0.0011723865, step = 17301 (0.552 sec)\n",
      "INFO:tensorflow:global_step/sec: 175.864\n",
      "INFO:tensorflow:loss = 0.0015050379, step = 17401 (0.568 sec)\n",
      "INFO:tensorflow:global_step/sec: 197.963\n",
      "INFO:tensorflow:loss = 0.0013796409, step = 17501 (0.505 sec)\n",
      "INFO:tensorflow:global_step/sec: 196.187\n",
      "INFO:tensorflow:loss = 0.0007811199, step = 17601 (0.510 sec)\n",
      "INFO:tensorflow:global_step/sec: 193.576\n",
      "INFO:tensorflow:loss = 0.00082034676, step = 17701 (0.516 sec)\n",
      "INFO:tensorflow:global_step/sec: 191.28\n",
      "INFO:tensorflow:loss = 0.00016599329, step = 17801 (0.522 sec)\n",
      "INFO:tensorflow:global_step/sec: 185.671\n",
      "INFO:tensorflow:loss = 0.0018816831, step = 17901 (0.539 sec)\n",
      "INFO:tensorflow:global_step/sec: 192.737\n",
      "INFO:tensorflow:loss = 0.00052239303, step = 18001 (0.519 sec)\n",
      "INFO:tensorflow:global_step/sec: 189.29\n",
      "INFO:tensorflow:loss = 0.00080310344, step = 18101 (0.528 sec)\n",
      "INFO:tensorflow:global_step/sec: 192.319\n",
      "INFO:tensorflow:loss = 0.0031335903, step = 18201 (0.520 sec)\n",
      "INFO:tensorflow:global_step/sec: 190.691\n",
      "INFO:tensorflow:loss = 0.006340827, step = 18301 (0.524 sec)\n",
      "INFO:tensorflow:global_step/sec: 195.382\n",
      "INFO:tensorflow:loss = 0.0028477195, step = 18401 (0.512 sec)\n",
      "INFO:tensorflow:global_step/sec: 182.316\n"
     ]
    },
    {
     "name": "stdout",
     "output_type": "stream",
     "text": [
      "INFO:tensorflow:loss = 0.0076411013, step = 18501 (0.548 sec)\n",
      "INFO:tensorflow:global_step/sec: 188.137\n",
      "INFO:tensorflow:loss = 0.0035648185, step = 18601 (0.531 sec)\n",
      "INFO:tensorflow:global_step/sec: 191.122\n",
      "INFO:tensorflow:loss = 0.0018177867, step = 18701 (0.523 sec)\n",
      "INFO:tensorflow:global_step/sec: 184.412\n",
      "INFO:tensorflow:loss = 0.002310926, step = 18801 (0.542 sec)\n",
      "INFO:tensorflow:global_step/sec: 181.671\n",
      "INFO:tensorflow:loss = 0.002534214, step = 18901 (0.550 sec)\n",
      "INFO:tensorflow:global_step/sec: 187.305\n",
      "INFO:tensorflow:loss = 0.0015091215, step = 19001 (0.534 sec)\n",
      "INFO:tensorflow:global_step/sec: 184.299\n",
      "INFO:tensorflow:loss = 0.00048351465, step = 19101 (0.543 sec)\n",
      "INFO:tensorflow:global_step/sec: 191.479\n",
      "INFO:tensorflow:loss = 0.0009988111, step = 19201 (0.522 sec)\n",
      "INFO:tensorflow:global_step/sec: 189.686\n",
      "INFO:tensorflow:loss = 0.00572029, step = 19301 (0.528 sec)\n",
      "INFO:tensorflow:global_step/sec: 194.073\n",
      "INFO:tensorflow:loss = 0.0015844193, step = 19401 (0.514 sec)\n",
      "INFO:tensorflow:global_step/sec: 193.444\n",
      "INFO:tensorflow:loss = 0.001955892, step = 19501 (0.517 sec)\n",
      "INFO:tensorflow:global_step/sec: 194.163\n",
      "INFO:tensorflow:loss = 0.00074813433, step = 19601 (0.515 sec)\n",
      "INFO:tensorflow:global_step/sec: 203.319\n",
      "INFO:tensorflow:loss = 9.538703e-05, step = 19701 (0.492 sec)\n",
      "INFO:tensorflow:global_step/sec: 192.597\n",
      "INFO:tensorflow:loss = 0.00046061157, step = 19801 (0.519 sec)\n",
      "INFO:tensorflow:global_step/sec: 200.319\n",
      "INFO:tensorflow:loss = 0.00244414, step = 19901 (0.499 sec)\n",
      "INFO:tensorflow:global_step/sec: 190.401\n",
      "INFO:tensorflow:loss = 0.0025933962, step = 20001 (0.526 sec)\n",
      "INFO:tensorflow:global_step/sec: 193.874\n",
      "INFO:tensorflow:loss = 0.00041614796, step = 20101 (0.516 sec)\n",
      "INFO:tensorflow:global_step/sec: 184.888\n",
      "INFO:tensorflow:loss = 0.0023166295, step = 20201 (0.541 sec)\n",
      "INFO:tensorflow:global_step/sec: 181.418\n",
      "INFO:tensorflow:loss = 0.0010497703, step = 20301 (0.551 sec)\n",
      "INFO:tensorflow:global_step/sec: 199.926\n",
      "INFO:tensorflow:loss = 0.00014065014, step = 20401 (0.500 sec)\n",
      "INFO:tensorflow:global_step/sec: 188.441\n",
      "INFO:tensorflow:loss = 0.0009923247, step = 20501 (0.530 sec)\n",
      "INFO:tensorflow:global_step/sec: 180.588\n",
      "INFO:tensorflow:loss = 0.00073809014, step = 20601 (0.554 sec)\n",
      "INFO:tensorflow:global_step/sec: 191.812\n",
      "INFO:tensorflow:loss = 0.0007557078, step = 20701 (0.522 sec)\n",
      "INFO:tensorflow:global_step/sec: 192.303\n",
      "INFO:tensorflow:loss = 0.0011523376, step = 20801 (0.520 sec)\n",
      "INFO:tensorflow:global_step/sec: 192.872\n",
      "INFO:tensorflow:loss = 0.0012208059, step = 20901 (0.518 sec)\n",
      "INFO:tensorflow:global_step/sec: 198.697\n",
      "INFO:tensorflow:loss = 0.0025311552, step = 21001 (0.503 sec)\n",
      "INFO:tensorflow:global_step/sec: 191.094\n",
      "INFO:tensorflow:loss = 0.0013116072, step = 21101 (0.524 sec)\n",
      "INFO:tensorflow:global_step/sec: 192.637\n",
      "INFO:tensorflow:loss = 0.0052820747, step = 21201 (0.518 sec)\n",
      "INFO:tensorflow:global_step/sec: 192.304\n",
      "INFO:tensorflow:loss = 0.00056186033, step = 21301 (0.521 sec)\n",
      "INFO:tensorflow:global_step/sec: 194.162\n",
      "INFO:tensorflow:loss = 0.0019586384, step = 21401 (0.515 sec)\n",
      "INFO:tensorflow:global_step/sec: 190.317\n",
      "INFO:tensorflow:loss = 0.00037286067, step = 21501 (0.525 sec)\n",
      "INFO:tensorflow:global_step/sec: 185.176\n",
      "INFO:tensorflow:loss = 0.0008954305, step = 21601 (0.540 sec)\n",
      "INFO:tensorflow:global_step/sec: 185.728\n",
      "INFO:tensorflow:loss = 0.00081679435, step = 21701 (0.539 sec)\n",
      "INFO:tensorflow:global_step/sec: 186.76\n",
      "INFO:tensorflow:loss = 0.0004856806, step = 21801 (0.535 sec)\n",
      "INFO:tensorflow:global_step/sec: 188.544\n",
      "INFO:tensorflow:loss = 0.0005895273, step = 21901 (0.531 sec)\n",
      "INFO:tensorflow:global_step/sec: 191.641\n",
      "INFO:tensorflow:loss = 4.7730013e-05, step = 22001 (0.522 sec)\n",
      "INFO:tensorflow:global_step/sec: 187.477\n",
      "INFO:tensorflow:loss = 0.00029792794, step = 22101 (0.533 sec)\n",
      "INFO:tensorflow:global_step/sec: 185.636\n",
      "INFO:tensorflow:loss = 0.0013733655, step = 22201 (0.539 sec)\n",
      "INFO:tensorflow:global_step/sec: 186.304\n",
      "INFO:tensorflow:loss = 0.0013691105, step = 22301 (0.536 sec)\n",
      "INFO:tensorflow:global_step/sec: 193.038\n",
      "INFO:tensorflow:loss = 0.0016996886, step = 22401 (0.518 sec)\n",
      "INFO:tensorflow:global_step/sec: 192.387\n",
      "INFO:tensorflow:loss = 0.0013850057, step = 22501 (0.520 sec)\n",
      "INFO:tensorflow:global_step/sec: 193.971\n",
      "INFO:tensorflow:loss = 0.0027120453, step = 22601 (0.516 sec)\n",
      "INFO:tensorflow:global_step/sec: 190.212\n",
      "INFO:tensorflow:loss = 0.00068909384, step = 22701 (0.525 sec)\n",
      "INFO:tensorflow:global_step/sec: 194.706\n",
      "INFO:tensorflow:loss = 0.0008311066, step = 22801 (0.513 sec)\n",
      "INFO:tensorflow:global_step/sec: 193.157\n",
      "INFO:tensorflow:loss = 0.0019826381, step = 22901 (0.518 sec)\n",
      "INFO:tensorflow:global_step/sec: 194.626\n",
      "INFO:tensorflow:loss = 0.0005634464, step = 23001 (0.514 sec)\n",
      "INFO:tensorflow:global_step/sec: 192.246\n",
      "INFO:tensorflow:loss = 0.0027323863, step = 23101 (0.520 sec)\n",
      "INFO:tensorflow:global_step/sec: 196.926\n",
      "INFO:tensorflow:loss = 0.0018359062, step = 23201 (0.508 sec)\n",
      "INFO:tensorflow:global_step/sec: 191.903\n",
      "INFO:tensorflow:loss = 0.0019957682, step = 23301 (0.522 sec)\n",
      "INFO:tensorflow:global_step/sec: 187.44\n",
      "INFO:tensorflow:loss = 0.0005155055, step = 23401 (0.533 sec)\n",
      "INFO:tensorflow:global_step/sec: 195.112\n",
      "INFO:tensorflow:loss = 0.0009151783, step = 23501 (0.512 sec)\n",
      "INFO:tensorflow:global_step/sec: 193.829\n",
      "INFO:tensorflow:loss = 0.000598092, step = 23601 (0.516 sec)\n",
      "INFO:tensorflow:global_step/sec: 191.507\n",
      "INFO:tensorflow:loss = 0.00011301227, step = 23701 (0.522 sec)\n",
      "INFO:tensorflow:global_step/sec: 193.289\n",
      "INFO:tensorflow:loss = 0.0009149594, step = 23801 (0.517 sec)\n",
      "INFO:tensorflow:global_step/sec: 192.288\n",
      "INFO:tensorflow:loss = 0.0018809369, step = 23901 (0.520 sec)\n",
      "INFO:tensorflow:global_step/sec: 194.106\n",
      "INFO:tensorflow:loss = 0.0012678234, step = 24001 (0.516 sec)\n",
      "INFO:tensorflow:global_step/sec: 192.16\n",
      "INFO:tensorflow:loss = 0.0007742885, step = 24101 (0.520 sec)\n",
      "INFO:tensorflow:global_step/sec: 190.655\n",
      "INFO:tensorflow:loss = 0.0019105716, step = 24201 (0.524 sec)\n",
      "INFO:tensorflow:global_step/sec: 193.483\n",
      "INFO:tensorflow:loss = 0.00022911752, step = 24301 (0.517 sec)\n",
      "INFO:tensorflow:global_step/sec: 186.394\n",
      "INFO:tensorflow:loss = 0.0019142351, step = 24401 (0.537 sec)\n",
      "INFO:tensorflow:global_step/sec: 181.558\n",
      "INFO:tensorflow:loss = 0.0011805757, step = 24501 (0.550 sec)\n",
      "INFO:tensorflow:global_step/sec: 185.344\n",
      "INFO:tensorflow:loss = 0.0007463148, step = 24601 (0.540 sec)\n",
      "INFO:tensorflow:global_step/sec: 190.832\n",
      "INFO:tensorflow:loss = 0.0010470306, step = 24701 (0.525 sec)\n",
      "INFO:tensorflow:global_step/sec: 185.411\n",
      "INFO:tensorflow:loss = 0.0012606019, step = 24801 (0.538 sec)\n",
      "INFO:tensorflow:global_step/sec: 191.422\n",
      "INFO:tensorflow:loss = 0.0016653802, step = 24901 (0.523 sec)\n",
      "INFO:tensorflow:global_step/sec: 168.785\n",
      "INFO:tensorflow:loss = 0.0006034175, step = 25001 (0.592 sec)\n",
      "INFO:tensorflow:global_step/sec: 184.645\n",
      "INFO:tensorflow:loss = 0.0007222691, step = 25101 (0.541 sec)\n",
      "INFO:tensorflow:global_step/sec: 192.018\n",
      "INFO:tensorflow:loss = 0.0015853908, step = 25201 (0.521 sec)\n",
      "INFO:tensorflow:global_step/sec: 182.497\n",
      "INFO:tensorflow:loss = 0.00015044416, step = 25301 (0.549 sec)\n",
      "INFO:tensorflow:global_step/sec: 189.149\n",
      "INFO:tensorflow:loss = 0.0006033941, step = 25401 (0.527 sec)\n",
      "INFO:tensorflow:global_step/sec: 189.377\n",
      "INFO:tensorflow:loss = 0.0009374676, step = 25501 (0.528 sec)\n",
      "INFO:tensorflow:global_step/sec: 193.726\n",
      "INFO:tensorflow:loss = 0.00084410707, step = 25601 (0.516 sec)\n",
      "INFO:tensorflow:global_step/sec: 204.158\n",
      "INFO:tensorflow:loss = 0.00040979256, step = 25701 (0.490 sec)\n",
      "INFO:tensorflow:global_step/sec: 200.859\n",
      "INFO:tensorflow:loss = 0.0008209242, step = 25801 (0.498 sec)\n",
      "INFO:tensorflow:global_step/sec: 192.523\n",
      "INFO:tensorflow:loss = 0.0015078273, step = 25901 (0.519 sec)\n",
      "INFO:tensorflow:global_step/sec: 195.282\n",
      "INFO:tensorflow:loss = 7.070171e-05, step = 26001 (0.512 sec)\n",
      "INFO:tensorflow:global_step/sec: 200.482\n",
      "INFO:tensorflow:loss = 0.0007142244, step = 26101 (0.498 sec)\n",
      "INFO:tensorflow:global_step/sec: 198.496\n",
      "INFO:tensorflow:loss = 0.0009303281, step = 26201 (0.504 sec)\n",
      "INFO:tensorflow:global_step/sec: 194.44\n",
      "INFO:tensorflow:loss = 0.0006949624, step = 26301 (0.514 sec)\n",
      "INFO:tensorflow:global_step/sec: 194.359\n",
      "INFO:tensorflow:loss = 0.0011270237, step = 26401 (0.514 sec)\n"
     ]
    },
    {
     "name": "stdout",
     "output_type": "stream",
     "text": [
      "INFO:tensorflow:global_step/sec: 198.85\n",
      "INFO:tensorflow:loss = 0.0009058018, step = 26501 (0.503 sec)\n",
      "INFO:tensorflow:global_step/sec: 190.568\n",
      "INFO:tensorflow:loss = 0.00039770204, step = 26601 (0.525 sec)\n",
      "INFO:tensorflow:global_step/sec: 197.814\n",
      "INFO:tensorflow:loss = 3.467548e-05, step = 26701 (0.505 sec)\n",
      "INFO:tensorflow:global_step/sec: 194.836\n",
      "INFO:tensorflow:loss = 0.00031420065, step = 26801 (0.513 sec)\n",
      "INFO:tensorflow:global_step/sec: 196.828\n",
      "INFO:tensorflow:loss = 0.0007718692, step = 26901 (0.508 sec)\n",
      "INFO:tensorflow:global_step/sec: 188.974\n",
      "INFO:tensorflow:loss = 0.0008414723, step = 27001 (0.529 sec)\n",
      "INFO:tensorflow:global_step/sec: 189.212\n",
      "INFO:tensorflow:loss = 0.0005192807, step = 27101 (0.529 sec)\n",
      "INFO:tensorflow:global_step/sec: 188.685\n",
      "INFO:tensorflow:loss = 0.00042159646, step = 27201 (0.530 sec)\n",
      "INFO:tensorflow:global_step/sec: 184.76\n",
      "INFO:tensorflow:loss = 0.0011699182, step = 27301 (0.541 sec)\n",
      "INFO:tensorflow:global_step/sec: 185.938\n",
      "INFO:tensorflow:loss = 0.0005110431, step = 27401 (0.538 sec)\n",
      "INFO:tensorflow:global_step/sec: 189.037\n",
      "INFO:tensorflow:loss = 0.0009390334, step = 27501 (0.528 sec)\n",
      "INFO:tensorflow:global_step/sec: 190.586\n",
      "INFO:tensorflow:loss = 0.001180949, step = 27601 (0.526 sec)\n",
      "INFO:tensorflow:global_step/sec: 184.642\n",
      "INFO:tensorflow:loss = 0.00023460563, step = 27701 (0.541 sec)\n",
      "INFO:tensorflow:global_step/sec: 182.961\n",
      "INFO:tensorflow:loss = 0.00017651336, step = 27801 (0.547 sec)\n",
      "INFO:tensorflow:global_step/sec: 192.248\n",
      "INFO:tensorflow:loss = 0.00058517716, step = 27901 (0.520 sec)\n",
      "INFO:tensorflow:global_step/sec: 192.746\n",
      "INFO:tensorflow:loss = 0.0015357212, step = 28001 (0.520 sec)\n",
      "INFO:tensorflow:global_step/sec: 199.165\n",
      "INFO:tensorflow:loss = 0.0006207086, step = 28101 (0.501 sec)\n",
      "INFO:tensorflow:global_step/sec: 193.439\n",
      "INFO:tensorflow:loss = 0.0007536858, step = 28201 (0.518 sec)\n",
      "INFO:tensorflow:global_step/sec: 193.867\n",
      "INFO:tensorflow:loss = 0.00081890204, step = 28301 (0.515 sec)\n",
      "INFO:tensorflow:global_step/sec: 191.864\n",
      "INFO:tensorflow:loss = 0.0011677812, step = 28401 (0.521 sec)\n",
      "INFO:tensorflow:global_step/sec: 194.342\n",
      "INFO:tensorflow:loss = 0.00014635465, step = 28501 (0.515 sec)\n",
      "INFO:tensorflow:global_step/sec: 189.252\n",
      "INFO:tensorflow:loss = 0.00046484265, step = 28601 (0.528 sec)\n",
      "INFO:tensorflow:global_step/sec: 195.791\n",
      "INFO:tensorflow:loss = 0.0013061692, step = 28701 (0.511 sec)\n",
      "INFO:tensorflow:global_step/sec: 192.237\n",
      "INFO:tensorflow:loss = 0.0010319597, step = 28801 (0.519 sec)\n",
      "INFO:tensorflow:global_step/sec: 189.63\n",
      "INFO:tensorflow:loss = 0.0003318031, step = 28901 (0.528 sec)\n",
      "INFO:tensorflow:global_step/sec: 191.689\n",
      "INFO:tensorflow:loss = 0.0012815763, step = 29001 (0.521 sec)\n",
      "INFO:tensorflow:global_step/sec: 193.707\n",
      "INFO:tensorflow:loss = 0.0011135724, step = 29101 (0.517 sec)\n",
      "INFO:tensorflow:global_step/sec: 192.402\n",
      "INFO:tensorflow:loss = 0.0012232498, step = 29201 (0.520 sec)\n",
      "INFO:tensorflow:global_step/sec: 194.576\n",
      "INFO:tensorflow:loss = 0.001620032, step = 29301 (0.513 sec)\n",
      "INFO:tensorflow:global_step/sec: 193.6\n",
      "INFO:tensorflow:loss = 0.0012210768, step = 29401 (0.517 sec)\n",
      "INFO:tensorflow:global_step/sec: 196.643\n",
      "INFO:tensorflow:loss = 0.0008118616, step = 29501 (0.509 sec)\n",
      "INFO:tensorflow:global_step/sec: 192.475\n",
      "INFO:tensorflow:loss = 0.00024942425, step = 29601 (0.519 sec)\n",
      "INFO:tensorflow:global_step/sec: 194.511\n",
      "INFO:tensorflow:loss = 0.00018541625, step = 29701 (0.514 sec)\n",
      "INFO:tensorflow:global_step/sec: 168.442\n",
      "INFO:tensorflow:loss = 0.00043245542, step = 29801 (0.594 sec)\n",
      "INFO:tensorflow:global_step/sec: 185.846\n",
      "INFO:tensorflow:loss = 0.0008976238, step = 29901 (0.538 sec)\n",
      "INFO:tensorflow:global_step/sec: 186.277\n",
      "INFO:tensorflow:loss = 0.00012694503, step = 30001 (0.537 sec)\n",
      "INFO:tensorflow:global_step/sec: 174.403\n",
      "INFO:tensorflow:loss = 0.00066847354, step = 30101 (0.574 sec)\n",
      "INFO:tensorflow:global_step/sec: 174.649\n",
      "INFO:tensorflow:loss = 0.00018856222, step = 30201 (0.572 sec)\n",
      "INFO:tensorflow:global_step/sec: 183.393\n",
      "INFO:tensorflow:loss = 0.0007518472, step = 30301 (0.545 sec)\n",
      "INFO:tensorflow:global_step/sec: 185.983\n",
      "INFO:tensorflow:loss = 0.0015525032, step = 30401 (0.538 sec)\n",
      "INFO:tensorflow:global_step/sec: 185.789\n",
      "INFO:tensorflow:loss = 0.00076359103, step = 30501 (0.539 sec)\n",
      "INFO:tensorflow:global_step/sec: 183.041\n",
      "INFO:tensorflow:loss = 0.00084617804, step = 30601 (0.546 sec)\n",
      "INFO:tensorflow:global_step/sec: 167.052\n",
      "INFO:tensorflow:loss = 0.0007445764, step = 30701 (0.599 sec)\n",
      "INFO:tensorflow:global_step/sec: 183.353\n",
      "INFO:tensorflow:loss = 0.00090527744, step = 30801 (0.544 sec)\n",
      "INFO:tensorflow:global_step/sec: 189.279\n",
      "INFO:tensorflow:loss = 0.0005581054, step = 30901 (0.529 sec)\n",
      "INFO:tensorflow:global_step/sec: 186.044\n",
      "INFO:tensorflow:loss = 0.0008497734, step = 31001 (0.537 sec)\n",
      "INFO:tensorflow:global_step/sec: 178.11\n",
      "INFO:tensorflow:loss = 0.0011035136, step = 31101 (0.561 sec)\n",
      "INFO:tensorflow:global_step/sec: 186.332\n",
      "INFO:tensorflow:loss = 0.00036497877, step = 31201 (0.536 sec)\n",
      "INFO:tensorflow:global_step/sec: 192.117\n",
      "INFO:tensorflow:loss = 0.00038560346, step = 31301 (0.521 sec)\n",
      "INFO:tensorflow:global_step/sec: 195.559\n",
      "INFO:tensorflow:loss = 0.0014893779, step = 31401 (0.512 sec)\n",
      "INFO:tensorflow:global_step/sec: 194.863\n",
      "INFO:tensorflow:loss = 0.00018666606, step = 31501 (0.514 sec)\n",
      "INFO:tensorflow:global_step/sec: 191.485\n",
      "INFO:tensorflow:loss = 0.0003629315, step = 31601 (0.522 sec)\n",
      "INFO:tensorflow:global_step/sec: 195.221\n",
      "INFO:tensorflow:loss = 0.0006279463, step = 31701 (0.512 sec)\n",
      "INFO:tensorflow:global_step/sec: 193.875\n",
      "INFO:tensorflow:loss = 0.00016947203, step = 31801 (0.516 sec)\n",
      "INFO:tensorflow:global_step/sec: 195.883\n",
      "INFO:tensorflow:loss = 0.00069577637, step = 31901 (0.510 sec)\n",
      "INFO:tensorflow:global_step/sec: 198.372\n",
      "INFO:tensorflow:loss = 0.000107987384, step = 32001 (0.504 sec)\n",
      "INFO:tensorflow:global_step/sec: 191.164\n",
      "INFO:tensorflow:loss = 0.00037954433, step = 32101 (0.524 sec)\n",
      "INFO:tensorflow:global_step/sec: 191.521\n",
      "INFO:tensorflow:loss = 0.001099978, step = 32201 (0.522 sec)\n",
      "INFO:tensorflow:global_step/sec: 194.603\n",
      "INFO:tensorflow:loss = 0.00064888614, step = 32301 (0.514 sec)\n",
      "INFO:tensorflow:global_step/sec: 190.85\n",
      "INFO:tensorflow:loss = 0.0001915527, step = 32401 (0.525 sec)\n",
      "INFO:tensorflow:global_step/sec: 192.84\n",
      "INFO:tensorflow:loss = 0.00038048823, step = 32501 (0.518 sec)\n",
      "INFO:tensorflow:global_step/sec: 183.623\n",
      "INFO:tensorflow:loss = 0.0002596576, step = 32601 (0.545 sec)\n",
      "INFO:tensorflow:global_step/sec: 182.021\n",
      "INFO:tensorflow:loss = 0.00072468125, step = 32701 (0.550 sec)\n",
      "INFO:tensorflow:global_step/sec: 184.631\n",
      "INFO:tensorflow:loss = 0.0010069343, step = 32801 (0.541 sec)\n",
      "INFO:tensorflow:global_step/sec: 185.977\n",
      "INFO:tensorflow:loss = 0.00046717733, step = 32901 (0.537 sec)\n",
      "INFO:tensorflow:global_step/sec: 181.667\n",
      "INFO:tensorflow:loss = 0.00076455646, step = 33001 (0.551 sec)\n",
      "INFO:tensorflow:global_step/sec: 174.71\n",
      "INFO:tensorflow:loss = 0.0018678447, step = 33101 (0.572 sec)\n",
      "INFO:tensorflow:global_step/sec: 187.537\n",
      "INFO:tensorflow:loss = 0.0008388119, step = 33201 (0.533 sec)\n",
      "INFO:tensorflow:global_step/sec: 191.175\n",
      "INFO:tensorflow:loss = 0.00044282724, step = 33301 (0.523 sec)\n",
      "INFO:tensorflow:global_step/sec: 193.611\n",
      "INFO:tensorflow:loss = 0.0012630278, step = 33401 (0.516 sec)\n",
      "INFO:tensorflow:global_step/sec: 193.157\n",
      "INFO:tensorflow:loss = 0.00030022103, step = 33501 (0.518 sec)\n",
      "INFO:tensorflow:global_step/sec: 199.138\n",
      "INFO:tensorflow:loss = 0.0010188618, step = 33601 (0.502 sec)\n",
      "INFO:tensorflow:global_step/sec: 197.95\n",
      "INFO:tensorflow:loss = 0.0008683494, step = 33701 (0.505 sec)\n",
      "INFO:tensorflow:global_step/sec: 192.883\n",
      "INFO:tensorflow:loss = 0.00061978505, step = 33801 (0.519 sec)\n",
      "INFO:tensorflow:global_step/sec: 191.422\n",
      "INFO:tensorflow:loss = 0.00091386057, step = 33901 (0.522 sec)\n",
      "INFO:tensorflow:global_step/sec: 189.856\n",
      "INFO:tensorflow:loss = 0.00066687865, step = 34001 (0.527 sec)\n",
      "INFO:tensorflow:global_step/sec: 189.095\n",
      "INFO:tensorflow:loss = 0.00063104613, step = 34101 (0.528 sec)\n",
      "INFO:tensorflow:global_step/sec: 188.811\n",
      "INFO:tensorflow:loss = 0.0009799636, step = 34201 (0.530 sec)\n",
      "INFO:tensorflow:global_step/sec: 190.589\n",
      "INFO:tensorflow:loss = 0.00015925351, step = 34301 (0.524 sec)\n",
      "INFO:tensorflow:global_step/sec: 192.982\n"
     ]
    },
    {
     "name": "stdout",
     "output_type": "stream",
     "text": [
      "INFO:tensorflow:loss = 0.00045971244, step = 34401 (0.518 sec)\n",
      "INFO:tensorflow:global_step/sec: 175.104\n",
      "INFO:tensorflow:loss = 0.00044455295, step = 34501 (0.572 sec)\n",
      "INFO:tensorflow:global_step/sec: 193.858\n",
      "INFO:tensorflow:loss = 0.00044466252, step = 34601 (0.516 sec)\n",
      "INFO:tensorflow:global_step/sec: 193.548\n",
      "INFO:tensorflow:loss = 0.0011918601, step = 34701 (0.518 sec)\n",
      "INFO:tensorflow:global_step/sec: 196.601\n",
      "INFO:tensorflow:loss = 0.00051900785, step = 34801 (0.507 sec)\n",
      "INFO:tensorflow:global_step/sec: 174.821\n",
      "INFO:tensorflow:loss = 0.00081682176, step = 34901 (0.572 sec)\n",
      "INFO:tensorflow:global_step/sec: 187.088\n",
      "INFO:tensorflow:loss = 0.00024718867, step = 35001 (0.535 sec)\n",
      "INFO:tensorflow:global_step/sec: 188.456\n",
      "INFO:tensorflow:loss = 0.00078266335, step = 35101 (0.531 sec)\n",
      "INFO:tensorflow:global_step/sec: 184.359\n",
      "INFO:tensorflow:loss = 0.00027287603, step = 35201 (0.542 sec)\n",
      "INFO:tensorflow:global_step/sec: 182.746\n",
      "INFO:tensorflow:loss = 0.00011141401, step = 35301 (0.547 sec)\n",
      "INFO:tensorflow:global_step/sec: 184.89\n",
      "INFO:tensorflow:loss = 0.0011833052, step = 35401 (0.540 sec)\n",
      "INFO:tensorflow:global_step/sec: 188.822\n",
      "INFO:tensorflow:loss = 0.00029083752, step = 35501 (0.530 sec)\n",
      "INFO:tensorflow:global_step/sec: 184.864\n",
      "INFO:tensorflow:loss = 0.00035789184, step = 35601 (0.541 sec)\n",
      "INFO:tensorflow:global_step/sec: 186.167\n",
      "INFO:tensorflow:loss = 0.0008509699, step = 35701 (0.537 sec)\n",
      "INFO:tensorflow:global_step/sec: 191.109\n",
      "INFO:tensorflow:loss = 0.00065886194, step = 35801 (0.524 sec)\n",
      "INFO:tensorflow:global_step/sec: 190.926\n",
      "INFO:tensorflow:loss = 0.00038366258, step = 35901 (0.523 sec)\n",
      "INFO:tensorflow:global_step/sec: 191.875\n",
      "INFO:tensorflow:loss = 0.00032145472, step = 36001 (0.521 sec)\n",
      "INFO:tensorflow:global_step/sec: 191.681\n",
      "INFO:tensorflow:loss = 0.0010599585, step = 36101 (0.522 sec)\n",
      "INFO:tensorflow:global_step/sec: 191.509\n",
      "INFO:tensorflow:loss = 0.0008409923, step = 36201 (0.522 sec)\n",
      "INFO:tensorflow:global_step/sec: 196.831\n",
      "INFO:tensorflow:loss = 0.0002888515, step = 36301 (0.508 sec)\n",
      "INFO:tensorflow:global_step/sec: 190.728\n",
      "INFO:tensorflow:loss = 0.00071916805, step = 36401 (0.525 sec)\n",
      "INFO:tensorflow:global_step/sec: 187.844\n",
      "INFO:tensorflow:loss = 0.00020691926, step = 36501 (0.532 sec)\n",
      "INFO:tensorflow:global_step/sec: 191.958\n",
      "INFO:tensorflow:loss = 0.00027509945, step = 36601 (0.521 sec)\n",
      "INFO:tensorflow:global_step/sec: 190.924\n",
      "INFO:tensorflow:loss = 0.00037491042, step = 36701 (0.524 sec)\n",
      "INFO:tensorflow:global_step/sec: 193.068\n",
      "INFO:tensorflow:loss = 0.0008208755, step = 36801 (0.517 sec)\n",
      "INFO:tensorflow:global_step/sec: 191.091\n",
      "INFO:tensorflow:loss = 0.0004767351, step = 36901 (0.524 sec)\n",
      "INFO:tensorflow:global_step/sec: 194.681\n",
      "INFO:tensorflow:loss = 0.0006762115, step = 37001 (0.514 sec)\n",
      "INFO:tensorflow:global_step/sec: 191.721\n",
      "INFO:tensorflow:loss = 0.00015931836, step = 37101 (0.521 sec)\n",
      "INFO:tensorflow:global_step/sec: 197.045\n",
      "INFO:tensorflow:loss = 0.00020011392, step = 37201 (0.508 sec)\n",
      "INFO:tensorflow:global_step/sec: 194.489\n",
      "INFO:tensorflow:loss = 0.000522965, step = 37301 (0.514 sec)\n",
      "INFO:tensorflow:global_step/sec: 192.172\n",
      "INFO:tensorflow:loss = 0.00033184924, step = 37401 (0.521 sec)\n",
      "INFO:tensorflow:global_step/sec: 194.14\n",
      "INFO:tensorflow:loss = 0.0003030981, step = 37501 (0.514 sec)\n",
      "INFO:tensorflow:global_step/sec: 200.208\n",
      "INFO:tensorflow:loss = 0.00029207818, step = 37601 (0.499 sec)\n",
      "INFO:tensorflow:global_step/sec: 195.33\n",
      "INFO:tensorflow:loss = 0.00010088074, step = 37701 (0.512 sec)\n",
      "INFO:tensorflow:global_step/sec: 191.966\n",
      "INFO:tensorflow:loss = 0.0005623324, step = 37801 (0.521 sec)\n",
      "INFO:tensorflow:global_step/sec: 187.181\n",
      "INFO:tensorflow:loss = 0.0012679934, step = 37901 (0.535 sec)\n",
      "INFO:tensorflow:global_step/sec: 189.994\n",
      "INFO:tensorflow:loss = 0.00023988036, step = 38001 (0.526 sec)\n",
      "INFO:tensorflow:global_step/sec: 185.397\n",
      "INFO:tensorflow:loss = 0.0009628188, step = 38101 (0.540 sec)\n",
      "INFO:tensorflow:global_step/sec: 190.729\n",
      "INFO:tensorflow:loss = 0.00075375923, step = 38201 (0.524 sec)\n",
      "INFO:tensorflow:global_step/sec: 185.898\n",
      "INFO:tensorflow:loss = 5.201309e-05, step = 38301 (0.538 sec)\n",
      "INFO:tensorflow:global_step/sec: 186.004\n",
      "INFO:tensorflow:loss = 0.0001447263, step = 38401 (0.538 sec)\n",
      "INFO:tensorflow:global_step/sec: 185.598\n",
      "INFO:tensorflow:loss = 0.00048281782, step = 38501 (0.540 sec)\n",
      "INFO:tensorflow:global_step/sec: 183.507\n",
      "INFO:tensorflow:loss = 0.0006929399, step = 38601 (0.545 sec)\n",
      "INFO:tensorflow:global_step/sec: 183.993\n",
      "INFO:tensorflow:loss = 0.00047826298, step = 38701 (0.543 sec)\n",
      "INFO:tensorflow:global_step/sec: 181.62\n",
      "INFO:tensorflow:loss = 0.000107039625, step = 38801 (0.551 sec)\n",
      "INFO:tensorflow:global_step/sec: 187.517\n",
      "INFO:tensorflow:loss = 0.0014529624, step = 38901 (0.533 sec)\n",
      "INFO:tensorflow:global_step/sec: 189.296\n",
      "INFO:tensorflow:loss = 0.00012663152, step = 39001 (0.529 sec)\n",
      "INFO:tensorflow:global_step/sec: 192.644\n",
      "INFO:tensorflow:loss = 0.0007393785, step = 39101 (0.518 sec)\n",
      "INFO:tensorflow:global_step/sec: 186.364\n",
      "INFO:tensorflow:loss = 0.000313206, step = 39201 (0.537 sec)\n",
      "INFO:tensorflow:global_step/sec: 179.88\n",
      "INFO:tensorflow:loss = 0.00038481157, step = 39301 (0.556 sec)\n",
      "INFO:tensorflow:global_step/sec: 192.221\n",
      "INFO:tensorflow:loss = 0.00039340288, step = 39401 (0.520 sec)\n",
      "INFO:tensorflow:global_step/sec: 191.922\n",
      "INFO:tensorflow:loss = 0.00014865064, step = 39501 (0.521 sec)\n",
      "INFO:tensorflow:global_step/sec: 177.899\n",
      "INFO:tensorflow:loss = 0.00063251075, step = 39601 (0.562 sec)\n",
      "INFO:tensorflow:global_step/sec: 187.945\n",
      "INFO:tensorflow:loss = 0.00015449857, step = 39701 (0.533 sec)\n",
      "INFO:tensorflow:global_step/sec: 192.865\n",
      "INFO:tensorflow:loss = 0.001136457, step = 39801 (0.518 sec)\n",
      "INFO:tensorflow:global_step/sec: 195.07\n",
      "INFO:tensorflow:loss = 0.00084911135, step = 39901 (0.513 sec)\n",
      "INFO:tensorflow:Saving checkpoints for 40000 into /var/folders/23/mg281cys48n4dvql2mw8hl480000gn/T/tmpgc7n74k7/model.ckpt.\n",
      "INFO:tensorflow:Loss for final step: 0.00036243483.\n",
      "CPU times: user 12min, sys: 1min 36s, total: 13min 36s\n",
      "Wall time: 3min 41s\n"
     ]
    }
   ],
   "source": [
    "%%time\n",
    "\n",
    "# Wall time: 2min 25s\n",
    "\n",
    "config = tf.contrib.learn.RunConfig(tf_random_seed=42) # 책에는 없음\n",
    "\n",
    "feature_cols = tf.contrib.learn.infer_real_valued_columns_from_input(X_train)\n",
    "dnn_clf = tf.contrib.learn.DNNClassifier(hidden_units=[300,100], n_classes=10,\n",
    "                                         feature_columns=feature_cols, config=config)\n",
    "dnn_clf = tf.contrib.learn.SKCompat(dnn_clf) # if TensorFlow >= 1.1\n",
    "tf.logging.set_verbosity(tf.logging.INFO)\n",
    "dnn_clf.fit(X_train, y_train, batch_size=50, steps=40000)"
   ]
  },
  {
   "cell_type": "code",
   "execution_count": 21,
   "metadata": {},
   "outputs": [
    {
     "name": "stdout",
     "output_type": "stream",
     "text": [
      "INFO:tensorflow:Graph was finalized.\n",
      "INFO:tensorflow:Restoring parameters from /var/folders/23/mg281cys48n4dvql2mw8hl480000gn/T/tmpgc7n74k7/model.ckpt-40000\n",
      "INFO:tensorflow:Running local_init_op.\n",
      "INFO:tensorflow:Done running local_init_op.\n"
     ]
    },
    {
     "data": {
      "text/plain": [
       "0.9837"
      ]
     },
     "execution_count": 21,
     "metadata": {},
     "output_type": "execute_result"
    }
   ],
   "source": [
    "from sklearn.metrics import accuracy_score\n",
    "\n",
    "y_pred = dnn_clf.predict(X_test)\n",
    "accuracy_score(y_test, y_pred['classes'])"
   ]
  },
  {
   "cell_type": "code",
   "execution_count": 22,
   "metadata": {},
   "outputs": [
    {
     "data": {
      "text/plain": [
       "0.07221418322655018"
      ]
     },
     "execution_count": 22,
     "metadata": {},
     "output_type": "execute_result"
    }
   ],
   "source": [
    "from sklearn.metrics import log_loss\n",
    "\n",
    "y_pred_proba = y_pred['probabilities']\n",
    "log_loss(y_test, y_pred_proba)"
   ]
  },
  {
   "cell_type": "markdown",
   "metadata": {
    "collapsed": true
   },
   "source": [
    "## 저수준의 TensorFlow API 사용"
   ]
  },
  {
   "cell_type": "code",
   "execution_count": 23,
   "metadata": {},
   "outputs": [],
   "source": [
    "import tensorflow as tf\n",
    "\n",
    "n_inputs = 28*28  # MNIST\n",
    "n_hidden1 = 300\n",
    "n_hidden2 = 100\n",
    "n_outputs = 10"
   ]
  },
  {
   "cell_type": "code",
   "execution_count": 24,
   "metadata": {},
   "outputs": [],
   "source": [
    "reset_graph()\n",
    "\n",
    "X = tf.placeholder(tf.float32, shape=(None, n_inputs), name=\"X\")\n",
    "y = tf.placeholder(tf.int32, shape=(None), name=\"y\")"
   ]
  },
  {
   "cell_type": "code",
   "execution_count": 25,
   "metadata": {},
   "outputs": [],
   "source": [
    "def neuron_layer(X, n_neurons, name, activation=None):\n",
    "    with tf.name_scope(name):\n",
    "        n_inputs = int(X.get_shape()[1])\n",
    "        stddev = 2 / np.sqrt(n_inputs)\n",
    "        init = tf.truncated_normal((n_inputs, n_neurons), stddev=stddev)\n",
    "        W = tf.Variable(init, name=\"kernel\")\n",
    "        b = tf.Variable(tf.zeros([n_neurons]), name=\"bias\")\n",
    "        Z = tf.matmul(X, W) + b\n",
    "        if activation is not None:\n",
    "            return activation(Z)\n",
    "        else:\n",
    "            return Z"
   ]
  },
  {
   "cell_type": "code",
   "execution_count": 26,
   "metadata": {},
   "outputs": [],
   "source": [
    "with tf.name_scope(\"dnn\"):\n",
    "    hidden1 = neuron_layer(X, n_hidden1, name=\"hidden1\",\n",
    "                           activation=tf.nn.relu)\n",
    "    hidden2 = neuron_layer(hidden1, n_hidden2, name=\"hidden2\",\n",
    "                           activation=tf.nn.relu)\n",
    "    logits = neuron_layer(hidden2, n_outputs, name=\"outputs\")"
   ]
  },
  {
   "cell_type": "code",
   "execution_count": 27,
   "metadata": {},
   "outputs": [],
   "source": [
    "with tf.name_scope(\"loss\"):\n",
    "    xentropy = tf.nn.sparse_softmax_cross_entropy_with_logits(labels=y,\n",
    "                                                              logits=logits)\n",
    "    loss = tf.reduce_mean(xentropy, name=\"loss\")"
   ]
  },
  {
   "cell_type": "code",
   "execution_count": 28,
   "metadata": {},
   "outputs": [],
   "source": [
    "learning_rate = 0.01\n",
    "\n",
    "with tf.name_scope(\"train\"):\n",
    "    optimizer = tf.train.GradientDescentOptimizer(learning_rate)\n",
    "    training_op = optimizer.minimize(loss)"
   ]
  },
  {
   "cell_type": "code",
   "execution_count": 29,
   "metadata": {},
   "outputs": [],
   "source": [
    "with tf.name_scope(\"eval\"):\n",
    "    correct = tf.nn.in_top_k(logits, y, 1)\n",
    "    accuracy = tf.reduce_mean(tf.cast(correct, tf.float32))"
   ]
  },
  {
   "cell_type": "code",
   "execution_count": 30,
   "metadata": {},
   "outputs": [],
   "source": [
    "init = tf.global_variables_initializer()\n",
    "saver = tf.train.Saver()"
   ]
  },
  {
   "cell_type": "code",
   "execution_count": 31,
   "metadata": {},
   "outputs": [],
   "source": [
    "n_epochs = 40\n",
    "batch_size = 50"
   ]
  },
  {
   "cell_type": "code",
   "execution_count": 32,
   "metadata": {},
   "outputs": [],
   "source": [
    "def shuffle_batch(X, y, batch_size):\n",
    "    rnd_idx = np.random.permutation(len(X))\n",
    "    n_batches = len(X) // batch_size\n",
    "    for batch_idx in np.array_split(rnd_idx, n_batches):\n",
    "        X_batch, y_batch = X[batch_idx], y[batch_idx]\n",
    "        yield X_batch, y_batch"
   ]
  },
  {
   "cell_type": "code",
   "execution_count": 33,
   "metadata": {
    "scrolled": true
   },
   "outputs": [
    {
     "name": "stderr",
     "output_type": "stream",
     "text": [
      "  2%|▎         | 1/40 [00:03<02:24,  3.70s/it]"
     ]
    },
    {
     "name": "stdout",
     "output_type": "stream",
     "text": [
      "0 배치 데이터 정확도: 0.9 검증 세트 정확도: 0.9148\n"
     ]
    },
    {
     "name": "stderr",
     "output_type": "stream",
     "text": [
      "\r",
      "  5%|▌         | 2/40 [00:07<02:18,  3.65s/it]"
     ]
    },
    {
     "name": "stdout",
     "output_type": "stream",
     "text": [
      "1 배치 데이터 정확도: 0.92 검증 세트 정확도: 0.9358\n"
     ]
    },
    {
     "name": "stderr",
     "output_type": "stream",
     "text": [
      "\r",
      "  8%|▊         | 3/40 [00:10<02:13,  3.62s/it]"
     ]
    },
    {
     "name": "stdout",
     "output_type": "stream",
     "text": [
      "2 배치 데이터 정확도: 0.96 검증 세트 정확도: 0.9448\n"
     ]
    },
    {
     "name": "stderr",
     "output_type": "stream",
     "text": [
      "\r",
      " 10%|█         | 4/40 [00:14<02:09,  3.59s/it]"
     ]
    },
    {
     "name": "stdout",
     "output_type": "stream",
     "text": [
      "3 배치 데이터 정확도: 0.92 검증 세트 정확도: 0.9512\n"
     ]
    },
    {
     "name": "stderr",
     "output_type": "stream",
     "text": [
      "\r",
      " 12%|█▎        | 5/40 [00:17<02:03,  3.54s/it]"
     ]
    },
    {
     "name": "stdout",
     "output_type": "stream",
     "text": [
      "4 배치 데이터 정확도: 0.98 검증 세트 정확도: 0.9558\n"
     ]
    },
    {
     "name": "stderr",
     "output_type": "stream",
     "text": [
      "\r",
      " 15%|█▌        | 6/40 [00:21<02:02,  3.59s/it]"
     ]
    },
    {
     "name": "stdout",
     "output_type": "stream",
     "text": [
      "5 배치 데이터 정확도: 0.96 검증 세트 정확도: 0.9568\n"
     ]
    },
    {
     "name": "stderr",
     "output_type": "stream",
     "text": [
      "\r",
      " 18%|█▊        | 7/40 [00:24<01:57,  3.57s/it]"
     ]
    },
    {
     "name": "stdout",
     "output_type": "stream",
     "text": [
      "6 배치 데이터 정확도: 1.0 검증 세트 정확도: 0.9614\n"
     ]
    },
    {
     "name": "stderr",
     "output_type": "stream",
     "text": [
      "\r",
      " 20%|██        | 8/40 [00:28<01:54,  3.56s/it]"
     ]
    },
    {
     "name": "stdout",
     "output_type": "stream",
     "text": [
      "7 배치 데이터 정확도: 0.94 검증 세트 정확도: 0.963\n"
     ]
    },
    {
     "name": "stderr",
     "output_type": "stream",
     "text": [
      "\r",
      " 22%|██▎       | 9/40 [00:32<01:50,  3.55s/it]"
     ]
    },
    {
     "name": "stdout",
     "output_type": "stream",
     "text": [
      "8 배치 데이터 정확도: 0.98 검증 세트 정확도: 0.965\n"
     ]
    },
    {
     "name": "stderr",
     "output_type": "stream",
     "text": [
      "\r",
      " 25%|██▌       | 10/40 [00:35<01:46,  3.55s/it]"
     ]
    },
    {
     "name": "stdout",
     "output_type": "stream",
     "text": [
      "9 배치 데이터 정확도: 0.96 검증 세트 정확도: 0.9662\n"
     ]
    },
    {
     "name": "stderr",
     "output_type": "stream",
     "text": [
      "\r",
      " 28%|██▊       | 11/40 [00:39<01:43,  3.57s/it]"
     ]
    },
    {
     "name": "stdout",
     "output_type": "stream",
     "text": [
      "10 배치 데이터 정확도: 0.92 검증 세트 정확도: 0.9686\n"
     ]
    },
    {
     "name": "stderr",
     "output_type": "stream",
     "text": [
      "\r",
      " 30%|███       | 12/40 [00:42<01:38,  3.53s/it]"
     ]
    },
    {
     "name": "stdout",
     "output_type": "stream",
     "text": [
      "11 배치 데이터 정확도: 0.98 검증 세트 정확도: 0.9688\n"
     ]
    },
    {
     "name": "stderr",
     "output_type": "stream",
     "text": [
      "\r",
      " 32%|███▎      | 13/40 [00:46<01:35,  3.52s/it]"
     ]
    },
    {
     "name": "stdout",
     "output_type": "stream",
     "text": [
      "12 배치 데이터 정확도: 0.98 검증 세트 정확도: 0.9666\n"
     ]
    },
    {
     "name": "stderr",
     "output_type": "stream",
     "text": [
      "\r",
      " 35%|███▌      | 14/40 [00:49<01:31,  3.53s/it]"
     ]
    },
    {
     "name": "stdout",
     "output_type": "stream",
     "text": [
      "13 배치 데이터 정확도: 0.98 검증 세트 정확도: 0.9704\n"
     ]
    },
    {
     "name": "stderr",
     "output_type": "stream",
     "text": [
      "\r",
      " 38%|███▊      | 15/40 [00:53<01:28,  3.54s/it]"
     ]
    },
    {
     "name": "stdout",
     "output_type": "stream",
     "text": [
      "14 배치 데이터 정확도: 1.0 검증 세트 정확도: 0.9714\n"
     ]
    },
    {
     "name": "stderr",
     "output_type": "stream",
     "text": [
      "\r",
      " 40%|████      | 16/40 [00:56<01:25,  3.55s/it]"
     ]
    },
    {
     "name": "stdout",
     "output_type": "stream",
     "text": [
      "15 배치 데이터 정확도: 0.94 검증 세트 정확도: 0.9734\n"
     ]
    },
    {
     "name": "stderr",
     "output_type": "stream",
     "text": [
      "\r",
      " 42%|████▎     | 17/40 [01:00<01:21,  3.55s/it]"
     ]
    },
    {
     "name": "stdout",
     "output_type": "stream",
     "text": [
      "16 배치 데이터 정확도: 1.0 검증 세트 정확도: 0.9736\n"
     ]
    },
    {
     "name": "stderr",
     "output_type": "stream",
     "text": [
      "\r",
      " 45%|████▌     | 18/40 [01:03<01:17,  3.54s/it]"
     ]
    },
    {
     "name": "stdout",
     "output_type": "stream",
     "text": [
      "17 배치 데이터 정확도: 1.0 검증 세트 정확도: 0.9742\n"
     ]
    },
    {
     "name": "stderr",
     "output_type": "stream",
     "text": [
      "\r",
      " 48%|████▊     | 19/40 [01:07<01:14,  3.54s/it]"
     ]
    },
    {
     "name": "stdout",
     "output_type": "stream",
     "text": [
      "18 배치 데이터 정확도: 1.0 검증 세트 정확도: 0.9748\n"
     ]
    },
    {
     "name": "stderr",
     "output_type": "stream",
     "text": [
      "\r",
      " 50%|█████     | 20/40 [01:11<01:12,  3.60s/it]"
     ]
    },
    {
     "name": "stdout",
     "output_type": "stream",
     "text": [
      "19 배치 데이터 정확도: 0.98 검증 세트 정확도: 0.9746\n"
     ]
    },
    {
     "name": "stderr",
     "output_type": "stream",
     "text": [
      "\r",
      " 52%|█████▎    | 21/40 [01:14<01:09,  3.64s/it]"
     ]
    },
    {
     "name": "stdout",
     "output_type": "stream",
     "text": [
      "20 배치 데이터 정확도: 1.0 검증 세트 정확도: 0.9754\n"
     ]
    },
    {
     "name": "stderr",
     "output_type": "stream",
     "text": [
      "\r",
      " 55%|█████▌    | 22/40 [01:18<01:05,  3.62s/it]"
     ]
    },
    {
     "name": "stdout",
     "output_type": "stream",
     "text": [
      "21 배치 데이터 정확도: 1.0 검증 세트 정확도: 0.9758\n"
     ]
    },
    {
     "name": "stderr",
     "output_type": "stream",
     "text": [
      "\r",
      " 57%|█████▊    | 23/40 [01:21<01:00,  3.59s/it]"
     ]
    },
    {
     "name": "stdout",
     "output_type": "stream",
     "text": [
      "22 배치 데이터 정확도: 0.98 검증 세트 정확도: 0.9764\n"
     ]
    },
    {
     "name": "stderr",
     "output_type": "stream",
     "text": [
      "\r",
      " 60%|██████    | 24/40 [01:25<00:57,  3.58s/it]"
     ]
    },
    {
     "name": "stdout",
     "output_type": "stream",
     "text": [
      "23 배치 데이터 정확도: 0.98 검증 세트 정확도: 0.9754\n"
     ]
    },
    {
     "name": "stderr",
     "output_type": "stream",
     "text": [
      "\r",
      " 62%|██████▎   | 25/40 [01:29<00:53,  3.56s/it]"
     ]
    },
    {
     "name": "stdout",
     "output_type": "stream",
     "text": [
      "24 배치 데이터 정확도: 0.98 검증 세트 정확도: 0.977\n"
     ]
    },
    {
     "name": "stderr",
     "output_type": "stream",
     "text": [
      "\r",
      " 65%|██████▌   | 26/40 [01:32<00:49,  3.55s/it]"
     ]
    },
    {
     "name": "stdout",
     "output_type": "stream",
     "text": [
      "25 배치 데이터 정확도: 1.0 검증 세트 정확도: 0.977\n"
     ]
    },
    {
     "name": "stderr",
     "output_type": "stream",
     "text": [
      "\r",
      " 68%|██████▊   | 27/40 [01:36<00:46,  3.59s/it]"
     ]
    },
    {
     "name": "stdout",
     "output_type": "stream",
     "text": [
      "26 배치 데이터 정확도: 0.98 검증 세트 정확도: 0.978\n"
     ]
    },
    {
     "name": "stderr",
     "output_type": "stream",
     "text": [
      "\r",
      " 70%|███████   | 28/40 [01:39<00:43,  3.60s/it]"
     ]
    },
    {
     "name": "stdout",
     "output_type": "stream",
     "text": [
      "27 배치 데이터 정확도: 1.0 검증 세트 정확도: 0.9772\n"
     ]
    },
    {
     "name": "stderr",
     "output_type": "stream",
     "text": [
      "\r",
      " 72%|███████▎  | 29/40 [01:43<00:39,  3.56s/it]"
     ]
    },
    {
     "name": "stdout",
     "output_type": "stream",
     "text": [
      "28 배치 데이터 정확도: 0.96 검증 세트 정확도: 0.9756\n"
     ]
    },
    {
     "name": "stderr",
     "output_type": "stream",
     "text": [
      "\r",
      " 75%|███████▌  | 30/40 [01:46<00:35,  3.55s/it]"
     ]
    },
    {
     "name": "stdout",
     "output_type": "stream",
     "text": [
      "29 배치 데이터 정확도: 0.98 검증 세트 정확도: 0.978\n"
     ]
    },
    {
     "name": "stderr",
     "output_type": "stream",
     "text": [
      "\r",
      " 78%|███████▊  | 31/40 [01:50<00:31,  3.54s/it]"
     ]
    },
    {
     "name": "stdout",
     "output_type": "stream",
     "text": [
      "30 배치 데이터 정확도: 1.0 검증 세트 정확도: 0.9754\n"
     ]
    },
    {
     "name": "stderr",
     "output_type": "stream",
     "text": [
      "\r",
      " 80%|████████  | 32/40 [01:53<00:28,  3.54s/it]"
     ]
    },
    {
     "name": "stdout",
     "output_type": "stream",
     "text": [
      "31 배치 데이터 정확도: 0.98 검증 세트 정확도: 0.9772\n"
     ]
    },
    {
     "name": "stderr",
     "output_type": "stream",
     "text": [
      "\r",
      " 82%|████████▎ | 33/40 [01:57<00:24,  3.53s/it]"
     ]
    },
    {
     "name": "stdout",
     "output_type": "stream",
     "text": [
      "32 배치 데이터 정확도: 0.98 검증 세트 정확도: 0.9776\n"
     ]
    },
    {
     "name": "stderr",
     "output_type": "stream",
     "text": [
      "\r",
      " 85%|████████▌ | 34/40 [02:00<00:21,  3.51s/it]"
     ]
    },
    {
     "name": "stdout",
     "output_type": "stream",
     "text": [
      "33 배치 데이터 정확도: 0.98 검증 세트 정확도: 0.9794\n"
     ]
    },
    {
     "name": "stderr",
     "output_type": "stream",
     "text": [
      "\r",
      " 88%|████████▊ | 35/40 [02:04<00:17,  3.54s/it]"
     ]
    },
    {
     "name": "stdout",
     "output_type": "stream",
     "text": [
      "34 배치 데이터 정확도: 1.0 검증 세트 정확도: 0.9786\n"
     ]
    },
    {
     "name": "stderr",
     "output_type": "stream",
     "text": [
      "\r",
      " 90%|█████████ | 36/40 [02:08<00:14,  3.54s/it]"
     ]
    },
    {
     "name": "stdout",
     "output_type": "stream",
     "text": [
      "35 배치 데이터 정확도: 1.0 검증 세트 정확도: 0.9782\n"
     ]
    },
    {
     "name": "stderr",
     "output_type": "stream",
     "text": [
      "\r",
      " 92%|█████████▎| 37/40 [02:11<00:10,  3.54s/it]"
     ]
    },
    {
     "name": "stdout",
     "output_type": "stream",
     "text": [
      "36 배치 데이터 정확도: 0.98 검증 세트 정확도: 0.9784\n"
     ]
    },
    {
     "name": "stderr",
     "output_type": "stream",
     "text": [
      "\r",
      " 95%|█████████▌| 38/40 [02:15<00:07,  3.55s/it]"
     ]
    },
    {
     "name": "stdout",
     "output_type": "stream",
     "text": [
      "37 배치 데이터 정확도: 1.0 검증 세트 정확도: 0.978\n"
     ]
    },
    {
     "name": "stderr",
     "output_type": "stream",
     "text": [
      "\r",
      " 98%|█████████▊| 39/40 [02:18<00:03,  3.55s/it]"
     ]
    },
    {
     "name": "stdout",
     "output_type": "stream",
     "text": [
      "38 배치 데이터 정확도: 1.0 검증 세트 정확도: 0.9794\n"
     ]
    },
    {
     "name": "stderr",
     "output_type": "stream",
     "text": [
      "\r",
      "100%|██████████| 40/40 [02:22<00:00,  3.56s/it]"
     ]
    },
    {
     "name": "stdout",
     "output_type": "stream",
     "text": [
      "39 배치 데이터 정확도: 1.0 검증 세트 정확도: 0.978\n",
      "CPU times: user 7min 52s, sys: 1min 56s, total: 9min 49s\n",
      "Wall time: 2min 22s\n"
     ]
    },
    {
     "name": "stderr",
     "output_type": "stream",
     "text": [
      "\n"
     ]
    }
   ],
   "source": [
    "%%time\n",
    "\n",
    "# Wall time: 1min 21s\n",
    "\n",
    "with tf.Session() as sess:\n",
    "    init.run()\n",
    "    #for epoch in range(n_epochs):\n",
    "    for epoch in trange(n_epochs):\n",
    "        for X_batch, y_batch in shuffle_batch(X_train, y_train, batch_size):\n",
    "            sess.run(training_op, feed_dict={X: X_batch, y: y_batch})\n",
    "        acc_batch = accuracy.eval(feed_dict={X: X_batch, y: y_batch})\n",
    "        acc_valid = accuracy.eval(feed_dict={X: X_valid, y: y_valid})\n",
    "        print(epoch, \"배치 데이터 정확도:\", acc_batch, \"검증 세트 정확도:\", acc_valid)\n",
    "\n",
    "    save_path = saver.save(sess, \"./my_model_final.ckpt\")"
   ]
  },
  {
   "cell_type": "code",
   "execution_count": 34,
   "metadata": {},
   "outputs": [
    {
     "name": "stdout",
     "output_type": "stream",
     "text": [
      "INFO:tensorflow:Restoring parameters from ./my_model_final.ckpt\n",
      "CPU times: user 121 ms, sys: 10.2 ms, total: 131 ms\n",
      "Wall time: 128 ms\n"
     ]
    }
   ],
   "source": [
    "%%time\n",
    "\n",
    "with tf.Session() as sess:\n",
    "    saver.restore(sess, \"./my_model_final.ckpt\") # 또는 save_path를 사용합니다\n",
    "    X_new_scaled = X_test[:20]\n",
    "    Z = logits.eval(feed_dict={X: X_new_scaled})\n",
    "    y_pred = np.argmax(Z, axis=1)"
   ]
  },
  {
   "cell_type": "code",
   "execution_count": 35,
   "metadata": {},
   "outputs": [
    {
     "name": "stdout",
     "output_type": "stream",
     "text": [
      "예측 클래스: [7 2 1 0 4 1 4 9 6 9 0 6 9 0 1 5 9 7 3 4]\n",
      "진짜 클래스: [7 2 1 0 4 1 4 9 5 9 0 6 9 0 1 5 9 7 3 4]\n"
     ]
    }
   ],
   "source": [
    "print(\"예측 클래스:\", y_pred)\n",
    "print(\"진짜 클래스:\", y_test[:20])"
   ]
  },
  {
   "cell_type": "code",
   "execution_count": 36,
   "metadata": {},
   "outputs": [],
   "source": [
    "from tensorflow_graph_in_jupyter import show_graph"
   ]
  },
  {
   "cell_type": "code",
   "execution_count": 37,
   "metadata": {
    "scrolled": false
   },
   "outputs": [
    {
     "data": {
      "text/html": [
       "\n",
       "        <iframe seamless style=\"width:1200px;height:620px;border:0\" srcdoc=\"\n",
       "        <script src=&quot;//cdnjs.cloudflare.com/ajax/libs/polymer/0.3.3/platform.js&quot;></script>\n",
       "        <script>\n",
       "          function load() {\n",
       "            document.getElementById(&quot;graph0.2851015593374667&quot;).pbtxt = 'node {\\n  name: &quot;X&quot;\\n  op: &quot;Placeholder&quot;\\n  attr {\\n    key: &quot;dtype&quot;\\n    value {\\n      type: DT_FLOAT\\n    }\\n  }\\n  attr {\\n    key: &quot;shape&quot;\\n    value {\\n      shape {\\n        dim {\\n          size: -1\\n        }\\n        dim {\\n          size: 784\\n        }\\n      }\\n    }\\n  }\\n}\\nnode {\\n  name: &quot;y&quot;\\n  op: &quot;Placeholder&quot;\\n  attr {\\n    key: &quot;dtype&quot;\\n    value {\\n      type: DT_INT32\\n    }\\n  }\\n  attr {\\n    key: &quot;shape&quot;\\n    value {\\n      shape {\\n        unknown_rank: true\\n      }\\n    }\\n  }\\n}\\nnode {\\n  name: &quot;dnn/hidden1/truncated_normal/shape&quot;\\n  op: &quot;Const&quot;\\n  attr {\\n    key: &quot;dtype&quot;\\n    value {\\n      type: DT_INT32\\n    }\\n  }\\n  attr {\\n    key: &quot;value&quot;\\n    value {\\n      tensor {\\n        dtype: DT_INT32\\n        tensor_shape {\\n          dim {\\n            size: 2\\n          }\\n        }\\n        tensor_content: &quot;\\\\020\\\\003\\\\000\\\\000,\\\\001\\\\000\\\\000&quot;\\n      }\\n    }\\n  }\\n}\\nnode {\\n  name: &quot;dnn/hidden1/truncated_normal/mean&quot;\\n  op: &quot;Const&quot;\\n  attr {\\n    key: &quot;dtype&quot;\\n    value {\\n      type: DT_FLOAT\\n    }\\n  }\\n  attr {\\n    key: &quot;value&quot;\\n    value {\\n      tensor {\\n        dtype: DT_FLOAT\\n        tensor_shape {\\n        }\\n        float_val: 0.0\\n      }\\n    }\\n  }\\n}\\nnode {\\n  name: &quot;dnn/hidden1/truncated_normal/stddev&quot;\\n  op: &quot;Const&quot;\\n  attr {\\n    key: &quot;dtype&quot;\\n    value {\\n      type: DT_FLOAT\\n    }\\n  }\\n  attr {\\n    key: &quot;value&quot;\\n    value {\\n      tensor {\\n        dtype: DT_FLOAT\\n        tensor_shape {\\n        }\\n        float_val: 0.0714285746216774\\n      }\\n    }\\n  }\\n}\\nnode {\\n  name: &quot;dnn/hidden1/truncated_normal/TruncatedNormal&quot;\\n  op: &quot;TruncatedNormal&quot;\\n  input: &quot;dnn/hidden1/truncated_normal/shape&quot;\\n  attr {\\n    key: &quot;T&quot;\\n    value {\\n      type: DT_INT32\\n    }\\n  }\\n  attr {\\n    key: &quot;dtype&quot;\\n    value {\\n      type: DT_FLOAT\\n    }\\n  }\\n  attr {\\n    key: &quot;seed&quot;\\n    value {\\n      i: 42\\n    }\\n  }\\n  attr {\\n    key: &quot;seed2&quot;\\n    value {\\n      i: 5\\n    }\\n  }\\n}\\nnode {\\n  name: &quot;dnn/hidden1/truncated_normal/mul&quot;\\n  op: &quot;Mul&quot;\\n  input: &quot;dnn/hidden1/truncated_normal/TruncatedNormal&quot;\\n  input: &quot;dnn/hidden1/truncated_normal/stddev&quot;\\n  attr {\\n    key: &quot;T&quot;\\n    value {\\n      type: DT_FLOAT\\n    }\\n  }\\n}\\nnode {\\n  name: &quot;dnn/hidden1/truncated_normal&quot;\\n  op: &quot;Add&quot;\\n  input: &quot;dnn/hidden1/truncated_normal/mul&quot;\\n  input: &quot;dnn/hidden1/truncated_normal/mean&quot;\\n  attr {\\n    key: &quot;T&quot;\\n    value {\\n      type: DT_FLOAT\\n    }\\n  }\\n}\\nnode {\\n  name: &quot;dnn/hidden1/kernel&quot;\\n  op: &quot;VariableV2&quot;\\n  attr {\\n    key: &quot;container&quot;\\n    value {\\n      s: &quot;&quot;\\n    }\\n  }\\n  attr {\\n    key: &quot;dtype&quot;\\n    value {\\n      type: DT_FLOAT\\n    }\\n  }\\n  attr {\\n    key: &quot;shape&quot;\\n    value {\\n      shape {\\n        dim {\\n          size: 784\\n        }\\n        dim {\\n          size: 300\\n        }\\n      }\\n    }\\n  }\\n  attr {\\n    key: &quot;shared_name&quot;\\n    value {\\n      s: &quot;&quot;\\n    }\\n  }\\n}\\nnode {\\n  name: &quot;dnn/hidden1/kernel/Assign&quot;\\n  op: &quot;Assign&quot;\\n  input: &quot;dnn/hidden1/kernel&quot;\\n  input: &quot;dnn/hidden1/truncated_normal&quot;\\n  attr {\\n    key: &quot;T&quot;\\n    value {\\n      type: DT_FLOAT\\n    }\\n  }\\n  attr {\\n    key: &quot;_class&quot;\\n    value {\\n      list {\\n        s: &quot;loc:@dnn/hidden1/kernel&quot;\\n      }\\n    }\\n  }\\n  attr {\\n    key: &quot;use_locking&quot;\\n    value {\\n      b: true\\n    }\\n  }\\n  attr {\\n    key: &quot;validate_shape&quot;\\n    value {\\n      b: true\\n    }\\n  }\\n}\\nnode {\\n  name: &quot;dnn/hidden1/kernel/read&quot;\\n  op: &quot;Identity&quot;\\n  input: &quot;dnn/hidden1/kernel&quot;\\n  attr {\\n    key: &quot;T&quot;\\n    value {\\n      type: DT_FLOAT\\n    }\\n  }\\n  attr {\\n    key: &quot;_class&quot;\\n    value {\\n      list {\\n        s: &quot;loc:@dnn/hidden1/kernel&quot;\\n      }\\n    }\\n  }\\n}\\nnode {\\n  name: &quot;dnn/hidden1/zeros&quot;\\n  op: &quot;Const&quot;\\n  attr {\\n    key: &quot;dtype&quot;\\n    value {\\n      type: DT_FLOAT\\n    }\\n  }\\n  attr {\\n    key: &quot;value&quot;\\n    value {\\n      tensor {\\n        dtype: DT_FLOAT\\n        tensor_shape {\\n          dim {\\n            size: 300\\n          }\\n        }\\n        float_val: 0.0\\n      }\\n    }\\n  }\\n}\\nnode {\\n  name: &quot;dnn/hidden1/bias&quot;\\n  op: &quot;VariableV2&quot;\\n  attr {\\n    key: &quot;container&quot;\\n    value {\\n      s: &quot;&quot;\\n    }\\n  }\\n  attr {\\n    key: &quot;dtype&quot;\\n    value {\\n      type: DT_FLOAT\\n    }\\n  }\\n  attr {\\n    key: &quot;shape&quot;\\n    value {\\n      shape {\\n        dim {\\n          size: 300\\n        }\\n      }\\n    }\\n  }\\n  attr {\\n    key: &quot;shared_name&quot;\\n    value {\\n      s: &quot;&quot;\\n    }\\n  }\\n}\\nnode {\\n  name: &quot;dnn/hidden1/bias/Assign&quot;\\n  op: &quot;Assign&quot;\\n  input: &quot;dnn/hidden1/bias&quot;\\n  input: &quot;dnn/hidden1/zeros&quot;\\n  attr {\\n    key: &quot;T&quot;\\n    value {\\n      type: DT_FLOAT\\n    }\\n  }\\n  attr {\\n    key: &quot;_class&quot;\\n    value {\\n      list {\\n        s: &quot;loc:@dnn/hidden1/bias&quot;\\n      }\\n    }\\n  }\\n  attr {\\n    key: &quot;use_locking&quot;\\n    value {\\n      b: true\\n    }\\n  }\\n  attr {\\n    key: &quot;validate_shape&quot;\\n    value {\\n      b: true\\n    }\\n  }\\n}\\nnode {\\n  name: &quot;dnn/hidden1/bias/read&quot;\\n  op: &quot;Identity&quot;\\n  input: &quot;dnn/hidden1/bias&quot;\\n  attr {\\n    key: &quot;T&quot;\\n    value {\\n      type: DT_FLOAT\\n    }\\n  }\\n  attr {\\n    key: &quot;_class&quot;\\n    value {\\n      list {\\n        s: &quot;loc:@dnn/hidden1/bias&quot;\\n      }\\n    }\\n  }\\n}\\nnode {\\n  name: &quot;dnn/hidden1/MatMul&quot;\\n  op: &quot;MatMul&quot;\\n  input: &quot;X&quot;\\n  input: &quot;dnn/hidden1/kernel/read&quot;\\n  attr {\\n    key: &quot;T&quot;\\n    value {\\n      type: DT_FLOAT\\n    }\\n  }\\n  attr {\\n    key: &quot;transpose_a&quot;\\n    value {\\n      b: false\\n    }\\n  }\\n  attr {\\n    key: &quot;transpose_b&quot;\\n    value {\\n      b: false\\n    }\\n  }\\n}\\nnode {\\n  name: &quot;dnn/hidden1/add&quot;\\n  op: &quot;Add&quot;\\n  input: &quot;dnn/hidden1/MatMul&quot;\\n  input: &quot;dnn/hidden1/bias/read&quot;\\n  attr {\\n    key: &quot;T&quot;\\n    value {\\n      type: DT_FLOAT\\n    }\\n  }\\n}\\nnode {\\n  name: &quot;dnn/hidden1/Relu&quot;\\n  op: &quot;Relu&quot;\\n  input: &quot;dnn/hidden1/add&quot;\\n  attr {\\n    key: &quot;T&quot;\\n    value {\\n      type: DT_FLOAT\\n    }\\n  }\\n}\\nnode {\\n  name: &quot;dnn/hidden2/truncated_normal/shape&quot;\\n  op: &quot;Const&quot;\\n  attr {\\n    key: &quot;dtype&quot;\\n    value {\\n      type: DT_INT32\\n    }\\n  }\\n  attr {\\n    key: &quot;value&quot;\\n    value {\\n      tensor {\\n        dtype: DT_INT32\\n        tensor_shape {\\n          dim {\\n            size: 2\\n          }\\n        }\\n        tensor_content: &quot;,\\\\001\\\\000\\\\000d\\\\000\\\\000\\\\000&quot;\\n      }\\n    }\\n  }\\n}\\nnode {\\n  name: &quot;dnn/hidden2/truncated_normal/mean&quot;\\n  op: &quot;Const&quot;\\n  attr {\\n    key: &quot;dtype&quot;\\n    value {\\n      type: DT_FLOAT\\n    }\\n  }\\n  attr {\\n    key: &quot;value&quot;\\n    value {\\n      tensor {\\n        dtype: DT_FLOAT\\n        tensor_shape {\\n        }\\n        float_val: 0.0\\n      }\\n    }\\n  }\\n}\\nnode {\\n  name: &quot;dnn/hidden2/truncated_normal/stddev&quot;\\n  op: &quot;Const&quot;\\n  attr {\\n    key: &quot;dtype&quot;\\n    value {\\n      type: DT_FLOAT\\n    }\\n  }\\n  attr {\\n    key: &quot;value&quot;\\n    value {\\n      tensor {\\n        dtype: DT_FLOAT\\n        tensor_shape {\\n        }\\n        float_val: 0.1154700517654419\\n      }\\n    }\\n  }\\n}\\nnode {\\n  name: &quot;dnn/hidden2/truncated_normal/TruncatedNormal&quot;\\n  op: &quot;TruncatedNormal&quot;\\n  input: &quot;dnn/hidden2/truncated_normal/shape&quot;\\n  attr {\\n    key: &quot;T&quot;\\n    value {\\n      type: DT_INT32\\n    }\\n  }\\n  attr {\\n    key: &quot;dtype&quot;\\n    value {\\n      type: DT_FLOAT\\n    }\\n  }\\n  attr {\\n    key: &quot;seed&quot;\\n    value {\\n      i: 42\\n    }\\n  }\\n  attr {\\n    key: &quot;seed2&quot;\\n    value {\\n      i: 21\\n    }\\n  }\\n}\\nnode {\\n  name: &quot;dnn/hidden2/truncated_normal/mul&quot;\\n  op: &quot;Mul&quot;\\n  input: &quot;dnn/hidden2/truncated_normal/TruncatedNormal&quot;\\n  input: &quot;dnn/hidden2/truncated_normal/stddev&quot;\\n  attr {\\n    key: &quot;T&quot;\\n    value {\\n      type: DT_FLOAT\\n    }\\n  }\\n}\\nnode {\\n  name: &quot;dnn/hidden2/truncated_normal&quot;\\n  op: &quot;Add&quot;\\n  input: &quot;dnn/hidden2/truncated_normal/mul&quot;\\n  input: &quot;dnn/hidden2/truncated_normal/mean&quot;\\n  attr {\\n    key: &quot;T&quot;\\n    value {\\n      type: DT_FLOAT\\n    }\\n  }\\n}\\nnode {\\n  name: &quot;dnn/hidden2/kernel&quot;\\n  op: &quot;VariableV2&quot;\\n  attr {\\n    key: &quot;container&quot;\\n    value {\\n      s: &quot;&quot;\\n    }\\n  }\\n  attr {\\n    key: &quot;dtype&quot;\\n    value {\\n      type: DT_FLOAT\\n    }\\n  }\\n  attr {\\n    key: &quot;shape&quot;\\n    value {\\n      shape {\\n        dim {\\n          size: 300\\n        }\\n        dim {\\n          size: 100\\n        }\\n      }\\n    }\\n  }\\n  attr {\\n    key: &quot;shared_name&quot;\\n    value {\\n      s: &quot;&quot;\\n    }\\n  }\\n}\\nnode {\\n  name: &quot;dnn/hidden2/kernel/Assign&quot;\\n  op: &quot;Assign&quot;\\n  input: &quot;dnn/hidden2/kernel&quot;\\n  input: &quot;dnn/hidden2/truncated_normal&quot;\\n  attr {\\n    key: &quot;T&quot;\\n    value {\\n      type: DT_FLOAT\\n    }\\n  }\\n  attr {\\n    key: &quot;_class&quot;\\n    value {\\n      list {\\n        s: &quot;loc:@dnn/hidden2/kernel&quot;\\n      }\\n    }\\n  }\\n  attr {\\n    key: &quot;use_locking&quot;\\n    value {\\n      b: true\\n    }\\n  }\\n  attr {\\n    key: &quot;validate_shape&quot;\\n    value {\\n      b: true\\n    }\\n  }\\n}\\nnode {\\n  name: &quot;dnn/hidden2/kernel/read&quot;\\n  op: &quot;Identity&quot;\\n  input: &quot;dnn/hidden2/kernel&quot;\\n  attr {\\n    key: &quot;T&quot;\\n    value {\\n      type: DT_FLOAT\\n    }\\n  }\\n  attr {\\n    key: &quot;_class&quot;\\n    value {\\n      list {\\n        s: &quot;loc:@dnn/hidden2/kernel&quot;\\n      }\\n    }\\n  }\\n}\\nnode {\\n  name: &quot;dnn/hidden2/zeros&quot;\\n  op: &quot;Const&quot;\\n  attr {\\n    key: &quot;dtype&quot;\\n    value {\\n      type: DT_FLOAT\\n    }\\n  }\\n  attr {\\n    key: &quot;value&quot;\\n    value {\\n      tensor {\\n        dtype: DT_FLOAT\\n        tensor_shape {\\n          dim {\\n            size: 100\\n          }\\n        }\\n        float_val: 0.0\\n      }\\n    }\\n  }\\n}\\nnode {\\n  name: &quot;dnn/hidden2/bias&quot;\\n  op: &quot;VariableV2&quot;\\n  attr {\\n    key: &quot;container&quot;\\n    value {\\n      s: &quot;&quot;\\n    }\\n  }\\n  attr {\\n    key: &quot;dtype&quot;\\n    value {\\n      type: DT_FLOAT\\n    }\\n  }\\n  attr {\\n    key: &quot;shape&quot;\\n    value {\\n      shape {\\n        dim {\\n          size: 100\\n        }\\n      }\\n    }\\n  }\\n  attr {\\n    key: &quot;shared_name&quot;\\n    value {\\n      s: &quot;&quot;\\n    }\\n  }\\n}\\nnode {\\n  name: &quot;dnn/hidden2/bias/Assign&quot;\\n  op: &quot;Assign&quot;\\n  input: &quot;dnn/hidden2/bias&quot;\\n  input: &quot;dnn/hidden2/zeros&quot;\\n  attr {\\n    key: &quot;T&quot;\\n    value {\\n      type: DT_FLOAT\\n    }\\n  }\\n  attr {\\n    key: &quot;_class&quot;\\n    value {\\n      list {\\n        s: &quot;loc:@dnn/hidden2/bias&quot;\\n      }\\n    }\\n  }\\n  attr {\\n    key: &quot;use_locking&quot;\\n    value {\\n      b: true\\n    }\\n  }\\n  attr {\\n    key: &quot;validate_shape&quot;\\n    value {\\n      b: true\\n    }\\n  }\\n}\\nnode {\\n  name: &quot;dnn/hidden2/bias/read&quot;\\n  op: &quot;Identity&quot;\\n  input: &quot;dnn/hidden2/bias&quot;\\n  attr {\\n    key: &quot;T&quot;\\n    value {\\n      type: DT_FLOAT\\n    }\\n  }\\n  attr {\\n    key: &quot;_class&quot;\\n    value {\\n      list {\\n        s: &quot;loc:@dnn/hidden2/bias&quot;\\n      }\\n    }\\n  }\\n}\\nnode {\\n  name: &quot;dnn/hidden2/MatMul&quot;\\n  op: &quot;MatMul&quot;\\n  input: &quot;dnn/hidden1/Relu&quot;\\n  input: &quot;dnn/hidden2/kernel/read&quot;\\n  attr {\\n    key: &quot;T&quot;\\n    value {\\n      type: DT_FLOAT\\n    }\\n  }\\n  attr {\\n    key: &quot;transpose_a&quot;\\n    value {\\n      b: false\\n    }\\n  }\\n  attr {\\n    key: &quot;transpose_b&quot;\\n    value {\\n      b: false\\n    }\\n  }\\n}\\nnode {\\n  name: &quot;dnn/hidden2/add&quot;\\n  op: &quot;Add&quot;\\n  input: &quot;dnn/hidden2/MatMul&quot;\\n  input: &quot;dnn/hidden2/bias/read&quot;\\n  attr {\\n    key: &quot;T&quot;\\n    value {\\n      type: DT_FLOAT\\n    }\\n  }\\n}\\nnode {\\n  name: &quot;dnn/hidden2/Relu&quot;\\n  op: &quot;Relu&quot;\\n  input: &quot;dnn/hidden2/add&quot;\\n  attr {\\n    key: &quot;T&quot;\\n    value {\\n      type: DT_FLOAT\\n    }\\n  }\\n}\\nnode {\\n  name: &quot;dnn/outputs/truncated_normal/shape&quot;\\n  op: &quot;Const&quot;\\n  attr {\\n    key: &quot;dtype&quot;\\n    value {\\n      type: DT_INT32\\n    }\\n  }\\n  attr {\\n    key: &quot;value&quot;\\n    value {\\n      tensor {\\n        dtype: DT_INT32\\n        tensor_shape {\\n          dim {\\n            size: 2\\n          }\\n        }\\n        tensor_content: &quot;d\\\\000\\\\000\\\\000\\\\n\\\\000\\\\000\\\\000&quot;\\n      }\\n    }\\n  }\\n}\\nnode {\\n  name: &quot;dnn/outputs/truncated_normal/mean&quot;\\n  op: &quot;Const&quot;\\n  attr {\\n    key: &quot;dtype&quot;\\n    value {\\n      type: DT_FLOAT\\n    }\\n  }\\n  attr {\\n    key: &quot;value&quot;\\n    value {\\n      tensor {\\n        dtype: DT_FLOAT\\n        tensor_shape {\\n        }\\n        float_val: 0.0\\n      }\\n    }\\n  }\\n}\\nnode {\\n  name: &quot;dnn/outputs/truncated_normal/stddev&quot;\\n  op: &quot;Const&quot;\\n  attr {\\n    key: &quot;dtype&quot;\\n    value {\\n      type: DT_FLOAT\\n    }\\n  }\\n  attr {\\n    key: &quot;value&quot;\\n    value {\\n      tensor {\\n        dtype: DT_FLOAT\\n        tensor_shape {\\n        }\\n        float_val: 0.20000000298023224\\n      }\\n    }\\n  }\\n}\\nnode {\\n  name: &quot;dnn/outputs/truncated_normal/TruncatedNormal&quot;\\n  op: &quot;TruncatedNormal&quot;\\n  input: &quot;dnn/outputs/truncated_normal/shape&quot;\\n  attr {\\n    key: &quot;T&quot;\\n    value {\\n      type: DT_INT32\\n    }\\n  }\\n  attr {\\n    key: &quot;dtype&quot;\\n    value {\\n      type: DT_FLOAT\\n    }\\n  }\\n  attr {\\n    key: &quot;seed&quot;\\n    value {\\n      i: 42\\n    }\\n  }\\n  attr {\\n    key: &quot;seed2&quot;\\n    value {\\n      i: 37\\n    }\\n  }\\n}\\nnode {\\n  name: &quot;dnn/outputs/truncated_normal/mul&quot;\\n  op: &quot;Mul&quot;\\n  input: &quot;dnn/outputs/truncated_normal/TruncatedNormal&quot;\\n  input: &quot;dnn/outputs/truncated_normal/stddev&quot;\\n  attr {\\n    key: &quot;T&quot;\\n    value {\\n      type: DT_FLOAT\\n    }\\n  }\\n}\\nnode {\\n  name: &quot;dnn/outputs/truncated_normal&quot;\\n  op: &quot;Add&quot;\\n  input: &quot;dnn/outputs/truncated_normal/mul&quot;\\n  input: &quot;dnn/outputs/truncated_normal/mean&quot;\\n  attr {\\n    key: &quot;T&quot;\\n    value {\\n      type: DT_FLOAT\\n    }\\n  }\\n}\\nnode {\\n  name: &quot;dnn/outputs/kernel&quot;\\n  op: &quot;VariableV2&quot;\\n  attr {\\n    key: &quot;container&quot;\\n    value {\\n      s: &quot;&quot;\\n    }\\n  }\\n  attr {\\n    key: &quot;dtype&quot;\\n    value {\\n      type: DT_FLOAT\\n    }\\n  }\\n  attr {\\n    key: &quot;shape&quot;\\n    value {\\n      shape {\\n        dim {\\n          size: 100\\n        }\\n        dim {\\n          size: 10\\n        }\\n      }\\n    }\\n  }\\n  attr {\\n    key: &quot;shared_name&quot;\\n    value {\\n      s: &quot;&quot;\\n    }\\n  }\\n}\\nnode {\\n  name: &quot;dnn/outputs/kernel/Assign&quot;\\n  op: &quot;Assign&quot;\\n  input: &quot;dnn/outputs/kernel&quot;\\n  input: &quot;dnn/outputs/truncated_normal&quot;\\n  attr {\\n    key: &quot;T&quot;\\n    value {\\n      type: DT_FLOAT\\n    }\\n  }\\n  attr {\\n    key: &quot;_class&quot;\\n    value {\\n      list {\\n        s: &quot;loc:@dnn/outputs/kernel&quot;\\n      }\\n    }\\n  }\\n  attr {\\n    key: &quot;use_locking&quot;\\n    value {\\n      b: true\\n    }\\n  }\\n  attr {\\n    key: &quot;validate_shape&quot;\\n    value {\\n      b: true\\n    }\\n  }\\n}\\nnode {\\n  name: &quot;dnn/outputs/kernel/read&quot;\\n  op: &quot;Identity&quot;\\n  input: &quot;dnn/outputs/kernel&quot;\\n  attr {\\n    key: &quot;T&quot;\\n    value {\\n      type: DT_FLOAT\\n    }\\n  }\\n  attr {\\n    key: &quot;_class&quot;\\n    value {\\n      list {\\n        s: &quot;loc:@dnn/outputs/kernel&quot;\\n      }\\n    }\\n  }\\n}\\nnode {\\n  name: &quot;dnn/outputs/zeros&quot;\\n  op: &quot;Const&quot;\\n  attr {\\n    key: &quot;dtype&quot;\\n    value {\\n      type: DT_FLOAT\\n    }\\n  }\\n  attr {\\n    key: &quot;value&quot;\\n    value {\\n      tensor {\\n        dtype: DT_FLOAT\\n        tensor_shape {\\n          dim {\\n            size: 10\\n          }\\n        }\\n        float_val: 0.0\\n      }\\n    }\\n  }\\n}\\nnode {\\n  name: &quot;dnn/outputs/bias&quot;\\n  op: &quot;VariableV2&quot;\\n  attr {\\n    key: &quot;container&quot;\\n    value {\\n      s: &quot;&quot;\\n    }\\n  }\\n  attr {\\n    key: &quot;dtype&quot;\\n    value {\\n      type: DT_FLOAT\\n    }\\n  }\\n  attr {\\n    key: &quot;shape&quot;\\n    value {\\n      shape {\\n        dim {\\n          size: 10\\n        }\\n      }\\n    }\\n  }\\n  attr {\\n    key: &quot;shared_name&quot;\\n    value {\\n      s: &quot;&quot;\\n    }\\n  }\\n}\\nnode {\\n  name: &quot;dnn/outputs/bias/Assign&quot;\\n  op: &quot;Assign&quot;\\n  input: &quot;dnn/outputs/bias&quot;\\n  input: &quot;dnn/outputs/zeros&quot;\\n  attr {\\n    key: &quot;T&quot;\\n    value {\\n      type: DT_FLOAT\\n    }\\n  }\\n  attr {\\n    key: &quot;_class&quot;\\n    value {\\n      list {\\n        s: &quot;loc:@dnn/outputs/bias&quot;\\n      }\\n    }\\n  }\\n  attr {\\n    key: &quot;use_locking&quot;\\n    value {\\n      b: true\\n    }\\n  }\\n  attr {\\n    key: &quot;validate_shape&quot;\\n    value {\\n      b: true\\n    }\\n  }\\n}\\nnode {\\n  name: &quot;dnn/outputs/bias/read&quot;\\n  op: &quot;Identity&quot;\\n  input: &quot;dnn/outputs/bias&quot;\\n  attr {\\n    key: &quot;T&quot;\\n    value {\\n      type: DT_FLOAT\\n    }\\n  }\\n  attr {\\n    key: &quot;_class&quot;\\n    value {\\n      list {\\n        s: &quot;loc:@dnn/outputs/bias&quot;\\n      }\\n    }\\n  }\\n}\\nnode {\\n  name: &quot;dnn/outputs/MatMul&quot;\\n  op: &quot;MatMul&quot;\\n  input: &quot;dnn/hidden2/Relu&quot;\\n  input: &quot;dnn/outputs/kernel/read&quot;\\n  attr {\\n    key: &quot;T&quot;\\n    value {\\n      type: DT_FLOAT\\n    }\\n  }\\n  attr {\\n    key: &quot;transpose_a&quot;\\n    value {\\n      b: false\\n    }\\n  }\\n  attr {\\n    key: &quot;transpose_b&quot;\\n    value {\\n      b: false\\n    }\\n  }\\n}\\nnode {\\n  name: &quot;dnn/outputs/add&quot;\\n  op: &quot;Add&quot;\\n  input: &quot;dnn/outputs/MatMul&quot;\\n  input: &quot;dnn/outputs/bias/read&quot;\\n  attr {\\n    key: &quot;T&quot;\\n    value {\\n      type: DT_FLOAT\\n    }\\n  }\\n}\\nnode {\\n  name: &quot;loss/SparseSoftmaxCrossEntropyWithLogits/Shape&quot;\\n  op: &quot;Shape&quot;\\n  input: &quot;y&quot;\\n  attr {\\n    key: &quot;T&quot;\\n    value {\\n      type: DT_INT32\\n    }\\n  }\\n  attr {\\n    key: &quot;out_type&quot;\\n    value {\\n      type: DT_INT32\\n    }\\n  }\\n}\\nnode {\\n  name: &quot;loss/SparseSoftmaxCrossEntropyWithLogits/SparseSoftmaxCrossEntropyWithLogits&quot;\\n  op: &quot;SparseSoftmaxCrossEntropyWithLogits&quot;\\n  input: &quot;dnn/outputs/add&quot;\\n  input: &quot;y&quot;\\n  attr {\\n    key: &quot;T&quot;\\n    value {\\n      type: DT_FLOAT\\n    }\\n  }\\n  attr {\\n    key: &quot;Tlabels&quot;\\n    value {\\n      type: DT_INT32\\n    }\\n  }\\n}\\nnode {\\n  name: &quot;loss/Const&quot;\\n  op: &quot;Const&quot;\\n  attr {\\n    key: &quot;dtype&quot;\\n    value {\\n      type: DT_INT32\\n    }\\n  }\\n  attr {\\n    key: &quot;value&quot;\\n    value {\\n      tensor {\\n        dtype: DT_INT32\\n        tensor_shape {\\n          dim {\\n            size: 1\\n          }\\n        }\\n        int_val: 0\\n      }\\n    }\\n  }\\n}\\nnode {\\n  name: &quot;loss/loss&quot;\\n  op: &quot;Mean&quot;\\n  input: &quot;loss/SparseSoftmaxCrossEntropyWithLogits/SparseSoftmaxCrossEntropyWithLogits&quot;\\n  input: &quot;loss/Const&quot;\\n  attr {\\n    key: &quot;T&quot;\\n    value {\\n      type: DT_FLOAT\\n    }\\n  }\\n  attr {\\n    key: &quot;Tidx&quot;\\n    value {\\n      type: DT_INT32\\n    }\\n  }\\n  attr {\\n    key: &quot;keep_dims&quot;\\n    value {\\n      b: false\\n    }\\n  }\\n}\\nnode {\\n  name: &quot;train/gradients/Shape&quot;\\n  op: &quot;Const&quot;\\n  attr {\\n    key: &quot;dtype&quot;\\n    value {\\n      type: DT_INT32\\n    }\\n  }\\n  attr {\\n    key: &quot;value&quot;\\n    value {\\n      tensor {\\n        dtype: DT_INT32\\n        tensor_shape {\\n          dim {\\n          }\\n        }\\n      }\\n    }\\n  }\\n}\\nnode {\\n  name: &quot;train/gradients/grad_ys_0&quot;\\n  op: &quot;Const&quot;\\n  attr {\\n    key: &quot;dtype&quot;\\n    value {\\n      type: DT_FLOAT\\n    }\\n  }\\n  attr {\\n    key: &quot;value&quot;\\n    value {\\n      tensor {\\n        dtype: DT_FLOAT\\n        tensor_shape {\\n        }\\n        float_val: 1.0\\n      }\\n    }\\n  }\\n}\\nnode {\\n  name: &quot;train/gradients/Fill&quot;\\n  op: &quot;Fill&quot;\\n  input: &quot;train/gradients/Shape&quot;\\n  input: &quot;train/gradients/grad_ys_0&quot;\\n  attr {\\n    key: &quot;T&quot;\\n    value {\\n      type: DT_FLOAT\\n    }\\n  }\\n  attr {\\n    key: &quot;index_type&quot;\\n    value {\\n      type: DT_INT32\\n    }\\n  }\\n}\\nnode {\\n  name: &quot;train/gradients/loss/loss_grad/Reshape/shape&quot;\\n  op: &quot;Const&quot;\\n  attr {\\n    key: &quot;dtype&quot;\\n    value {\\n      type: DT_INT32\\n    }\\n  }\\n  attr {\\n    key: &quot;value&quot;\\n    value {\\n      tensor {\\n        dtype: DT_INT32\\n        tensor_shape {\\n          dim {\\n            size: 1\\n          }\\n        }\\n        int_val: 1\\n      }\\n    }\\n  }\\n}\\nnode {\\n  name: &quot;train/gradients/loss/loss_grad/Reshape&quot;\\n  op: &quot;Reshape&quot;\\n  input: &quot;train/gradients/Fill&quot;\\n  input: &quot;train/gradients/loss/loss_grad/Reshape/shape&quot;\\n  attr {\\n    key: &quot;T&quot;\\n    value {\\n      type: DT_FLOAT\\n    }\\n  }\\n  attr {\\n    key: &quot;Tshape&quot;\\n    value {\\n      type: DT_INT32\\n    }\\n  }\\n}\\nnode {\\n  name: &quot;train/gradients/loss/loss_grad/Shape&quot;\\n  op: &quot;Shape&quot;\\n  input: &quot;loss/SparseSoftmaxCrossEntropyWithLogits/SparseSoftmaxCrossEntropyWithLogits&quot;\\n  attr {\\n    key: &quot;T&quot;\\n    value {\\n      type: DT_FLOAT\\n    }\\n  }\\n  attr {\\n    key: &quot;out_type&quot;\\n    value {\\n      type: DT_INT32\\n    }\\n  }\\n}\\nnode {\\n  name: &quot;train/gradients/loss/loss_grad/Tile&quot;\\n  op: &quot;Tile&quot;\\n  input: &quot;train/gradients/loss/loss_grad/Reshape&quot;\\n  input: &quot;train/gradients/loss/loss_grad/Shape&quot;\\n  attr {\\n    key: &quot;T&quot;\\n    value {\\n      type: DT_FLOAT\\n    }\\n  }\\n  attr {\\n    key: &quot;Tmultiples&quot;\\n    value {\\n      type: DT_INT32\\n    }\\n  }\\n}\\nnode {\\n  name: &quot;train/gradients/loss/loss_grad/Shape_1&quot;\\n  op: &quot;Shape&quot;\\n  input: &quot;loss/SparseSoftmaxCrossEntropyWithLogits/SparseSoftmaxCrossEntropyWithLogits&quot;\\n  attr {\\n    key: &quot;T&quot;\\n    value {\\n      type: DT_FLOAT\\n    }\\n  }\\n  attr {\\n    key: &quot;out_type&quot;\\n    value {\\n      type: DT_INT32\\n    }\\n  }\\n}\\nnode {\\n  name: &quot;train/gradients/loss/loss_grad/Shape_2&quot;\\n  op: &quot;Const&quot;\\n  attr {\\n    key: &quot;dtype&quot;\\n    value {\\n      type: DT_INT32\\n    }\\n  }\\n  attr {\\n    key: &quot;value&quot;\\n    value {\\n      tensor {\\n        dtype: DT_INT32\\n        tensor_shape {\\n          dim {\\n          }\\n        }\\n      }\\n    }\\n  }\\n}\\nnode {\\n  name: &quot;train/gradients/loss/loss_grad/Const&quot;\\n  op: &quot;Const&quot;\\n  attr {\\n    key: &quot;dtype&quot;\\n    value {\\n      type: DT_INT32\\n    }\\n  }\\n  attr {\\n    key: &quot;value&quot;\\n    value {\\n      tensor {\\n        dtype: DT_INT32\\n        tensor_shape {\\n          dim {\\n            size: 1\\n          }\\n        }\\n        int_val: 0\\n      }\\n    }\\n  }\\n}\\nnode {\\n  name: &quot;train/gradients/loss/loss_grad/Prod&quot;\\n  op: &quot;Prod&quot;\\n  input: &quot;train/gradients/loss/loss_grad/Shape_1&quot;\\n  input: &quot;train/gradients/loss/loss_grad/Const&quot;\\n  attr {\\n    key: &quot;T&quot;\\n    value {\\n      type: DT_INT32\\n    }\\n  }\\n  attr {\\n    key: &quot;Tidx&quot;\\n    value {\\n      type: DT_INT32\\n    }\\n  }\\n  attr {\\n    key: &quot;keep_dims&quot;\\n    value {\\n      b: false\\n    }\\n  }\\n}\\nnode {\\n  name: &quot;train/gradients/loss/loss_grad/Const_1&quot;\\n  op: &quot;Const&quot;\\n  attr {\\n    key: &quot;dtype&quot;\\n    value {\\n      type: DT_INT32\\n    }\\n  }\\n  attr {\\n    key: &quot;value&quot;\\n    value {\\n      tensor {\\n        dtype: DT_INT32\\n        tensor_shape {\\n          dim {\\n            size: 1\\n          }\\n        }\\n        int_val: 0\\n      }\\n    }\\n  }\\n}\\nnode {\\n  name: &quot;train/gradients/loss/loss_grad/Prod_1&quot;\\n  op: &quot;Prod&quot;\\n  input: &quot;train/gradients/loss/loss_grad/Shape_2&quot;\\n  input: &quot;train/gradients/loss/loss_grad/Const_1&quot;\\n  attr {\\n    key: &quot;T&quot;\\n    value {\\n      type: DT_INT32\\n    }\\n  }\\n  attr {\\n    key: &quot;Tidx&quot;\\n    value {\\n      type: DT_INT32\\n    }\\n  }\\n  attr {\\n    key: &quot;keep_dims&quot;\\n    value {\\n      b: false\\n    }\\n  }\\n}\\nnode {\\n  name: &quot;train/gradients/loss/loss_grad/Maximum/y&quot;\\n  op: &quot;Const&quot;\\n  attr {\\n    key: &quot;dtype&quot;\\n    value {\\n      type: DT_INT32\\n    }\\n  }\\n  attr {\\n    key: &quot;value&quot;\\n    value {\\n      tensor {\\n        dtype: DT_INT32\\n        tensor_shape {\\n        }\\n        int_val: 1\\n      }\\n    }\\n  }\\n}\\nnode {\\n  name: &quot;train/gradients/loss/loss_grad/Maximum&quot;\\n  op: &quot;Maximum&quot;\\n  input: &quot;train/gradients/loss/loss_grad/Prod_1&quot;\\n  input: &quot;train/gradients/loss/loss_grad/Maximum/y&quot;\\n  attr {\\n    key: &quot;T&quot;\\n    value {\\n      type: DT_INT32\\n    }\\n  }\\n}\\nnode {\\n  name: &quot;train/gradients/loss/loss_grad/floordiv&quot;\\n  op: &quot;FloorDiv&quot;\\n  input: &quot;train/gradients/loss/loss_grad/Prod&quot;\\n  input: &quot;train/gradients/loss/loss_grad/Maximum&quot;\\n  attr {\\n    key: &quot;T&quot;\\n    value {\\n      type: DT_INT32\\n    }\\n  }\\n}\\nnode {\\n  name: &quot;train/gradients/loss/loss_grad/Cast&quot;\\n  op: &quot;Cast&quot;\\n  input: &quot;train/gradients/loss/loss_grad/floordiv&quot;\\n  attr {\\n    key: &quot;DstT&quot;\\n    value {\\n      type: DT_FLOAT\\n    }\\n  }\\n  attr {\\n    key: &quot;SrcT&quot;\\n    value {\\n      type: DT_INT32\\n    }\\n  }\\n  attr {\\n    key: &quot;Truncate&quot;\\n    value {\\n      b: false\\n    }\\n  }\\n}\\nnode {\\n  name: &quot;train/gradients/loss/loss_grad/truediv&quot;\\n  op: &quot;RealDiv&quot;\\n  input: &quot;train/gradients/loss/loss_grad/Tile&quot;\\n  input: &quot;train/gradients/loss/loss_grad/Cast&quot;\\n  attr {\\n    key: &quot;T&quot;\\n    value {\\n      type: DT_FLOAT\\n    }\\n  }\\n}\\nnode {\\n  name: &quot;train/gradients/zeros_like&quot;\\n  op: &quot;ZerosLike&quot;\\n  input: &quot;loss/SparseSoftmaxCrossEntropyWithLogits/SparseSoftmaxCrossEntropyWithLogits:1&quot;\\n  attr {\\n    key: &quot;T&quot;\\n    value {\\n      type: DT_FLOAT\\n    }\\n  }\\n}\\nnode {\\n  name: &quot;train/gradients/loss/SparseSoftmaxCrossEntropyWithLogits/SparseSoftmaxCrossEntropyWithLogits_grad/PreventGradient&quot;\\n  op: &quot;PreventGradient&quot;\\n  input: &quot;loss/SparseSoftmaxCrossEntropyWithLogits/SparseSoftmaxCrossEntropyWithLogits:1&quot;\\n  attr {\\n    key: &quot;T&quot;\\n    value {\\n      type: DT_FLOAT\\n    }\\n  }\\n  attr {\\n    key: &quot;message&quot;\\n    value {\\n      s: &quot;Currently there is no way to take the second derivative of sparse_softmax_cross_entropy_with_logits due to the fused implementation\\\\\\'s interaction with tf.gradients()&quot;\\n    }\\n  }\\n}\\nnode {\\n  name: &quot;train/gradients/loss/SparseSoftmaxCrossEntropyWithLogits/SparseSoftmaxCrossEntropyWithLogits_grad/ExpandDims/dim&quot;\\n  op: &quot;Const&quot;\\n  attr {\\n    key: &quot;dtype&quot;\\n    value {\\n      type: DT_INT32\\n    }\\n  }\\n  attr {\\n    key: &quot;value&quot;\\n    value {\\n      tensor {\\n        dtype: DT_INT32\\n        tensor_shape {\\n        }\\n        int_val: -1\\n      }\\n    }\\n  }\\n}\\nnode {\\n  name: &quot;train/gradients/loss/SparseSoftmaxCrossEntropyWithLogits/SparseSoftmaxCrossEntropyWithLogits_grad/ExpandDims&quot;\\n  op: &quot;ExpandDims&quot;\\n  input: &quot;train/gradients/loss/loss_grad/truediv&quot;\\n  input: &quot;train/gradients/loss/SparseSoftmaxCrossEntropyWithLogits/SparseSoftmaxCrossEntropyWithLogits_grad/ExpandDims/dim&quot;\\n  attr {\\n    key: &quot;T&quot;\\n    value {\\n      type: DT_FLOAT\\n    }\\n  }\\n  attr {\\n    key: &quot;Tdim&quot;\\n    value {\\n      type: DT_INT32\\n    }\\n  }\\n}\\nnode {\\n  name: &quot;train/gradients/loss/SparseSoftmaxCrossEntropyWithLogits/SparseSoftmaxCrossEntropyWithLogits_grad/mul&quot;\\n  op: &quot;Mul&quot;\\n  input: &quot;train/gradients/loss/SparseSoftmaxCrossEntropyWithLogits/SparseSoftmaxCrossEntropyWithLogits_grad/ExpandDims&quot;\\n  input: &quot;train/gradients/loss/SparseSoftmaxCrossEntropyWithLogits/SparseSoftmaxCrossEntropyWithLogits_grad/PreventGradient&quot;\\n  attr {\\n    key: &quot;T&quot;\\n    value {\\n      type: DT_FLOAT\\n    }\\n  }\\n}\\nnode {\\n  name: &quot;train/gradients/dnn/outputs/add_grad/Shape&quot;\\n  op: &quot;Shape&quot;\\n  input: &quot;dnn/outputs/MatMul&quot;\\n  attr {\\n    key: &quot;T&quot;\\n    value {\\n      type: DT_FLOAT\\n    }\\n  }\\n  attr {\\n    key: &quot;out_type&quot;\\n    value {\\n      type: DT_INT32\\n    }\\n  }\\n}\\nnode {\\n  name: &quot;train/gradients/dnn/outputs/add_grad/Shape_1&quot;\\n  op: &quot;Const&quot;\\n  attr {\\n    key: &quot;dtype&quot;\\n    value {\\n      type: DT_INT32\\n    }\\n  }\\n  attr {\\n    key: &quot;value&quot;\\n    value {\\n      tensor {\\n        dtype: DT_INT32\\n        tensor_shape {\\n          dim {\\n            size: 1\\n          }\\n        }\\n        int_val: 10\\n      }\\n    }\\n  }\\n}\\nnode {\\n  name: &quot;train/gradients/dnn/outputs/add_grad/BroadcastGradientArgs&quot;\\n  op: &quot;BroadcastGradientArgs&quot;\\n  input: &quot;train/gradients/dnn/outputs/add_grad/Shape&quot;\\n  input: &quot;train/gradients/dnn/outputs/add_grad/Shape_1&quot;\\n  attr {\\n    key: &quot;T&quot;\\n    value {\\n      type: DT_INT32\\n    }\\n  }\\n}\\nnode {\\n  name: &quot;train/gradients/dnn/outputs/add_grad/Sum&quot;\\n  op: &quot;Sum&quot;\\n  input: &quot;train/gradients/loss/SparseSoftmaxCrossEntropyWithLogits/SparseSoftmaxCrossEntropyWithLogits_grad/mul&quot;\\n  input: &quot;train/gradients/dnn/outputs/add_grad/BroadcastGradientArgs&quot;\\n  attr {\\n    key: &quot;T&quot;\\n    value {\\n      type: DT_FLOAT\\n    }\\n  }\\n  attr {\\n    key: &quot;Tidx&quot;\\n    value {\\n      type: DT_INT32\\n    }\\n  }\\n  attr {\\n    key: &quot;keep_dims&quot;\\n    value {\\n      b: false\\n    }\\n  }\\n}\\nnode {\\n  name: &quot;train/gradients/dnn/outputs/add_grad/Reshape&quot;\\n  op: &quot;Reshape&quot;\\n  input: &quot;train/gradients/dnn/outputs/add_grad/Sum&quot;\\n  input: &quot;train/gradients/dnn/outputs/add_grad/Shape&quot;\\n  attr {\\n    key: &quot;T&quot;\\n    value {\\n      type: DT_FLOAT\\n    }\\n  }\\n  attr {\\n    key: &quot;Tshape&quot;\\n    value {\\n      type: DT_INT32\\n    }\\n  }\\n}\\nnode {\\n  name: &quot;train/gradients/dnn/outputs/add_grad/Sum_1&quot;\\n  op: &quot;Sum&quot;\\n  input: &quot;train/gradients/loss/SparseSoftmaxCrossEntropyWithLogits/SparseSoftmaxCrossEntropyWithLogits_grad/mul&quot;\\n  input: &quot;train/gradients/dnn/outputs/add_grad/BroadcastGradientArgs:1&quot;\\n  attr {\\n    key: &quot;T&quot;\\n    value {\\n      type: DT_FLOAT\\n    }\\n  }\\n  attr {\\n    key: &quot;Tidx&quot;\\n    value {\\n      type: DT_INT32\\n    }\\n  }\\n  attr {\\n    key: &quot;keep_dims&quot;\\n    value {\\n      b: false\\n    }\\n  }\\n}\\nnode {\\n  name: &quot;train/gradients/dnn/outputs/add_grad/Reshape_1&quot;\\n  op: &quot;Reshape&quot;\\n  input: &quot;train/gradients/dnn/outputs/add_grad/Sum_1&quot;\\n  input: &quot;train/gradients/dnn/outputs/add_grad/Shape_1&quot;\\n  attr {\\n    key: &quot;T&quot;\\n    value {\\n      type: DT_FLOAT\\n    }\\n  }\\n  attr {\\n    key: &quot;Tshape&quot;\\n    value {\\n      type: DT_INT32\\n    }\\n  }\\n}\\nnode {\\n  name: &quot;train/gradients/dnn/outputs/add_grad/tuple/group_deps&quot;\\n  op: &quot;NoOp&quot;\\n  input: &quot;^train/gradients/dnn/outputs/add_grad/Reshape&quot;\\n  input: &quot;^train/gradients/dnn/outputs/add_grad/Reshape_1&quot;\\n}\\nnode {\\n  name: &quot;train/gradients/dnn/outputs/add_grad/tuple/control_dependency&quot;\\n  op: &quot;Identity&quot;\\n  input: &quot;train/gradients/dnn/outputs/add_grad/Reshape&quot;\\n  input: &quot;^train/gradients/dnn/outputs/add_grad/tuple/group_deps&quot;\\n  attr {\\n    key: &quot;T&quot;\\n    value {\\n      type: DT_FLOAT\\n    }\\n  }\\n  attr {\\n    key: &quot;_class&quot;\\n    value {\\n      list {\\n        s: &quot;loc:@train/gradients/dnn/outputs/add_grad/Reshape&quot;\\n      }\\n    }\\n  }\\n}\\nnode {\\n  name: &quot;train/gradients/dnn/outputs/add_grad/tuple/control_dependency_1&quot;\\n  op: &quot;Identity&quot;\\n  input: &quot;train/gradients/dnn/outputs/add_grad/Reshape_1&quot;\\n  input: &quot;^train/gradients/dnn/outputs/add_grad/tuple/group_deps&quot;\\n  attr {\\n    key: &quot;T&quot;\\n    value {\\n      type: DT_FLOAT\\n    }\\n  }\\n  attr {\\n    key: &quot;_class&quot;\\n    value {\\n      list {\\n        s: &quot;loc:@train/gradients/dnn/outputs/add_grad/Reshape_1&quot;\\n      }\\n    }\\n  }\\n}\\nnode {\\n  name: &quot;train/gradients/dnn/outputs/MatMul_grad/MatMul&quot;\\n  op: &quot;MatMul&quot;\\n  input: &quot;train/gradients/dnn/outputs/add_grad/tuple/control_dependency&quot;\\n  input: &quot;dnn/outputs/kernel/read&quot;\\n  attr {\\n    key: &quot;T&quot;\\n    value {\\n      type: DT_FLOAT\\n    }\\n  }\\n  attr {\\n    key: &quot;transpose_a&quot;\\n    value {\\n      b: false\\n    }\\n  }\\n  attr {\\n    key: &quot;transpose_b&quot;\\n    value {\\n      b: true\\n    }\\n  }\\n}\\nnode {\\n  name: &quot;train/gradients/dnn/outputs/MatMul_grad/MatMul_1&quot;\\n  op: &quot;MatMul&quot;\\n  input: &quot;dnn/hidden2/Relu&quot;\\n  input: &quot;train/gradients/dnn/outputs/add_grad/tuple/control_dependency&quot;\\n  attr {\\n    key: &quot;T&quot;\\n    value {\\n      type: DT_FLOAT\\n    }\\n  }\\n  attr {\\n    key: &quot;transpose_a&quot;\\n    value {\\n      b: true\\n    }\\n  }\\n  attr {\\n    key: &quot;transpose_b&quot;\\n    value {\\n      b: false\\n    }\\n  }\\n}\\nnode {\\n  name: &quot;train/gradients/dnn/outputs/MatMul_grad/tuple/group_deps&quot;\\n  op: &quot;NoOp&quot;\\n  input: &quot;^train/gradients/dnn/outputs/MatMul_grad/MatMul&quot;\\n  input: &quot;^train/gradients/dnn/outputs/MatMul_grad/MatMul_1&quot;\\n}\\nnode {\\n  name: &quot;train/gradients/dnn/outputs/MatMul_grad/tuple/control_dependency&quot;\\n  op: &quot;Identity&quot;\\n  input: &quot;train/gradients/dnn/outputs/MatMul_grad/MatMul&quot;\\n  input: &quot;^train/gradients/dnn/outputs/MatMul_grad/tuple/group_deps&quot;\\n  attr {\\n    key: &quot;T&quot;\\n    value {\\n      type: DT_FLOAT\\n    }\\n  }\\n  attr {\\n    key: &quot;_class&quot;\\n    value {\\n      list {\\n        s: &quot;loc:@train/gradients/dnn/outputs/MatMul_grad/MatMul&quot;\\n      }\\n    }\\n  }\\n}\\nnode {\\n  name: &quot;train/gradients/dnn/outputs/MatMul_grad/tuple/control_dependency_1&quot;\\n  op: &quot;Identity&quot;\\n  input: &quot;train/gradients/dnn/outputs/MatMul_grad/MatMul_1&quot;\\n  input: &quot;^train/gradients/dnn/outputs/MatMul_grad/tuple/group_deps&quot;\\n  attr {\\n    key: &quot;T&quot;\\n    value {\\n      type: DT_FLOAT\\n    }\\n  }\\n  attr {\\n    key: &quot;_class&quot;\\n    value {\\n      list {\\n        s: &quot;loc:@train/gradients/dnn/outputs/MatMul_grad/MatMul_1&quot;\\n      }\\n    }\\n  }\\n}\\nnode {\\n  name: &quot;train/gradients/dnn/hidden2/Relu_grad/ReluGrad&quot;\\n  op: &quot;ReluGrad&quot;\\n  input: &quot;train/gradients/dnn/outputs/MatMul_grad/tuple/control_dependency&quot;\\n  input: &quot;dnn/hidden2/Relu&quot;\\n  attr {\\n    key: &quot;T&quot;\\n    value {\\n      type: DT_FLOAT\\n    }\\n  }\\n}\\nnode {\\n  name: &quot;train/gradients/dnn/hidden2/add_grad/Shape&quot;\\n  op: &quot;Shape&quot;\\n  input: &quot;dnn/hidden2/MatMul&quot;\\n  attr {\\n    key: &quot;T&quot;\\n    value {\\n      type: DT_FLOAT\\n    }\\n  }\\n  attr {\\n    key: &quot;out_type&quot;\\n    value {\\n      type: DT_INT32\\n    }\\n  }\\n}\\nnode {\\n  name: &quot;train/gradients/dnn/hidden2/add_grad/Shape_1&quot;\\n  op: &quot;Const&quot;\\n  attr {\\n    key: &quot;dtype&quot;\\n    value {\\n      type: DT_INT32\\n    }\\n  }\\n  attr {\\n    key: &quot;value&quot;\\n    value {\\n      tensor {\\n        dtype: DT_INT32\\n        tensor_shape {\\n          dim {\\n            size: 1\\n          }\\n        }\\n        int_val: 100\\n      }\\n    }\\n  }\\n}\\nnode {\\n  name: &quot;train/gradients/dnn/hidden2/add_grad/BroadcastGradientArgs&quot;\\n  op: &quot;BroadcastGradientArgs&quot;\\n  input: &quot;train/gradients/dnn/hidden2/add_grad/Shape&quot;\\n  input: &quot;train/gradients/dnn/hidden2/add_grad/Shape_1&quot;\\n  attr {\\n    key: &quot;T&quot;\\n    value {\\n      type: DT_INT32\\n    }\\n  }\\n}\\nnode {\\n  name: &quot;train/gradients/dnn/hidden2/add_grad/Sum&quot;\\n  op: &quot;Sum&quot;\\n  input: &quot;train/gradients/dnn/hidden2/Relu_grad/ReluGrad&quot;\\n  input: &quot;train/gradients/dnn/hidden2/add_grad/BroadcastGradientArgs&quot;\\n  attr {\\n    key: &quot;T&quot;\\n    value {\\n      type: DT_FLOAT\\n    }\\n  }\\n  attr {\\n    key: &quot;Tidx&quot;\\n    value {\\n      type: DT_INT32\\n    }\\n  }\\n  attr {\\n    key: &quot;keep_dims&quot;\\n    value {\\n      b: false\\n    }\\n  }\\n}\\nnode {\\n  name: &quot;train/gradients/dnn/hidden2/add_grad/Reshape&quot;\\n  op: &quot;Reshape&quot;\\n  input: &quot;train/gradients/dnn/hidden2/add_grad/Sum&quot;\\n  input: &quot;train/gradients/dnn/hidden2/add_grad/Shape&quot;\\n  attr {\\n    key: &quot;T&quot;\\n    value {\\n      type: DT_FLOAT\\n    }\\n  }\\n  attr {\\n    key: &quot;Tshape&quot;\\n    value {\\n      type: DT_INT32\\n    }\\n  }\\n}\\nnode {\\n  name: &quot;train/gradients/dnn/hidden2/add_grad/Sum_1&quot;\\n  op: &quot;Sum&quot;\\n  input: &quot;train/gradients/dnn/hidden2/Relu_grad/ReluGrad&quot;\\n  input: &quot;train/gradients/dnn/hidden2/add_grad/BroadcastGradientArgs:1&quot;\\n  attr {\\n    key: &quot;T&quot;\\n    value {\\n      type: DT_FLOAT\\n    }\\n  }\\n  attr {\\n    key: &quot;Tidx&quot;\\n    value {\\n      type: DT_INT32\\n    }\\n  }\\n  attr {\\n    key: &quot;keep_dims&quot;\\n    value {\\n      b: false\\n    }\\n  }\\n}\\nnode {\\n  name: &quot;train/gradients/dnn/hidden2/add_grad/Reshape_1&quot;\\n  op: &quot;Reshape&quot;\\n  input: &quot;train/gradients/dnn/hidden2/add_grad/Sum_1&quot;\\n  input: &quot;train/gradients/dnn/hidden2/add_grad/Shape_1&quot;\\n  attr {\\n    key: &quot;T&quot;\\n    value {\\n      type: DT_FLOAT\\n    }\\n  }\\n  attr {\\n    key: &quot;Tshape&quot;\\n    value {\\n      type: DT_INT32\\n    }\\n  }\\n}\\nnode {\\n  name: &quot;train/gradients/dnn/hidden2/add_grad/tuple/group_deps&quot;\\n  op: &quot;NoOp&quot;\\n  input: &quot;^train/gradients/dnn/hidden2/add_grad/Reshape&quot;\\n  input: &quot;^train/gradients/dnn/hidden2/add_grad/Reshape_1&quot;\\n}\\nnode {\\n  name: &quot;train/gradients/dnn/hidden2/add_grad/tuple/control_dependency&quot;\\n  op: &quot;Identity&quot;\\n  input: &quot;train/gradients/dnn/hidden2/add_grad/Reshape&quot;\\n  input: &quot;^train/gradients/dnn/hidden2/add_grad/tuple/group_deps&quot;\\n  attr {\\n    key: &quot;T&quot;\\n    value {\\n      type: DT_FLOAT\\n    }\\n  }\\n  attr {\\n    key: &quot;_class&quot;\\n    value {\\n      list {\\n        s: &quot;loc:@train/gradients/dnn/hidden2/add_grad/Reshape&quot;\\n      }\\n    }\\n  }\\n}\\nnode {\\n  name: &quot;train/gradients/dnn/hidden2/add_grad/tuple/control_dependency_1&quot;\\n  op: &quot;Identity&quot;\\n  input: &quot;train/gradients/dnn/hidden2/add_grad/Reshape_1&quot;\\n  input: &quot;^train/gradients/dnn/hidden2/add_grad/tuple/group_deps&quot;\\n  attr {\\n    key: &quot;T&quot;\\n    value {\\n      type: DT_FLOAT\\n    }\\n  }\\n  attr {\\n    key: &quot;_class&quot;\\n    value {\\n      list {\\n        s: &quot;loc:@train/gradients/dnn/hidden2/add_grad/Reshape_1&quot;\\n      }\\n    }\\n  }\\n}\\nnode {\\n  name: &quot;train/gradients/dnn/hidden2/MatMul_grad/MatMul&quot;\\n  op: &quot;MatMul&quot;\\n  input: &quot;train/gradients/dnn/hidden2/add_grad/tuple/control_dependency&quot;\\n  input: &quot;dnn/hidden2/kernel/read&quot;\\n  attr {\\n    key: &quot;T&quot;\\n    value {\\n      type: DT_FLOAT\\n    }\\n  }\\n  attr {\\n    key: &quot;transpose_a&quot;\\n    value {\\n      b: false\\n    }\\n  }\\n  attr {\\n    key: &quot;transpose_b&quot;\\n    value {\\n      b: true\\n    }\\n  }\\n}\\nnode {\\n  name: &quot;train/gradients/dnn/hidden2/MatMul_grad/MatMul_1&quot;\\n  op: &quot;MatMul&quot;\\n  input: &quot;dnn/hidden1/Relu&quot;\\n  input: &quot;train/gradients/dnn/hidden2/add_grad/tuple/control_dependency&quot;\\n  attr {\\n    key: &quot;T&quot;\\n    value {\\n      type: DT_FLOAT\\n    }\\n  }\\n  attr {\\n    key: &quot;transpose_a&quot;\\n    value {\\n      b: true\\n    }\\n  }\\n  attr {\\n    key: &quot;transpose_b&quot;\\n    value {\\n      b: false\\n    }\\n  }\\n}\\nnode {\\n  name: &quot;train/gradients/dnn/hidden2/MatMul_grad/tuple/group_deps&quot;\\n  op: &quot;NoOp&quot;\\n  input: &quot;^train/gradients/dnn/hidden2/MatMul_grad/MatMul&quot;\\n  input: &quot;^train/gradients/dnn/hidden2/MatMul_grad/MatMul_1&quot;\\n}\\nnode {\\n  name: &quot;train/gradients/dnn/hidden2/MatMul_grad/tuple/control_dependency&quot;\\n  op: &quot;Identity&quot;\\n  input: &quot;train/gradients/dnn/hidden2/MatMul_grad/MatMul&quot;\\n  input: &quot;^train/gradients/dnn/hidden2/MatMul_grad/tuple/group_deps&quot;\\n  attr {\\n    key: &quot;T&quot;\\n    value {\\n      type: DT_FLOAT\\n    }\\n  }\\n  attr {\\n    key: &quot;_class&quot;\\n    value {\\n      list {\\n        s: &quot;loc:@train/gradients/dnn/hidden2/MatMul_grad/MatMul&quot;\\n      }\\n    }\\n  }\\n}\\nnode {\\n  name: &quot;train/gradients/dnn/hidden2/MatMul_grad/tuple/control_dependency_1&quot;\\n  op: &quot;Identity&quot;\\n  input: &quot;train/gradients/dnn/hidden2/MatMul_grad/MatMul_1&quot;\\n  input: &quot;^train/gradients/dnn/hidden2/MatMul_grad/tuple/group_deps&quot;\\n  attr {\\n    key: &quot;T&quot;\\n    value {\\n      type: DT_FLOAT\\n    }\\n  }\\n  attr {\\n    key: &quot;_class&quot;\\n    value {\\n      list {\\n        s: &quot;loc:@train/gradients/dnn/hidden2/MatMul_grad/MatMul_1&quot;\\n      }\\n    }\\n  }\\n}\\nnode {\\n  name: &quot;train/gradients/dnn/hidden1/Relu_grad/ReluGrad&quot;\\n  op: &quot;ReluGrad&quot;\\n  input: &quot;train/gradients/dnn/hidden2/MatMul_grad/tuple/control_dependency&quot;\\n  input: &quot;dnn/hidden1/Relu&quot;\\n  attr {\\n    key: &quot;T&quot;\\n    value {\\n      type: DT_FLOAT\\n    }\\n  }\\n}\\nnode {\\n  name: &quot;train/gradients/dnn/hidden1/add_grad/Shape&quot;\\n  op: &quot;Shape&quot;\\n  input: &quot;dnn/hidden1/MatMul&quot;\\n  attr {\\n    key: &quot;T&quot;\\n    value {\\n      type: DT_FLOAT\\n    }\\n  }\\n  attr {\\n    key: &quot;out_type&quot;\\n    value {\\n      type: DT_INT32\\n    }\\n  }\\n}\\nnode {\\n  name: &quot;train/gradients/dnn/hidden1/add_grad/Shape_1&quot;\\n  op: &quot;Const&quot;\\n  attr {\\n    key: &quot;dtype&quot;\\n    value {\\n      type: DT_INT32\\n    }\\n  }\\n  attr {\\n    key: &quot;value&quot;\\n    value {\\n      tensor {\\n        dtype: DT_INT32\\n        tensor_shape {\\n          dim {\\n            size: 1\\n          }\\n        }\\n        int_val: 300\\n      }\\n    }\\n  }\\n}\\nnode {\\n  name: &quot;train/gradients/dnn/hidden1/add_grad/BroadcastGradientArgs&quot;\\n  op: &quot;BroadcastGradientArgs&quot;\\n  input: &quot;train/gradients/dnn/hidden1/add_grad/Shape&quot;\\n  input: &quot;train/gradients/dnn/hidden1/add_grad/Shape_1&quot;\\n  attr {\\n    key: &quot;T&quot;\\n    value {\\n      type: DT_INT32\\n    }\\n  }\\n}\\nnode {\\n  name: &quot;train/gradients/dnn/hidden1/add_grad/Sum&quot;\\n  op: &quot;Sum&quot;\\n  input: &quot;train/gradients/dnn/hidden1/Relu_grad/ReluGrad&quot;\\n  input: &quot;train/gradients/dnn/hidden1/add_grad/BroadcastGradientArgs&quot;\\n  attr {\\n    key: &quot;T&quot;\\n    value {\\n      type: DT_FLOAT\\n    }\\n  }\\n  attr {\\n    key: &quot;Tidx&quot;\\n    value {\\n      type: DT_INT32\\n    }\\n  }\\n  attr {\\n    key: &quot;keep_dims&quot;\\n    value {\\n      b: false\\n    }\\n  }\\n}\\nnode {\\n  name: &quot;train/gradients/dnn/hidden1/add_grad/Reshape&quot;\\n  op: &quot;Reshape&quot;\\n  input: &quot;train/gradients/dnn/hidden1/add_grad/Sum&quot;\\n  input: &quot;train/gradients/dnn/hidden1/add_grad/Shape&quot;\\n  attr {\\n    key: &quot;T&quot;\\n    value {\\n      type: DT_FLOAT\\n    }\\n  }\\n  attr {\\n    key: &quot;Tshape&quot;\\n    value {\\n      type: DT_INT32\\n    }\\n  }\\n}\\nnode {\\n  name: &quot;train/gradients/dnn/hidden1/add_grad/Sum_1&quot;\\n  op: &quot;Sum&quot;\\n  input: &quot;train/gradients/dnn/hidden1/Relu_grad/ReluGrad&quot;\\n  input: &quot;train/gradients/dnn/hidden1/add_grad/BroadcastGradientArgs:1&quot;\\n  attr {\\n    key: &quot;T&quot;\\n    value {\\n      type: DT_FLOAT\\n    }\\n  }\\n  attr {\\n    key: &quot;Tidx&quot;\\n    value {\\n      type: DT_INT32\\n    }\\n  }\\n  attr {\\n    key: &quot;keep_dims&quot;\\n    value {\\n      b: false\\n    }\\n  }\\n}\\nnode {\\n  name: &quot;train/gradients/dnn/hidden1/add_grad/Reshape_1&quot;\\n  op: &quot;Reshape&quot;\\n  input: &quot;train/gradients/dnn/hidden1/add_grad/Sum_1&quot;\\n  input: &quot;train/gradients/dnn/hidden1/add_grad/Shape_1&quot;\\n  attr {\\n    key: &quot;T&quot;\\n    value {\\n      type: DT_FLOAT\\n    }\\n  }\\n  attr {\\n    key: &quot;Tshape&quot;\\n    value {\\n      type: DT_INT32\\n    }\\n  }\\n}\\nnode {\\n  name: &quot;train/gradients/dnn/hidden1/add_grad/tuple/group_deps&quot;\\n  op: &quot;NoOp&quot;\\n  input: &quot;^train/gradients/dnn/hidden1/add_grad/Reshape&quot;\\n  input: &quot;^train/gradients/dnn/hidden1/add_grad/Reshape_1&quot;\\n}\\nnode {\\n  name: &quot;train/gradients/dnn/hidden1/add_grad/tuple/control_dependency&quot;\\n  op: &quot;Identity&quot;\\n  input: &quot;train/gradients/dnn/hidden1/add_grad/Reshape&quot;\\n  input: &quot;^train/gradients/dnn/hidden1/add_grad/tuple/group_deps&quot;\\n  attr {\\n    key: &quot;T&quot;\\n    value {\\n      type: DT_FLOAT\\n    }\\n  }\\n  attr {\\n    key: &quot;_class&quot;\\n    value {\\n      list {\\n        s: &quot;loc:@train/gradients/dnn/hidden1/add_grad/Reshape&quot;\\n      }\\n    }\\n  }\\n}\\nnode {\\n  name: &quot;train/gradients/dnn/hidden1/add_grad/tuple/control_dependency_1&quot;\\n  op: &quot;Identity&quot;\\n  input: &quot;train/gradients/dnn/hidden1/add_grad/Reshape_1&quot;\\n  input: &quot;^train/gradients/dnn/hidden1/add_grad/tuple/group_deps&quot;\\n  attr {\\n    key: &quot;T&quot;\\n    value {\\n      type: DT_FLOAT\\n    }\\n  }\\n  attr {\\n    key: &quot;_class&quot;\\n    value {\\n      list {\\n        s: &quot;loc:@train/gradients/dnn/hidden1/add_grad/Reshape_1&quot;\\n      }\\n    }\\n  }\\n}\\nnode {\\n  name: &quot;train/gradients/dnn/hidden1/MatMul_grad/MatMul&quot;\\n  op: &quot;MatMul&quot;\\n  input: &quot;train/gradients/dnn/hidden1/add_grad/tuple/control_dependency&quot;\\n  input: &quot;dnn/hidden1/kernel/read&quot;\\n  attr {\\n    key: &quot;T&quot;\\n    value {\\n      type: DT_FLOAT\\n    }\\n  }\\n  attr {\\n    key: &quot;transpose_a&quot;\\n    value {\\n      b: false\\n    }\\n  }\\n  attr {\\n    key: &quot;transpose_b&quot;\\n    value {\\n      b: true\\n    }\\n  }\\n}\\nnode {\\n  name: &quot;train/gradients/dnn/hidden1/MatMul_grad/MatMul_1&quot;\\n  op: &quot;MatMul&quot;\\n  input: &quot;X&quot;\\n  input: &quot;train/gradients/dnn/hidden1/add_grad/tuple/control_dependency&quot;\\n  attr {\\n    key: &quot;T&quot;\\n    value {\\n      type: DT_FLOAT\\n    }\\n  }\\n  attr {\\n    key: &quot;transpose_a&quot;\\n    value {\\n      b: true\\n    }\\n  }\\n  attr {\\n    key: &quot;transpose_b&quot;\\n    value {\\n      b: false\\n    }\\n  }\\n}\\nnode {\\n  name: &quot;train/gradients/dnn/hidden1/MatMul_grad/tuple/group_deps&quot;\\n  op: &quot;NoOp&quot;\\n  input: &quot;^train/gradients/dnn/hidden1/MatMul_grad/MatMul&quot;\\n  input: &quot;^train/gradients/dnn/hidden1/MatMul_grad/MatMul_1&quot;\\n}\\nnode {\\n  name: &quot;train/gradients/dnn/hidden1/MatMul_grad/tuple/control_dependency&quot;\\n  op: &quot;Identity&quot;\\n  input: &quot;train/gradients/dnn/hidden1/MatMul_grad/MatMul&quot;\\n  input: &quot;^train/gradients/dnn/hidden1/MatMul_grad/tuple/group_deps&quot;\\n  attr {\\n    key: &quot;T&quot;\\n    value {\\n      type: DT_FLOAT\\n    }\\n  }\\n  attr {\\n    key: &quot;_class&quot;\\n    value {\\n      list {\\n        s: &quot;loc:@train/gradients/dnn/hidden1/MatMul_grad/MatMul&quot;\\n      }\\n    }\\n  }\\n}\\nnode {\\n  name: &quot;train/gradients/dnn/hidden1/MatMul_grad/tuple/control_dependency_1&quot;\\n  op: &quot;Identity&quot;\\n  input: &quot;train/gradients/dnn/hidden1/MatMul_grad/MatMul_1&quot;\\n  input: &quot;^train/gradients/dnn/hidden1/MatMul_grad/tuple/group_deps&quot;\\n  attr {\\n    key: &quot;T&quot;\\n    value {\\n      type: DT_FLOAT\\n    }\\n  }\\n  attr {\\n    key: &quot;_class&quot;\\n    value {\\n      list {\\n        s: &quot;loc:@train/gradients/dnn/hidden1/MatMul_grad/MatMul_1&quot;\\n      }\\n    }\\n  }\\n}\\nnode {\\n  name: &quot;train/GradientDescent/learning_rate&quot;\\n  op: &quot;Const&quot;\\n  attr {\\n    key: &quot;dtype&quot;\\n    value {\\n      type: DT_FLOAT\\n    }\\n  }\\n  attr {\\n    key: &quot;value&quot;\\n    value {\\n      tensor {\\n        dtype: DT_FLOAT\\n        tensor_shape {\\n        }\\n        float_val: 0.009999999776482582\\n      }\\n    }\\n  }\\n}\\nnode {\\n  name: &quot;train/GradientDescent/update_dnn/hidden1/kernel/ApplyGradientDescent&quot;\\n  op: &quot;ApplyGradientDescent&quot;\\n  input: &quot;dnn/hidden1/kernel&quot;\\n  input: &quot;train/GradientDescent/learning_rate&quot;\\n  input: &quot;train/gradients/dnn/hidden1/MatMul_grad/tuple/control_dependency_1&quot;\\n  attr {\\n    key: &quot;T&quot;\\n    value {\\n      type: DT_FLOAT\\n    }\\n  }\\n  attr {\\n    key: &quot;_class&quot;\\n    value {\\n      list {\\n        s: &quot;loc:@dnn/hidden1/kernel&quot;\\n      }\\n    }\\n  }\\n  attr {\\n    key: &quot;use_locking&quot;\\n    value {\\n      b: false\\n    }\\n  }\\n}\\nnode {\\n  name: &quot;train/GradientDescent/update_dnn/hidden1/bias/ApplyGradientDescent&quot;\\n  op: &quot;ApplyGradientDescent&quot;\\n  input: &quot;dnn/hidden1/bias&quot;\\n  input: &quot;train/GradientDescent/learning_rate&quot;\\n  input: &quot;train/gradients/dnn/hidden1/add_grad/tuple/control_dependency_1&quot;\\n  attr {\\n    key: &quot;T&quot;\\n    value {\\n      type: DT_FLOAT\\n    }\\n  }\\n  attr {\\n    key: &quot;_class&quot;\\n    value {\\n      list {\\n        s: &quot;loc:@dnn/hidden1/bias&quot;\\n      }\\n    }\\n  }\\n  attr {\\n    key: &quot;use_locking&quot;\\n    value {\\n      b: false\\n    }\\n  }\\n}\\nnode {\\n  name: &quot;train/GradientDescent/update_dnn/hidden2/kernel/ApplyGradientDescent&quot;\\n  op: &quot;ApplyGradientDescent&quot;\\n  input: &quot;dnn/hidden2/kernel&quot;\\n  input: &quot;train/GradientDescent/learning_rate&quot;\\n  input: &quot;train/gradients/dnn/hidden2/MatMul_grad/tuple/control_dependency_1&quot;\\n  attr {\\n    key: &quot;T&quot;\\n    value {\\n      type: DT_FLOAT\\n    }\\n  }\\n  attr {\\n    key: &quot;_class&quot;\\n    value {\\n      list {\\n        s: &quot;loc:@dnn/hidden2/kernel&quot;\\n      }\\n    }\\n  }\\n  attr {\\n    key: &quot;use_locking&quot;\\n    value {\\n      b: false\\n    }\\n  }\\n}\\nnode {\\n  name: &quot;train/GradientDescent/update_dnn/hidden2/bias/ApplyGradientDescent&quot;\\n  op: &quot;ApplyGradientDescent&quot;\\n  input: &quot;dnn/hidden2/bias&quot;\\n  input: &quot;train/GradientDescent/learning_rate&quot;\\n  input: &quot;train/gradients/dnn/hidden2/add_grad/tuple/control_dependency_1&quot;\\n  attr {\\n    key: &quot;T&quot;\\n    value {\\n      type: DT_FLOAT\\n    }\\n  }\\n  attr {\\n    key: &quot;_class&quot;\\n    value {\\n      list {\\n        s: &quot;loc:@dnn/hidden2/bias&quot;\\n      }\\n    }\\n  }\\n  attr {\\n    key: &quot;use_locking&quot;\\n    value {\\n      b: false\\n    }\\n  }\\n}\\nnode {\\n  name: &quot;train/GradientDescent/update_dnn/outputs/kernel/ApplyGradientDescent&quot;\\n  op: &quot;ApplyGradientDescent&quot;\\n  input: &quot;dnn/outputs/kernel&quot;\\n  input: &quot;train/GradientDescent/learning_rate&quot;\\n  input: &quot;train/gradients/dnn/outputs/MatMul_grad/tuple/control_dependency_1&quot;\\n  attr {\\n    key: &quot;T&quot;\\n    value {\\n      type: DT_FLOAT\\n    }\\n  }\\n  attr {\\n    key: &quot;_class&quot;\\n    value {\\n      list {\\n        s: &quot;loc:@dnn/outputs/kernel&quot;\\n      }\\n    }\\n  }\\n  attr {\\n    key: &quot;use_locking&quot;\\n    value {\\n      b: false\\n    }\\n  }\\n}\\nnode {\\n  name: &quot;train/GradientDescent/update_dnn/outputs/bias/ApplyGradientDescent&quot;\\n  op: &quot;ApplyGradientDescent&quot;\\n  input: &quot;dnn/outputs/bias&quot;\\n  input: &quot;train/GradientDescent/learning_rate&quot;\\n  input: &quot;train/gradients/dnn/outputs/add_grad/tuple/control_dependency_1&quot;\\n  attr {\\n    key: &quot;T&quot;\\n    value {\\n      type: DT_FLOAT\\n    }\\n  }\\n  attr {\\n    key: &quot;_class&quot;\\n    value {\\n      list {\\n        s: &quot;loc:@dnn/outputs/bias&quot;\\n      }\\n    }\\n  }\\n  attr {\\n    key: &quot;use_locking&quot;\\n    value {\\n      b: false\\n    }\\n  }\\n}\\nnode {\\n  name: &quot;train/GradientDescent&quot;\\n  op: &quot;NoOp&quot;\\n  input: &quot;^train/GradientDescent/update_dnn/hidden1/bias/ApplyGradientDescent&quot;\\n  input: &quot;^train/GradientDescent/update_dnn/hidden1/kernel/ApplyGradientDescent&quot;\\n  input: &quot;^train/GradientDescent/update_dnn/hidden2/bias/ApplyGradientDescent&quot;\\n  input: &quot;^train/GradientDescent/update_dnn/hidden2/kernel/ApplyGradientDescent&quot;\\n  input: &quot;^train/GradientDescent/update_dnn/outputs/bias/ApplyGradientDescent&quot;\\n  input: &quot;^train/GradientDescent/update_dnn/outputs/kernel/ApplyGradientDescent&quot;\\n}\\nnode {\\n  name: &quot;eval/in_top_k/InTopKV2/k&quot;\\n  op: &quot;Const&quot;\\n  attr {\\n    key: &quot;dtype&quot;\\n    value {\\n      type: DT_INT32\\n    }\\n  }\\n  attr {\\n    key: &quot;value&quot;\\n    value {\\n      tensor {\\n        dtype: DT_INT32\\n        tensor_shape {\\n        }\\n        int_val: 1\\n      }\\n    }\\n  }\\n}\\nnode {\\n  name: &quot;eval/in_top_k/InTopKV2&quot;\\n  op: &quot;InTopKV2&quot;\\n  input: &quot;dnn/outputs/add&quot;\\n  input: &quot;y&quot;\\n  input: &quot;eval/in_top_k/InTopKV2/k&quot;\\n  attr {\\n    key: &quot;T&quot;\\n    value {\\n      type: DT_INT32\\n    }\\n  }\\n}\\nnode {\\n  name: &quot;eval/Cast&quot;\\n  op: &quot;Cast&quot;\\n  input: &quot;eval/in_top_k/InTopKV2&quot;\\n  attr {\\n    key: &quot;DstT&quot;\\n    value {\\n      type: DT_FLOAT\\n    }\\n  }\\n  attr {\\n    key: &quot;SrcT&quot;\\n    value {\\n      type: DT_BOOL\\n    }\\n  }\\n  attr {\\n    key: &quot;Truncate&quot;\\n    value {\\n      b: false\\n    }\\n  }\\n}\\nnode {\\n  name: &quot;eval/Const&quot;\\n  op: &quot;Const&quot;\\n  attr {\\n    key: &quot;dtype&quot;\\n    value {\\n      type: DT_INT32\\n    }\\n  }\\n  attr {\\n    key: &quot;value&quot;\\n    value {\\n      tensor {\\n        dtype: DT_INT32\\n        tensor_shape {\\n          dim {\\n            size: 1\\n          }\\n        }\\n        int_val: 0\\n      }\\n    }\\n  }\\n}\\nnode {\\n  name: &quot;eval/Mean&quot;\\n  op: &quot;Mean&quot;\\n  input: &quot;eval/Cast&quot;\\n  input: &quot;eval/Const&quot;\\n  attr {\\n    key: &quot;T&quot;\\n    value {\\n      type: DT_FLOAT\\n    }\\n  }\\n  attr {\\n    key: &quot;Tidx&quot;\\n    value {\\n      type: DT_INT32\\n    }\\n  }\\n  attr {\\n    key: &quot;keep_dims&quot;\\n    value {\\n      b: false\\n    }\\n  }\\n}\\nnode {\\n  name: &quot;init&quot;\\n  op: &quot;NoOp&quot;\\n  input: &quot;^dnn/hidden1/bias/Assign&quot;\\n  input: &quot;^dnn/hidden1/kernel/Assign&quot;\\n  input: &quot;^dnn/hidden2/bias/Assign&quot;\\n  input: &quot;^dnn/hidden2/kernel/Assign&quot;\\n  input: &quot;^dnn/outputs/bias/Assign&quot;\\n  input: &quot;^dnn/outputs/kernel/Assign&quot;\\n}\\nnode {\\n  name: &quot;save/Const&quot;\\n  op: &quot;Const&quot;\\n  attr {\\n    key: &quot;dtype&quot;\\n    value {\\n      type: DT_STRING\\n    }\\n  }\\n  attr {\\n    key: &quot;value&quot;\\n    value {\\n      tensor {\\n        dtype: DT_STRING\\n        tensor_shape {\\n        }\\n        string_val: &quot;model&quot;\\n      }\\n    }\\n  }\\n}\\nnode {\\n  name: &quot;save/SaveV2/tensor_names&quot;\\n  op: &quot;Const&quot;\\n  attr {\\n    key: &quot;dtype&quot;\\n    value {\\n      type: DT_STRING\\n    }\\n  }\\n  attr {\\n    key: &quot;value&quot;\\n    value {\\n      tensor {\\n        dtype: DT_STRING\\n        tensor_shape {\\n          dim {\\n            size: 6\\n          }\\n        }\\n        string_val: &quot;dnn/hidden1/bias&quot;\\n        string_val: &quot;dnn/hidden1/kernel&quot;\\n        string_val: &quot;dnn/hidden2/bias&quot;\\n        string_val: &quot;dnn/hidden2/kernel&quot;\\n        string_val: &quot;dnn/outputs/bias&quot;\\n        string_val: &quot;dnn/outputs/kernel&quot;\\n      }\\n    }\\n  }\\n}\\nnode {\\n  name: &quot;save/SaveV2/shape_and_slices&quot;\\n  op: &quot;Const&quot;\\n  attr {\\n    key: &quot;dtype&quot;\\n    value {\\n      type: DT_STRING\\n    }\\n  }\\n  attr {\\n    key: &quot;value&quot;\\n    value {\\n      tensor {\\n        dtype: DT_STRING\\n        tensor_shape {\\n          dim {\\n            size: 6\\n          }\\n        }\\n        string_val: &quot;&quot;\\n        string_val: &quot;&quot;\\n        string_val: &quot;&quot;\\n        string_val: &quot;&quot;\\n        string_val: &quot;&quot;\\n        string_val: &quot;&quot;\\n      }\\n    }\\n  }\\n}\\nnode {\\n  name: &quot;save/SaveV2&quot;\\n  op: &quot;SaveV2&quot;\\n  input: &quot;save/Const&quot;\\n  input: &quot;save/SaveV2/tensor_names&quot;\\n  input: &quot;save/SaveV2/shape_and_slices&quot;\\n  input: &quot;dnn/hidden1/bias&quot;\\n  input: &quot;dnn/hidden1/kernel&quot;\\n  input: &quot;dnn/hidden2/bias&quot;\\n  input: &quot;dnn/hidden2/kernel&quot;\\n  input: &quot;dnn/outputs/bias&quot;\\n  input: &quot;dnn/outputs/kernel&quot;\\n  attr {\\n    key: &quot;dtypes&quot;\\n    value {\\n      list {\\n        type: DT_FLOAT\\n        type: DT_FLOAT\\n        type: DT_FLOAT\\n        type: DT_FLOAT\\n        type: DT_FLOAT\\n        type: DT_FLOAT\\n      }\\n    }\\n  }\\n}\\nnode {\\n  name: &quot;save/control_dependency&quot;\\n  op: &quot;Identity&quot;\\n  input: &quot;save/Const&quot;\\n  input: &quot;^save/SaveV2&quot;\\n  attr {\\n    key: &quot;T&quot;\\n    value {\\n      type: DT_STRING\\n    }\\n  }\\n  attr {\\n    key: &quot;_class&quot;\\n    value {\\n      list {\\n        s: &quot;loc:@save/Const&quot;\\n      }\\n    }\\n  }\\n}\\nnode {\\n  name: &quot;save/RestoreV2/tensor_names&quot;\\n  op: &quot;Const&quot;\\n  device: &quot;/device:CPU:0&quot;\\n  attr {\\n    key: &quot;dtype&quot;\\n    value {\\n      type: DT_STRING\\n    }\\n  }\\n  attr {\\n    key: &quot;value&quot;\\n    value {\\n      tensor {\\n        dtype: DT_STRING\\n        tensor_shape {\\n          dim {\\n            size: 6\\n          }\\n        }\\n        string_val: &quot;dnn/hidden1/bias&quot;\\n        string_val: &quot;dnn/hidden1/kernel&quot;\\n        string_val: &quot;dnn/hidden2/bias&quot;\\n        string_val: &quot;dnn/hidden2/kernel&quot;\\n        string_val: &quot;dnn/outputs/bias&quot;\\n        string_val: &quot;dnn/outputs/kernel&quot;\\n      }\\n    }\\n  }\\n}\\nnode {\\n  name: &quot;save/RestoreV2/shape_and_slices&quot;\\n  op: &quot;Const&quot;\\n  device: &quot;/device:CPU:0&quot;\\n  attr {\\n    key: &quot;dtype&quot;\\n    value {\\n      type: DT_STRING\\n    }\\n  }\\n  attr {\\n    key: &quot;value&quot;\\n    value {\\n      tensor {\\n        dtype: DT_STRING\\n        tensor_shape {\\n          dim {\\n            size: 6\\n          }\\n        }\\n        string_val: &quot;&quot;\\n        string_val: &quot;&quot;\\n        string_val: &quot;&quot;\\n        string_val: &quot;&quot;\\n        string_val: &quot;&quot;\\n        string_val: &quot;&quot;\\n      }\\n    }\\n  }\\n}\\nnode {\\n  name: &quot;save/RestoreV2&quot;\\n  op: &quot;RestoreV2&quot;\\n  input: &quot;save/Const&quot;\\n  input: &quot;save/RestoreV2/tensor_names&quot;\\n  input: &quot;save/RestoreV2/shape_and_slices&quot;\\n  device: &quot;/device:CPU:0&quot;\\n  attr {\\n    key: &quot;dtypes&quot;\\n    value {\\n      list {\\n        type: DT_FLOAT\\n        type: DT_FLOAT\\n        type: DT_FLOAT\\n        type: DT_FLOAT\\n        type: DT_FLOAT\\n        type: DT_FLOAT\\n      }\\n    }\\n  }\\n}\\nnode {\\n  name: &quot;save/Assign&quot;\\n  op: &quot;Assign&quot;\\n  input: &quot;dnn/hidden1/bias&quot;\\n  input: &quot;save/RestoreV2&quot;\\n  attr {\\n    key: &quot;T&quot;\\n    value {\\n      type: DT_FLOAT\\n    }\\n  }\\n  attr {\\n    key: &quot;_class&quot;\\n    value {\\n      list {\\n        s: &quot;loc:@dnn/hidden1/bias&quot;\\n      }\\n    }\\n  }\\n  attr {\\n    key: &quot;use_locking&quot;\\n    value {\\n      b: true\\n    }\\n  }\\n  attr {\\n    key: &quot;validate_shape&quot;\\n    value {\\n      b: true\\n    }\\n  }\\n}\\nnode {\\n  name: &quot;save/Assign_1&quot;\\n  op: &quot;Assign&quot;\\n  input: &quot;dnn/hidden1/kernel&quot;\\n  input: &quot;save/RestoreV2:1&quot;\\n  attr {\\n    key: &quot;T&quot;\\n    value {\\n      type: DT_FLOAT\\n    }\\n  }\\n  attr {\\n    key: &quot;_class&quot;\\n    value {\\n      list {\\n        s: &quot;loc:@dnn/hidden1/kernel&quot;\\n      }\\n    }\\n  }\\n  attr {\\n    key: &quot;use_locking&quot;\\n    value {\\n      b: true\\n    }\\n  }\\n  attr {\\n    key: &quot;validate_shape&quot;\\n    value {\\n      b: true\\n    }\\n  }\\n}\\nnode {\\n  name: &quot;save/Assign_2&quot;\\n  op: &quot;Assign&quot;\\n  input: &quot;dnn/hidden2/bias&quot;\\n  input: &quot;save/RestoreV2:2&quot;\\n  attr {\\n    key: &quot;T&quot;\\n    value {\\n      type: DT_FLOAT\\n    }\\n  }\\n  attr {\\n    key: &quot;_class&quot;\\n    value {\\n      list {\\n        s: &quot;loc:@dnn/hidden2/bias&quot;\\n      }\\n    }\\n  }\\n  attr {\\n    key: &quot;use_locking&quot;\\n    value {\\n      b: true\\n    }\\n  }\\n  attr {\\n    key: &quot;validate_shape&quot;\\n    value {\\n      b: true\\n    }\\n  }\\n}\\nnode {\\n  name: &quot;save/Assign_3&quot;\\n  op: &quot;Assign&quot;\\n  input: &quot;dnn/hidden2/kernel&quot;\\n  input: &quot;save/RestoreV2:3&quot;\\n  attr {\\n    key: &quot;T&quot;\\n    value {\\n      type: DT_FLOAT\\n    }\\n  }\\n  attr {\\n    key: &quot;_class&quot;\\n    value {\\n      list {\\n        s: &quot;loc:@dnn/hidden2/kernel&quot;\\n      }\\n    }\\n  }\\n  attr {\\n    key: &quot;use_locking&quot;\\n    value {\\n      b: true\\n    }\\n  }\\n  attr {\\n    key: &quot;validate_shape&quot;\\n    value {\\n      b: true\\n    }\\n  }\\n}\\nnode {\\n  name: &quot;save/Assign_4&quot;\\n  op: &quot;Assign&quot;\\n  input: &quot;dnn/outputs/bias&quot;\\n  input: &quot;save/RestoreV2:4&quot;\\n  attr {\\n    key: &quot;T&quot;\\n    value {\\n      type: DT_FLOAT\\n    }\\n  }\\n  attr {\\n    key: &quot;_class&quot;\\n    value {\\n      list {\\n        s: &quot;loc:@dnn/outputs/bias&quot;\\n      }\\n    }\\n  }\\n  attr {\\n    key: &quot;use_locking&quot;\\n    value {\\n      b: true\\n    }\\n  }\\n  attr {\\n    key: &quot;validate_shape&quot;\\n    value {\\n      b: true\\n    }\\n  }\\n}\\nnode {\\n  name: &quot;save/Assign_5&quot;\\n  op: &quot;Assign&quot;\\n  input: &quot;dnn/outputs/kernel&quot;\\n  input: &quot;save/RestoreV2:5&quot;\\n  attr {\\n    key: &quot;T&quot;\\n    value {\\n      type: DT_FLOAT\\n    }\\n  }\\n  attr {\\n    key: &quot;_class&quot;\\n    value {\\n      list {\\n        s: &quot;loc:@dnn/outputs/kernel&quot;\\n      }\\n    }\\n  }\\n  attr {\\n    key: &quot;use_locking&quot;\\n    value {\\n      b: true\\n    }\\n  }\\n  attr {\\n    key: &quot;validate_shape&quot;\\n    value {\\n      b: true\\n    }\\n  }\\n}\\nnode {\\n  name: &quot;save/restore_all&quot;\\n  op: &quot;NoOp&quot;\\n  input: &quot;^save/Assign&quot;\\n  input: &quot;^save/Assign_1&quot;\\n  input: &quot;^save/Assign_2&quot;\\n  input: &quot;^save/Assign_3&quot;\\n  input: &quot;^save/Assign_4&quot;\\n  input: &quot;^save/Assign_5&quot;\\n}\\n';\n",
       "          }\n",
       "        </script>\n",
       "        <link rel=&quot;import&quot; href=&quot;https://tensorboard.appspot.com/tf-graph-basic.build.html&quot; onload=load()>\n",
       "        <div style=&quot;height:600px&quot;>\n",
       "          <tf-graph-basic id=&quot;graph0.2851015593374667&quot;></tf-graph-basic>\n",
       "        </div>\n",
       "    \"></iframe>\n",
       "    "
      ],
      "text/plain": [
       "<IPython.core.display.HTML object>"
      ]
     },
     "metadata": {},
     "output_type": "display_data"
    }
   ],
   "source": [
    "show_graph(tf.get_default_graph())"
   ]
  },
  {
   "cell_type": "markdown",
   "metadata": {},
   "source": [
    "## `neuron_layer()` 대신 `dense()` 사용"
   ]
  },
  {
   "cell_type": "code",
   "execution_count": 38,
   "metadata": {},
   "outputs": [],
   "source": [
    "n_inputs = 28*28  # MNIST\n",
    "n_hidden1 = 300\n",
    "n_hidden2 = 100\n",
    "n_outputs = 10"
   ]
  },
  {
   "cell_type": "code",
   "execution_count": 39,
   "metadata": {},
   "outputs": [],
   "source": [
    "reset_graph()\n",
    "\n",
    "X = tf.placeholder(tf.float32, shape=(None, n_inputs), name=\"X\")\n",
    "y = tf.placeholder(tf.int32, shape=(None), name=\"y\") "
   ]
  },
  {
   "cell_type": "code",
   "execution_count": 40,
   "metadata": {},
   "outputs": [],
   "source": [
    "with tf.name_scope(\"dnn\"):\n",
    "    hidden1 = tf.layers.dense(X, n_hidden1, name=\"hidden1\",\n",
    "                              activation=tf.nn.relu)\n",
    "    hidden2 = tf.layers.dense(hidden1, n_hidden2, name=\"hidden2\",\n",
    "                              activation=tf.nn.relu)\n",
    "    logits = tf.layers.dense(hidden2, n_outputs, name=\"outputs\")\n",
    "    y_proba = tf.nn.softmax(logits)"
   ]
  },
  {
   "cell_type": "code",
   "execution_count": 41,
   "metadata": {},
   "outputs": [],
   "source": [
    "with tf.name_scope(\"loss\"):\n",
    "    xentropy = tf.nn.sparse_softmax_cross_entropy_with_logits(labels=y, logits=logits)\n",
    "    loss = tf.reduce_mean(xentropy, name=\"loss\")"
   ]
  },
  {
   "cell_type": "code",
   "execution_count": 42,
   "metadata": {},
   "outputs": [],
   "source": [
    "learning_rate = 0.01\n",
    "\n",
    "with tf.name_scope(\"train\"):\n",
    "    optimizer = tf.train.GradientDescentOptimizer(learning_rate)\n",
    "    training_op = optimizer.minimize(loss)"
   ]
  },
  {
   "cell_type": "code",
   "execution_count": 43,
   "metadata": {},
   "outputs": [],
   "source": [
    "with tf.name_scope(\"eval\"):\n",
    "    correct = tf.nn.in_top_k(logits, y, 1)\n",
    "    accuracy = tf.reduce_mean(tf.cast(correct, tf.float32))"
   ]
  },
  {
   "cell_type": "code",
   "execution_count": 44,
   "metadata": {},
   "outputs": [],
   "source": [
    "init = tf.global_variables_initializer()\n",
    "saver = tf.train.Saver()"
   ]
  },
  {
   "cell_type": "code",
   "execution_count": 45,
   "metadata": {},
   "outputs": [
    {
     "name": "stderr",
     "output_type": "stream",
     "text": [
      "  5%|▌         | 1/20 [00:04<01:24,  4.46s/it]"
     ]
    },
    {
     "name": "stdout",
     "output_type": "stream",
     "text": [
      "0 배치 데이터 정확도: 0.9 검증 세트 정확도: 0.9028\n"
     ]
    },
    {
     "name": "stderr",
     "output_type": "stream",
     "text": [
      "\r",
      " 10%|█         | 2/20 [00:08<01:16,  4.25s/it]"
     ]
    },
    {
     "name": "stdout",
     "output_type": "stream",
     "text": [
      "1 배치 데이터 정확도: 0.92 검증 세트 정확도: 0.9252\n"
     ]
    },
    {
     "name": "stderr",
     "output_type": "stream",
     "text": [
      "\r",
      " 15%|█▌        | 3/20 [00:12<01:09,  4.12s/it]"
     ]
    },
    {
     "name": "stdout",
     "output_type": "stream",
     "text": [
      "2 배치 데이터 정확도: 0.94 검증 세트 정확도: 0.9372\n"
     ]
    },
    {
     "name": "stderr",
     "output_type": "stream",
     "text": [
      "\r",
      " 20%|██        | 4/20 [00:15<01:04,  4.02s/it]"
     ]
    },
    {
     "name": "stdout",
     "output_type": "stream",
     "text": [
      "3 배치 데이터 정확도: 0.9 검증 세트 정확도: 0.9418\n"
     ]
    },
    {
     "name": "stderr",
     "output_type": "stream",
     "text": [
      "\r",
      " 25%|██▌       | 5/20 [00:19<00:59,  3.94s/it]"
     ]
    },
    {
     "name": "stdout",
     "output_type": "stream",
     "text": [
      "4 배치 데이터 정확도: 0.94 검증 세트 정확도: 0.9472\n"
     ]
    },
    {
     "name": "stderr",
     "output_type": "stream",
     "text": [
      "\r",
      " 30%|███       | 6/20 [00:23<00:54,  3.89s/it]"
     ]
    },
    {
     "name": "stdout",
     "output_type": "stream",
     "text": [
      "5 배치 데이터 정확도: 0.94 검증 세트 정확도: 0.951\n"
     ]
    },
    {
     "name": "stderr",
     "output_type": "stream",
     "text": [
      "\r",
      " 35%|███▌      | 7/20 [00:27<00:50,  3.87s/it]"
     ]
    },
    {
     "name": "stdout",
     "output_type": "stream",
     "text": [
      "6 배치 데이터 정확도: 1.0 검증 세트 정확도: 0.9548\n"
     ]
    },
    {
     "name": "stderr",
     "output_type": "stream",
     "text": [
      "\r",
      " 40%|████      | 8/20 [00:30<00:46,  3.86s/it]"
     ]
    },
    {
     "name": "stdout",
     "output_type": "stream",
     "text": [
      "7 배치 데이터 정확도: 0.94 검증 세트 정확도: 0.9612\n"
     ]
    },
    {
     "name": "stderr",
     "output_type": "stream",
     "text": [
      "\r",
      " 45%|████▌     | 9/20 [00:34<00:41,  3.80s/it]"
     ]
    },
    {
     "name": "stdout",
     "output_type": "stream",
     "text": [
      "8 배치 데이터 정확도: 0.96 검증 세트 정확도: 0.9616\n"
     ]
    },
    {
     "name": "stderr",
     "output_type": "stream",
     "text": [
      "\r",
      " 50%|█████     | 10/20 [00:38<00:37,  3.79s/it]"
     ]
    },
    {
     "name": "stdout",
     "output_type": "stream",
     "text": [
      "9 배치 데이터 정확도: 0.94 검증 세트 정확도: 0.965\n"
     ]
    },
    {
     "name": "stderr",
     "output_type": "stream",
     "text": [
      "\r",
      " 55%|█████▌    | 11/20 [00:42<00:34,  3.80s/it]"
     ]
    },
    {
     "name": "stdout",
     "output_type": "stream",
     "text": [
      "10 배치 데이터 정확도: 0.92 검증 세트 정확도: 0.9654\n"
     ]
    },
    {
     "name": "stderr",
     "output_type": "stream",
     "text": [
      "\r",
      " 60%|██████    | 12/20 [00:46<00:30,  3.84s/it]"
     ]
    },
    {
     "name": "stdout",
     "output_type": "stream",
     "text": [
      "11 배치 데이터 정확도: 0.98 검증 세트 정확도: 0.967\n"
     ]
    },
    {
     "name": "stderr",
     "output_type": "stream",
     "text": [
      "\r",
      " 65%|██████▌   | 13/20 [00:50<00:27,  3.86s/it]"
     ]
    },
    {
     "name": "stdout",
     "output_type": "stream",
     "text": [
      "12 배치 데이터 정확도: 0.98 검증 세트 정확도: 0.9682\n"
     ]
    },
    {
     "name": "stderr",
     "output_type": "stream",
     "text": [
      "\r",
      " 70%|███████   | 14/20 [00:54<00:23,  3.88s/it]"
     ]
    },
    {
     "name": "stdout",
     "output_type": "stream",
     "text": [
      "13 배치 데이터 정확도: 0.98 검증 세트 정확도: 0.9702\n"
     ]
    },
    {
     "name": "stderr",
     "output_type": "stream",
     "text": [
      "\r",
      " 75%|███████▌  | 15/20 [00:57<00:19,  3.85s/it]"
     ]
    },
    {
     "name": "stdout",
     "output_type": "stream",
     "text": [
      "14 배치 데이터 정확도: 1.0 검증 세트 정확도: 0.9694\n"
     ]
    },
    {
     "name": "stderr",
     "output_type": "stream",
     "text": [
      "\r",
      " 80%|████████  | 16/20 [01:01<00:15,  3.84s/it]"
     ]
    },
    {
     "name": "stdout",
     "output_type": "stream",
     "text": [
      "15 배치 데이터 정확도: 0.94 검증 세트 정확도: 0.9716\n"
     ]
    },
    {
     "name": "stderr",
     "output_type": "stream",
     "text": [
      "\r",
      " 85%|████████▌ | 17/20 [01:05<00:11,  3.81s/it]"
     ]
    },
    {
     "name": "stdout",
     "output_type": "stream",
     "text": [
      "16 배치 데이터 정확도: 0.98 검증 세트 정확도: 0.9726\n"
     ]
    },
    {
     "name": "stderr",
     "output_type": "stream",
     "text": [
      "\r",
      " 90%|█████████ | 18/20 [01:09<00:07,  3.77s/it]"
     ]
    },
    {
     "name": "stdout",
     "output_type": "stream",
     "text": [
      "17 배치 데이터 정확도: 1.0 검증 세트 정확도: 0.973\n"
     ]
    },
    {
     "name": "stderr",
     "output_type": "stream",
     "text": [
      "\r",
      " 95%|█████████▌| 19/20 [01:12<00:03,  3.77s/it]"
     ]
    },
    {
     "name": "stdout",
     "output_type": "stream",
     "text": [
      "18 배치 데이터 정확도: 0.98 검증 세트 정확도: 0.9746\n"
     ]
    },
    {
     "name": "stderr",
     "output_type": "stream",
     "text": [
      "\r",
      "100%|██████████| 20/20 [01:16<00:00,  3.80s/it]"
     ]
    },
    {
     "name": "stdout",
     "output_type": "stream",
     "text": [
      "19 배치 데이터 정확도: 0.98 검증 세트 정확도: 0.9756\n",
      "CPU times: user 4min 6s, sys: 55.7 s, total: 5min 2s\n",
      "Wall time: 1min 16s\n"
     ]
    },
    {
     "name": "stderr",
     "output_type": "stream",
     "text": [
      "\n"
     ]
    }
   ],
   "source": [
    "%%time\n",
    "\n",
    "n_epochs = 20\n",
    "n_batches = 50\n",
    "\n",
    "with tf.Session() as sess:\n",
    "    init.run()\n",
    "    #for epoch in range(n_epochs):\n",
    "    for epoch in trange(n_epochs):\n",
    "        for X_batch, y_batch in shuffle_batch(X_train, y_train, batch_size):\n",
    "            sess.run(training_op, feed_dict={X: X_batch, y: y_batch})\n",
    "        acc_batch = accuracy.eval(feed_dict={X: X_batch, y: y_batch})\n",
    "        acc_valid = accuracy.eval(feed_dict={X: X_valid, y: y_valid})\n",
    "        print(epoch, \"배치 데이터 정확도:\", acc_batch, \"검증 세트 정확도:\", acc_valid)\n",
    "\n",
    "    save_path = saver.save(sess, \"./my_model_final.ckpt\")"
   ]
  },
  {
   "cell_type": "code",
   "execution_count": 46,
   "metadata": {},
   "outputs": [
    {
     "data": {
      "text/html": [
       "\n",
       "        <iframe seamless style=\"width:1200px;height:620px;border:0\" srcdoc=\"\n",
       "        <script src=&quot;//cdnjs.cloudflare.com/ajax/libs/polymer/0.3.3/platform.js&quot;></script>\n",
       "        <script>\n",
       "          function load() {\n",
       "            document.getElementById(&quot;graph0.7224827313584268&quot;).pbtxt = 'node {\\n  name: &quot;X&quot;\\n  op: &quot;Placeholder&quot;\\n  attr {\\n    key: &quot;dtype&quot;\\n    value {\\n      type: DT_FLOAT\\n    }\\n  }\\n  attr {\\n    key: &quot;shape&quot;\\n    value {\\n      shape {\\n        dim {\\n          size: -1\\n        }\\n        dim {\\n          size: 784\\n        }\\n      }\\n    }\\n  }\\n}\\nnode {\\n  name: &quot;y&quot;\\n  op: &quot;Placeholder&quot;\\n  attr {\\n    key: &quot;dtype&quot;\\n    value {\\n      type: DT_INT32\\n    }\\n  }\\n  attr {\\n    key: &quot;shape&quot;\\n    value {\\n      shape {\\n        unknown_rank: true\\n      }\\n    }\\n  }\\n}\\nnode {\\n  name: &quot;hidden1/kernel/Initializer/random_uniform/shape&quot;\\n  op: &quot;Const&quot;\\n  attr {\\n    key: &quot;_class&quot;\\n    value {\\n      list {\\n        s: &quot;loc:@hidden1/kernel&quot;\\n      }\\n    }\\n  }\\n  attr {\\n    key: &quot;dtype&quot;\\n    value {\\n      type: DT_INT32\\n    }\\n  }\\n  attr {\\n    key: &quot;value&quot;\\n    value {\\n      tensor {\\n        dtype: DT_INT32\\n        tensor_shape {\\n          dim {\\n            size: 2\\n          }\\n        }\\n        tensor_content: &quot;\\\\020\\\\003\\\\000\\\\000,\\\\001\\\\000\\\\000&quot;\\n      }\\n    }\\n  }\\n}\\nnode {\\n  name: &quot;hidden1/kernel/Initializer/random_uniform/min&quot;\\n  op: &quot;Const&quot;\\n  attr {\\n    key: &quot;_class&quot;\\n    value {\\n      list {\\n        s: &quot;loc:@hidden1/kernel&quot;\\n      }\\n    }\\n  }\\n  attr {\\n    key: &quot;dtype&quot;\\n    value {\\n      type: DT_FLOAT\\n    }\\n  }\\n  attr {\\n    key: &quot;value&quot;\\n    value {\\n      tensor {\\n        dtype: DT_FLOAT\\n        tensor_shape {\\n        }\\n        float_val: -0.07439795136451721\\n      }\\n    }\\n  }\\n}\\nnode {\\n  name: &quot;hidden1/kernel/Initializer/random_uniform/max&quot;\\n  op: &quot;Const&quot;\\n  attr {\\n    key: &quot;_class&quot;\\n    value {\\n      list {\\n        s: &quot;loc:@hidden1/kernel&quot;\\n      }\\n    }\\n  }\\n  attr {\\n    key: &quot;dtype&quot;\\n    value {\\n      type: DT_FLOAT\\n    }\\n  }\\n  attr {\\n    key: &quot;value&quot;\\n    value {\\n      tensor {\\n        dtype: DT_FLOAT\\n        tensor_shape {\\n        }\\n        float_val: 0.07439795136451721\\n      }\\n    }\\n  }\\n}\\nnode {\\n  name: &quot;hidden1/kernel/Initializer/random_uniform/RandomUniform&quot;\\n  op: &quot;RandomUniform&quot;\\n  input: &quot;hidden1/kernel/Initializer/random_uniform/shape&quot;\\n  attr {\\n    key: &quot;T&quot;\\n    value {\\n      type: DT_INT32\\n    }\\n  }\\n  attr {\\n    key: &quot;_class&quot;\\n    value {\\n      list {\\n        s: &quot;loc:@hidden1/kernel&quot;\\n      }\\n    }\\n  }\\n  attr {\\n    key: &quot;dtype&quot;\\n    value {\\n      type: DT_FLOAT\\n    }\\n  }\\n  attr {\\n    key: &quot;seed&quot;\\n    value {\\n      i: 42\\n    }\\n  }\\n  attr {\\n    key: &quot;seed2&quot;\\n    value {\\n      i: 5\\n    }\\n  }\\n}\\nnode {\\n  name: &quot;hidden1/kernel/Initializer/random_uniform/sub&quot;\\n  op: &quot;Sub&quot;\\n  input: &quot;hidden1/kernel/Initializer/random_uniform/max&quot;\\n  input: &quot;hidden1/kernel/Initializer/random_uniform/min&quot;\\n  attr {\\n    key: &quot;T&quot;\\n    value {\\n      type: DT_FLOAT\\n    }\\n  }\\n  attr {\\n    key: &quot;_class&quot;\\n    value {\\n      list {\\n        s: &quot;loc:@hidden1/kernel&quot;\\n      }\\n    }\\n  }\\n}\\nnode {\\n  name: &quot;hidden1/kernel/Initializer/random_uniform/mul&quot;\\n  op: &quot;Mul&quot;\\n  input: &quot;hidden1/kernel/Initializer/random_uniform/RandomUniform&quot;\\n  input: &quot;hidden1/kernel/Initializer/random_uniform/sub&quot;\\n  attr {\\n    key: &quot;T&quot;\\n    value {\\n      type: DT_FLOAT\\n    }\\n  }\\n  attr {\\n    key: &quot;_class&quot;\\n    value {\\n      list {\\n        s: &quot;loc:@hidden1/kernel&quot;\\n      }\\n    }\\n  }\\n}\\nnode {\\n  name: &quot;hidden1/kernel/Initializer/random_uniform&quot;\\n  op: &quot;Add&quot;\\n  input: &quot;hidden1/kernel/Initializer/random_uniform/mul&quot;\\n  input: &quot;hidden1/kernel/Initializer/random_uniform/min&quot;\\n  attr {\\n    key: &quot;T&quot;\\n    value {\\n      type: DT_FLOAT\\n    }\\n  }\\n  attr {\\n    key: &quot;_class&quot;\\n    value {\\n      list {\\n        s: &quot;loc:@hidden1/kernel&quot;\\n      }\\n    }\\n  }\\n}\\nnode {\\n  name: &quot;hidden1/kernel&quot;\\n  op: &quot;VariableV2&quot;\\n  attr {\\n    key: &quot;_class&quot;\\n    value {\\n      list {\\n        s: &quot;loc:@hidden1/kernel&quot;\\n      }\\n    }\\n  }\\n  attr {\\n    key: &quot;container&quot;\\n    value {\\n      s: &quot;&quot;\\n    }\\n  }\\n  attr {\\n    key: &quot;dtype&quot;\\n    value {\\n      type: DT_FLOAT\\n    }\\n  }\\n  attr {\\n    key: &quot;shape&quot;\\n    value {\\n      shape {\\n        dim {\\n          size: 784\\n        }\\n        dim {\\n          size: 300\\n        }\\n      }\\n    }\\n  }\\n  attr {\\n    key: &quot;shared_name&quot;\\n    value {\\n      s: &quot;&quot;\\n    }\\n  }\\n}\\nnode {\\n  name: &quot;hidden1/kernel/Assign&quot;\\n  op: &quot;Assign&quot;\\n  input: &quot;hidden1/kernel&quot;\\n  input: &quot;hidden1/kernel/Initializer/random_uniform&quot;\\n  attr {\\n    key: &quot;T&quot;\\n    value {\\n      type: DT_FLOAT\\n    }\\n  }\\n  attr {\\n    key: &quot;_class&quot;\\n    value {\\n      list {\\n        s: &quot;loc:@hidden1/kernel&quot;\\n      }\\n    }\\n  }\\n  attr {\\n    key: &quot;use_locking&quot;\\n    value {\\n      b: true\\n    }\\n  }\\n  attr {\\n    key: &quot;validate_shape&quot;\\n    value {\\n      b: true\\n    }\\n  }\\n}\\nnode {\\n  name: &quot;hidden1/kernel/read&quot;\\n  op: &quot;Identity&quot;\\n  input: &quot;hidden1/kernel&quot;\\n  attr {\\n    key: &quot;T&quot;\\n    value {\\n      type: DT_FLOAT\\n    }\\n  }\\n  attr {\\n    key: &quot;_class&quot;\\n    value {\\n      list {\\n        s: &quot;loc:@hidden1/kernel&quot;\\n      }\\n    }\\n  }\\n}\\nnode {\\n  name: &quot;hidden1/bias/Initializer/zeros&quot;\\n  op: &quot;Const&quot;\\n  attr {\\n    key: &quot;_class&quot;\\n    value {\\n      list {\\n        s: &quot;loc:@hidden1/bias&quot;\\n      }\\n    }\\n  }\\n  attr {\\n    key: &quot;dtype&quot;\\n    value {\\n      type: DT_FLOAT\\n    }\\n  }\\n  attr {\\n    key: &quot;value&quot;\\n    value {\\n      tensor {\\n        dtype: DT_FLOAT\\n        tensor_shape {\\n          dim {\\n            size: 300\\n          }\\n        }\\n        float_val: 0.0\\n      }\\n    }\\n  }\\n}\\nnode {\\n  name: &quot;hidden1/bias&quot;\\n  op: &quot;VariableV2&quot;\\n  attr {\\n    key: &quot;_class&quot;\\n    value {\\n      list {\\n        s: &quot;loc:@hidden1/bias&quot;\\n      }\\n    }\\n  }\\n  attr {\\n    key: &quot;container&quot;\\n    value {\\n      s: &quot;&quot;\\n    }\\n  }\\n  attr {\\n    key: &quot;dtype&quot;\\n    value {\\n      type: DT_FLOAT\\n    }\\n  }\\n  attr {\\n    key: &quot;shape&quot;\\n    value {\\n      shape {\\n        dim {\\n          size: 300\\n        }\\n      }\\n    }\\n  }\\n  attr {\\n    key: &quot;shared_name&quot;\\n    value {\\n      s: &quot;&quot;\\n    }\\n  }\\n}\\nnode {\\n  name: &quot;hidden1/bias/Assign&quot;\\n  op: &quot;Assign&quot;\\n  input: &quot;hidden1/bias&quot;\\n  input: &quot;hidden1/bias/Initializer/zeros&quot;\\n  attr {\\n    key: &quot;T&quot;\\n    value {\\n      type: DT_FLOAT\\n    }\\n  }\\n  attr {\\n    key: &quot;_class&quot;\\n    value {\\n      list {\\n        s: &quot;loc:@hidden1/bias&quot;\\n      }\\n    }\\n  }\\n  attr {\\n    key: &quot;use_locking&quot;\\n    value {\\n      b: true\\n    }\\n  }\\n  attr {\\n    key: &quot;validate_shape&quot;\\n    value {\\n      b: true\\n    }\\n  }\\n}\\nnode {\\n  name: &quot;hidden1/bias/read&quot;\\n  op: &quot;Identity&quot;\\n  input: &quot;hidden1/bias&quot;\\n  attr {\\n    key: &quot;T&quot;\\n    value {\\n      type: DT_FLOAT\\n    }\\n  }\\n  attr {\\n    key: &quot;_class&quot;\\n    value {\\n      list {\\n        s: &quot;loc:@hidden1/bias&quot;\\n      }\\n    }\\n  }\\n}\\nnode {\\n  name: &quot;dnn/hidden1/MatMul&quot;\\n  op: &quot;MatMul&quot;\\n  input: &quot;X&quot;\\n  input: &quot;hidden1/kernel/read&quot;\\n  attr {\\n    key: &quot;T&quot;\\n    value {\\n      type: DT_FLOAT\\n    }\\n  }\\n  attr {\\n    key: &quot;transpose_a&quot;\\n    value {\\n      b: false\\n    }\\n  }\\n  attr {\\n    key: &quot;transpose_b&quot;\\n    value {\\n      b: false\\n    }\\n  }\\n}\\nnode {\\n  name: &quot;dnn/hidden1/BiasAdd&quot;\\n  op: &quot;BiasAdd&quot;\\n  input: &quot;dnn/hidden1/MatMul&quot;\\n  input: &quot;hidden1/bias/read&quot;\\n  attr {\\n    key: &quot;T&quot;\\n    value {\\n      type: DT_FLOAT\\n    }\\n  }\\n  attr {\\n    key: &quot;data_format&quot;\\n    value {\\n      s: &quot;NHWC&quot;\\n    }\\n  }\\n}\\nnode {\\n  name: &quot;dnn/hidden1/Relu&quot;\\n  op: &quot;Relu&quot;\\n  input: &quot;dnn/hidden1/BiasAdd&quot;\\n  attr {\\n    key: &quot;T&quot;\\n    value {\\n      type: DT_FLOAT\\n    }\\n  }\\n}\\nnode {\\n  name: &quot;hidden2/kernel/Initializer/random_uniform/shape&quot;\\n  op: &quot;Const&quot;\\n  attr {\\n    key: &quot;_class&quot;\\n    value {\\n      list {\\n        s: &quot;loc:@hidden2/kernel&quot;\\n      }\\n    }\\n  }\\n  attr {\\n    key: &quot;dtype&quot;\\n    value {\\n      type: DT_INT32\\n    }\\n  }\\n  attr {\\n    key: &quot;value&quot;\\n    value {\\n      tensor {\\n        dtype: DT_INT32\\n        tensor_shape {\\n          dim {\\n            size: 2\\n          }\\n        }\\n        tensor_content: &quot;,\\\\001\\\\000\\\\000d\\\\000\\\\000\\\\000&quot;\\n      }\\n    }\\n  }\\n}\\nnode {\\n  name: &quot;hidden2/kernel/Initializer/random_uniform/min&quot;\\n  op: &quot;Const&quot;\\n  attr {\\n    key: &quot;_class&quot;\\n    value {\\n      list {\\n        s: &quot;loc:@hidden2/kernel&quot;\\n      }\\n    }\\n  }\\n  attr {\\n    key: &quot;dtype&quot;\\n    value {\\n      type: DT_FLOAT\\n    }\\n  }\\n  attr {\\n    key: &quot;value&quot;\\n    value {\\n      tensor {\\n        dtype: DT_FLOAT\\n        tensor_shape {\\n        }\\n        float_val: -0.12247448414564133\\n      }\\n    }\\n  }\\n}\\nnode {\\n  name: &quot;hidden2/kernel/Initializer/random_uniform/max&quot;\\n  op: &quot;Const&quot;\\n  attr {\\n    key: &quot;_class&quot;\\n    value {\\n      list {\\n        s: &quot;loc:@hidden2/kernel&quot;\\n      }\\n    }\\n  }\\n  attr {\\n    key: &quot;dtype&quot;\\n    value {\\n      type: DT_FLOAT\\n    }\\n  }\\n  attr {\\n    key: &quot;value&quot;\\n    value {\\n      tensor {\\n        dtype: DT_FLOAT\\n        tensor_shape {\\n        }\\n        float_val: 0.12247448414564133\\n      }\\n    }\\n  }\\n}\\nnode {\\n  name: &quot;hidden2/kernel/Initializer/random_uniform/RandomUniform&quot;\\n  op: &quot;RandomUniform&quot;\\n  input: &quot;hidden2/kernel/Initializer/random_uniform/shape&quot;\\n  attr {\\n    key: &quot;T&quot;\\n    value {\\n      type: DT_INT32\\n    }\\n  }\\n  attr {\\n    key: &quot;_class&quot;\\n    value {\\n      list {\\n        s: &quot;loc:@hidden2/kernel&quot;\\n      }\\n    }\\n  }\\n  attr {\\n    key: &quot;dtype&quot;\\n    value {\\n      type: DT_FLOAT\\n    }\\n  }\\n  attr {\\n    key: &quot;seed&quot;\\n    value {\\n      i: 42\\n    }\\n  }\\n  attr {\\n    key: &quot;seed2&quot;\\n    value {\\n      i: 22\\n    }\\n  }\\n}\\nnode {\\n  name: &quot;hidden2/kernel/Initializer/random_uniform/sub&quot;\\n  op: &quot;Sub&quot;\\n  input: &quot;hidden2/kernel/Initializer/random_uniform/max&quot;\\n  input: &quot;hidden2/kernel/Initializer/random_uniform/min&quot;\\n  attr {\\n    key: &quot;T&quot;\\n    value {\\n      type: DT_FLOAT\\n    }\\n  }\\n  attr {\\n    key: &quot;_class&quot;\\n    value {\\n      list {\\n        s: &quot;loc:@hidden2/kernel&quot;\\n      }\\n    }\\n  }\\n}\\nnode {\\n  name: &quot;hidden2/kernel/Initializer/random_uniform/mul&quot;\\n  op: &quot;Mul&quot;\\n  input: &quot;hidden2/kernel/Initializer/random_uniform/RandomUniform&quot;\\n  input: &quot;hidden2/kernel/Initializer/random_uniform/sub&quot;\\n  attr {\\n    key: &quot;T&quot;\\n    value {\\n      type: DT_FLOAT\\n    }\\n  }\\n  attr {\\n    key: &quot;_class&quot;\\n    value {\\n      list {\\n        s: &quot;loc:@hidden2/kernel&quot;\\n      }\\n    }\\n  }\\n}\\nnode {\\n  name: &quot;hidden2/kernel/Initializer/random_uniform&quot;\\n  op: &quot;Add&quot;\\n  input: &quot;hidden2/kernel/Initializer/random_uniform/mul&quot;\\n  input: &quot;hidden2/kernel/Initializer/random_uniform/min&quot;\\n  attr {\\n    key: &quot;T&quot;\\n    value {\\n      type: DT_FLOAT\\n    }\\n  }\\n  attr {\\n    key: &quot;_class&quot;\\n    value {\\n      list {\\n        s: &quot;loc:@hidden2/kernel&quot;\\n      }\\n    }\\n  }\\n}\\nnode {\\n  name: &quot;hidden2/kernel&quot;\\n  op: &quot;VariableV2&quot;\\n  attr {\\n    key: &quot;_class&quot;\\n    value {\\n      list {\\n        s: &quot;loc:@hidden2/kernel&quot;\\n      }\\n    }\\n  }\\n  attr {\\n    key: &quot;container&quot;\\n    value {\\n      s: &quot;&quot;\\n    }\\n  }\\n  attr {\\n    key: &quot;dtype&quot;\\n    value {\\n      type: DT_FLOAT\\n    }\\n  }\\n  attr {\\n    key: &quot;shape&quot;\\n    value {\\n      shape {\\n        dim {\\n          size: 300\\n        }\\n        dim {\\n          size: 100\\n        }\\n      }\\n    }\\n  }\\n  attr {\\n    key: &quot;shared_name&quot;\\n    value {\\n      s: &quot;&quot;\\n    }\\n  }\\n}\\nnode {\\n  name: &quot;hidden2/kernel/Assign&quot;\\n  op: &quot;Assign&quot;\\n  input: &quot;hidden2/kernel&quot;\\n  input: &quot;hidden2/kernel/Initializer/random_uniform&quot;\\n  attr {\\n    key: &quot;T&quot;\\n    value {\\n      type: DT_FLOAT\\n    }\\n  }\\n  attr {\\n    key: &quot;_class&quot;\\n    value {\\n      list {\\n        s: &quot;loc:@hidden2/kernel&quot;\\n      }\\n    }\\n  }\\n  attr {\\n    key: &quot;use_locking&quot;\\n    value {\\n      b: true\\n    }\\n  }\\n  attr {\\n    key: &quot;validate_shape&quot;\\n    value {\\n      b: true\\n    }\\n  }\\n}\\nnode {\\n  name: &quot;hidden2/kernel/read&quot;\\n  op: &quot;Identity&quot;\\n  input: &quot;hidden2/kernel&quot;\\n  attr {\\n    key: &quot;T&quot;\\n    value {\\n      type: DT_FLOAT\\n    }\\n  }\\n  attr {\\n    key: &quot;_class&quot;\\n    value {\\n      list {\\n        s: &quot;loc:@hidden2/kernel&quot;\\n      }\\n    }\\n  }\\n}\\nnode {\\n  name: &quot;hidden2/bias/Initializer/zeros&quot;\\n  op: &quot;Const&quot;\\n  attr {\\n    key: &quot;_class&quot;\\n    value {\\n      list {\\n        s: &quot;loc:@hidden2/bias&quot;\\n      }\\n    }\\n  }\\n  attr {\\n    key: &quot;dtype&quot;\\n    value {\\n      type: DT_FLOAT\\n    }\\n  }\\n  attr {\\n    key: &quot;value&quot;\\n    value {\\n      tensor {\\n        dtype: DT_FLOAT\\n        tensor_shape {\\n          dim {\\n            size: 100\\n          }\\n        }\\n        float_val: 0.0\\n      }\\n    }\\n  }\\n}\\nnode {\\n  name: &quot;hidden2/bias&quot;\\n  op: &quot;VariableV2&quot;\\n  attr {\\n    key: &quot;_class&quot;\\n    value {\\n      list {\\n        s: &quot;loc:@hidden2/bias&quot;\\n      }\\n    }\\n  }\\n  attr {\\n    key: &quot;container&quot;\\n    value {\\n      s: &quot;&quot;\\n    }\\n  }\\n  attr {\\n    key: &quot;dtype&quot;\\n    value {\\n      type: DT_FLOAT\\n    }\\n  }\\n  attr {\\n    key: &quot;shape&quot;\\n    value {\\n      shape {\\n        dim {\\n          size: 100\\n        }\\n      }\\n    }\\n  }\\n  attr {\\n    key: &quot;shared_name&quot;\\n    value {\\n      s: &quot;&quot;\\n    }\\n  }\\n}\\nnode {\\n  name: &quot;hidden2/bias/Assign&quot;\\n  op: &quot;Assign&quot;\\n  input: &quot;hidden2/bias&quot;\\n  input: &quot;hidden2/bias/Initializer/zeros&quot;\\n  attr {\\n    key: &quot;T&quot;\\n    value {\\n      type: DT_FLOAT\\n    }\\n  }\\n  attr {\\n    key: &quot;_class&quot;\\n    value {\\n      list {\\n        s: &quot;loc:@hidden2/bias&quot;\\n      }\\n    }\\n  }\\n  attr {\\n    key: &quot;use_locking&quot;\\n    value {\\n      b: true\\n    }\\n  }\\n  attr {\\n    key: &quot;validate_shape&quot;\\n    value {\\n      b: true\\n    }\\n  }\\n}\\nnode {\\n  name: &quot;hidden2/bias/read&quot;\\n  op: &quot;Identity&quot;\\n  input: &quot;hidden2/bias&quot;\\n  attr {\\n    key: &quot;T&quot;\\n    value {\\n      type: DT_FLOAT\\n    }\\n  }\\n  attr {\\n    key: &quot;_class&quot;\\n    value {\\n      list {\\n        s: &quot;loc:@hidden2/bias&quot;\\n      }\\n    }\\n  }\\n}\\nnode {\\n  name: &quot;dnn/hidden2/MatMul&quot;\\n  op: &quot;MatMul&quot;\\n  input: &quot;dnn/hidden1/Relu&quot;\\n  input: &quot;hidden2/kernel/read&quot;\\n  attr {\\n    key: &quot;T&quot;\\n    value {\\n      type: DT_FLOAT\\n    }\\n  }\\n  attr {\\n    key: &quot;transpose_a&quot;\\n    value {\\n      b: false\\n    }\\n  }\\n  attr {\\n    key: &quot;transpose_b&quot;\\n    value {\\n      b: false\\n    }\\n  }\\n}\\nnode {\\n  name: &quot;dnn/hidden2/BiasAdd&quot;\\n  op: &quot;BiasAdd&quot;\\n  input: &quot;dnn/hidden2/MatMul&quot;\\n  input: &quot;hidden2/bias/read&quot;\\n  attr {\\n    key: &quot;T&quot;\\n    value {\\n      type: DT_FLOAT\\n    }\\n  }\\n  attr {\\n    key: &quot;data_format&quot;\\n    value {\\n      s: &quot;NHWC&quot;\\n    }\\n  }\\n}\\nnode {\\n  name: &quot;dnn/hidden2/Relu&quot;\\n  op: &quot;Relu&quot;\\n  input: &quot;dnn/hidden2/BiasAdd&quot;\\n  attr {\\n    key: &quot;T&quot;\\n    value {\\n      type: DT_FLOAT\\n    }\\n  }\\n}\\nnode {\\n  name: &quot;outputs/kernel/Initializer/random_uniform/shape&quot;\\n  op: &quot;Const&quot;\\n  attr {\\n    key: &quot;_class&quot;\\n    value {\\n      list {\\n        s: &quot;loc:@outputs/kernel&quot;\\n      }\\n    }\\n  }\\n  attr {\\n    key: &quot;dtype&quot;\\n    value {\\n      type: DT_INT32\\n    }\\n  }\\n  attr {\\n    key: &quot;value&quot;\\n    value {\\n      tensor {\\n        dtype: DT_INT32\\n        tensor_shape {\\n          dim {\\n            size: 2\\n          }\\n        }\\n        tensor_content: &quot;d\\\\000\\\\000\\\\000\\\\n\\\\000\\\\000\\\\000&quot;\\n      }\\n    }\\n  }\\n}\\nnode {\\n  name: &quot;outputs/kernel/Initializer/random_uniform/min&quot;\\n  op: &quot;Const&quot;\\n  attr {\\n    key: &quot;_class&quot;\\n    value {\\n      list {\\n        s: &quot;loc:@outputs/kernel&quot;\\n      }\\n    }\\n  }\\n  attr {\\n    key: &quot;dtype&quot;\\n    value {\\n      type: DT_FLOAT\\n    }\\n  }\\n  attr {\\n    key: &quot;value&quot;\\n    value {\\n      tensor {\\n        dtype: DT_FLOAT\\n        tensor_shape {\\n        }\\n        float_val: -0.23354968428611755\\n      }\\n    }\\n  }\\n}\\nnode {\\n  name: &quot;outputs/kernel/Initializer/random_uniform/max&quot;\\n  op: &quot;Const&quot;\\n  attr {\\n    key: &quot;_class&quot;\\n    value {\\n      list {\\n        s: &quot;loc:@outputs/kernel&quot;\\n      }\\n    }\\n  }\\n  attr {\\n    key: &quot;dtype&quot;\\n    value {\\n      type: DT_FLOAT\\n    }\\n  }\\n  attr {\\n    key: &quot;value&quot;\\n    value {\\n      tensor {\\n        dtype: DT_FLOAT\\n        tensor_shape {\\n        }\\n        float_val: 0.23354968428611755\\n      }\\n    }\\n  }\\n}\\nnode {\\n  name: &quot;outputs/kernel/Initializer/random_uniform/RandomUniform&quot;\\n  op: &quot;RandomUniform&quot;\\n  input: &quot;outputs/kernel/Initializer/random_uniform/shape&quot;\\n  attr {\\n    key: &quot;T&quot;\\n    value {\\n      type: DT_INT32\\n    }\\n  }\\n  attr {\\n    key: &quot;_class&quot;\\n    value {\\n      list {\\n        s: &quot;loc:@outputs/kernel&quot;\\n      }\\n    }\\n  }\\n  attr {\\n    key: &quot;dtype&quot;\\n    value {\\n      type: DT_FLOAT\\n    }\\n  }\\n  attr {\\n    key: &quot;seed&quot;\\n    value {\\n      i: 42\\n    }\\n  }\\n  attr {\\n    key: &quot;seed2&quot;\\n    value {\\n      i: 39\\n    }\\n  }\\n}\\nnode {\\n  name: &quot;outputs/kernel/Initializer/random_uniform/sub&quot;\\n  op: &quot;Sub&quot;\\n  input: &quot;outputs/kernel/Initializer/random_uniform/max&quot;\\n  input: &quot;outputs/kernel/Initializer/random_uniform/min&quot;\\n  attr {\\n    key: &quot;T&quot;\\n    value {\\n      type: DT_FLOAT\\n    }\\n  }\\n  attr {\\n    key: &quot;_class&quot;\\n    value {\\n      list {\\n        s: &quot;loc:@outputs/kernel&quot;\\n      }\\n    }\\n  }\\n}\\nnode {\\n  name: &quot;outputs/kernel/Initializer/random_uniform/mul&quot;\\n  op: &quot;Mul&quot;\\n  input: &quot;outputs/kernel/Initializer/random_uniform/RandomUniform&quot;\\n  input: &quot;outputs/kernel/Initializer/random_uniform/sub&quot;\\n  attr {\\n    key: &quot;T&quot;\\n    value {\\n      type: DT_FLOAT\\n    }\\n  }\\n  attr {\\n    key: &quot;_class&quot;\\n    value {\\n      list {\\n        s: &quot;loc:@outputs/kernel&quot;\\n      }\\n    }\\n  }\\n}\\nnode {\\n  name: &quot;outputs/kernel/Initializer/random_uniform&quot;\\n  op: &quot;Add&quot;\\n  input: &quot;outputs/kernel/Initializer/random_uniform/mul&quot;\\n  input: &quot;outputs/kernel/Initializer/random_uniform/min&quot;\\n  attr {\\n    key: &quot;T&quot;\\n    value {\\n      type: DT_FLOAT\\n    }\\n  }\\n  attr {\\n    key: &quot;_class&quot;\\n    value {\\n      list {\\n        s: &quot;loc:@outputs/kernel&quot;\\n      }\\n    }\\n  }\\n}\\nnode {\\n  name: &quot;outputs/kernel&quot;\\n  op: &quot;VariableV2&quot;\\n  attr {\\n    key: &quot;_class&quot;\\n    value {\\n      list {\\n        s: &quot;loc:@outputs/kernel&quot;\\n      }\\n    }\\n  }\\n  attr {\\n    key: &quot;container&quot;\\n    value {\\n      s: &quot;&quot;\\n    }\\n  }\\n  attr {\\n    key: &quot;dtype&quot;\\n    value {\\n      type: DT_FLOAT\\n    }\\n  }\\n  attr {\\n    key: &quot;shape&quot;\\n    value {\\n      shape {\\n        dim {\\n          size: 100\\n        }\\n        dim {\\n          size: 10\\n        }\\n      }\\n    }\\n  }\\n  attr {\\n    key: &quot;shared_name&quot;\\n    value {\\n      s: &quot;&quot;\\n    }\\n  }\\n}\\nnode {\\n  name: &quot;outputs/kernel/Assign&quot;\\n  op: &quot;Assign&quot;\\n  input: &quot;outputs/kernel&quot;\\n  input: &quot;outputs/kernel/Initializer/random_uniform&quot;\\n  attr {\\n    key: &quot;T&quot;\\n    value {\\n      type: DT_FLOAT\\n    }\\n  }\\n  attr {\\n    key: &quot;_class&quot;\\n    value {\\n      list {\\n        s: &quot;loc:@outputs/kernel&quot;\\n      }\\n    }\\n  }\\n  attr {\\n    key: &quot;use_locking&quot;\\n    value {\\n      b: true\\n    }\\n  }\\n  attr {\\n    key: &quot;validate_shape&quot;\\n    value {\\n      b: true\\n    }\\n  }\\n}\\nnode {\\n  name: &quot;outputs/kernel/read&quot;\\n  op: &quot;Identity&quot;\\n  input: &quot;outputs/kernel&quot;\\n  attr {\\n    key: &quot;T&quot;\\n    value {\\n      type: DT_FLOAT\\n    }\\n  }\\n  attr {\\n    key: &quot;_class&quot;\\n    value {\\n      list {\\n        s: &quot;loc:@outputs/kernel&quot;\\n      }\\n    }\\n  }\\n}\\nnode {\\n  name: &quot;outputs/bias/Initializer/zeros&quot;\\n  op: &quot;Const&quot;\\n  attr {\\n    key: &quot;_class&quot;\\n    value {\\n      list {\\n        s: &quot;loc:@outputs/bias&quot;\\n      }\\n    }\\n  }\\n  attr {\\n    key: &quot;dtype&quot;\\n    value {\\n      type: DT_FLOAT\\n    }\\n  }\\n  attr {\\n    key: &quot;value&quot;\\n    value {\\n      tensor {\\n        dtype: DT_FLOAT\\n        tensor_shape {\\n          dim {\\n            size: 10\\n          }\\n        }\\n        float_val: 0.0\\n      }\\n    }\\n  }\\n}\\nnode {\\n  name: &quot;outputs/bias&quot;\\n  op: &quot;VariableV2&quot;\\n  attr {\\n    key: &quot;_class&quot;\\n    value {\\n      list {\\n        s: &quot;loc:@outputs/bias&quot;\\n      }\\n    }\\n  }\\n  attr {\\n    key: &quot;container&quot;\\n    value {\\n      s: &quot;&quot;\\n    }\\n  }\\n  attr {\\n    key: &quot;dtype&quot;\\n    value {\\n      type: DT_FLOAT\\n    }\\n  }\\n  attr {\\n    key: &quot;shape&quot;\\n    value {\\n      shape {\\n        dim {\\n          size: 10\\n        }\\n      }\\n    }\\n  }\\n  attr {\\n    key: &quot;shared_name&quot;\\n    value {\\n      s: &quot;&quot;\\n    }\\n  }\\n}\\nnode {\\n  name: &quot;outputs/bias/Assign&quot;\\n  op: &quot;Assign&quot;\\n  input: &quot;outputs/bias&quot;\\n  input: &quot;outputs/bias/Initializer/zeros&quot;\\n  attr {\\n    key: &quot;T&quot;\\n    value {\\n      type: DT_FLOAT\\n    }\\n  }\\n  attr {\\n    key: &quot;_class&quot;\\n    value {\\n      list {\\n        s: &quot;loc:@outputs/bias&quot;\\n      }\\n    }\\n  }\\n  attr {\\n    key: &quot;use_locking&quot;\\n    value {\\n      b: true\\n    }\\n  }\\n  attr {\\n    key: &quot;validate_shape&quot;\\n    value {\\n      b: true\\n    }\\n  }\\n}\\nnode {\\n  name: &quot;outputs/bias/read&quot;\\n  op: &quot;Identity&quot;\\n  input: &quot;outputs/bias&quot;\\n  attr {\\n    key: &quot;T&quot;\\n    value {\\n      type: DT_FLOAT\\n    }\\n  }\\n  attr {\\n    key: &quot;_class&quot;\\n    value {\\n      list {\\n        s: &quot;loc:@outputs/bias&quot;\\n      }\\n    }\\n  }\\n}\\nnode {\\n  name: &quot;dnn/outputs/MatMul&quot;\\n  op: &quot;MatMul&quot;\\n  input: &quot;dnn/hidden2/Relu&quot;\\n  input: &quot;outputs/kernel/read&quot;\\n  attr {\\n    key: &quot;T&quot;\\n    value {\\n      type: DT_FLOAT\\n    }\\n  }\\n  attr {\\n    key: &quot;transpose_a&quot;\\n    value {\\n      b: false\\n    }\\n  }\\n  attr {\\n    key: &quot;transpose_b&quot;\\n    value {\\n      b: false\\n    }\\n  }\\n}\\nnode {\\n  name: &quot;dnn/outputs/BiasAdd&quot;\\n  op: &quot;BiasAdd&quot;\\n  input: &quot;dnn/outputs/MatMul&quot;\\n  input: &quot;outputs/bias/read&quot;\\n  attr {\\n    key: &quot;T&quot;\\n    value {\\n      type: DT_FLOAT\\n    }\\n  }\\n  attr {\\n    key: &quot;data_format&quot;\\n    value {\\n      s: &quot;NHWC&quot;\\n    }\\n  }\\n}\\nnode {\\n  name: &quot;dnn/Softmax&quot;\\n  op: &quot;Softmax&quot;\\n  input: &quot;dnn/outputs/BiasAdd&quot;\\n  attr {\\n    key: &quot;T&quot;\\n    value {\\n      type: DT_FLOAT\\n    }\\n  }\\n}\\nnode {\\n  name: &quot;loss/SparseSoftmaxCrossEntropyWithLogits/Shape&quot;\\n  op: &quot;Shape&quot;\\n  input: &quot;y&quot;\\n  attr {\\n    key: &quot;T&quot;\\n    value {\\n      type: DT_INT32\\n    }\\n  }\\n  attr {\\n    key: &quot;out_type&quot;\\n    value {\\n      type: DT_INT32\\n    }\\n  }\\n}\\nnode {\\n  name: &quot;loss/SparseSoftmaxCrossEntropyWithLogits/SparseSoftmaxCrossEntropyWithLogits&quot;\\n  op: &quot;SparseSoftmaxCrossEntropyWithLogits&quot;\\n  input: &quot;dnn/outputs/BiasAdd&quot;\\n  input: &quot;y&quot;\\n  attr {\\n    key: &quot;T&quot;\\n    value {\\n      type: DT_FLOAT\\n    }\\n  }\\n  attr {\\n    key: &quot;Tlabels&quot;\\n    value {\\n      type: DT_INT32\\n    }\\n  }\\n}\\nnode {\\n  name: &quot;loss/Const&quot;\\n  op: &quot;Const&quot;\\n  attr {\\n    key: &quot;dtype&quot;\\n    value {\\n      type: DT_INT32\\n    }\\n  }\\n  attr {\\n    key: &quot;value&quot;\\n    value {\\n      tensor {\\n        dtype: DT_INT32\\n        tensor_shape {\\n          dim {\\n            size: 1\\n          }\\n        }\\n        int_val: 0\\n      }\\n    }\\n  }\\n}\\nnode {\\n  name: &quot;loss/loss&quot;\\n  op: &quot;Mean&quot;\\n  input: &quot;loss/SparseSoftmaxCrossEntropyWithLogits/SparseSoftmaxCrossEntropyWithLogits&quot;\\n  input: &quot;loss/Const&quot;\\n  attr {\\n    key: &quot;T&quot;\\n    value {\\n      type: DT_FLOAT\\n    }\\n  }\\n  attr {\\n    key: &quot;Tidx&quot;\\n    value {\\n      type: DT_INT32\\n    }\\n  }\\n  attr {\\n    key: &quot;keep_dims&quot;\\n    value {\\n      b: false\\n    }\\n  }\\n}\\nnode {\\n  name: &quot;train/gradients/Shape&quot;\\n  op: &quot;Const&quot;\\n  attr {\\n    key: &quot;dtype&quot;\\n    value {\\n      type: DT_INT32\\n    }\\n  }\\n  attr {\\n    key: &quot;value&quot;\\n    value {\\n      tensor {\\n        dtype: DT_INT32\\n        tensor_shape {\\n          dim {\\n          }\\n        }\\n      }\\n    }\\n  }\\n}\\nnode {\\n  name: &quot;train/gradients/grad_ys_0&quot;\\n  op: &quot;Const&quot;\\n  attr {\\n    key: &quot;dtype&quot;\\n    value {\\n      type: DT_FLOAT\\n    }\\n  }\\n  attr {\\n    key: &quot;value&quot;\\n    value {\\n      tensor {\\n        dtype: DT_FLOAT\\n        tensor_shape {\\n        }\\n        float_val: 1.0\\n      }\\n    }\\n  }\\n}\\nnode {\\n  name: &quot;train/gradients/Fill&quot;\\n  op: &quot;Fill&quot;\\n  input: &quot;train/gradients/Shape&quot;\\n  input: &quot;train/gradients/grad_ys_0&quot;\\n  attr {\\n    key: &quot;T&quot;\\n    value {\\n      type: DT_FLOAT\\n    }\\n  }\\n  attr {\\n    key: &quot;index_type&quot;\\n    value {\\n      type: DT_INT32\\n    }\\n  }\\n}\\nnode {\\n  name: &quot;train/gradients/loss/loss_grad/Reshape/shape&quot;\\n  op: &quot;Const&quot;\\n  attr {\\n    key: &quot;dtype&quot;\\n    value {\\n      type: DT_INT32\\n    }\\n  }\\n  attr {\\n    key: &quot;value&quot;\\n    value {\\n      tensor {\\n        dtype: DT_INT32\\n        tensor_shape {\\n          dim {\\n            size: 1\\n          }\\n        }\\n        int_val: 1\\n      }\\n    }\\n  }\\n}\\nnode {\\n  name: &quot;train/gradients/loss/loss_grad/Reshape&quot;\\n  op: &quot;Reshape&quot;\\n  input: &quot;train/gradients/Fill&quot;\\n  input: &quot;train/gradients/loss/loss_grad/Reshape/shape&quot;\\n  attr {\\n    key: &quot;T&quot;\\n    value {\\n      type: DT_FLOAT\\n    }\\n  }\\n  attr {\\n    key: &quot;Tshape&quot;\\n    value {\\n      type: DT_INT32\\n    }\\n  }\\n}\\nnode {\\n  name: &quot;train/gradients/loss/loss_grad/Shape&quot;\\n  op: &quot;Shape&quot;\\n  input: &quot;loss/SparseSoftmaxCrossEntropyWithLogits/SparseSoftmaxCrossEntropyWithLogits&quot;\\n  attr {\\n    key: &quot;T&quot;\\n    value {\\n      type: DT_FLOAT\\n    }\\n  }\\n  attr {\\n    key: &quot;out_type&quot;\\n    value {\\n      type: DT_INT32\\n    }\\n  }\\n}\\nnode {\\n  name: &quot;train/gradients/loss/loss_grad/Tile&quot;\\n  op: &quot;Tile&quot;\\n  input: &quot;train/gradients/loss/loss_grad/Reshape&quot;\\n  input: &quot;train/gradients/loss/loss_grad/Shape&quot;\\n  attr {\\n    key: &quot;T&quot;\\n    value {\\n      type: DT_FLOAT\\n    }\\n  }\\n  attr {\\n    key: &quot;Tmultiples&quot;\\n    value {\\n      type: DT_INT32\\n    }\\n  }\\n}\\nnode {\\n  name: &quot;train/gradients/loss/loss_grad/Shape_1&quot;\\n  op: &quot;Shape&quot;\\n  input: &quot;loss/SparseSoftmaxCrossEntropyWithLogits/SparseSoftmaxCrossEntropyWithLogits&quot;\\n  attr {\\n    key: &quot;T&quot;\\n    value {\\n      type: DT_FLOAT\\n    }\\n  }\\n  attr {\\n    key: &quot;out_type&quot;\\n    value {\\n      type: DT_INT32\\n    }\\n  }\\n}\\nnode {\\n  name: &quot;train/gradients/loss/loss_grad/Shape_2&quot;\\n  op: &quot;Const&quot;\\n  attr {\\n    key: &quot;dtype&quot;\\n    value {\\n      type: DT_INT32\\n    }\\n  }\\n  attr {\\n    key: &quot;value&quot;\\n    value {\\n      tensor {\\n        dtype: DT_INT32\\n        tensor_shape {\\n          dim {\\n          }\\n        }\\n      }\\n    }\\n  }\\n}\\nnode {\\n  name: &quot;train/gradients/loss/loss_grad/Const&quot;\\n  op: &quot;Const&quot;\\n  attr {\\n    key: &quot;dtype&quot;\\n    value {\\n      type: DT_INT32\\n    }\\n  }\\n  attr {\\n    key: &quot;value&quot;\\n    value {\\n      tensor {\\n        dtype: DT_INT32\\n        tensor_shape {\\n          dim {\\n            size: 1\\n          }\\n        }\\n        int_val: 0\\n      }\\n    }\\n  }\\n}\\nnode {\\n  name: &quot;train/gradients/loss/loss_grad/Prod&quot;\\n  op: &quot;Prod&quot;\\n  input: &quot;train/gradients/loss/loss_grad/Shape_1&quot;\\n  input: &quot;train/gradients/loss/loss_grad/Const&quot;\\n  attr {\\n    key: &quot;T&quot;\\n    value {\\n      type: DT_INT32\\n    }\\n  }\\n  attr {\\n    key: &quot;Tidx&quot;\\n    value {\\n      type: DT_INT32\\n    }\\n  }\\n  attr {\\n    key: &quot;keep_dims&quot;\\n    value {\\n      b: false\\n    }\\n  }\\n}\\nnode {\\n  name: &quot;train/gradients/loss/loss_grad/Const_1&quot;\\n  op: &quot;Const&quot;\\n  attr {\\n    key: &quot;dtype&quot;\\n    value {\\n      type: DT_INT32\\n    }\\n  }\\n  attr {\\n    key: &quot;value&quot;\\n    value {\\n      tensor {\\n        dtype: DT_INT32\\n        tensor_shape {\\n          dim {\\n            size: 1\\n          }\\n        }\\n        int_val: 0\\n      }\\n    }\\n  }\\n}\\nnode {\\n  name: &quot;train/gradients/loss/loss_grad/Prod_1&quot;\\n  op: &quot;Prod&quot;\\n  input: &quot;train/gradients/loss/loss_grad/Shape_2&quot;\\n  input: &quot;train/gradients/loss/loss_grad/Const_1&quot;\\n  attr {\\n    key: &quot;T&quot;\\n    value {\\n      type: DT_INT32\\n    }\\n  }\\n  attr {\\n    key: &quot;Tidx&quot;\\n    value {\\n      type: DT_INT32\\n    }\\n  }\\n  attr {\\n    key: &quot;keep_dims&quot;\\n    value {\\n      b: false\\n    }\\n  }\\n}\\nnode {\\n  name: &quot;train/gradients/loss/loss_grad/Maximum/y&quot;\\n  op: &quot;Const&quot;\\n  attr {\\n    key: &quot;dtype&quot;\\n    value {\\n      type: DT_INT32\\n    }\\n  }\\n  attr {\\n    key: &quot;value&quot;\\n    value {\\n      tensor {\\n        dtype: DT_INT32\\n        tensor_shape {\\n        }\\n        int_val: 1\\n      }\\n    }\\n  }\\n}\\nnode {\\n  name: &quot;train/gradients/loss/loss_grad/Maximum&quot;\\n  op: &quot;Maximum&quot;\\n  input: &quot;train/gradients/loss/loss_grad/Prod_1&quot;\\n  input: &quot;train/gradients/loss/loss_grad/Maximum/y&quot;\\n  attr {\\n    key: &quot;T&quot;\\n    value {\\n      type: DT_INT32\\n    }\\n  }\\n}\\nnode {\\n  name: &quot;train/gradients/loss/loss_grad/floordiv&quot;\\n  op: &quot;FloorDiv&quot;\\n  input: &quot;train/gradients/loss/loss_grad/Prod&quot;\\n  input: &quot;train/gradients/loss/loss_grad/Maximum&quot;\\n  attr {\\n    key: &quot;T&quot;\\n    value {\\n      type: DT_INT32\\n    }\\n  }\\n}\\nnode {\\n  name: &quot;train/gradients/loss/loss_grad/Cast&quot;\\n  op: &quot;Cast&quot;\\n  input: &quot;train/gradients/loss/loss_grad/floordiv&quot;\\n  attr {\\n    key: &quot;DstT&quot;\\n    value {\\n      type: DT_FLOAT\\n    }\\n  }\\n  attr {\\n    key: &quot;SrcT&quot;\\n    value {\\n      type: DT_INT32\\n    }\\n  }\\n  attr {\\n    key: &quot;Truncate&quot;\\n    value {\\n      b: false\\n    }\\n  }\\n}\\nnode {\\n  name: &quot;train/gradients/loss/loss_grad/truediv&quot;\\n  op: &quot;RealDiv&quot;\\n  input: &quot;train/gradients/loss/loss_grad/Tile&quot;\\n  input: &quot;train/gradients/loss/loss_grad/Cast&quot;\\n  attr {\\n    key: &quot;T&quot;\\n    value {\\n      type: DT_FLOAT\\n    }\\n  }\\n}\\nnode {\\n  name: &quot;train/gradients/zeros_like&quot;\\n  op: &quot;ZerosLike&quot;\\n  input: &quot;loss/SparseSoftmaxCrossEntropyWithLogits/SparseSoftmaxCrossEntropyWithLogits:1&quot;\\n  attr {\\n    key: &quot;T&quot;\\n    value {\\n      type: DT_FLOAT\\n    }\\n  }\\n}\\nnode {\\n  name: &quot;train/gradients/loss/SparseSoftmaxCrossEntropyWithLogits/SparseSoftmaxCrossEntropyWithLogits_grad/PreventGradient&quot;\\n  op: &quot;PreventGradient&quot;\\n  input: &quot;loss/SparseSoftmaxCrossEntropyWithLogits/SparseSoftmaxCrossEntropyWithLogits:1&quot;\\n  attr {\\n    key: &quot;T&quot;\\n    value {\\n      type: DT_FLOAT\\n    }\\n  }\\n  attr {\\n    key: &quot;message&quot;\\n    value {\\n      s: &quot;Currently there is no way to take the second derivative of sparse_softmax_cross_entropy_with_logits due to the fused implementation\\\\\\'s interaction with tf.gradients()&quot;\\n    }\\n  }\\n}\\nnode {\\n  name: &quot;train/gradients/loss/SparseSoftmaxCrossEntropyWithLogits/SparseSoftmaxCrossEntropyWithLogits_grad/ExpandDims/dim&quot;\\n  op: &quot;Const&quot;\\n  attr {\\n    key: &quot;dtype&quot;\\n    value {\\n      type: DT_INT32\\n    }\\n  }\\n  attr {\\n    key: &quot;value&quot;\\n    value {\\n      tensor {\\n        dtype: DT_INT32\\n        tensor_shape {\\n        }\\n        int_val: -1\\n      }\\n    }\\n  }\\n}\\nnode {\\n  name: &quot;train/gradients/loss/SparseSoftmaxCrossEntropyWithLogits/SparseSoftmaxCrossEntropyWithLogits_grad/ExpandDims&quot;\\n  op: &quot;ExpandDims&quot;\\n  input: &quot;train/gradients/loss/loss_grad/truediv&quot;\\n  input: &quot;train/gradients/loss/SparseSoftmaxCrossEntropyWithLogits/SparseSoftmaxCrossEntropyWithLogits_grad/ExpandDims/dim&quot;\\n  attr {\\n    key: &quot;T&quot;\\n    value {\\n      type: DT_FLOAT\\n    }\\n  }\\n  attr {\\n    key: &quot;Tdim&quot;\\n    value {\\n      type: DT_INT32\\n    }\\n  }\\n}\\nnode {\\n  name: &quot;train/gradients/loss/SparseSoftmaxCrossEntropyWithLogits/SparseSoftmaxCrossEntropyWithLogits_grad/mul&quot;\\n  op: &quot;Mul&quot;\\n  input: &quot;train/gradients/loss/SparseSoftmaxCrossEntropyWithLogits/SparseSoftmaxCrossEntropyWithLogits_grad/ExpandDims&quot;\\n  input: &quot;train/gradients/loss/SparseSoftmaxCrossEntropyWithLogits/SparseSoftmaxCrossEntropyWithLogits_grad/PreventGradient&quot;\\n  attr {\\n    key: &quot;T&quot;\\n    value {\\n      type: DT_FLOAT\\n    }\\n  }\\n}\\nnode {\\n  name: &quot;train/gradients/dnn/outputs/BiasAdd_grad/BiasAddGrad&quot;\\n  op: &quot;BiasAddGrad&quot;\\n  input: &quot;train/gradients/loss/SparseSoftmaxCrossEntropyWithLogits/SparseSoftmaxCrossEntropyWithLogits_grad/mul&quot;\\n  attr {\\n    key: &quot;T&quot;\\n    value {\\n      type: DT_FLOAT\\n    }\\n  }\\n  attr {\\n    key: &quot;data_format&quot;\\n    value {\\n      s: &quot;NHWC&quot;\\n    }\\n  }\\n}\\nnode {\\n  name: &quot;train/gradients/dnn/outputs/BiasAdd_grad/tuple/group_deps&quot;\\n  op: &quot;NoOp&quot;\\n  input: &quot;^train/gradients/dnn/outputs/BiasAdd_grad/BiasAddGrad&quot;\\n  input: &quot;^train/gradients/loss/SparseSoftmaxCrossEntropyWithLogits/SparseSoftmaxCrossEntropyWithLogits_grad/mul&quot;\\n}\\nnode {\\n  name: &quot;train/gradients/dnn/outputs/BiasAdd_grad/tuple/control_dependency&quot;\\n  op: &quot;Identity&quot;\\n  input: &quot;train/gradients/loss/SparseSoftmaxCrossEntropyWithLogits/SparseSoftmaxCrossEntropyWithLogits_grad/mul&quot;\\n  input: &quot;^train/gradients/dnn/outputs/BiasAdd_grad/tuple/group_deps&quot;\\n  attr {\\n    key: &quot;T&quot;\\n    value {\\n      type: DT_FLOAT\\n    }\\n  }\\n  attr {\\n    key: &quot;_class&quot;\\n    value {\\n      list {\\n        s: &quot;loc:@train/gradients/loss/SparseSoftmaxCrossEntropyWithLogits/SparseSoftmaxCrossEntropyWithLogits_grad/mul&quot;\\n      }\\n    }\\n  }\\n}\\nnode {\\n  name: &quot;train/gradients/dnn/outputs/BiasAdd_grad/tuple/control_dependency_1&quot;\\n  op: &quot;Identity&quot;\\n  input: &quot;train/gradients/dnn/outputs/BiasAdd_grad/BiasAddGrad&quot;\\n  input: &quot;^train/gradients/dnn/outputs/BiasAdd_grad/tuple/group_deps&quot;\\n  attr {\\n    key: &quot;T&quot;\\n    value {\\n      type: DT_FLOAT\\n    }\\n  }\\n  attr {\\n    key: &quot;_class&quot;\\n    value {\\n      list {\\n        s: &quot;loc:@train/gradients/dnn/outputs/BiasAdd_grad/BiasAddGrad&quot;\\n      }\\n    }\\n  }\\n}\\nnode {\\n  name: &quot;train/gradients/dnn/outputs/MatMul_grad/MatMul&quot;\\n  op: &quot;MatMul&quot;\\n  input: &quot;train/gradients/dnn/outputs/BiasAdd_grad/tuple/control_dependency&quot;\\n  input: &quot;outputs/kernel/read&quot;\\n  attr {\\n    key: &quot;T&quot;\\n    value {\\n      type: DT_FLOAT\\n    }\\n  }\\n  attr {\\n    key: &quot;transpose_a&quot;\\n    value {\\n      b: false\\n    }\\n  }\\n  attr {\\n    key: &quot;transpose_b&quot;\\n    value {\\n      b: true\\n    }\\n  }\\n}\\nnode {\\n  name: &quot;train/gradients/dnn/outputs/MatMul_grad/MatMul_1&quot;\\n  op: &quot;MatMul&quot;\\n  input: &quot;dnn/hidden2/Relu&quot;\\n  input: &quot;train/gradients/dnn/outputs/BiasAdd_grad/tuple/control_dependency&quot;\\n  attr {\\n    key: &quot;T&quot;\\n    value {\\n      type: DT_FLOAT\\n    }\\n  }\\n  attr {\\n    key: &quot;transpose_a&quot;\\n    value {\\n      b: true\\n    }\\n  }\\n  attr {\\n    key: &quot;transpose_b&quot;\\n    value {\\n      b: false\\n    }\\n  }\\n}\\nnode {\\n  name: &quot;train/gradients/dnn/outputs/MatMul_grad/tuple/group_deps&quot;\\n  op: &quot;NoOp&quot;\\n  input: &quot;^train/gradients/dnn/outputs/MatMul_grad/MatMul&quot;\\n  input: &quot;^train/gradients/dnn/outputs/MatMul_grad/MatMul_1&quot;\\n}\\nnode {\\n  name: &quot;train/gradients/dnn/outputs/MatMul_grad/tuple/control_dependency&quot;\\n  op: &quot;Identity&quot;\\n  input: &quot;train/gradients/dnn/outputs/MatMul_grad/MatMul&quot;\\n  input: &quot;^train/gradients/dnn/outputs/MatMul_grad/tuple/group_deps&quot;\\n  attr {\\n    key: &quot;T&quot;\\n    value {\\n      type: DT_FLOAT\\n    }\\n  }\\n  attr {\\n    key: &quot;_class&quot;\\n    value {\\n      list {\\n        s: &quot;loc:@train/gradients/dnn/outputs/MatMul_grad/MatMul&quot;\\n      }\\n    }\\n  }\\n}\\nnode {\\n  name: &quot;train/gradients/dnn/outputs/MatMul_grad/tuple/control_dependency_1&quot;\\n  op: &quot;Identity&quot;\\n  input: &quot;train/gradients/dnn/outputs/MatMul_grad/MatMul_1&quot;\\n  input: &quot;^train/gradients/dnn/outputs/MatMul_grad/tuple/group_deps&quot;\\n  attr {\\n    key: &quot;T&quot;\\n    value {\\n      type: DT_FLOAT\\n    }\\n  }\\n  attr {\\n    key: &quot;_class&quot;\\n    value {\\n      list {\\n        s: &quot;loc:@train/gradients/dnn/outputs/MatMul_grad/MatMul_1&quot;\\n      }\\n    }\\n  }\\n}\\nnode {\\n  name: &quot;train/gradients/dnn/hidden2/Relu_grad/ReluGrad&quot;\\n  op: &quot;ReluGrad&quot;\\n  input: &quot;train/gradients/dnn/outputs/MatMul_grad/tuple/control_dependency&quot;\\n  input: &quot;dnn/hidden2/Relu&quot;\\n  attr {\\n    key: &quot;T&quot;\\n    value {\\n      type: DT_FLOAT\\n    }\\n  }\\n}\\nnode {\\n  name: &quot;train/gradients/dnn/hidden2/BiasAdd_grad/BiasAddGrad&quot;\\n  op: &quot;BiasAddGrad&quot;\\n  input: &quot;train/gradients/dnn/hidden2/Relu_grad/ReluGrad&quot;\\n  attr {\\n    key: &quot;T&quot;\\n    value {\\n      type: DT_FLOAT\\n    }\\n  }\\n  attr {\\n    key: &quot;data_format&quot;\\n    value {\\n      s: &quot;NHWC&quot;\\n    }\\n  }\\n}\\nnode {\\n  name: &quot;train/gradients/dnn/hidden2/BiasAdd_grad/tuple/group_deps&quot;\\n  op: &quot;NoOp&quot;\\n  input: &quot;^train/gradients/dnn/hidden2/BiasAdd_grad/BiasAddGrad&quot;\\n  input: &quot;^train/gradients/dnn/hidden2/Relu_grad/ReluGrad&quot;\\n}\\nnode {\\n  name: &quot;train/gradients/dnn/hidden2/BiasAdd_grad/tuple/control_dependency&quot;\\n  op: &quot;Identity&quot;\\n  input: &quot;train/gradients/dnn/hidden2/Relu_grad/ReluGrad&quot;\\n  input: &quot;^train/gradients/dnn/hidden2/BiasAdd_grad/tuple/group_deps&quot;\\n  attr {\\n    key: &quot;T&quot;\\n    value {\\n      type: DT_FLOAT\\n    }\\n  }\\n  attr {\\n    key: &quot;_class&quot;\\n    value {\\n      list {\\n        s: &quot;loc:@train/gradients/dnn/hidden2/Relu_grad/ReluGrad&quot;\\n      }\\n    }\\n  }\\n}\\nnode {\\n  name: &quot;train/gradients/dnn/hidden2/BiasAdd_grad/tuple/control_dependency_1&quot;\\n  op: &quot;Identity&quot;\\n  input: &quot;train/gradients/dnn/hidden2/BiasAdd_grad/BiasAddGrad&quot;\\n  input: &quot;^train/gradients/dnn/hidden2/BiasAdd_grad/tuple/group_deps&quot;\\n  attr {\\n    key: &quot;T&quot;\\n    value {\\n      type: DT_FLOAT\\n    }\\n  }\\n  attr {\\n    key: &quot;_class&quot;\\n    value {\\n      list {\\n        s: &quot;loc:@train/gradients/dnn/hidden2/BiasAdd_grad/BiasAddGrad&quot;\\n      }\\n    }\\n  }\\n}\\nnode {\\n  name: &quot;train/gradients/dnn/hidden2/MatMul_grad/MatMul&quot;\\n  op: &quot;MatMul&quot;\\n  input: &quot;train/gradients/dnn/hidden2/BiasAdd_grad/tuple/control_dependency&quot;\\n  input: &quot;hidden2/kernel/read&quot;\\n  attr {\\n    key: &quot;T&quot;\\n    value {\\n      type: DT_FLOAT\\n    }\\n  }\\n  attr {\\n    key: &quot;transpose_a&quot;\\n    value {\\n      b: false\\n    }\\n  }\\n  attr {\\n    key: &quot;transpose_b&quot;\\n    value {\\n      b: true\\n    }\\n  }\\n}\\nnode {\\n  name: &quot;train/gradients/dnn/hidden2/MatMul_grad/MatMul_1&quot;\\n  op: &quot;MatMul&quot;\\n  input: &quot;dnn/hidden1/Relu&quot;\\n  input: &quot;train/gradients/dnn/hidden2/BiasAdd_grad/tuple/control_dependency&quot;\\n  attr {\\n    key: &quot;T&quot;\\n    value {\\n      type: DT_FLOAT\\n    }\\n  }\\n  attr {\\n    key: &quot;transpose_a&quot;\\n    value {\\n      b: true\\n    }\\n  }\\n  attr {\\n    key: &quot;transpose_b&quot;\\n    value {\\n      b: false\\n    }\\n  }\\n}\\nnode {\\n  name: &quot;train/gradients/dnn/hidden2/MatMul_grad/tuple/group_deps&quot;\\n  op: &quot;NoOp&quot;\\n  input: &quot;^train/gradients/dnn/hidden2/MatMul_grad/MatMul&quot;\\n  input: &quot;^train/gradients/dnn/hidden2/MatMul_grad/MatMul_1&quot;\\n}\\nnode {\\n  name: &quot;train/gradients/dnn/hidden2/MatMul_grad/tuple/control_dependency&quot;\\n  op: &quot;Identity&quot;\\n  input: &quot;train/gradients/dnn/hidden2/MatMul_grad/MatMul&quot;\\n  input: &quot;^train/gradients/dnn/hidden2/MatMul_grad/tuple/group_deps&quot;\\n  attr {\\n    key: &quot;T&quot;\\n    value {\\n      type: DT_FLOAT\\n    }\\n  }\\n  attr {\\n    key: &quot;_class&quot;\\n    value {\\n      list {\\n        s: &quot;loc:@train/gradients/dnn/hidden2/MatMul_grad/MatMul&quot;\\n      }\\n    }\\n  }\\n}\\nnode {\\n  name: &quot;train/gradients/dnn/hidden2/MatMul_grad/tuple/control_dependency_1&quot;\\n  op: &quot;Identity&quot;\\n  input: &quot;train/gradients/dnn/hidden2/MatMul_grad/MatMul_1&quot;\\n  input: &quot;^train/gradients/dnn/hidden2/MatMul_grad/tuple/group_deps&quot;\\n  attr {\\n    key: &quot;T&quot;\\n    value {\\n      type: DT_FLOAT\\n    }\\n  }\\n  attr {\\n    key: &quot;_class&quot;\\n    value {\\n      list {\\n        s: &quot;loc:@train/gradients/dnn/hidden2/MatMul_grad/MatMul_1&quot;\\n      }\\n    }\\n  }\\n}\\nnode {\\n  name: &quot;train/gradients/dnn/hidden1/Relu_grad/ReluGrad&quot;\\n  op: &quot;ReluGrad&quot;\\n  input: &quot;train/gradients/dnn/hidden2/MatMul_grad/tuple/control_dependency&quot;\\n  input: &quot;dnn/hidden1/Relu&quot;\\n  attr {\\n    key: &quot;T&quot;\\n    value {\\n      type: DT_FLOAT\\n    }\\n  }\\n}\\nnode {\\n  name: &quot;train/gradients/dnn/hidden1/BiasAdd_grad/BiasAddGrad&quot;\\n  op: &quot;BiasAddGrad&quot;\\n  input: &quot;train/gradients/dnn/hidden1/Relu_grad/ReluGrad&quot;\\n  attr {\\n    key: &quot;T&quot;\\n    value {\\n      type: DT_FLOAT\\n    }\\n  }\\n  attr {\\n    key: &quot;data_format&quot;\\n    value {\\n      s: &quot;NHWC&quot;\\n    }\\n  }\\n}\\nnode {\\n  name: &quot;train/gradients/dnn/hidden1/BiasAdd_grad/tuple/group_deps&quot;\\n  op: &quot;NoOp&quot;\\n  input: &quot;^train/gradients/dnn/hidden1/BiasAdd_grad/BiasAddGrad&quot;\\n  input: &quot;^train/gradients/dnn/hidden1/Relu_grad/ReluGrad&quot;\\n}\\nnode {\\n  name: &quot;train/gradients/dnn/hidden1/BiasAdd_grad/tuple/control_dependency&quot;\\n  op: &quot;Identity&quot;\\n  input: &quot;train/gradients/dnn/hidden1/Relu_grad/ReluGrad&quot;\\n  input: &quot;^train/gradients/dnn/hidden1/BiasAdd_grad/tuple/group_deps&quot;\\n  attr {\\n    key: &quot;T&quot;\\n    value {\\n      type: DT_FLOAT\\n    }\\n  }\\n  attr {\\n    key: &quot;_class&quot;\\n    value {\\n      list {\\n        s: &quot;loc:@train/gradients/dnn/hidden1/Relu_grad/ReluGrad&quot;\\n      }\\n    }\\n  }\\n}\\nnode {\\n  name: &quot;train/gradients/dnn/hidden1/BiasAdd_grad/tuple/control_dependency_1&quot;\\n  op: &quot;Identity&quot;\\n  input: &quot;train/gradients/dnn/hidden1/BiasAdd_grad/BiasAddGrad&quot;\\n  input: &quot;^train/gradients/dnn/hidden1/BiasAdd_grad/tuple/group_deps&quot;\\n  attr {\\n    key: &quot;T&quot;\\n    value {\\n      type: DT_FLOAT\\n    }\\n  }\\n  attr {\\n    key: &quot;_class&quot;\\n    value {\\n      list {\\n        s: &quot;loc:@train/gradients/dnn/hidden1/BiasAdd_grad/BiasAddGrad&quot;\\n      }\\n    }\\n  }\\n}\\nnode {\\n  name: &quot;train/gradients/dnn/hidden1/MatMul_grad/MatMul&quot;\\n  op: &quot;MatMul&quot;\\n  input: &quot;train/gradients/dnn/hidden1/BiasAdd_grad/tuple/control_dependency&quot;\\n  input: &quot;hidden1/kernel/read&quot;\\n  attr {\\n    key: &quot;T&quot;\\n    value {\\n      type: DT_FLOAT\\n    }\\n  }\\n  attr {\\n    key: &quot;transpose_a&quot;\\n    value {\\n      b: false\\n    }\\n  }\\n  attr {\\n    key: &quot;transpose_b&quot;\\n    value {\\n      b: true\\n    }\\n  }\\n}\\nnode {\\n  name: &quot;train/gradients/dnn/hidden1/MatMul_grad/MatMul_1&quot;\\n  op: &quot;MatMul&quot;\\n  input: &quot;X&quot;\\n  input: &quot;train/gradients/dnn/hidden1/BiasAdd_grad/tuple/control_dependency&quot;\\n  attr {\\n    key: &quot;T&quot;\\n    value {\\n      type: DT_FLOAT\\n    }\\n  }\\n  attr {\\n    key: &quot;transpose_a&quot;\\n    value {\\n      b: true\\n    }\\n  }\\n  attr {\\n    key: &quot;transpose_b&quot;\\n    value {\\n      b: false\\n    }\\n  }\\n}\\nnode {\\n  name: &quot;train/gradients/dnn/hidden1/MatMul_grad/tuple/group_deps&quot;\\n  op: &quot;NoOp&quot;\\n  input: &quot;^train/gradients/dnn/hidden1/MatMul_grad/MatMul&quot;\\n  input: &quot;^train/gradients/dnn/hidden1/MatMul_grad/MatMul_1&quot;\\n}\\nnode {\\n  name: &quot;train/gradients/dnn/hidden1/MatMul_grad/tuple/control_dependency&quot;\\n  op: &quot;Identity&quot;\\n  input: &quot;train/gradients/dnn/hidden1/MatMul_grad/MatMul&quot;\\n  input: &quot;^train/gradients/dnn/hidden1/MatMul_grad/tuple/group_deps&quot;\\n  attr {\\n    key: &quot;T&quot;\\n    value {\\n      type: DT_FLOAT\\n    }\\n  }\\n  attr {\\n    key: &quot;_class&quot;\\n    value {\\n      list {\\n        s: &quot;loc:@train/gradients/dnn/hidden1/MatMul_grad/MatMul&quot;\\n      }\\n    }\\n  }\\n}\\nnode {\\n  name: &quot;train/gradients/dnn/hidden1/MatMul_grad/tuple/control_dependency_1&quot;\\n  op: &quot;Identity&quot;\\n  input: &quot;train/gradients/dnn/hidden1/MatMul_grad/MatMul_1&quot;\\n  input: &quot;^train/gradients/dnn/hidden1/MatMul_grad/tuple/group_deps&quot;\\n  attr {\\n    key: &quot;T&quot;\\n    value {\\n      type: DT_FLOAT\\n    }\\n  }\\n  attr {\\n    key: &quot;_class&quot;\\n    value {\\n      list {\\n        s: &quot;loc:@train/gradients/dnn/hidden1/MatMul_grad/MatMul_1&quot;\\n      }\\n    }\\n  }\\n}\\nnode {\\n  name: &quot;train/GradientDescent/learning_rate&quot;\\n  op: &quot;Const&quot;\\n  attr {\\n    key: &quot;dtype&quot;\\n    value {\\n      type: DT_FLOAT\\n    }\\n  }\\n  attr {\\n    key: &quot;value&quot;\\n    value {\\n      tensor {\\n        dtype: DT_FLOAT\\n        tensor_shape {\\n        }\\n        float_val: 0.009999999776482582\\n      }\\n    }\\n  }\\n}\\nnode {\\n  name: &quot;train/GradientDescent/update_hidden1/kernel/ApplyGradientDescent&quot;\\n  op: &quot;ApplyGradientDescent&quot;\\n  input: &quot;hidden1/kernel&quot;\\n  input: &quot;train/GradientDescent/learning_rate&quot;\\n  input: &quot;train/gradients/dnn/hidden1/MatMul_grad/tuple/control_dependency_1&quot;\\n  attr {\\n    key: &quot;T&quot;\\n    value {\\n      type: DT_FLOAT\\n    }\\n  }\\n  attr {\\n    key: &quot;_class&quot;\\n    value {\\n      list {\\n        s: &quot;loc:@hidden1/kernel&quot;\\n      }\\n    }\\n  }\\n  attr {\\n    key: &quot;use_locking&quot;\\n    value {\\n      b: false\\n    }\\n  }\\n}\\nnode {\\n  name: &quot;train/GradientDescent/update_hidden1/bias/ApplyGradientDescent&quot;\\n  op: &quot;ApplyGradientDescent&quot;\\n  input: &quot;hidden1/bias&quot;\\n  input: &quot;train/GradientDescent/learning_rate&quot;\\n  input: &quot;train/gradients/dnn/hidden1/BiasAdd_grad/tuple/control_dependency_1&quot;\\n  attr {\\n    key: &quot;T&quot;\\n    value {\\n      type: DT_FLOAT\\n    }\\n  }\\n  attr {\\n    key: &quot;_class&quot;\\n    value {\\n      list {\\n        s: &quot;loc:@hidden1/bias&quot;\\n      }\\n    }\\n  }\\n  attr {\\n    key: &quot;use_locking&quot;\\n    value {\\n      b: false\\n    }\\n  }\\n}\\nnode {\\n  name: &quot;train/GradientDescent/update_hidden2/kernel/ApplyGradientDescent&quot;\\n  op: &quot;ApplyGradientDescent&quot;\\n  input: &quot;hidden2/kernel&quot;\\n  input: &quot;train/GradientDescent/learning_rate&quot;\\n  input: &quot;train/gradients/dnn/hidden2/MatMul_grad/tuple/control_dependency_1&quot;\\n  attr {\\n    key: &quot;T&quot;\\n    value {\\n      type: DT_FLOAT\\n    }\\n  }\\n  attr {\\n    key: &quot;_class&quot;\\n    value {\\n      list {\\n        s: &quot;loc:@hidden2/kernel&quot;\\n      }\\n    }\\n  }\\n  attr {\\n    key: &quot;use_locking&quot;\\n    value {\\n      b: false\\n    }\\n  }\\n}\\nnode {\\n  name: &quot;train/GradientDescent/update_hidden2/bias/ApplyGradientDescent&quot;\\n  op: &quot;ApplyGradientDescent&quot;\\n  input: &quot;hidden2/bias&quot;\\n  input: &quot;train/GradientDescent/learning_rate&quot;\\n  input: &quot;train/gradients/dnn/hidden2/BiasAdd_grad/tuple/control_dependency_1&quot;\\n  attr {\\n    key: &quot;T&quot;\\n    value {\\n      type: DT_FLOAT\\n    }\\n  }\\n  attr {\\n    key: &quot;_class&quot;\\n    value {\\n      list {\\n        s: &quot;loc:@hidden2/bias&quot;\\n      }\\n    }\\n  }\\n  attr {\\n    key: &quot;use_locking&quot;\\n    value {\\n      b: false\\n    }\\n  }\\n}\\nnode {\\n  name: &quot;train/GradientDescent/update_outputs/kernel/ApplyGradientDescent&quot;\\n  op: &quot;ApplyGradientDescent&quot;\\n  input: &quot;outputs/kernel&quot;\\n  input: &quot;train/GradientDescent/learning_rate&quot;\\n  input: &quot;train/gradients/dnn/outputs/MatMul_grad/tuple/control_dependency_1&quot;\\n  attr {\\n    key: &quot;T&quot;\\n    value {\\n      type: DT_FLOAT\\n    }\\n  }\\n  attr {\\n    key: &quot;_class&quot;\\n    value {\\n      list {\\n        s: &quot;loc:@outputs/kernel&quot;\\n      }\\n    }\\n  }\\n  attr {\\n    key: &quot;use_locking&quot;\\n    value {\\n      b: false\\n    }\\n  }\\n}\\nnode {\\n  name: &quot;train/GradientDescent/update_outputs/bias/ApplyGradientDescent&quot;\\n  op: &quot;ApplyGradientDescent&quot;\\n  input: &quot;outputs/bias&quot;\\n  input: &quot;train/GradientDescent/learning_rate&quot;\\n  input: &quot;train/gradients/dnn/outputs/BiasAdd_grad/tuple/control_dependency_1&quot;\\n  attr {\\n    key: &quot;T&quot;\\n    value {\\n      type: DT_FLOAT\\n    }\\n  }\\n  attr {\\n    key: &quot;_class&quot;\\n    value {\\n      list {\\n        s: &quot;loc:@outputs/bias&quot;\\n      }\\n    }\\n  }\\n  attr {\\n    key: &quot;use_locking&quot;\\n    value {\\n      b: false\\n    }\\n  }\\n}\\nnode {\\n  name: &quot;train/GradientDescent&quot;\\n  op: &quot;NoOp&quot;\\n  input: &quot;^train/GradientDescent/update_hidden1/bias/ApplyGradientDescent&quot;\\n  input: &quot;^train/GradientDescent/update_hidden1/kernel/ApplyGradientDescent&quot;\\n  input: &quot;^train/GradientDescent/update_hidden2/bias/ApplyGradientDescent&quot;\\n  input: &quot;^train/GradientDescent/update_hidden2/kernel/ApplyGradientDescent&quot;\\n  input: &quot;^train/GradientDescent/update_outputs/bias/ApplyGradientDescent&quot;\\n  input: &quot;^train/GradientDescent/update_outputs/kernel/ApplyGradientDescent&quot;\\n}\\nnode {\\n  name: &quot;eval/in_top_k/InTopKV2/k&quot;\\n  op: &quot;Const&quot;\\n  attr {\\n    key: &quot;dtype&quot;\\n    value {\\n      type: DT_INT32\\n    }\\n  }\\n  attr {\\n    key: &quot;value&quot;\\n    value {\\n      tensor {\\n        dtype: DT_INT32\\n        tensor_shape {\\n        }\\n        int_val: 1\\n      }\\n    }\\n  }\\n}\\nnode {\\n  name: &quot;eval/in_top_k/InTopKV2&quot;\\n  op: &quot;InTopKV2&quot;\\n  input: &quot;dnn/outputs/BiasAdd&quot;\\n  input: &quot;y&quot;\\n  input: &quot;eval/in_top_k/InTopKV2/k&quot;\\n  attr {\\n    key: &quot;T&quot;\\n    value {\\n      type: DT_INT32\\n    }\\n  }\\n}\\nnode {\\n  name: &quot;eval/Cast&quot;\\n  op: &quot;Cast&quot;\\n  input: &quot;eval/in_top_k/InTopKV2&quot;\\n  attr {\\n    key: &quot;DstT&quot;\\n    value {\\n      type: DT_FLOAT\\n    }\\n  }\\n  attr {\\n    key: &quot;SrcT&quot;\\n    value {\\n      type: DT_BOOL\\n    }\\n  }\\n  attr {\\n    key: &quot;Truncate&quot;\\n    value {\\n      b: false\\n    }\\n  }\\n}\\nnode {\\n  name: &quot;eval/Const&quot;\\n  op: &quot;Const&quot;\\n  attr {\\n    key: &quot;dtype&quot;\\n    value {\\n      type: DT_INT32\\n    }\\n  }\\n  attr {\\n    key: &quot;value&quot;\\n    value {\\n      tensor {\\n        dtype: DT_INT32\\n        tensor_shape {\\n          dim {\\n            size: 1\\n          }\\n        }\\n        int_val: 0\\n      }\\n    }\\n  }\\n}\\nnode {\\n  name: &quot;eval/Mean&quot;\\n  op: &quot;Mean&quot;\\n  input: &quot;eval/Cast&quot;\\n  input: &quot;eval/Const&quot;\\n  attr {\\n    key: &quot;T&quot;\\n    value {\\n      type: DT_FLOAT\\n    }\\n  }\\n  attr {\\n    key: &quot;Tidx&quot;\\n    value {\\n      type: DT_INT32\\n    }\\n  }\\n  attr {\\n    key: &quot;keep_dims&quot;\\n    value {\\n      b: false\\n    }\\n  }\\n}\\nnode {\\n  name: &quot;init&quot;\\n  op: &quot;NoOp&quot;\\n  input: &quot;^hidden1/bias/Assign&quot;\\n  input: &quot;^hidden1/kernel/Assign&quot;\\n  input: &quot;^hidden2/bias/Assign&quot;\\n  input: &quot;^hidden2/kernel/Assign&quot;\\n  input: &quot;^outputs/bias/Assign&quot;\\n  input: &quot;^outputs/kernel/Assign&quot;\\n}\\nnode {\\n  name: &quot;save/Const&quot;\\n  op: &quot;Const&quot;\\n  attr {\\n    key: &quot;dtype&quot;\\n    value {\\n      type: DT_STRING\\n    }\\n  }\\n  attr {\\n    key: &quot;value&quot;\\n    value {\\n      tensor {\\n        dtype: DT_STRING\\n        tensor_shape {\\n        }\\n        string_val: &quot;model&quot;\\n      }\\n    }\\n  }\\n}\\nnode {\\n  name: &quot;save/SaveV2/tensor_names&quot;\\n  op: &quot;Const&quot;\\n  attr {\\n    key: &quot;dtype&quot;\\n    value {\\n      type: DT_STRING\\n    }\\n  }\\n  attr {\\n    key: &quot;value&quot;\\n    value {\\n      tensor {\\n        dtype: DT_STRING\\n        tensor_shape {\\n          dim {\\n            size: 6\\n          }\\n        }\\n        string_val: &quot;hidden1/bias&quot;\\n        string_val: &quot;hidden1/kernel&quot;\\n        string_val: &quot;hidden2/bias&quot;\\n        string_val: &quot;hidden2/kernel&quot;\\n        string_val: &quot;outputs/bias&quot;\\n        string_val: &quot;outputs/kernel&quot;\\n      }\\n    }\\n  }\\n}\\nnode {\\n  name: &quot;save/SaveV2/shape_and_slices&quot;\\n  op: &quot;Const&quot;\\n  attr {\\n    key: &quot;dtype&quot;\\n    value {\\n      type: DT_STRING\\n    }\\n  }\\n  attr {\\n    key: &quot;value&quot;\\n    value {\\n      tensor {\\n        dtype: DT_STRING\\n        tensor_shape {\\n          dim {\\n            size: 6\\n          }\\n        }\\n        string_val: &quot;&quot;\\n        string_val: &quot;&quot;\\n        string_val: &quot;&quot;\\n        string_val: &quot;&quot;\\n        string_val: &quot;&quot;\\n        string_val: &quot;&quot;\\n      }\\n    }\\n  }\\n}\\nnode {\\n  name: &quot;save/SaveV2&quot;\\n  op: &quot;SaveV2&quot;\\n  input: &quot;save/Const&quot;\\n  input: &quot;save/SaveV2/tensor_names&quot;\\n  input: &quot;save/SaveV2/shape_and_slices&quot;\\n  input: &quot;hidden1/bias&quot;\\n  input: &quot;hidden1/kernel&quot;\\n  input: &quot;hidden2/bias&quot;\\n  input: &quot;hidden2/kernel&quot;\\n  input: &quot;outputs/bias&quot;\\n  input: &quot;outputs/kernel&quot;\\n  attr {\\n    key: &quot;dtypes&quot;\\n    value {\\n      list {\\n        type: DT_FLOAT\\n        type: DT_FLOAT\\n        type: DT_FLOAT\\n        type: DT_FLOAT\\n        type: DT_FLOAT\\n        type: DT_FLOAT\\n      }\\n    }\\n  }\\n}\\nnode {\\n  name: &quot;save/control_dependency&quot;\\n  op: &quot;Identity&quot;\\n  input: &quot;save/Const&quot;\\n  input: &quot;^save/SaveV2&quot;\\n  attr {\\n    key: &quot;T&quot;\\n    value {\\n      type: DT_STRING\\n    }\\n  }\\n  attr {\\n    key: &quot;_class&quot;\\n    value {\\n      list {\\n        s: &quot;loc:@save/Const&quot;\\n      }\\n    }\\n  }\\n}\\nnode {\\n  name: &quot;save/RestoreV2/tensor_names&quot;\\n  op: &quot;Const&quot;\\n  device: &quot;/device:CPU:0&quot;\\n  attr {\\n    key: &quot;dtype&quot;\\n    value {\\n      type: DT_STRING\\n    }\\n  }\\n  attr {\\n    key: &quot;value&quot;\\n    value {\\n      tensor {\\n        dtype: DT_STRING\\n        tensor_shape {\\n          dim {\\n            size: 6\\n          }\\n        }\\n        string_val: &quot;hidden1/bias&quot;\\n        string_val: &quot;hidden1/kernel&quot;\\n        string_val: &quot;hidden2/bias&quot;\\n        string_val: &quot;hidden2/kernel&quot;\\n        string_val: &quot;outputs/bias&quot;\\n        string_val: &quot;outputs/kernel&quot;\\n      }\\n    }\\n  }\\n}\\nnode {\\n  name: &quot;save/RestoreV2/shape_and_slices&quot;\\n  op: &quot;Const&quot;\\n  device: &quot;/device:CPU:0&quot;\\n  attr {\\n    key: &quot;dtype&quot;\\n    value {\\n      type: DT_STRING\\n    }\\n  }\\n  attr {\\n    key: &quot;value&quot;\\n    value {\\n      tensor {\\n        dtype: DT_STRING\\n        tensor_shape {\\n          dim {\\n            size: 6\\n          }\\n        }\\n        string_val: &quot;&quot;\\n        string_val: &quot;&quot;\\n        string_val: &quot;&quot;\\n        string_val: &quot;&quot;\\n        string_val: &quot;&quot;\\n        string_val: &quot;&quot;\\n      }\\n    }\\n  }\\n}\\nnode {\\n  name: &quot;save/RestoreV2&quot;\\n  op: &quot;RestoreV2&quot;\\n  input: &quot;save/Const&quot;\\n  input: &quot;save/RestoreV2/tensor_names&quot;\\n  input: &quot;save/RestoreV2/shape_and_slices&quot;\\n  device: &quot;/device:CPU:0&quot;\\n  attr {\\n    key: &quot;dtypes&quot;\\n    value {\\n      list {\\n        type: DT_FLOAT\\n        type: DT_FLOAT\\n        type: DT_FLOAT\\n        type: DT_FLOAT\\n        type: DT_FLOAT\\n        type: DT_FLOAT\\n      }\\n    }\\n  }\\n}\\nnode {\\n  name: &quot;save/Assign&quot;\\n  op: &quot;Assign&quot;\\n  input: &quot;hidden1/bias&quot;\\n  input: &quot;save/RestoreV2&quot;\\n  attr {\\n    key: &quot;T&quot;\\n    value {\\n      type: DT_FLOAT\\n    }\\n  }\\n  attr {\\n    key: &quot;_class&quot;\\n    value {\\n      list {\\n        s: &quot;loc:@hidden1/bias&quot;\\n      }\\n    }\\n  }\\n  attr {\\n    key: &quot;use_locking&quot;\\n    value {\\n      b: true\\n    }\\n  }\\n  attr {\\n    key: &quot;validate_shape&quot;\\n    value {\\n      b: true\\n    }\\n  }\\n}\\nnode {\\n  name: &quot;save/Assign_1&quot;\\n  op: &quot;Assign&quot;\\n  input: &quot;hidden1/kernel&quot;\\n  input: &quot;save/RestoreV2:1&quot;\\n  attr {\\n    key: &quot;T&quot;\\n    value {\\n      type: DT_FLOAT\\n    }\\n  }\\n  attr {\\n    key: &quot;_class&quot;\\n    value {\\n      list {\\n        s: &quot;loc:@hidden1/kernel&quot;\\n      }\\n    }\\n  }\\n  attr {\\n    key: &quot;use_locking&quot;\\n    value {\\n      b: true\\n    }\\n  }\\n  attr {\\n    key: &quot;validate_shape&quot;\\n    value {\\n      b: true\\n    }\\n  }\\n}\\nnode {\\n  name: &quot;save/Assign_2&quot;\\n  op: &quot;Assign&quot;\\n  input: &quot;hidden2/bias&quot;\\n  input: &quot;save/RestoreV2:2&quot;\\n  attr {\\n    key: &quot;T&quot;\\n    value {\\n      type: DT_FLOAT\\n    }\\n  }\\n  attr {\\n    key: &quot;_class&quot;\\n    value {\\n      list {\\n        s: &quot;loc:@hidden2/bias&quot;\\n      }\\n    }\\n  }\\n  attr {\\n    key: &quot;use_locking&quot;\\n    value {\\n      b: true\\n    }\\n  }\\n  attr {\\n    key: &quot;validate_shape&quot;\\n    value {\\n      b: true\\n    }\\n  }\\n}\\nnode {\\n  name: &quot;save/Assign_3&quot;\\n  op: &quot;Assign&quot;\\n  input: &quot;hidden2/kernel&quot;\\n  input: &quot;save/RestoreV2:3&quot;\\n  attr {\\n    key: &quot;T&quot;\\n    value {\\n      type: DT_FLOAT\\n    }\\n  }\\n  attr {\\n    key: &quot;_class&quot;\\n    value {\\n      list {\\n        s: &quot;loc:@hidden2/kernel&quot;\\n      }\\n    }\\n  }\\n  attr {\\n    key: &quot;use_locking&quot;\\n    value {\\n      b: true\\n    }\\n  }\\n  attr {\\n    key: &quot;validate_shape&quot;\\n    value {\\n      b: true\\n    }\\n  }\\n}\\nnode {\\n  name: &quot;save/Assign_4&quot;\\n  op: &quot;Assign&quot;\\n  input: &quot;outputs/bias&quot;\\n  input: &quot;save/RestoreV2:4&quot;\\n  attr {\\n    key: &quot;T&quot;\\n    value {\\n      type: DT_FLOAT\\n    }\\n  }\\n  attr {\\n    key: &quot;_class&quot;\\n    value {\\n      list {\\n        s: &quot;loc:@outputs/bias&quot;\\n      }\\n    }\\n  }\\n  attr {\\n    key: &quot;use_locking&quot;\\n    value {\\n      b: true\\n    }\\n  }\\n  attr {\\n    key: &quot;validate_shape&quot;\\n    value {\\n      b: true\\n    }\\n  }\\n}\\nnode {\\n  name: &quot;save/Assign_5&quot;\\n  op: &quot;Assign&quot;\\n  input: &quot;outputs/kernel&quot;\\n  input: &quot;save/RestoreV2:5&quot;\\n  attr {\\n    key: &quot;T&quot;\\n    value {\\n      type: DT_FLOAT\\n    }\\n  }\\n  attr {\\n    key: &quot;_class&quot;\\n    value {\\n      list {\\n        s: &quot;loc:@outputs/kernel&quot;\\n      }\\n    }\\n  }\\n  attr {\\n    key: &quot;use_locking&quot;\\n    value {\\n      b: true\\n    }\\n  }\\n  attr {\\n    key: &quot;validate_shape&quot;\\n    value {\\n      b: true\\n    }\\n  }\\n}\\nnode {\\n  name: &quot;save/restore_all&quot;\\n  op: &quot;NoOp&quot;\\n  input: &quot;^save/Assign&quot;\\n  input: &quot;^save/Assign_1&quot;\\n  input: &quot;^save/Assign_2&quot;\\n  input: &quot;^save/Assign_3&quot;\\n  input: &quot;^save/Assign_4&quot;\\n  input: &quot;^save/Assign_5&quot;\\n}\\n';\n",
       "          }\n",
       "        </script>\n",
       "        <link rel=&quot;import&quot; href=&quot;https://tensorboard.appspot.com/tf-graph-basic.build.html&quot; onload=load()>\n",
       "        <div style=&quot;height:600px&quot;>\n",
       "          <tf-graph-basic id=&quot;graph0.7224827313584268&quot;></tf-graph-basic>\n",
       "        </div>\n",
       "    \"></iframe>\n",
       "    "
      ],
      "text/plain": [
       "<IPython.core.display.HTML object>"
      ]
     },
     "metadata": {},
     "output_type": "display_data"
    }
   ],
   "source": [
    "show_graph(tf.get_default_graph())"
   ]
  },
  {
   "cell_type": "markdown",
   "metadata": {
    "collapsed": true
   },
   "source": [
    "# 연습문제 정답"
   ]
  },
  {
   "cell_type": "markdown",
   "metadata": {},
   "source": [
    "## 9."
   ]
  },
  {
   "cell_type": "markdown",
   "metadata": {},
   "source": [
    "_깊은 다층 퍼셉트론을 MNIST 데이터셋에 훈련시키고 98% 정확도를 얻을 수 있는지 확인해보세요. 9장의 마지막 연습문제에서와 같이 모든 부가 기능을 추가해보세요(즉, 체크포인트를 저장하고, 중지되었을 때 마지막 체크포인트를 복원하고, 서머리를 추가하고, 텐서보드를 사용해 학습 곡선을 그려보세요)._"
   ]
  },
  {
   "cell_type": "markdown",
   "metadata": {},
   "source": [
    "먼저 심층 신경망을 만듭니다. 한가지 추가된 것 외에는 앞서 했던 것과 동일합니다. 텐서보드에서 학습 곡선을 볼 수 있도록 훈련하는 동안 손실과 정확도를 기록하는 `tf.summary.scalar()` 추가합니다."
   ]
  },
  {
   "cell_type": "code",
   "execution_count": 47,
   "metadata": {},
   "outputs": [],
   "source": [
    "n_inputs = 28*28  # MNIST\n",
    "n_hidden1 = 300\n",
    "n_hidden2 = 100\n",
    "n_outputs = 10"
   ]
  },
  {
   "cell_type": "code",
   "execution_count": 48,
   "metadata": {},
   "outputs": [],
   "source": [
    "reset_graph()\n",
    "\n",
    "X = tf.placeholder(tf.float32, shape=(None, n_inputs), name=\"X\")\n",
    "y = tf.placeholder(tf.int32, shape=(None), name=\"y\") "
   ]
  },
  {
   "cell_type": "code",
   "execution_count": 49,
   "metadata": {},
   "outputs": [],
   "source": [
    "with tf.name_scope(\"dnn\"):\n",
    "    hidden1 = tf.layers.dense(X, n_hidden1, name=\"hidden1\",\n",
    "                              activation=tf.nn.relu)\n",
    "    hidden2 = tf.layers.dense(hidden1, n_hidden2, name=\"hidden2\",\n",
    "                              activation=tf.nn.relu)\n",
    "    logits = tf.layers.dense(hidden2, n_outputs, name=\"outputs\")"
   ]
  },
  {
   "cell_type": "code",
   "execution_count": 50,
   "metadata": {},
   "outputs": [],
   "source": [
    "with tf.name_scope(\"loss\"):\n",
    "    xentropy = tf.nn.sparse_softmax_cross_entropy_with_logits(labels=y, logits=logits)\n",
    "    loss = tf.reduce_mean(xentropy, name=\"loss\")\n",
    "    loss_summary = tf.summary.scalar('log_loss', loss)"
   ]
  },
  {
   "cell_type": "code",
   "execution_count": 51,
   "metadata": {},
   "outputs": [],
   "source": [
    "learning_rate = 0.01\n",
    "\n",
    "with tf.name_scope(\"train\"):\n",
    "    optimizer = tf.train.GradientDescentOptimizer(learning_rate)\n",
    "    training_op = optimizer.minimize(loss)"
   ]
  },
  {
   "cell_type": "code",
   "execution_count": 52,
   "metadata": {},
   "outputs": [],
   "source": [
    "with tf.name_scope(\"eval\"):\n",
    "    correct = tf.nn.in_top_k(logits, y, 1)\n",
    "    accuracy = tf.reduce_mean(tf.cast(correct, tf.float32))\n",
    "    accuracy_summary = tf.summary.scalar('accuracy', accuracy)"
   ]
  },
  {
   "cell_type": "code",
   "execution_count": 53,
   "metadata": {},
   "outputs": [],
   "source": [
    "init = tf.global_variables_initializer()\n",
    "saver = tf.train.Saver()"
   ]
  },
  {
   "cell_type": "markdown",
   "metadata": {},
   "source": [
    "텐서보드 로그를 기록할 디렉토리를 정의합니다:"
   ]
  },
  {
   "cell_type": "code",
   "execution_count": 54,
   "metadata": {},
   "outputs": [],
   "source": [
    "from datetime import datetime\n",
    "\n",
    "def log_dir(prefix=\"\"):\n",
    "    now = datetime.utcnow().strftime(\"%Y%m%d%H%M%S\")\n",
    "    root_logdir = \"tf_logs\"\n",
    "    if prefix:\n",
    "        prefix += \"-\"\n",
    "    name = prefix + \"run-\" + now\n",
    "    return \"{}/{}/\".format(root_logdir, name)"
   ]
  },
  {
   "cell_type": "code",
   "execution_count": 55,
   "metadata": {},
   "outputs": [],
   "source": [
    "logdir = log_dir(\"mnist_dnn\")"
   ]
  },
  {
   "cell_type": "markdown",
   "metadata": {},
   "source": [
    "텐서보드 로그를 작성하는 데 필요한 `FileWriter` 객체를 만듭니다:"
   ]
  },
  {
   "cell_type": "code",
   "execution_count": 56,
   "metadata": {},
   "outputs": [],
   "source": [
    "file_writer = tf.summary.FileWriter(logdir, tf.get_default_graph())"
   ]
  },
  {
   "cell_type": "markdown",
   "metadata": {},
   "source": [
    "잠시만요! 조기 종료를 구현하는 것이 좋겠죠? 이렇게 하려면 검증 세트가 필요합니다."
   ]
  },
  {
   "cell_type": "code",
   "execution_count": 57,
   "metadata": {},
   "outputs": [],
   "source": [
    "# X_valid = mnist.validation.images\n",
    "# y_valid = mnist.validation.labels"
   ]
  },
  {
   "cell_type": "code",
   "execution_count": 58,
   "metadata": {},
   "outputs": [],
   "source": [
    "m, n = X_train.shape"
   ]
  },
  {
   "cell_type": "code",
   "execution_count": 59,
   "metadata": {
    "scrolled": true
   },
   "outputs": [
    {
     "name": "stderr",
     "output_type": "stream",
     "text": [
      "  0%|          | 1/10001 [00:04<12:30:30,  4.50s/it]"
     ]
    },
    {
     "name": "stdout",
     "output_type": "stream",
     "text": [
      "에포크: 0 \t검증 세트 정확도: 90.280% \t손실: 0.35386\n"
     ]
    },
    {
     "name": "stderr",
     "output_type": "stream",
     "text": [
      "  0%|          | 6/10001 [00:23<10:52:23,  3.92s/it]"
     ]
    },
    {
     "name": "stdout",
     "output_type": "stream",
     "text": [
      "에포크: 5 \t검증 세트 정확도: 95.100% \t손실: 0.17917\n"
     ]
    },
    {
     "name": "stderr",
     "output_type": "stream",
     "text": [
      "  0%|          | 11/10001 [00:42<10:33:59,  3.81s/it]"
     ]
    },
    {
     "name": "stdout",
     "output_type": "stream",
     "text": [
      "에포크: 10 \t검증 세트 정확도: 96.540% \t손실: 0.12792\n"
     ]
    },
    {
     "name": "stderr",
     "output_type": "stream",
     "text": [
      "  0%|          | 16/10001 [01:01<10:31:02,  3.79s/it]"
     ]
    },
    {
     "name": "stdout",
     "output_type": "stream",
     "text": [
      "에포크: 15 \t검증 세트 정확도: 97.160% \t손실: 0.10339\n"
     ]
    },
    {
     "name": "stderr",
     "output_type": "stream",
     "text": [
      "  0%|          | 21/10001 [01:20<10:37:42,  3.83s/it]"
     ]
    },
    {
     "name": "stdout",
     "output_type": "stream",
     "text": [
      "에포크: 20 \t검증 세트 정확도: 97.460% \t손실: 0.09168\n"
     ]
    },
    {
     "name": "stderr",
     "output_type": "stream",
     "text": [
      "  0%|          | 26/10001 [01:40<10:39:35,  3.85s/it]"
     ]
    },
    {
     "name": "stdout",
     "output_type": "stream",
     "text": [
      "에포크: 25 \t검증 세트 정확도: 97.620% \t손실: 0.08211\n"
     ]
    },
    {
     "name": "stderr",
     "output_type": "stream",
     "text": [
      "  0%|          | 31/10001 [01:59<10:33:36,  3.81s/it]"
     ]
    },
    {
     "name": "stdout",
     "output_type": "stream",
     "text": [
      "에포크: 30 \t검증 세트 정확도: 97.740% \t손실: 0.07890\n"
     ]
    },
    {
     "name": "stderr",
     "output_type": "stream",
     "text": [
      "  0%|          | 36/10001 [02:18<10:34:11,  3.82s/it]"
     ]
    },
    {
     "name": "stdout",
     "output_type": "stream",
     "text": [
      "에포크: 35 \t검증 세트 정확도: 97.780% \t손실: 0.07417\n"
     ]
    },
    {
     "name": "stderr",
     "output_type": "stream",
     "text": [
      "  0%|          | 41/10001 [02:37<10:31:21,  3.80s/it]"
     ]
    },
    {
     "name": "stdout",
     "output_type": "stream",
     "text": [
      "에포크: 40 \t검증 세트 정확도: 97.840% \t손실: 0.07155\n"
     ]
    },
    {
     "name": "stderr",
     "output_type": "stream",
     "text": [
      "  0%|          | 46/10001 [02:56<10:29:25,  3.79s/it]"
     ]
    },
    {
     "name": "stdout",
     "output_type": "stream",
     "text": [
      "에포크: 45 \t검증 세트 정확도: 98.040% \t손실: 0.06735\n"
     ]
    },
    {
     "name": "stderr",
     "output_type": "stream",
     "text": [
      "  1%|          | 51/10001 [03:15<10:30:56,  3.80s/it]"
     ]
    },
    {
     "name": "stdout",
     "output_type": "stream",
     "text": [
      "에포크: 50 \t검증 세트 정확도: 98.020% \t손실: 0.06732\n"
     ]
    },
    {
     "name": "stderr",
     "output_type": "stream",
     "text": [
      "  1%|          | 56/10001 [03:34<10:37:35,  3.85s/it]"
     ]
    },
    {
     "name": "stdout",
     "output_type": "stream",
     "text": [
      "에포크: 55 \t검증 세트 정확도: 98.000% \t손실: 0.06683\n"
     ]
    },
    {
     "name": "stderr",
     "output_type": "stream",
     "text": [
      "  1%|          | 61/10001 [03:53<10:31:08,  3.81s/it]"
     ]
    },
    {
     "name": "stdout",
     "output_type": "stream",
     "text": [
      "에포크: 60 \t검증 세트 정확도: 98.020% \t손실: 0.06727\n"
     ]
    },
    {
     "name": "stderr",
     "output_type": "stream",
     "text": [
      "  1%|          | 66/10001 [04:12<10:32:17,  3.82s/it]"
     ]
    },
    {
     "name": "stdout",
     "output_type": "stream",
     "text": [
      "에포크: 65 \t검증 세트 정확도: 98.180% \t손실: 0.06670\n"
     ]
    },
    {
     "name": "stderr",
     "output_type": "stream",
     "text": [
      "  1%|          | 71/10001 [04:31<10:37:05,  3.85s/it]"
     ]
    },
    {
     "name": "stdout",
     "output_type": "stream",
     "text": [
      "에포크: 70 \t검증 세트 정확도: 98.160% \t손실: 0.06609\n"
     ]
    },
    {
     "name": "stderr",
     "output_type": "stream",
     "text": [
      "  1%|          | 76/10001 [04:50<10:33:24,  3.83s/it]"
     ]
    },
    {
     "name": "stdout",
     "output_type": "stream",
     "text": [
      "에포크: 75 \t검증 세트 정확도: 98.120% \t손실: 0.06639\n"
     ]
    },
    {
     "name": "stderr",
     "output_type": "stream",
     "text": [
      "  1%|          | 81/10001 [05:09<10:23:50,  3.77s/it]"
     ]
    },
    {
     "name": "stdout",
     "output_type": "stream",
     "text": [
      "에포크: 80 \t검증 세트 정확도: 98.140% \t손실: 0.06661\n"
     ]
    },
    {
     "name": "stderr",
     "output_type": "stream",
     "text": [
      "  1%|          | 86/10001 [05:28<10:32:49,  3.83s/it]"
     ]
    },
    {
     "name": "stdout",
     "output_type": "stream",
     "text": [
      "에포크: 85 \t검증 세트 정확도: 98.220% \t손실: 0.06603\n"
     ]
    },
    {
     "name": "stderr",
     "output_type": "stream",
     "text": [
      "  1%|          | 91/10001 [05:47<10:31:04,  3.82s/it]"
     ]
    },
    {
     "name": "stdout",
     "output_type": "stream",
     "text": [
      "에포크: 90 \t검증 세트 정확도: 98.140% \t손실: 0.06736\n"
     ]
    },
    {
     "name": "stderr",
     "output_type": "stream",
     "text": [
      "  1%|          | 96/10001 [06:06<10:22:51,  3.77s/it]"
     ]
    },
    {
     "name": "stdout",
     "output_type": "stream",
     "text": [
      "에포크: 95 \t검증 세트 정확도: 98.180% \t손실: 0.06886\n"
     ]
    },
    {
     "name": "stderr",
     "output_type": "stream",
     "text": [
      "  1%|          | 101/10001 [06:25<10:27:03,  3.80s/it]"
     ]
    },
    {
     "name": "stdout",
     "output_type": "stream",
     "text": [
      "에포크: 100 \t검증 세트 정확도: 98.200% \t손실: 0.06876\n"
     ]
    },
    {
     "name": "stderr",
     "output_type": "stream",
     "text": [
      "  1%|          | 106/10001 [06:44<10:29:11,  3.82s/it]"
     ]
    },
    {
     "name": "stdout",
     "output_type": "stream",
     "text": [
      "에포크: 105 \t검증 세트 정확도: 98.220% \t손실: 0.07071\n"
     ]
    },
    {
     "name": "stderr",
     "output_type": "stream",
     "text": [
      "  1%|          | 111/10001 [07:03<10:26:16,  3.80s/it]"
     ]
    },
    {
     "name": "stdout",
     "output_type": "stream",
     "text": [
      "에포크: 110 \t검증 세트 정확도: 98.200% \t손실: 0.07058\n"
     ]
    },
    {
     "name": "stderr",
     "output_type": "stream",
     "text": [
      "  1%|          | 116/10001 [07:23<10:55:13,  3.98s/it]"
     ]
    },
    {
     "name": "stdout",
     "output_type": "stream",
     "text": [
      "에포크: 115 \t검증 세트 정확도: 98.260% \t손실: 0.07059\n"
     ]
    },
    {
     "name": "stderr",
     "output_type": "stream",
     "text": [
      "  1%|          | 121/10001 [07:43<10:40:29,  3.89s/it]"
     ]
    },
    {
     "name": "stdout",
     "output_type": "stream",
     "text": [
      "에포크: 120 \t검증 세트 정확도: 98.260% \t손실: 0.07317\n"
     ]
    },
    {
     "name": "stderr",
     "output_type": "stream",
     "text": [
      "  1%|          | 125/10001 [07:58<10:34:11,  3.85s/it]"
     ]
    },
    {
     "name": "stdout",
     "output_type": "stream",
     "text": [
      "에포크: 125 \t검증 세트 정확도: 98.260% \t손실: 0.07146\n",
      "조기 종료\n",
      "CPU times: user 26min 4s, sys: 5min 55s, total: 31min 59s\n",
      "Wall time: 8min 2s\n"
     ]
    }
   ],
   "source": [
    "%%time\n",
    "\n",
    "# 에포크: 120 \t검증 세트 정확도: 98.280% \t손실: 0.07281\n",
    "# 조기 종료\n",
    "# Wall time: 4min 38s\n",
    "\n",
    "n_epochs = 10001\n",
    "batch_size = 50\n",
    "n_batches = int(np.ceil(m / batch_size))\n",
    "\n",
    "checkpoint_path = \"/tmp/my_deep_mnist_model.ckpt\"\n",
    "checkpoint_epoch_path = checkpoint_path + \".epoch\"\n",
    "final_model_path = \"./my_deep_mnist_model\"\n",
    "\n",
    "best_loss = np.infty\n",
    "epochs_without_progress = 0\n",
    "max_epochs_without_progress = 50\n",
    "\n",
    "with tf.Session() as sess:\n",
    "    if os.path.isfile(checkpoint_epoch_path):\n",
    "        # 체크포인트 파일이 있으면 모델을 복원하고 에포크 숫자를 로드합니다\n",
    "        with open(checkpoint_epoch_path, \"rb\") as f:\n",
    "            start_epoch = int(f.read())\n",
    "        print(\"이전 훈련이 중지되었습니다. 에포크 {}에서 시작합니다\".format(start_epoch))\n",
    "        saver.restore(sess, checkpoint_path)\n",
    "    else:\n",
    "        start_epoch = 0\n",
    "        sess.run(init)\n",
    "\n",
    "    #for epoch in range(start_epoch, n_epochs):\n",
    "    for epoch in trange(start_epoch, n_epochs):\n",
    "        for X_batch, y_batch in shuffle_batch(X_train, y_train, batch_size):\n",
    "            sess.run(training_op, feed_dict={X: X_batch, y: y_batch})\n",
    "        accuracy_val, loss_val, accuracy_summary_str, loss_summary_str = sess.run([accuracy, loss, accuracy_summary, loss_summary], feed_dict={X: X_valid, y: y_valid})\n",
    "        file_writer.add_summary(accuracy_summary_str, epoch)\n",
    "        file_writer.add_summary(loss_summary_str, epoch)\n",
    "        if epoch % 5 == 0:\n",
    "            print(\"에포크:\", epoch,\n",
    "                  \"\\t검증 세트 정확도: {:.3f}%\".format(accuracy_val * 100),\n",
    "                  \"\\t손실: {:.5f}\".format(loss_val))\n",
    "            saver.save(sess, checkpoint_path)\n",
    "            with open(checkpoint_epoch_path, \"wb\") as f:\n",
    "                f.write(b\"%d\" % (epoch + 1))\n",
    "            if loss_val < best_loss:\n",
    "                saver.save(sess, final_model_path)\n",
    "                best_loss = loss_val\n",
    "            else:\n",
    "                epochs_without_progress += 5\n",
    "                if epochs_without_progress > max_epochs_without_progress:\n",
    "                    print(\"조기 종료\")\n",
    "                    break"
   ]
  },
  {
   "cell_type": "code",
   "execution_count": 60,
   "metadata": {},
   "outputs": [],
   "source": [
    "os.remove(checkpoint_epoch_path)"
   ]
  },
  {
   "cell_type": "code",
   "execution_count": 61,
   "metadata": {},
   "outputs": [
    {
     "name": "stdout",
     "output_type": "stream",
     "text": [
      "INFO:tensorflow:Restoring parameters from ./my_deep_mnist_model\n"
     ]
    }
   ],
   "source": [
    "with tf.Session() as sess:\n",
    "    saver.restore(sess, final_model_path)\n",
    "    accuracy_val = accuracy.eval(feed_dict={X: X_test, y: y_test})"
   ]
  },
  {
   "cell_type": "code",
   "execution_count": 62,
   "metadata": {},
   "outputs": [
    {
     "data": {
      "text/plain": [
       "0.9794"
      ]
     },
     "execution_count": 62,
     "metadata": {},
     "output_type": "execute_result"
    }
   ],
   "source": [
    "accuracy_val"
   ]
  },
  {
   "cell_type": "code",
   "execution_count": null,
   "metadata": {},
   "outputs": [],
   "source": []
  }
 ],
 "metadata": {
  "kernelspec": {
   "display_name": "Python 3",
   "language": "python",
   "name": "python3"
  },
  "language_info": {
   "codemirror_mode": {
    "name": "ipython",
    "version": 3
   },
   "file_extension": ".py",
   "mimetype": "text/x-python",
   "name": "python",
   "nbconvert_exporter": "python",
   "pygments_lexer": "ipython3",
   "version": "3.6.6"
  },
  "nav_menu": {
   "height": "264px",
   "width": "369px"
  },
  "toc": {
   "navigate_menu": true,
   "number_sections": true,
   "sideBar": true,
   "threshold": 6,
   "toc_cell": false,
   "toc_section_display": "block",
   "toc_window_display": false
  }
 },
 "nbformat": 4,
 "nbformat_minor": 1
}
