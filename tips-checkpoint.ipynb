{
 "cells": [
  {
   "cell_type": "markdown",
   "metadata": {},
   "source": [
    "# tip"
   ]
  },
  {
   "cell_type": "code",
   "execution_count": null,
   "metadata": {},
   "outputs": [],
   "source": [
    "# 그래프 한글 깨지지않게 설정하는 코드 \n",
    "import matplotlib\n",
    "from matplotlib import font_manager, rc\n",
    "import platform\n",
    "\n",
    "if platform.system() == 'Windows': # 윈도우인 경우\n",
    "    font_name = font_manager.FontProperties(fname=\"c:/Windows/Fonts/malgun.ttf\").get_name()\n",
    "    rc('font', family=font_name)\n",
    "else: # Mac 인 경우\n",
    "    rc('font', family='AppleGothic')\n",
    "\n",
    "matplotlib.rcParams['axes.unicode_minus'] = False #그래프에서 마이너스 기호가 표시되도록 하는 설정"
   ]
  },
  {
   "cell_type": "code",
   "execution_count": null,
   "metadata": {},
   "outputs": [],
   "source": [
    "from sklearn.datasets import fetch_openml\n",
    "mnist = fetch_openml('mnist_784', version=1)"
   ]
  },
  {
   "cell_type": "code",
   "execution_count": null,
   "metadata": {},
   "outputs": [],
   "source": [
    "#  mnist 다운로드\n",
    "from six.moves import urllib\n",
    "from sklearn.datasets import fetch_mldata\n",
    "\n",
    "mnist_alternative_url = \"https://github.com/amplab/datascience-sp14/raw/master/lab7/mldata/mnist-original.mat\"\n",
    "mnist_path = \"./mnist-original.mat\"\n",
    "\n",
    "if not os.path.exists(\"mnist-original.mat\"):\n",
    "    response = urllib.request.urlopen(mnist_alternative_url)\n",
    "    with open(mnist_path, \"wb\") as f:\n",
    "        content = response.read()\n",
    "        f.write(content)\n",
    "    print('다운로드 성공!!!')\n",
    "    \n",
    "#  mnist 로드\n",
    "from scipy.io import loadmat\n",
    "\n",
    "mnist_raw = loadmat(mnist_path)\n",
    "mnist = {\n",
    "    \"data\": mnist_raw[\"data\"].T,\n",
    "    \"target\": mnist_raw[\"label\"][0],\n",
    "    \"COL_NAMES\": [\"label\", \"data\"],\n",
    "    \"DESCR\": \"mldata.org dataset: mnist-original\",\n",
    "}\n",
    "print(\"Success!\")"
   ]
  },
  {
   "cell_type": "code",
   "execution_count": 1,
   "metadata": {},
   "outputs": [
    {
     "name": "stderr",
     "output_type": "stream",
     "text": [
      "100%|██████████| 500/500 [00:51<00:00,  9.64it/s]\n"
     ]
    }
   ],
   "source": [
    "# conda install tqdm\n",
    "from tqdm import tqdm\n",
    "from time import sleep\n",
    " \n",
    "for step in tqdm(range(500)):\n",
    "    sleep(0.1)"
   ]
  },
  {
   "cell_type": "code",
   "execution_count": 2,
   "metadata": {},
   "outputs": [
    {
     "name": "stderr",
     "output_type": "stream",
     "text": [
      "100%|██████████| 100001/100001 [00:52<00:00, 1896.35it/s]"
     ]
    },
    {
     "name": "stdout",
     "output_type": "stream",
     "text": [
      "cost :  3.277639e-10 a :  [0.9999777] b :  [4.4524706e-05]\n"
     ]
    },
    {
     "name": "stderr",
     "output_type": "stream",
     "text": [
      "\n"
     ]
    }
   ],
   "source": [
    "import tensorflow as tf\n",
    "from tqdm import tqdm\n",
    "\n",
    "with tf.device(\"/cpu:0\"):\n",
    "    a = tf.Variable(tf.random_normal([1]))\n",
    "    b = tf.Variable(tf.random_normal([1]))\n",
    "\n",
    "    X = tf.placeholder(tf.float32, shape=[None])\n",
    "    Y = tf.placeholder(tf.float32, shape=[None])\n",
    "\n",
    "    eq = X * a + b\n",
    "    cost = tf.reduce_mean(tf.square(eq - Y))\n",
    "\n",
    "optimizer = tf.train.GradientDescentOptimizer(learning_rate=0.001)\n",
    "train = optimizer.minimize(cost)\n",
    "\n",
    "sess = tf.Session()\n",
    "\n",
    "sess.run(tf.global_variables_initializer())\n",
    "\n",
    "for step in tqdm (range(100001)):\n",
    "    cost_val, a_val, b_val, _ = sess.run([cost, a, b, train], feed_dict={X : [1, 2, 3], Y : [1, 2, 3]})\n",
    "\n",
    "print(\"cost : \", cost_val, \"a : \", a_val, \"b : \", b_val)"
   ]
  },
  {
   "cell_type": "code",
   "execution_count": 29,
   "metadata": {},
   "outputs": [
    {
     "data": {
      "text/plain": [
       "Text(0.5, 0, '시간(분)')"
      ]
     },
     "execution_count": 29,
     "metadata": {},
     "output_type": "execute_result"
    },
    {
     "data": {
      "image/png": "[encoded data removed]",
      "text/plain": [
       "<Figure size 432x288 with 1 Axes>"
      ]
     },
     "metadata": {
      "needs_background": "light"
     },
     "output_type": "display_data"
    }
   ],
   "source": [
    "%matplotlib inline\n",
    "\n",
    "# 필요한 패키지와 라이브러리를 가져옴\n",
    "import matplotlib as mpl\n",
    "import matplotlib.pyplot as plt\n",
    "import matplotlib.font_manager as fm\n",
    "\n",
    "# 그래프에서 마이너스 폰트 깨지는 문제에 대한 대처\n",
    "mpl.rcParams['axes.unicode_minus'] = False\n",
    "\n",
    "import numpy as np\n",
    "\n",
    "# 한글출력\n",
    "# plt.rcParams['font.family'] = 'NanumBarunGothic'  # Windows\n",
    "plt.rcParams['font.family'] = 'NanumBarunGothicOTF'  # 맥\n",
    "plt.rcParams['axes.unicode_minus'] = False\n",
    "\n",
    "data = np.random.randint(-100, 100, 50).cumsum()\n",
    "data\n",
    "\n",
    "plt.plot(range(50), data, 'r')\n",
    "mpl.rcParams['axes.unicode_minus'] = False\n",
    "plt.title('시간별 가격 추이')\n",
    "plt.ylabel('주식 가격')\n",
    "plt.xlabel('시간(분)')"
   ]
  },
  {
   "cell_type": "code",
   "execution_count": 27,
   "metadata": {},
   "outputs": [
    {
     "name": "stdout",
     "output_type": "stream",
     "text": [
      "221\n"
     ]
    }
   ],
   "source": [
    "font_list = fm.findSystemFonts(fontpaths=None, fontext='ttf')\n",
    "print(len(font_list))"
   ]
  },
  {
   "cell_type": "code",
   "execution_count": 30,
   "metadata": {},
   "outputs": [
    {
     "data": {
      "text/plain": [
       "['/Library/Fonts/Herculanum.ttf',\n",
       " '/System/Library/Fonts/SFCompactRounded-Heavy.otf',\n",
       " '/Library/Fonts/STIXNonUni.otf',\n",
       " '/Library/Fonts/Arial Narrow.ttf',\n",
       " '/System/Library/Fonts/SFNSDisplay-ThinG2.otf',\n",
       " '/Library/Fonts/Krungthep.ttf',\n",
       " '/Library/Fonts/Tahoma Bold.ttf',\n",
       " '/Users/sungback/Library/Fonts/Ubuntu_Mono_derivative_Powerline.ttf',\n",
       " '/System/Library/Fonts/SFCompactText-LightItalic.otf',\n",
       " '/Library/Fonts/Georgia Bold Italic.ttf',\n",
       " '/System/Library/Fonts/Apple Braille Outline 6 Dot.ttf',\n",
       " '/System/Library/Fonts/Apple Braille Outline 8 Dot.ttf',\n",
       " '/Library/Fonts/Apple Chancery.ttf',\n",
       " '/System/Library/Fonts/SFCompactDisplay-Heavy.otf',\n",
       " '/Library/Fonts/Bradley Hand Bold.ttf',\n",
       " '/Library/Fonts/Verdana Bold Italic.ttf',\n",
       " '/Library/Fonts/NanumBarunGothicBold.ttf',\n",
       " '/Library/Fonts/NanumSquareRoundOTFL.otf',\n",
       " '/Library/Fonts/NanumMyeongjoExtraBold.otf',\n",
       " '/System/Library/Fonts/Apple Symbols.ttf',\n",
       " '/Library/Fonts/STIXSizTwoSymBol.otf',\n",
       " '/Library/Fonts/Lao Sangam MN.ttf',\n",
       " '/Users/sungback/Library/Fonts/malgunbd.ttf',\n",
       " '/System/Library/Fonts/SFCompactDisplay-Ultralight.otf',\n",
       " '/System/Library/Fonts/SFNSDisplay-SemiboldItalic.otf',\n",
       " '/Library/Fonts/STIXSizOneSymReg.otf',\n",
       " '/System/Library/Fonts/SFCompactDisplay-Black.otf',\n",
       " '/System/Library/Fonts/SFNSDisplay-LightItalic.otf',\n",
       " '/Library/Fonts/Andale Mono.ttf',\n",
       " '/System/Library/Fonts/SFNSRounded-Ultralight.otf',\n",
       " '/Library/Fonts/STIXVar.otf',\n",
       " '/Library/Fonts/NanumPen.otf',\n",
       " '/System/Library/Fonts/ZapfDingbats.ttf',\n",
       " '/System/Library/Fonts/SFNSDisplayCondensed-Black.otf',\n",
       " '/Library/Fonts/STIXIntUpDReg.otf',\n",
       " '/System/Library/Fonts/SFNSSymbols-Heavy.otf',\n",
       " '/Library/Fonts/STIXGeneral.otf',\n",
       " '/Library/Fonts/STIXIntSmReg.otf',\n",
       " '/System/Library/Fonts/SFNSDisplay-HeavyItalic.otf',\n",
       " '/Library/Fonts/Bodoni 72 Smallcaps Book.ttf',\n",
       " '/System/Library/Fonts/SFCompactText-BoldItalic.otf',\n",
       " '/System/Library/Fonts/SFNSTextCondensed-Light.otf',\n",
       " '/System/Library/Fonts/SFCompactRounded-Black.otf',\n",
       " '/Library/Fonts/STIXIntUpBol.otf',\n",
       " '/Library/Fonts/NanumMyeongjoBold.otf',\n",
       " '/Library/Fonts/STIXNonUniBol.otf',\n",
       " '/Library/Fonts/Ayuthaya.ttf',\n",
       " '/Library/Fonts/Courier New Italic.ttf',\n",
       " '/Library/Fonts/Times New Roman.ttf',\n",
       " '/System/Library/Fonts/SFCompactDisplay-Bold.otf',\n",
       " '/Library/Fonts/Khmer Sangam MN.ttf',\n",
       " '/Library/Fonts/STIXNonUniBolIta.otf',\n",
       " '/System/Library/Fonts/SFNSSymbols-Semibold.otf',\n",
       " '/Library/Fonts/Sathu.ttf',\n",
       " '/Library/Fonts/STIXVarBol.otf',\n",
       " '/Library/Fonts/STIXGeneralBol.otf',\n",
       " '/System/Library/Fonts/SFCompactText-Bold.otf',\n",
       " '/System/Library/Fonts/SFNSDisplayCondensed-Light.otf',\n",
       " '/Library/Fonts/NanumSquareOTFRegular.otf',\n",
       " '/System/Library/Fonts/SFNSSymbols-Regular.otf',\n",
       " '/Library/Fonts/NanumBarunGothic.ttf',\n",
       " '/Library/Fonts/Farisi.ttf',\n",
       " '/Library/Fonts/STIXIntDBol.otf',\n",
       " '/Library/Fonts/DIN Condensed Bold.ttf',\n",
       " '/Library/Fonts/STIXSizThreeSymBol.otf',\n",
       " '/System/Library/Fonts/SFCompactText-Heavy.otf',\n",
       " '/System/Library/Fonts/SFCompactDisplay-Thin.otf',\n",
       " '/Library/Fonts/Trebuchet MS Bold Italic.ttf',\n",
       " '/System/Library/Fonts/SFNSTextCondensed-Semibold.otf',\n",
       " '/Library/Fonts/Comic Sans MS Bold.ttf',\n",
       " '/System/Library/Fonts/SFNSDisplay-ThinItalic.otf',\n",
       " '/System/Library/Fonts/SFNSDisplayCondensed-Semibold.otf',\n",
       " '/Library/Fonts/Mishafi.ttf',\n",
       " '/Library/Fonts/Georgia.ttf',\n",
       " '/Library/Fonts/Georgia Italic.ttf',\n",
       " '/Library/Fonts/Microsoft Sans Serif.ttf',\n",
       " '/Library/Fonts/Courier New Bold Italic.ttf',\n",
       " '/System/Library/Fonts/SFNSRounded-Black.otf',\n",
       " '/Library/Fonts/NanumBarunGothic.otf',\n",
       " '/Library/Fonts/Zapfino.ttf',\n",
       " '/Library/Fonts/Luminari.ttf',\n",
       " '/System/Library/Fonts/SFCompactDisplay-Regular.otf',\n",
       " '/Library/Fonts/NanumGothic.otf',\n",
       " '/Library/Fonts/NanumMyeongjo.otf',\n",
       " '/System/Library/Fonts/SFNSRounded-Medium.otf',\n",
       " '/Library/Fonts/Brush Script.ttf',\n",
       " '/Library/Fonts/NanumSquareRoundOTFB.otf',\n",
       " '/Library/Fonts/Times New Roman Bold.ttf',\n",
       " '/Library/Fonts/NanumBarunGothicLight.ttf',\n",
       " '/Library/Fonts/Arial Narrow Bold Italic.ttf',\n",
       " '/System/Library/Fonts/SFNSTextItalic.ttf',\n",
       " '/System/Library/Fonts/SFCompactDisplay-Light.otf',\n",
       " '/Library/Fonts/Wingdings 2.ttf',\n",
       " '/Library/Fonts/AppleGothic.ttf',\n",
       " '/Library/Fonts/STIXNonUniIta.otf',\n",
       " '/Library/Fonts/STIXIntUpSmReg.otf',\n",
       " '/System/Library/Fonts/SFCompactRounded-Bold.otf',\n",
       " '/Library/Fonts/NanumGothicBold.otf',\n",
       " '/System/Library/Fonts/SFNSTextCondensed-Heavy.otf',\n",
       " '/System/Library/Fonts/Keyboard.ttf',\n",
       " '/Library/Fonts/NanumBarunpenBold.otf',\n",
       " '/System/Library/Fonts/SFNSDisplay-ThinG4.otf',\n",
       " '/Library/Fonts/Webdings.ttf',\n",
       " '/System/Library/Fonts/SFCompactDisplay-Medium.otf',\n",
       " '/System/Library/Fonts/SFCompactRounded-Thin.otf',\n",
       " '/Library/Fonts/Trebuchet MS.ttf',\n",
       " '/System/Library/Fonts/SFNSDisplayCondensed-Bold.otf',\n",
       " '/System/Library/Fonts/SFNSSymbols-Bold.otf',\n",
       " '/Library/Fonts/Georgia Bold.ttf',\n",
       " '/System/Library/Fonts/SFNSRounded-Thin.otf',\n",
       " '/Library/Fonts/Gurmukhi.ttf',\n",
       " '/System/Library/Fonts/SFCompactRounded-Medium.otf',\n",
       " '/Library/Fonts/NanumBarunGothicLight.otf',\n",
       " '/Library/Fonts/Verdana Bold.ttf',\n",
       " '/System/Library/Fonts/SFNSTextCondensed-Medium.otf',\n",
       " '/Library/Fonts/Hoefler Text Ornaments.ttf',\n",
       " '/Library/Fonts/Bodoni Ornaments.ttf',\n",
       " '/Library/Fonts/NanumSquareOTFExtraBold.otf',\n",
       " '/Library/Fonts/STIXSizThreeSymReg.otf',\n",
       " '/System/Library/Fonts/SFNSDisplay-BlackItalic.otf',\n",
       " '/System/Library/Fonts/SFNSDisplay.ttf',\n",
       " '/Library/Fonts/Verdana Italic.ttf',\n",
       " '/System/Library/Fonts/SFNSDisplay-BoldItalic.otf',\n",
       " '/Library/Fonts/BigCaslon.ttf',\n",
       " '/Library/Fonts/Courier New.ttf',\n",
       " '/System/Library/Fonts/SFNSTextCondensed-Bold.otf',\n",
       " '/Library/Fonts/Impact.ttf',\n",
       " '/System/Library/Fonts/SFNSRounded-Semibold.otf',\n",
       " '/Library/Fonts/Trebuchet MS Italic.ttf',\n",
       " '/Library/Fonts/NanumSquareOTFLight.otf',\n",
       " '/System/Library/Fonts/SFNSSymbols-Black.otf',\n",
       " '/Library/Fonts/STIXIntDReg.otf',\n",
       " '/Library/Fonts/Skia.ttf',\n",
       " '/System/Library/Fonts/SFNSDisplay-ThinG1.otf',\n",
       " '/Library/Fonts/Trattatello.ttf',\n",
       " '/System/Library/Fonts/SFNSDisplayCondensed-Thin.otf',\n",
       " '/Library/Fonts/Times New Roman Bold Italic.ttf',\n",
       " '/System/Library/Fonts/SFNSText.ttf',\n",
       " '/Library/Fonts/STIXSizTwoSymReg.otf',\n",
       " '/System/Library/Fonts/SFCompactText-RegularItalic.otf',\n",
       " '/System/Library/Fonts/SFNSDisplayCondensed-Heavy.otf',\n",
       " '/System/Library/Fonts/SFCompactRounded-Semibold.otf',\n",
       " '/System/Library/Fonts/SFCompactRounded-Ultralight.otf',\n",
       " '/Library/Fonts/Arial Narrow Italic.ttf',\n",
       " '/Library/Fonts/Times New Roman Italic.ttf',\n",
       " '/Library/Fonts/Tahoma.ttf',\n",
       " '/System/Library/Fonts/SFCompactText-Light.otf',\n",
       " '/Library/Fonts/STIXGeneralItalic.otf',\n",
       " '/Library/Fonts/Arial Rounded Bold.ttf',\n",
       " '/Library/Fonts/NanumSquareRoundOTFR.otf',\n",
       " '/Library/Fonts/Arial Bold.ttf',\n",
       " '/System/Library/Fonts/SFNSDisplayCondensed-Ultralight.otf',\n",
       " '/System/Library/Fonts/SFCompactRounded-Light.otf',\n",
       " '/Library/Fonts/Arial Bold Italic.ttf',\n",
       " '/Library/Fonts/NanumGothicExtraBold.otf',\n",
       " '/System/Library/Fonts/LastResort.otf',\n",
       " '/Library/Fonts/STIXIntUpReg.otf',\n",
       " '/Library/Fonts/STIXSizFiveSymReg.otf',\n",
       " '/Library/Fonts/Verdana.ttf',\n",
       " '/Library/Fonts/NanumBarunGothicBold.otf',\n",
       " '/Library/Fonts/STIXSizOneSymBol.otf',\n",
       " '/Library/Fonts/Arial Unicode.ttf',\n",
       " '/System/Library/Fonts/SFNSDisplayCondensed-Medium.otf',\n",
       " '/Library/Fonts/Trebuchet MS Bold.ttf',\n",
       " '/System/Library/Fonts/Apple Braille Pinpoint 6 Dot.ttf',\n",
       " '/Library/Fonts/Arial Italic.ttf',\n",
       " '/Library/Fonts/STIXIntUpDBol.otf',\n",
       " '/Library/Fonts/AppleMyungjo.ttf',\n",
       " '/System/Library/Fonts/SFNSDisplay-MediumItalic.otf',\n",
       " '/Library/Fonts/NanumSquareRoundOTFEB.otf',\n",
       " '/Library/Fonts/PlantagenetCherokee.ttf',\n",
       " '/Library/Fonts/NanumBrush.otf',\n",
       " '/Library/Fonts/STIXIntUpSmBol.otf',\n",
       " '/System/Library/Fonts/SFCompactText-MediumItalic.otf',\n",
       " '/System/Library/Fonts/Symbol.ttf',\n",
       " '/Library/Fonts/DIN Alternate Bold.ttf',\n",
       " '/Library/Fonts/Comic Sans MS.ttf',\n",
       " '/System/Library/Fonts/SFNSDisplayCondensed-Regular.otf',\n",
       " '/System/Library/Fonts/SFCompactText-Regular.otf',\n",
       " '/System/Library/Fonts/Apple Braille Pinpoint 8 Dot.ttf',\n",
       " '/Library/Fonts/NanumBarunpenRegular.otf',\n",
       " '/System/Library/Fonts/Apple Braille.ttf',\n",
       " '/Library/Fonts/Chalkduster.ttf',\n",
       " '/Library/Fonts/NISC18030.ttf',\n",
       " '/Library/Fonts/NanumBarunGothicUltraLight.otf',\n",
       " '/Library/Fonts/STIXSizFourSymReg.otf',\n",
       " '/Library/Fonts/Arial.ttf',\n",
       " '/Library/Fonts/NanumGothicLight.otf',\n",
       " '/System/Library/Fonts/SFNSTextCondensed-Regular.otf',\n",
       " '/System/Library/Fonts/SFCompactRounded-Regular.otf',\n",
       " '/System/Library/Fonts/SFNSRounded-Light.otf',\n",
       " '/Users/sungback/Library/Fonts/malgun.ttf',\n",
       " '/Library/Fonts/STIXIntSmBol.otf',\n",
       " '/Library/Fonts/Mishafi Gold.ttf',\n",
       " '/System/Library/Fonts/SFNSDisplay-ThinG3.otf',\n",
       " '/System/Library/Fonts/SFNSRounded-Regular.otf',\n",
       " '/System/Library/Fonts/SFNSSymbols-Medium.otf',\n",
       " '/System/Library/Fonts/SFCompactDisplay-Semibold.otf',\n",
       " '/System/Library/Fonts/SFNSSymbols-Thin.otf',\n",
       " '/System/Library/Fonts/SFCompactText-HeavyItalic.otf',\n",
       " '/System/Library/Fonts/SFNSDisplay-RegularItalic.otf',\n",
       " '/System/Library/Fonts/SFCompactText-Medium.otf',\n",
       " '/Library/Fonts/Arial Black.ttf',\n",
       " '/System/Library/Fonts/SFNSRounded-Heavy.otf',\n",
       " '/Library/Fonts/Courier New Bold.ttf',\n",
       " '/Library/Fonts/Kokonor.ttf',\n",
       " '/System/Library/Fonts/SFNSSymbols-Ultralight.otf',\n",
       " '/Library/Fonts/Wingdings 3.ttf',\n",
       " '/System/Library/Fonts/SFNSDisplay-UltralightItalic.otf',\n",
       " '/Library/Fonts/Arial Narrow Bold.ttf',\n",
       " '/System/Library/Fonts/SFNSSymbols-Light.otf',\n",
       " '/Library/Fonts/Wingdings.ttf',\n",
       " '/Library/Fonts/STIXSizFourSymBol.otf',\n",
       " '/System/Library/Fonts/SFCompactText-Semibold.otf',\n",
       " '/Library/Fonts/NanumBarunGothicUltraLight.ttf',\n",
       " '/Library/Fonts/Silom.ttf',\n",
       " '/System/Library/Fonts/SFCompactText-SemiboldItalic.otf',\n",
       " '/Library/Fonts/NanumSquareOTFBold.otf',\n",
       " '/Library/Fonts/STIXGeneralBolIta.otf',\n",
       " '/System/Library/Fonts/SFNSRounded-Bold.otf',\n",
       " '/Library/Fonts/Diwan Thuluth.ttf']"
      ]
     },
     "execution_count": 30,
     "metadata": {},
     "output_type": "execute_result"
    }
   ],
   "source": [
    "font_list"
   ]
  },
  {
   "cell_type": "code",
   "execution_count": 28,
   "metadata": {},
   "outputs": [
    {
     "data": {
      "text/plain": [
       "[('Nanum Pen Script OTF', '/Library/Fonts/NanumPen.otf'),\n",
       " ('NanumSquareRoundOTF', '/Library/Fonts/NanumSquareRoundOTFEB.otf'),\n",
       " ('NanumGothicOTF', '/Library/Fonts/NanumGothicBold.otf'),\n",
       " ('NanumSquareOTF', '/Library/Fonts/NanumSquareOTFExtraBold.otf'),\n",
       " ('NanumBarunpen', '/Library/Fonts/NanumBarunpenRegular.otf'),\n",
       " ('NanumSquareRoundOTF', '/Library/Fonts/NanumSquareRoundOTFR.otf'),\n",
       " ('NanumSquareRoundOTF', '/Library/Fonts/NanumSquareRoundOTFL.otf'),\n",
       " ('NanumSquareOTF', '/Library/Fonts/NanumSquareOTFBold.otf'),\n",
       " ('NanumBarunGothicOTF', '/Library/Fonts/NanumBarunGothicBold.otf'),\n",
       " ('NanumGothicOTF', '/Library/Fonts/NanumGothicLight.otf'),\n",
       " ('NanumSquareRoundOTF', '/Library/Fonts/NanumSquareRoundOTFB.otf'),\n",
       " ('NanumBarunGothicOTF', '/Library/Fonts/NanumBarunGothic.otf'),\n",
       " ('NanumSquareOTF', '/Library/Fonts/NanumSquareOTFRegular.otf'),\n",
       " ('NanumSquareOTF', '/Library/Fonts/NanumSquareOTFLight.otf'),\n",
       " ('NanumBarunGothicOTF', '/Library/Fonts/NanumBarunGothicLight.otf'),\n",
       " ('NanumMyeongjoOTF', '/Library/Fonts/NanumMyeongjoExtraBold.otf'),\n",
       " ('NanumMyeongjoOTF', '/Library/Fonts/NanumMyeongjo.otf'),\n",
       " ('NanumGothicOTF', '/Library/Fonts/NanumGothic.otf'),\n",
       " ('Nanum Brush Script OTF', '/Library/Fonts/NanumBrush.otf'),\n",
       " ('NanumGothicOTF', '/Library/Fonts/NanumGothicExtraBold.otf'),\n",
       " ('NanumBarunGothicOTF', '/Library/Fonts/NanumBarunGothicUltraLight.otf'),\n",
       " ('NanumMyeongjoOTF', '/Library/Fonts/NanumMyeongjoBold.otf'),\n",
       " ('NanumBarunpen', '/Library/Fonts/NanumBarunpenBold.otf')]"
      ]
     },
     "execution_count": 28,
     "metadata": {},
     "output_type": "execute_result"
    }
   ],
   "source": [
    "[(f.name, f.fname) for f in fm.fontManager.ttflist if 'Nanum' in f.name]"
   ]
  },
  {
   "cell_type": "code",
   "execution_count": 5,
   "metadata": {},
   "outputs": [
    {
     "name": "stderr",
     "output_type": "stream",
     "text": [
      "100% |########################################################################|\n"
     ]
    }
   ],
   "source": [
    "# pip install progressbar\n",
    "import time\n",
    "import progressbar \n",
    "progress = progressbar.ProgressBar() \n",
    "for i in progress(range(30)): \n",
    "    time.sleep(0.1)"
   ]
  },
  {
   "cell_type": "code",
   "execution_count": 22,
   "metadata": {},
   "outputs": [
    {
     "name": "stdout",
     "output_type": "stream",
     "text": [
      "{'hong': 1, 'jang': 3, 'im': 2}\n",
      "[('jang', 3), ('im', 2), ('hong', 1)]\n"
     ]
    }
   ],
   "source": [
    "# 사전 정렬\n",
    "rank_dic = { 'hong':1, 'jang':3, 'im':2 }\n",
    "print( rank_dic )\n",
    "b = sorted(rank_dic.items(), key=lambda t:t[1], reverse=True)\n",
    "print( b )"
   ]
  },
  {
   "cell_type": "code",
   "execution_count": null,
   "metadata": {},
   "outputs": [],
   "source": []
  },
  {
   "cell_type": "code",
   "execution_count": null,
   "metadata": {},
   "outputs": [],
   "source": []
  },
  {
   "cell_type": "code",
   "execution_count": null,
   "metadata": {},
   "outputs": [],
   "source": []
  }
 ],
 "metadata": {
  "kernelspec": {
   "display_name": "Python 3",
   "language": "python",
   "name": "python3"
  },
  "language_info": {
   "codemirror_mode": {
    "name": "ipython",
    "version": 3
   },
   "file_extension": ".py",
   "mimetype": "text/x-python",
   "name": "python",
   "nbconvert_exporter": "python",
   "pygments_lexer": "ipython3",
   "version": "3.6.5"
  }
 },
 "nbformat": 4,
 "nbformat_minor": 2
}
