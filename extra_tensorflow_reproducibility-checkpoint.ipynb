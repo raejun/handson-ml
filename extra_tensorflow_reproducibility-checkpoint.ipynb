{
 "cells": [
  {
   "cell_type": "markdown",
   "metadata": {},
   "source": [
    "# TensorFlow Reproducibility"
   ]
  },
  {
   "cell_type": "code",
   "execution_count": 1,
   "metadata": {},
   "outputs": [],
   "source": [
    "from __future__ import division, print_function, unicode_literals\n",
    "\n",
    "import numpy as np\n",
    "import tensorflow as tf\n",
    "from tensorflow import keras"
   ]
  },
  {
   "cell_type": "markdown",
   "metadata": {},
   "source": [
    "## Checklist"
   ]
  },
  {
   "cell_type": "markdown",
   "metadata": {},
   "source": [
    "1. Do not run TensorFlow on the GPU.\n",
    "2. Beware of multithreading, and make TensorFlow single-threaded.\n",
    "3. Set all the random seeds.\n",
    "4. Eliminate any other source of variability."
   ]
  },
  {
   "cell_type": "markdown",
   "metadata": {},
   "source": [
    "## Do Not Run TensorFlow on the GPU"
   ]
  },
  {
   "cell_type": "markdown",
   "metadata": {},
   "source": [
    "Some operations (like `tf.reduce_sum()`) have favor performance over precision, and their outputs may vary slightly across runs. To get reproducible results, make sure TensorFlow runs on the CPU:"
   ]
  },
  {
   "cell_type": "code",
   "execution_count": 2,
   "metadata": {},
   "outputs": [],
   "source": [
    "import os\n",
    "os.environ[\"CUDA_VISIBLE_DEVICES\"]=\"\""
   ]
  },
  {
   "cell_type": "markdown",
   "metadata": {},
   "source": [
    "## Beware of Multithreading"
   ]
  },
  {
   "cell_type": "markdown",
   "metadata": {},
   "source": [
    "Because floats have limited precision, the order of execution matters:"
   ]
  },
  {
   "cell_type": "code",
   "execution_count": 3,
   "metadata": {},
   "outputs": [
    {
     "data": {
      "text/plain": [
       "1.4285714285714286"
      ]
     },
     "execution_count": 3,
     "metadata": {},
     "output_type": "execute_result"
    }
   ],
   "source": [
    "2. * 5. / 7."
   ]
  },
  {
   "cell_type": "code",
   "execution_count": 4,
   "metadata": {},
   "outputs": [
    {
     "data": {
      "text/plain": [
       "1.4285714285714284"
      ]
     },
     "execution_count": 4,
     "metadata": {},
     "output_type": "execute_result"
    }
   ],
   "source": [
    "2. / 7. * 5."
   ]
  },
  {
   "cell_type": "markdown",
   "metadata": {},
   "source": [
    "You should make sure TensorFlow runs your ops on a single thread:"
   ]
  },
  {
   "cell_type": "code",
   "execution_count": 5,
   "metadata": {},
   "outputs": [],
   "source": [
    "config = tf.ConfigProto(intra_op_parallelism_threads=1,\n",
    "                        inter_op_parallelism_threads=1)\n",
    "\n",
    "with tf.Session(config=config) as sess:\n",
    "    #... this will run single threaded\n",
    "    pass"
   ]
  },
  {
   "cell_type": "markdown",
   "metadata": {},
   "source": [
    "The thread pools for all sessions are created when you create the first session, so all sessions in the rest of this notebook will be single-threaded:"
   ]
  },
  {
   "cell_type": "code",
   "execution_count": 6,
   "metadata": {},
   "outputs": [],
   "source": [
    "with tf.Session() as sess:\n",
    "    #... also single-threaded!\n",
    "    pass"
   ]
  },
  {
   "cell_type": "markdown",
   "metadata": {},
   "source": [
    "## Set all the random seeds!"
   ]
  },
  {
   "cell_type": "markdown",
   "metadata": {},
   "source": [
    "### Python's built-in `hash()` function"
   ]
  },
  {
   "cell_type": "code",
   "execution_count": 7,
   "metadata": {},
   "outputs": [
    {
     "name": "stdout",
     "output_type": "stream",
     "text": [
      "{'r', 'e', 'i', ' ', 's', 'k', 'l', 'u', 'T', 'y', 'h', 'n', 't', 'g', 'a', 'd'}\n",
      "{'r', 'e', 'i', ' ', 's', 'k', 'l', 'u', 'T', 'y', 'h', 'n', 't', 'g', 'a', 'd'}\n"
     ]
    }
   ],
   "source": [
    "print(set(\"Try restarting the kernel and running this again\"))\n",
    "print(set(\"Try restarting the kernel and running this again\"))"
   ]
  },
  {
   "cell_type": "markdown",
   "metadata": {},
   "source": [
    "Since Python 3.3, the result will be different every time, unless you start Python with the `PYTHONHASHSEED` environment variable set to `0`:"
   ]
  },
  {
   "cell_type": "markdown",
   "metadata": {},
   "source": [
    "```shell\n",
    "PYTHONHASHSEED=0 python\n",
    "```\n",
    "\n",
    "```pycon\n",
    ">>> print(set(\"Now the output is stable across runs\"))\n",
    "{'n', 'b', 'h', 'o', 'i', 'a', 'r', 't', 'p', 'N', 's', 'c', ' ', 'l', 'e', 'w', 'u'}\n",
    ">>> exit()\n",
    "```\n",
    "\n",
    "```shell\n",
    "PYTHONHASHSEED=0 python\n",
    "```\n",
    "```pycon\n",
    ">>> print(set(\"Now the output is stable across runs\"))\n",
    "{'n', 'b', 'h', 'o', 'i', 'a', 'r', 't', 'p', 'N', 's', 'c', ' ', 'l', 'e', 'w', 'u'}\n",
    "```"
   ]
  },
  {
   "cell_type": "markdown",
   "metadata": {},
   "source": [
    "Alternatively, you could set this environment variable system-wide, but that's probably not a good idea, because this automatic randomization was [introduced for security reasons](http://ocert.org/advisories/ocert-2011-003.html)."
   ]
  },
  {
   "cell_type": "markdown",
   "metadata": {},
   "source": [
    "Unfortunately, setting the environment variable from within Python (e.g., using `os.environ[\"PYTHONHASHSEED\"]=\"0\"`) will not work, because Python reads it upon startup. For Jupyter notebooks, you have to start the Jupyter server like this:\n",
    "\n",
    "```shell\n",
    "PYTHONHASHSEED=0 jupyter notebook\n",
    "```"
   ]
  },
  {
   "cell_type": "code",
   "execution_count": 8,
   "metadata": {},
   "outputs": [],
   "source": [
    "# 에러\n",
    "# if os.environ.get(\"PYTHONHASHSEED\") != \"0\":\n",
    "#     raise Exception(\"You must set PYTHONHASHSEED=0 when starting the Jupyter server to get reproducible results.\")"
   ]
  },
  {
   "cell_type": "markdown",
   "metadata": {},
   "source": [
    "### Python Random Number Generators (RNGs)"
   ]
  },
  {
   "cell_type": "code",
   "execution_count": 9,
   "metadata": {},
   "outputs": [
    {
     "name": "stdout",
     "output_type": "stream",
     "text": [
      "0.6394267984578837\n",
      "0.025010755222666936\n",
      "\n",
      "0.6394267984578837\n",
      "0.025010755222666936\n"
     ]
    }
   ],
   "source": [
    "import random\n",
    "\n",
    "random.seed(42)\n",
    "print(random.random())\n",
    "print(random.random())\n",
    "\n",
    "print()\n",
    "\n",
    "random.seed(42)\n",
    "print(random.random())\n",
    "print(random.random())"
   ]
  },
  {
   "cell_type": "markdown",
   "metadata": {},
   "source": [
    "### NumPy RNGs"
   ]
  },
  {
   "cell_type": "code",
   "execution_count": 10,
   "metadata": {},
   "outputs": [
    {
     "name": "stdout",
     "output_type": "stream",
     "text": [
      "0.3745401188473625\n",
      "0.9507143064099162\n",
      "\n",
      "0.3745401188473625\n",
      "0.9507143064099162\n"
     ]
    }
   ],
   "source": [
    "import numpy as np\n",
    "\n",
    "np.random.seed(42)\n",
    "print(np.random.rand())\n",
    "print(np.random.rand())\n",
    "\n",
    "print()\n",
    "\n",
    "np.random.seed(42)\n",
    "print(np.random.rand())\n",
    "print(np.random.rand())"
   ]
  },
  {
   "cell_type": "markdown",
   "metadata": {},
   "source": [
    "### TensorFlow RNGs"
   ]
  },
  {
   "cell_type": "markdown",
   "metadata": {},
   "source": [
    "TensorFlow's behavior is more complex because of two things:\n",
    "* you create a graph, and then you execute it. The random seed must be set before you create the random operations.\n",
    "* there are two seeds: one at the graph level, and one at the individual random operation level."
   ]
  },
  {
   "cell_type": "code",
   "execution_count": 11,
   "metadata": {},
   "outputs": [
    {
     "name": "stdout",
     "output_type": "stream",
     "text": [
      "0.63789964\n",
      "0.8774011\n",
      "\n",
      "0.63789964\n",
      "0.8774011\n"
     ]
    }
   ],
   "source": [
    "import tensorflow as tf\n",
    "\n",
    "tf.set_random_seed(42)\n",
    "rnd = tf.random_uniform(shape=[])\n",
    "\n",
    "with tf.Session() as sess:\n",
    "    print(rnd.eval())\n",
    "    print(rnd.eval())\n",
    "\n",
    "print()\n",
    "\n",
    "with tf.Session() as sess:\n",
    "    print(rnd.eval())\n",
    "    print(rnd.eval())"
   ]
  },
  {
   "cell_type": "markdown",
   "metadata": {},
   "source": [
    "Every time you reset the graph, you need to set the seed again:"
   ]
  },
  {
   "cell_type": "code",
   "execution_count": 12,
   "metadata": {},
   "outputs": [
    {
     "name": "stdout",
     "output_type": "stream",
     "text": [
      "0.63789964\n",
      "0.8774011\n",
      "\n",
      "0.63789964\n",
      "0.8774011\n"
     ]
    }
   ],
   "source": [
    "tf.reset_default_graph()\n",
    "\n",
    "tf.set_random_seed(42)\n",
    "rnd = tf.random_uniform(shape=[])\n",
    "\n",
    "with tf.Session() as sess:\n",
    "    print(rnd.eval())\n",
    "    print(rnd.eval())\n",
    "\n",
    "print()\n",
    "\n",
    "with tf.Session() as sess:\n",
    "    print(rnd.eval())\n",
    "    print(rnd.eval())"
   ]
  },
  {
   "cell_type": "markdown",
   "metadata": {},
   "source": [
    "If you create your own graph, it will ignore the default graph's seed:"
   ]
  },
  {
   "cell_type": "code",
   "execution_count": 13,
   "metadata": {},
   "outputs": [
    {
     "name": "stdout",
     "output_type": "stream",
     "text": [
      "0.75366104\n",
      "0.88192284\n",
      "\n",
      "0.6093558\n",
      "0.09013605\n"
     ]
    }
   ],
   "source": [
    "tf.reset_default_graph()\n",
    "tf.set_random_seed(42)\n",
    "\n",
    "graph = tf.Graph()\n",
    "with graph.as_default():\n",
    "    rnd = tf.random_uniform(shape=[])\n",
    "\n",
    "with tf.Session(graph=graph):\n",
    "    print(rnd.eval())\n",
    "    print(rnd.eval())\n",
    "\n",
    "print()\n",
    "\n",
    "with tf.Session(graph=graph):\n",
    "    print(rnd.eval())\n",
    "    print(rnd.eval())"
   ]
  },
  {
   "cell_type": "markdown",
   "metadata": {},
   "source": [
    "You must set its own seed:"
   ]
  },
  {
   "cell_type": "code",
   "execution_count": 14,
   "metadata": {},
   "outputs": [
    {
     "name": "stdout",
     "output_type": "stream",
     "text": [
      "0.63789964\n",
      "0.8774011\n",
      "\n",
      "0.63789964\n",
      "0.8774011\n"
     ]
    }
   ],
   "source": [
    "graph = tf.Graph()\n",
    "with graph.as_default():\n",
    "    tf.set_random_seed(42)\n",
    "    rnd = tf.random_uniform(shape=[])\n",
    "\n",
    "with tf.Session(graph=graph):\n",
    "    print(rnd.eval())\n",
    "    print(rnd.eval())\n",
    "\n",
    "print()\n",
    "\n",
    "with tf.Session(graph=graph):\n",
    "    print(rnd.eval())\n",
    "    print(rnd.eval())"
   ]
  },
  {
   "cell_type": "markdown",
   "metadata": {},
   "source": [
    "If you set the seed after the random operation is created, the seed has no effet:"
   ]
  },
  {
   "cell_type": "code",
   "execution_count": 15,
   "metadata": {},
   "outputs": [
    {
     "name": "stdout",
     "output_type": "stream",
     "text": [
      "0.702319\n",
      "0.32078254\n",
      "\n",
      "0.28827846\n",
      "0.17798913\n"
     ]
    }
   ],
   "source": [
    "tf.reset_default_graph()\n",
    "\n",
    "rnd = tf.random_uniform(shape=[])\n",
    "\n",
    "tf.set_random_seed(42) # BAD, NO EFFECT!\n",
    "with tf.Session() as sess:\n",
    "    print(rnd.eval())\n",
    "    print(rnd.eval())\n",
    "\n",
    "print()\n",
    "\n",
    "tf.set_random_seed(42) # BAD, NO EFFECT!\n",
    "with tf.Session() as sess:\n",
    "    print(rnd.eval())\n",
    "    print(rnd.eval())"
   ]
  },
  {
   "cell_type": "markdown",
   "metadata": {},
   "source": [
    "#### A note about operation seeds"
   ]
  },
  {
   "cell_type": "markdown",
   "metadata": {},
   "source": [
    "You can also set a seed for each individual random operation. When you do, it is combined with the graph seed into the final seed used by that op. The following table summarizes how this works:\n",
    "\n",
    "| Graph seed | Op seed |  Resulting seed                |\n",
    "|------------|---------|--------------------------------|\n",
    "| None       | None    | Random                         |\n",
    "| graph_seed | None    | f(graph_seed, op_index)        |\n",
    "| None       | op_seed | f(default_graph_seed, op_seed) |\n",
    "| graph_seed | op_seed | f(graph_seed, op_seed)         |\n",
    "\n",
    "* `f()` is a deterministic function.\n",
    "* `op_index = graph._last_id` when there is a graph seed, different random ops without op seeds will have different outputs. However, each of them will have the same sequence of outputs at every run.\n",
    "\n",
    "In eager mode, there is a global seed instead of graph seed (since there is no graph in eager mode)."
   ]
  },
  {
   "cell_type": "code",
   "execution_count": 16,
   "metadata": {},
   "outputs": [
    {
     "name": "stdout",
     "output_type": "stream",
     "text": [
      "0.95227146\n",
      "0.95227146\n",
      "0.316388\n",
      "0.8960779\n",
      "0.8960779\n",
      "0.36658752\n",
      "\n",
      "0.95227146\n",
      "0.95227146\n",
      "0.21526742\n",
      "0.8960779\n",
      "0.8960779\n",
      "0.356822\n"
     ]
    }
   ],
   "source": [
    "tf.reset_default_graph()\n",
    "\n",
    "rnd1 = tf.random_uniform(shape=[], seed=42)\n",
    "rnd2 = tf.random_uniform(shape=[], seed=42)\n",
    "rnd3 = tf.random_uniform(shape=[])\n",
    "\n",
    "with tf.Session() as sess:\n",
    "    print(rnd1.eval())\n",
    "    print(rnd2.eval())\n",
    "    print(rnd3.eval())\n",
    "    print(rnd1.eval())\n",
    "    print(rnd2.eval())\n",
    "    print(rnd3.eval())\n",
    "\n",
    "print()\n",
    "\n",
    "with tf.Session() as sess:\n",
    "    print(rnd1.eval())\n",
    "    print(rnd2.eval())\n",
    "    print(rnd3.eval())\n",
    "    print(rnd1.eval())\n",
    "    print(rnd2.eval())\n",
    "    print(rnd3.eval())"
   ]
  },
  {
   "cell_type": "markdown",
   "metadata": {},
   "source": [
    "In the following example, you may think that all random ops will have the same random seed, but `rnd3` will actually have a different seed:"
   ]
  },
  {
   "cell_type": "code",
   "execution_count": 17,
   "metadata": {},
   "outputs": [
    {
     "name": "stdout",
     "output_type": "stream",
     "text": [
      "0.4163028\n",
      "0.4163028\n",
      "0.96100175\n",
      "0.033224702\n",
      "0.033224702\n",
      "0.17637014\n",
      "\n",
      "0.4163028\n",
      "0.4163028\n",
      "0.96100175\n",
      "0.033224702\n",
      "0.033224702\n",
      "0.17637014\n"
     ]
    }
   ],
   "source": [
    "tf.reset_default_graph()\n",
    "\n",
    "tf.set_random_seed(42)\n",
    "\n",
    "rnd1 = tf.random_uniform(shape=[], seed=42)\n",
    "rnd2 = tf.random_uniform(shape=[], seed=42)\n",
    "rnd3 = tf.random_uniform(shape=[])\n",
    "\n",
    "with tf.Session() as sess:\n",
    "    print(rnd1.eval())\n",
    "    print(rnd2.eval())\n",
    "    print(rnd3.eval())\n",
    "    print(rnd1.eval())\n",
    "    print(rnd2.eval())\n",
    "    print(rnd3.eval())\n",
    "\n",
    "print()\n",
    "\n",
    "with tf.Session() as sess:\n",
    "    print(rnd1.eval())\n",
    "    print(rnd2.eval())\n",
    "    print(rnd3.eval())\n",
    "    print(rnd1.eval())\n",
    "    print(rnd2.eval())\n",
    "    print(rnd3.eval())"
   ]
  },
  {
   "cell_type": "markdown",
   "metadata": {},
   "source": [
    "#### Estimators API"
   ]
  },
  {
   "cell_type": "markdown",
   "metadata": {},
   "source": [
    "**Tip**: in a Jupyter notebook, you probably want to set the random seeds regularly so that you can come back and run the notebook from there (instead of from the beginning) and still get reproducible outputs."
   ]
  },
  {
   "cell_type": "code",
   "execution_count": 18,
   "metadata": {},
   "outputs": [],
   "source": [
    "random.seed(42)\n",
    "np.random.seed(42)\n",
    "tf.set_random_seed(42)"
   ]
  },
  {
   "cell_type": "markdown",
   "metadata": {},
   "source": [
    "If you use the Estimators API, make sure to create a `RunConfig` and set its `tf_random_seed`, then pass it to the constructor of your estimator:"
   ]
  },
  {
   "cell_type": "code",
   "execution_count": 19,
   "metadata": {},
   "outputs": [
    {
     "name": "stdout",
     "output_type": "stream",
     "text": [
      "WARNING:tensorflow:Using temporary folder as model directory: /var/folders/23/mg281cys48n4dvql2mw8hl480000gn/T/tmpom1lzus8\n",
      "INFO:tensorflow:Using config: {'_model_dir': '/var/folders/23/mg281cys48n4dvql2mw8hl480000gn/T/tmpom1lzus8', '_tf_random_seed': 42, '_save_summary_steps': 100, '_save_checkpoints_steps': None, '_save_checkpoints_secs': 600, '_session_config': allow_soft_placement: true\n",
      "graph_options {\n",
      "  rewrite_options {\n",
      "    meta_optimizer_iterations: ONE\n",
      "  }\n",
      "}\n",
      ", '_keep_checkpoint_max': 5, '_keep_checkpoint_every_n_hours': 10000, '_log_step_count_steps': 100, '_train_distribute': None, '_device_fn': None, '_protocol': None, '_eval_distribute': None, '_experimental_distribute': None, '_service': None, '_cluster_spec': <tensorflow.python.training.server_lib.ClusterSpec object at 0xb30a45630>, '_task_type': 'worker', '_task_id': 0, '_global_id_in_cluster': 0, '_master': '', '_evaluation_master': '', '_is_chief': True, '_num_ps_replicas': 0, '_num_worker_replicas': 1}\n"
     ]
    }
   ],
   "source": [
    "my_config = tf.estimator.RunConfig(tf_random_seed=42)\n",
    "\n",
    "feature_cols = [tf.feature_column.numeric_column(\"X\", shape=[28 * 28])]\n",
    "dnn_clf = tf.estimator.DNNClassifier(hidden_units=[300, 100], n_classes=10,\n",
    "                                     feature_columns=feature_cols,\n",
    "                                     config=my_config)"
   ]
  },
  {
   "cell_type": "markdown",
   "metadata": {},
   "source": [
    "Let's try it on MNIST:"
   ]
  },
  {
   "cell_type": "code",
   "execution_count": 20,
   "metadata": {},
   "outputs": [],
   "source": [
    "(X_train, y_train), (X_test, y_test) = tf.keras.datasets.mnist.load_data()\n",
    "X_train = X_train.astype(np.float32).reshape(-1, 28*28) / 255.0\n",
    "y_train = y_train.astype(np.int32)"
   ]
  },
  {
   "cell_type": "markdown",
   "metadata": {},
   "source": [
    "Unfortunately, the `numpy_input_fn` does not allow us to set the seed when `shuffle=True`, so we must shuffle the data ourself and set `shuffle=False`."
   ]
  },
  {
   "cell_type": "code",
   "execution_count": 21,
   "metadata": {},
   "outputs": [
    {
     "name": "stdout",
     "output_type": "stream",
     "text": [
      "WARNING:tensorflow:From /anaconda3/lib/python3.6/site-packages/tensorflow/python/estimator/inputs/queues/feeding_queue_runner.py:62: QueueRunner.__init__ (from tensorflow.python.training.queue_runner_impl) is deprecated and will be removed in a future version.\n",
      "Instructions for updating:\n",
      "To construct input pipelines, use the `tf.data` module.\n",
      "WARNING:tensorflow:From /anaconda3/lib/python3.6/site-packages/tensorflow/python/estimator/inputs/queues/feeding_functions.py:500: add_queue_runner (from tensorflow.python.training.queue_runner_impl) is deprecated and will be removed in a future version.\n",
      "Instructions for updating:\n",
      "To construct input pipelines, use the `tf.data` module.\n",
      "INFO:tensorflow:Calling model_fn.\n",
      "INFO:tensorflow:Done calling model_fn.\n",
      "INFO:tensorflow:Create CheckpointSaverHook.\n",
      "INFO:tensorflow:Graph was finalized.\n",
      "INFO:tensorflow:Running local_init_op.\n",
      "INFO:tensorflow:Done running local_init_op.\n",
      "WARNING:tensorflow:From /anaconda3/lib/python3.6/site-packages/tensorflow/python/training/monitored_session.py:804: start_queue_runners (from tensorflow.python.training.queue_runner_impl) is deprecated and will be removed in a future version.\n",
      "Instructions for updating:\n",
      "To construct input pipelines, use the `tf.data` module.\n",
      "INFO:tensorflow:Saving checkpoints for 0 into /var/folders/23/mg281cys48n4dvql2mw8hl480000gn/T/tmpom1lzus8/model.ckpt.\n",
      "INFO:tensorflow:loss = 73.94592, step = 1\n",
      "INFO:tensorflow:global_step/sec: 97.997\n",
      "INFO:tensorflow:loss = 21.020527, step = 101 (1.022 sec)\n",
      "INFO:tensorflow:global_step/sec: 138.808\n",
      "INFO:tensorflow:loss = 8.832829, step = 201 (0.721 sec)\n",
      "INFO:tensorflow:global_step/sec: 132.148\n",
      "INFO:tensorflow:loss = 2.3861375, step = 301 (0.757 sec)\n",
      "INFO:tensorflow:global_step/sec: 157.468\n",
      "INFO:tensorflow:loss = 10.126528, step = 401 (0.635 sec)\n",
      "INFO:tensorflow:global_step/sec: 131.888\n",
      "INFO:tensorflow:loss = 4.24094, step = 501 (0.758 sec)\n",
      "INFO:tensorflow:global_step/sec: 135.657\n",
      "INFO:tensorflow:loss = 2.6914563, step = 601 (0.737 sec)\n",
      "INFO:tensorflow:global_step/sec: 135.161\n",
      "INFO:tensorflow:loss = 4.459407, step = 701 (0.741 sec)\n",
      "INFO:tensorflow:global_step/sec: 136.951\n",
      "INFO:tensorflow:loss = 3.9116464, step = 801 (0.730 sec)\n",
      "INFO:tensorflow:global_step/sec: 134.367\n",
      "INFO:tensorflow:loss = 4.5150294, step = 901 (0.745 sec)\n",
      "INFO:tensorflow:global_step/sec: 137.169\n",
      "INFO:tensorflow:loss = 5.3684416, step = 1001 (0.729 sec)\n",
      "INFO:tensorflow:global_step/sec: 130.664\n",
      "INFO:tensorflow:loss = 2.9513824, step = 1101 (0.765 sec)\n",
      "INFO:tensorflow:global_step/sec: 124.828\n",
      "INFO:tensorflow:loss = 7.211844, step = 1201 (0.800 sec)\n",
      "INFO:tensorflow:global_step/sec: 128.611\n",
      "INFO:tensorflow:loss = 5.0224767, step = 1301 (0.778 sec)\n",
      "INFO:tensorflow:global_step/sec: 121.759\n",
      "INFO:tensorflow:loss = 3.9891083, step = 1401 (0.821 sec)\n",
      "INFO:tensorflow:global_step/sec: 128.461\n",
      "INFO:tensorflow:loss = 7.651018, step = 1501 (0.778 sec)\n",
      "INFO:tensorflow:global_step/sec: 132.826\n",
      "INFO:tensorflow:loss = 0.35691923, step = 1601 (0.753 sec)\n",
      "INFO:tensorflow:global_step/sec: 126.51\n",
      "INFO:tensorflow:loss = 0.51181006, step = 1701 (0.791 sec)\n",
      "INFO:tensorflow:global_step/sec: 133.264\n",
      "INFO:tensorflow:loss = 2.7830052, step = 1801 (0.751 sec)\n",
      "INFO:tensorflow:global_step/sec: 113.036\n",
      "INFO:tensorflow:loss = 3.8404913, step = 1901 (0.883 sec)\n",
      "INFO:tensorflow:global_step/sec: 116.378\n",
      "INFO:tensorflow:loss = 2.0433388, step = 2001 (0.860 sec)\n",
      "INFO:tensorflow:global_step/sec: 130.556\n",
      "INFO:tensorflow:loss = 2.898278, step = 2101 (0.766 sec)\n",
      "INFO:tensorflow:global_step/sec: 134.614\n",
      "INFO:tensorflow:loss = 5.3414006, step = 2201 (0.743 sec)\n",
      "INFO:tensorflow:global_step/sec: 127.655\n",
      "INFO:tensorflow:loss = 5.727751, step = 2301 (0.783 sec)\n",
      "INFO:tensorflow:global_step/sec: 131.567\n",
      "INFO:tensorflow:loss = 1.0513127, step = 2401 (0.760 sec)\n",
      "INFO:tensorflow:global_step/sec: 110.545\n",
      "INFO:tensorflow:loss = 1.7669237, step = 2501 (0.905 sec)\n",
      "INFO:tensorflow:global_step/sec: 109.106\n",
      "INFO:tensorflow:loss = 1.3547852, step = 2601 (0.916 sec)\n",
      "INFO:tensorflow:global_step/sec: 158.143\n",
      "INFO:tensorflow:loss = 0.3969699, step = 2701 (0.633 sec)\n",
      "INFO:tensorflow:global_step/sec: 156.649\n",
      "INFO:tensorflow:loss = 1.8387539, step = 2801 (0.639 sec)\n",
      "INFO:tensorflow:global_step/sec: 162.616\n",
      "INFO:tensorflow:loss = 1.1409489, step = 2901 (0.615 sec)\n",
      "INFO:tensorflow:global_step/sec: 165.418\n",
      "INFO:tensorflow:loss = 0.6351639, step = 3001 (0.604 sec)\n",
      "INFO:tensorflow:global_step/sec: 164.383\n",
      "INFO:tensorflow:loss = 4.05058, step = 3101 (0.609 sec)\n",
      "INFO:tensorflow:global_step/sec: 159.236\n",
      "INFO:tensorflow:loss = 6.478567, step = 3201 (0.628 sec)\n",
      "INFO:tensorflow:global_step/sec: 128.423\n",
      "INFO:tensorflow:loss = 2.7878594, step = 3301 (0.778 sec)\n",
      "INFO:tensorflow:global_step/sec: 154.728\n",
      "INFO:tensorflow:loss = 3.9539838, step = 3401 (0.646 sec)\n",
      "INFO:tensorflow:global_step/sec: 156.496\n",
      "INFO:tensorflow:loss = 0.19990714, step = 3501 (0.639 sec)\n",
      "INFO:tensorflow:global_step/sec: 165.373\n",
      "INFO:tensorflow:loss = 0.4281683, step = 3601 (0.605 sec)\n",
      "INFO:tensorflow:global_step/sec: 161.915\n",
      "INFO:tensorflow:loss = 0.5665649, step = 3701 (0.617 sec)\n",
      "INFO:tensorflow:global_step/sec: 165.967\n",
      "INFO:tensorflow:loss = 0.1837858, step = 3801 (0.603 sec)\n",
      "INFO:tensorflow:global_step/sec: 164.15\n",
      "INFO:tensorflow:loss = 1.5011945, step = 3901 (0.609 sec)\n",
      "INFO:tensorflow:global_step/sec: 150.438\n",
      "INFO:tensorflow:loss = 0.19732763, step = 4001 (0.664 sec)\n",
      "INFO:tensorflow:global_step/sec: 133.363\n",
      "INFO:tensorflow:loss = 2.8688946, step = 4101 (0.750 sec)\n",
      "INFO:tensorflow:global_step/sec: 165.007\n",
      "INFO:tensorflow:loss = 1.5869699, step = 4201 (0.606 sec)\n",
      "INFO:tensorflow:global_step/sec: 160.3\n",
      "INFO:tensorflow:loss = 0.496849, step = 4301 (0.624 sec)\n",
      "INFO:tensorflow:global_step/sec: 167.304\n",
      "INFO:tensorflow:loss = 2.6324353, step = 4401 (0.598 sec)\n",
      "INFO:tensorflow:global_step/sec: 142.855\n",
      "INFO:tensorflow:loss = 0.54006976, step = 4501 (0.700 sec)\n",
      "INFO:tensorflow:global_step/sec: 141.285\n",
      "INFO:tensorflow:loss = 0.69570243, step = 4601 (0.709 sec)\n",
      "INFO:tensorflow:global_step/sec: 134.41\n",
      "INFO:tensorflow:loss = 6.033672, step = 4701 (0.743 sec)\n",
      "INFO:tensorflow:global_step/sec: 149.86\n",
      "INFO:tensorflow:loss = 2.9567442, step = 4801 (0.667 sec)\n",
      "INFO:tensorflow:global_step/sec: 140.868\n",
      "INFO:tensorflow:loss = 1.3496182, step = 4901 (0.710 sec)\n",
      "INFO:tensorflow:global_step/sec: 118.403\n",
      "INFO:tensorflow:loss = 5.356744, step = 5001 (0.845 sec)\n",
      "INFO:tensorflow:global_step/sec: 151.87\n",
      "INFO:tensorflow:loss = 0.66466296, step = 5101 (0.660 sec)\n",
      "INFO:tensorflow:global_step/sec: 134.743\n",
      "INFO:tensorflow:loss = 1.7681849, step = 5201 (0.741 sec)\n",
      "INFO:tensorflow:global_step/sec: 159.381\n",
      "INFO:tensorflow:loss = 0.44220066, step = 5301 (0.628 sec)\n",
      "INFO:tensorflow:global_step/sec: 143.367\n",
      "INFO:tensorflow:loss = 0.22769962, step = 5401 (0.698 sec)\n",
      "INFO:tensorflow:global_step/sec: 126.129\n",
      "INFO:tensorflow:loss = 0.6326361, step = 5501 (0.792 sec)\n",
      "INFO:tensorflow:global_step/sec: 147.142\n",
      "INFO:tensorflow:loss = 0.065442525, step = 5601 (0.679 sec)\n",
      "INFO:tensorflow:global_step/sec: 156.397\n",
      "INFO:tensorflow:loss = 1.1270123, step = 5701 (0.640 sec)\n",
      "INFO:tensorflow:global_step/sec: 162.774\n",
      "INFO:tensorflow:loss = 0.15015784, step = 5801 (0.615 sec)\n",
      "INFO:tensorflow:global_step/sec: 162.123\n",
      "INFO:tensorflow:loss = 1.6091886, step = 5901 (0.616 sec)\n",
      "INFO:tensorflow:global_step/sec: 165.428\n",
      "INFO:tensorflow:loss = 0.3693016, step = 6001 (0.605 sec)\n",
      "INFO:tensorflow:global_step/sec: 165.819\n",
      "INFO:tensorflow:loss = 2.7899926, step = 6101 (0.603 sec)\n",
      "INFO:tensorflow:global_step/sec: 152.704\n",
      "INFO:tensorflow:loss = 0.90365857, step = 6201 (0.655 sec)\n",
      "INFO:tensorflow:global_step/sec: 167.906\n",
      "INFO:tensorflow:loss = 0.77877593, step = 6301 (0.596 sec)\n",
      "INFO:tensorflow:global_step/sec: 161.025\n",
      "INFO:tensorflow:loss = 0.7613852, step = 6401 (0.621 sec)\n",
      "INFO:tensorflow:global_step/sec: 166.588\n",
      "INFO:tensorflow:loss = 3.9936812, step = 6501 (0.600 sec)\n",
      "INFO:tensorflow:global_step/sec: 166.792\n",
      "INFO:tensorflow:loss = 2.2152402, step = 6601 (0.600 sec)\n",
      "INFO:tensorflow:global_step/sec: 166.662\n",
      "INFO:tensorflow:loss = 0.25501847, step = 6701 (0.599 sec)\n",
      "INFO:tensorflow:global_step/sec: 166.68\n",
      "INFO:tensorflow:loss = 1.5419235, step = 6801 (0.600 sec)\n",
      "INFO:tensorflow:global_step/sec: 165.219\n",
      "INFO:tensorflow:loss = 0.58429587, step = 6901 (0.606 sec)\n"
     ]
    },
    {
     "name": "stdout",
     "output_type": "stream",
     "text": [
      "INFO:tensorflow:global_step/sec: 159.039\n",
      "INFO:tensorflow:loss = 3.0352776, step = 7001 (0.628 sec)\n",
      "INFO:tensorflow:global_step/sec: 160.773\n",
      "INFO:tensorflow:loss = 7.1195474, step = 7101 (0.622 sec)\n",
      "INFO:tensorflow:global_step/sec: 167.22\n",
      "INFO:tensorflow:loss = 0.5843916, step = 7201 (0.598 sec)\n",
      "INFO:tensorflow:global_step/sec: 168.533\n",
      "INFO:tensorflow:loss = 1.2699319, step = 7301 (0.594 sec)\n",
      "INFO:tensorflow:global_step/sec: 165.827\n",
      "INFO:tensorflow:loss = 0.8487928, step = 7401 (0.603 sec)\n",
      "INFO:tensorflow:global_step/sec: 167.36\n",
      "INFO:tensorflow:loss = 1.0835962, step = 7501 (0.597 sec)\n",
      "INFO:tensorflow:global_step/sec: 168.283\n",
      "INFO:tensorflow:loss = 0.15857019, step = 7601 (0.595 sec)\n",
      "INFO:tensorflow:global_step/sec: 166.197\n",
      "INFO:tensorflow:loss = 0.27721488, step = 7701 (0.601 sec)\n",
      "INFO:tensorflow:global_step/sec: 167.703\n",
      "INFO:tensorflow:loss = 0.38523293, step = 7801 (0.596 sec)\n",
      "INFO:tensorflow:global_step/sec: 161.232\n",
      "INFO:tensorflow:loss = 1.1630685, step = 7901 (0.620 sec)\n",
      "INFO:tensorflow:global_step/sec: 165.308\n",
      "INFO:tensorflow:loss = 1.3423356, step = 8001 (0.605 sec)\n",
      "INFO:tensorflow:global_step/sec: 155.248\n",
      "INFO:tensorflow:loss = 0.24915998, step = 8101 (0.644 sec)\n",
      "INFO:tensorflow:global_step/sec: 166.328\n",
      "INFO:tensorflow:loss = 0.17659625, step = 8201 (0.601 sec)\n",
      "INFO:tensorflow:global_step/sec: 167.922\n",
      "INFO:tensorflow:loss = 0.68754214, step = 8301 (0.596 sec)\n",
      "INFO:tensorflow:global_step/sec: 166.24\n",
      "INFO:tensorflow:loss = 0.46430767, step = 8401 (0.601 sec)\n",
      "INFO:tensorflow:global_step/sec: 167.575\n",
      "INFO:tensorflow:loss = 0.7223236, step = 8501 (0.596 sec)\n",
      "INFO:tensorflow:global_step/sec: 167.779\n",
      "INFO:tensorflow:loss = 0.42962098, step = 8601 (0.596 sec)\n",
      "INFO:tensorflow:global_step/sec: 159.09\n",
      "INFO:tensorflow:loss = 0.6314034, step = 8701 (0.629 sec)\n",
      "INFO:tensorflow:global_step/sec: 167.849\n",
      "INFO:tensorflow:loss = 0.92513263, step = 8801 (0.596 sec)\n",
      "INFO:tensorflow:global_step/sec: 167.756\n",
      "INFO:tensorflow:loss = 0.31339338, step = 8901 (0.596 sec)\n",
      "INFO:tensorflow:global_step/sec: 161.828\n",
      "INFO:tensorflow:loss = 2.174718, step = 9001 (0.618 sec)\n",
      "INFO:tensorflow:global_step/sec: 165.857\n",
      "INFO:tensorflow:loss = 0.059908137, step = 9101 (0.603 sec)\n",
      "INFO:tensorflow:global_step/sec: 167.743\n",
      "INFO:tensorflow:loss = 0.07091217, step = 9201 (0.596 sec)\n",
      "INFO:tensorflow:global_step/sec: 167.686\n",
      "INFO:tensorflow:loss = 0.43018368, step = 9301 (0.596 sec)\n",
      "INFO:tensorflow:global_step/sec: 166.874\n",
      "INFO:tensorflow:loss = 0.6464897, step = 9401 (0.600 sec)\n",
      "INFO:tensorflow:global_step/sec: 159.469\n",
      "INFO:tensorflow:loss = 0.4044742, step = 9501 (0.627 sec)\n",
      "INFO:tensorflow:global_step/sec: 168.045\n",
      "INFO:tensorflow:loss = 0.54347473, step = 9601 (0.595 sec)\n",
      "INFO:tensorflow:global_step/sec: 167.924\n",
      "INFO:tensorflow:loss = 0.99489534, step = 9701 (0.596 sec)\n",
      "INFO:tensorflow:global_step/sec: 168.22\n",
      "INFO:tensorflow:loss = 1.1321704, step = 9801 (0.594 sec)\n",
      "INFO:tensorflow:global_step/sec: 165.274\n",
      "INFO:tensorflow:loss = 0.24016121, step = 9901 (0.605 sec)\n",
      "INFO:tensorflow:global_step/sec: 155.853\n",
      "INFO:tensorflow:loss = 0.09756535, step = 10001 (0.642 sec)\n",
      "INFO:tensorflow:global_step/sec: 163.102\n",
      "INFO:tensorflow:loss = 0.51637554, step = 10101 (0.613 sec)\n",
      "INFO:tensorflow:global_step/sec: 166.663\n",
      "INFO:tensorflow:loss = 0.23326536, step = 10201 (0.600 sec)\n",
      "INFO:tensorflow:global_step/sec: 156.037\n",
      "INFO:tensorflow:loss = 0.25288695, step = 10301 (0.640 sec)\n",
      "INFO:tensorflow:global_step/sec: 164.665\n",
      "INFO:tensorflow:loss = 0.24196942, step = 10401 (0.607 sec)\n",
      "INFO:tensorflow:global_step/sec: 160.368\n",
      "INFO:tensorflow:loss = 0.0499572, step = 10501 (0.624 sec)\n",
      "INFO:tensorflow:global_step/sec: 165.09\n",
      "INFO:tensorflow:loss = 1.1092364, step = 10601 (0.605 sec)\n",
      "INFO:tensorflow:global_step/sec: 168.164\n",
      "INFO:tensorflow:loss = 0.6044283, step = 10701 (0.595 sec)\n",
      "INFO:tensorflow:global_step/sec: 160.667\n",
      "INFO:tensorflow:loss = 0.20187847, step = 10801 (0.623 sec)\n",
      "INFO:tensorflow:global_step/sec: 164.147\n",
      "INFO:tensorflow:loss = 1.7584195, step = 10901 (0.610 sec)\n",
      "INFO:tensorflow:global_step/sec: 165.596\n",
      "INFO:tensorflow:loss = 0.06052678, step = 11001 (0.604 sec)\n",
      "INFO:tensorflow:global_step/sec: 160.876\n",
      "INFO:tensorflow:loss = 0.18414477, step = 11101 (0.621 sec)\n",
      "INFO:tensorflow:global_step/sec: 167.224\n",
      "INFO:tensorflow:loss = 0.1797383, step = 11201 (0.599 sec)\n",
      "INFO:tensorflow:global_step/sec: 165.791\n",
      "INFO:tensorflow:loss = 0.07076274, step = 11301 (0.603 sec)\n",
      "INFO:tensorflow:global_step/sec: 168.713\n",
      "INFO:tensorflow:loss = 0.7181425, step = 11401 (0.592 sec)\n",
      "INFO:tensorflow:global_step/sec: 166.917\n",
      "INFO:tensorflow:loss = 0.06858797, step = 11501 (0.599 sec)\n",
      "INFO:tensorflow:global_step/sec: 168.506\n",
      "INFO:tensorflow:loss = 0.7292986, step = 11601 (0.594 sec)\n",
      "INFO:tensorflow:global_step/sec: 165.309\n",
      "INFO:tensorflow:loss = 0.12924045, step = 11701 (0.605 sec)\n",
      "INFO:tensorflow:global_step/sec: 158.077\n",
      "INFO:tensorflow:loss = 0.08583983, step = 11801 (0.632 sec)\n",
      "INFO:tensorflow:global_step/sec: 168.146\n",
      "INFO:tensorflow:loss = 1.4554608, step = 11901 (0.595 sec)\n",
      "INFO:tensorflow:global_step/sec: 159.697\n",
      "INFO:tensorflow:loss = 0.44283548, step = 12001 (0.626 sec)\n",
      "INFO:tensorflow:global_step/sec: 169.101\n",
      "INFO:tensorflow:loss = 0.27032343, step = 12101 (0.591 sec)\n",
      "INFO:tensorflow:global_step/sec: 166.441\n",
      "INFO:tensorflow:loss = 0.77076674, step = 12201 (0.601 sec)\n",
      "INFO:tensorflow:global_step/sec: 166.423\n",
      "INFO:tensorflow:loss = 0.3621965, step = 12301 (0.601 sec)\n",
      "INFO:tensorflow:global_step/sec: 166.162\n",
      "INFO:tensorflow:loss = 0.6537045, step = 12401 (0.602 sec)\n",
      "INFO:tensorflow:global_step/sec: 168.727\n",
      "INFO:tensorflow:loss = 3.1593258, step = 12501 (0.593 sec)\n",
      "INFO:tensorflow:global_step/sec: 163.975\n",
      "INFO:tensorflow:loss = 0.6250103, step = 12601 (0.609 sec)\n",
      "INFO:tensorflow:global_step/sec: 167.654\n",
      "INFO:tensorflow:loss = 0.80334735, step = 12701 (0.597 sec)\n",
      "INFO:tensorflow:global_step/sec: 152.328\n",
      "INFO:tensorflow:loss = 0.0946002, step = 12801 (0.656 sec)\n",
      "INFO:tensorflow:global_step/sec: 168.554\n",
      "INFO:tensorflow:loss = 0.06053269, step = 12901 (0.594 sec)\n",
      "INFO:tensorflow:global_step/sec: 167.06\n",
      "INFO:tensorflow:loss = 0.13306594, step = 13001 (0.598 sec)\n",
      "INFO:tensorflow:global_step/sec: 164.196\n",
      "INFO:tensorflow:loss = 0.007084025, step = 13101 (0.609 sec)\n",
      "INFO:tensorflow:global_step/sec: 167.758\n",
      "INFO:tensorflow:loss = 0.6966488, step = 13201 (0.597 sec)\n",
      "INFO:tensorflow:global_step/sec: 170.284\n",
      "INFO:tensorflow:loss = 0.12390349, step = 13301 (0.587 sec)\n",
      "INFO:tensorflow:global_step/sec: 171.034\n",
      "INFO:tensorflow:loss = 0.3104574, step = 13401 (0.584 sec)\n",
      "INFO:tensorflow:global_step/sec: 169.956\n",
      "INFO:tensorflow:loss = 0.15420556, step = 13501 (0.588 sec)\n",
      "INFO:tensorflow:global_step/sec: 164.306\n",
      "INFO:tensorflow:loss = 0.18788074, step = 13601 (0.609 sec)\n",
      "INFO:tensorflow:global_step/sec: 169.932\n",
      "INFO:tensorflow:loss = 0.6391625, step = 13701 (0.589 sec)\n",
      "INFO:tensorflow:global_step/sec: 162.487\n",
      "INFO:tensorflow:loss = 0.18380791, step = 13801 (0.615 sec)\n",
      "INFO:tensorflow:global_step/sec: 168.875\n",
      "INFO:tensorflow:loss = 0.46196145, step = 13901 (0.592 sec)\n",
      "INFO:tensorflow:global_step/sec: 169.209\n",
      "INFO:tensorflow:loss = 0.25977063, step = 14001 (0.592 sec)\n",
      "INFO:tensorflow:global_step/sec: 170.219\n",
      "INFO:tensorflow:loss = 0.346745, step = 14101 (0.587 sec)\n",
      "INFO:tensorflow:global_step/sec: 164.166\n",
      "INFO:tensorflow:loss = 0.04476568, step = 14201 (0.609 sec)\n",
      "INFO:tensorflow:global_step/sec: 165.224\n",
      "INFO:tensorflow:loss = 0.4362445, step = 14301 (0.605 sec)\n",
      "INFO:tensorflow:global_step/sec: 167.355\n",
      "INFO:tensorflow:loss = 0.25097328, step = 14401 (0.598 sec)\n",
      "INFO:tensorflow:global_step/sec: 160.525\n",
      "INFO:tensorflow:loss = 1.1529531, step = 14501 (0.623 sec)\n",
      "INFO:tensorflow:global_step/sec: 168.628\n",
      "INFO:tensorflow:loss = 0.92996997, step = 14601 (0.593 sec)\n",
      "INFO:tensorflow:global_step/sec: 153.202\n",
      "INFO:tensorflow:loss = 0.3124446, step = 14701 (0.652 sec)\n",
      "INFO:tensorflow:global_step/sec: 168.97\n",
      "INFO:tensorflow:loss = 0.35867274, step = 14801 (0.592 sec)\n",
      "INFO:tensorflow:global_step/sec: 167.096\n",
      "INFO:tensorflow:loss = 0.97468174, step = 14901 (0.599 sec)\n",
      "INFO:tensorflow:global_step/sec: 168.018\n",
      "INFO:tensorflow:loss = 0.5537752, step = 15001 (0.595 sec)\n",
      "INFO:tensorflow:global_step/sec: 168.318\n",
      "INFO:tensorflow:loss = 0.031711426, step = 15101 (0.594 sec)\n"
     ]
    },
    {
     "name": "stdout",
     "output_type": "stream",
     "text": [
      "INFO:tensorflow:global_step/sec: 166.744\n",
      "INFO:tensorflow:loss = 0.038965687, step = 15201 (0.600 sec)\n",
      "INFO:tensorflow:global_step/sec: 160.773\n",
      "INFO:tensorflow:loss = 0.97391546, step = 15301 (0.622 sec)\n",
      "INFO:tensorflow:global_step/sec: 166.977\n",
      "INFO:tensorflow:loss = 0.23673132, step = 15401 (0.599 sec)\n",
      "INFO:tensorflow:global_step/sec: 168.051\n",
      "INFO:tensorflow:loss = 1.3582127, step = 15501 (0.595 sec)\n",
      "INFO:tensorflow:global_step/sec: 166.353\n",
      "INFO:tensorflow:loss = 0.03188372, step = 15601 (0.601 sec)\n",
      "INFO:tensorflow:global_step/sec: 161.374\n",
      "INFO:tensorflow:loss = 0.0425903, step = 15701 (0.620 sec)\n",
      "INFO:tensorflow:global_step/sec: 166.952\n",
      "INFO:tensorflow:loss = 0.6086256, step = 15801 (0.599 sec)\n",
      "INFO:tensorflow:global_step/sec: 166.414\n",
      "INFO:tensorflow:loss = 0.12865888, step = 15901 (0.601 sec)\n",
      "INFO:tensorflow:global_step/sec: 166.771\n",
      "INFO:tensorflow:loss = 0.3492688, step = 16001 (0.599 sec)\n",
      "INFO:tensorflow:global_step/sec: 160.594\n",
      "INFO:tensorflow:loss = 0.088402584, step = 16101 (0.623 sec)\n",
      "INFO:tensorflow:global_step/sec: 166.904\n",
      "INFO:tensorflow:loss = 0.05430056, step = 16201 (0.599 sec)\n",
      "INFO:tensorflow:global_step/sec: 166.777\n",
      "INFO:tensorflow:loss = 0.3181165, step = 16301 (0.600 sec)\n",
      "INFO:tensorflow:global_step/sec: 167.832\n",
      "INFO:tensorflow:loss = 0.07773797, step = 16401 (0.596 sec)\n",
      "INFO:tensorflow:global_step/sec: 166.146\n",
      "INFO:tensorflow:loss = 0.89421374, step = 16501 (0.602 sec)\n",
      "INFO:tensorflow:global_step/sec: 165.794\n",
      "INFO:tensorflow:loss = 0.012474864, step = 16601 (0.603 sec)\n",
      "INFO:tensorflow:global_step/sec: 162.326\n",
      "INFO:tensorflow:loss = 0.024052676, step = 16701 (0.616 sec)\n",
      "INFO:tensorflow:global_step/sec: 165.709\n",
      "INFO:tensorflow:loss = 0.044383496, step = 16801 (0.604 sec)\n",
      "INFO:tensorflow:global_step/sec: 161.747\n",
      "INFO:tensorflow:loss = 0.28568262, step = 16901 (0.618 sec)\n",
      "INFO:tensorflow:global_step/sec: 167.738\n",
      "INFO:tensorflow:loss = 0.12289494, step = 17001 (0.596 sec)\n",
      "INFO:tensorflow:global_step/sec: 170.182\n",
      "INFO:tensorflow:loss = 0.17003155, step = 17101 (0.588 sec)\n",
      "INFO:tensorflow:global_step/sec: 167.251\n",
      "INFO:tensorflow:loss = 0.4197966, step = 17201 (0.598 sec)\n",
      "INFO:tensorflow:global_step/sec: 168.891\n",
      "INFO:tensorflow:loss = 0.16302109, step = 17301 (0.592 sec)\n",
      "INFO:tensorflow:global_step/sec: 170.052\n",
      "INFO:tensorflow:loss = 0.10316232, step = 17401 (0.588 sec)\n",
      "INFO:tensorflow:global_step/sec: 167.98\n",
      "INFO:tensorflow:loss = 0.055387132, step = 17501 (0.595 sec)\n",
      "INFO:tensorflow:global_step/sec: 163.746\n",
      "INFO:tensorflow:loss = 0.1372494, step = 17601 (0.610 sec)\n",
      "INFO:tensorflow:global_step/sec: 162.412\n",
      "INFO:tensorflow:loss = 0.24078806, step = 17701 (0.616 sec)\n",
      "INFO:tensorflow:global_step/sec: 158.772\n",
      "INFO:tensorflow:loss = 0.10721796, step = 17801 (0.629 sec)\n",
      "INFO:tensorflow:global_step/sec: 168.706\n",
      "INFO:tensorflow:loss = 0.1250558, step = 17901 (0.593 sec)\n",
      "INFO:tensorflow:global_step/sec: 163.219\n",
      "INFO:tensorflow:loss = 0.0072651054, step = 18001 (0.612 sec)\n",
      "INFO:tensorflow:global_step/sec: 166.837\n",
      "INFO:tensorflow:loss = 0.16453283, step = 18101 (0.600 sec)\n",
      "INFO:tensorflow:global_step/sec: 168.006\n",
      "INFO:tensorflow:loss = 0.13489167, step = 18201 (0.596 sec)\n",
      "INFO:tensorflow:global_step/sec: 165.905\n",
      "INFO:tensorflow:loss = 0.08901179, step = 18301 (0.602 sec)\n",
      "INFO:tensorflow:global_step/sec: 168.948\n",
      "INFO:tensorflow:loss = 0.49331912, step = 18401 (0.592 sec)\n",
      "INFO:tensorflow:global_step/sec: 165.231\n",
      "INFO:tensorflow:loss = 0.03139556, step = 18501 (0.605 sec)\n",
      "INFO:tensorflow:global_step/sec: 153.286\n",
      "INFO:tensorflow:loss = 0.14419591, step = 18601 (0.652 sec)\n",
      "INFO:tensorflow:global_step/sec: 168.442\n",
      "INFO:tensorflow:loss = 0.05402457, step = 18701 (0.594 sec)\n",
      "INFO:tensorflow:Saving checkpoints for 18750 into /var/folders/23/mg281cys48n4dvql2mw8hl480000gn/T/tmpom1lzus8/model.ckpt.\n",
      "INFO:tensorflow:Loss for final step: 0.22330445.\n"
     ]
    },
    {
     "data": {
      "text/plain": [
       "<tensorflow.python.estimator.canned.dnn.DNNClassifier at 0x12ae32a90>"
      ]
     },
     "execution_count": 21,
     "metadata": {},
     "output_type": "execute_result"
    }
   ],
   "source": [
    "indices = np.random.permutation(len(X_train))\n",
    "X_train_shuffled = X_train[indices]\n",
    "y_train_shuffled = y_train[indices]\n",
    "\n",
    "input_fn = tf.estimator.inputs.numpy_input_fn(\n",
    "    x={\"X\": X_train_shuffled}, y=y_train_shuffled, num_epochs=10, batch_size=32, shuffle=False)\n",
    "dnn_clf.train(input_fn=input_fn)"
   ]
  },
  {
   "cell_type": "markdown",
   "metadata": {},
   "source": [
    "The final loss should be exactly 0.46282205."
   ]
  },
  {
   "cell_type": "markdown",
   "metadata": {},
   "source": [
    "Instead of using the `numpy_input_fn()` function (which cannot reproducibly shuffle the dataset at each epoch), you can create your own input function using the Data API and set its shuffling seed:"
   ]
  },
  {
   "cell_type": "code",
   "execution_count": 22,
   "metadata": {},
   "outputs": [],
   "source": [
    "def create_dataset(X, y=None, n_epochs=1, batch_size=32,\n",
    "                   buffer_size=1000, seed=None):\n",
    "    dataset = tf.data.Dataset.from_tensor_slices(({\"X\": X}, y))\n",
    "    dataset = dataset.repeat(n_epochs)\n",
    "    dataset = dataset.shuffle(buffer_size, seed=seed)\n",
    "    return dataset.batch(batch_size)\n",
    "\n",
    "input_fn=lambda: create_dataset(X_train, y_train, seed=42)"
   ]
  },
  {
   "cell_type": "code",
   "execution_count": 23,
   "metadata": {},
   "outputs": [
    {
     "name": "stdout",
     "output_type": "stream",
     "text": [
      "WARNING:tensorflow:Using temporary folder as model directory: /var/folders/23/mg281cys48n4dvql2mw8hl480000gn/T/tmpd87ybgon\n",
      "INFO:tensorflow:Using config: {'_model_dir': '/var/folders/23/mg281cys48n4dvql2mw8hl480000gn/T/tmpd87ybgon', '_tf_random_seed': 42, '_save_summary_steps': 100, '_save_checkpoints_steps': None, '_save_checkpoints_secs': 600, '_session_config': allow_soft_placement: true\n",
      "graph_options {\n",
      "  rewrite_options {\n",
      "    meta_optimizer_iterations: ONE\n",
      "  }\n",
      "}\n",
      ", '_keep_checkpoint_max': 5, '_keep_checkpoint_every_n_hours': 10000, '_log_step_count_steps': 100, '_train_distribute': None, '_device_fn': None, '_protocol': None, '_eval_distribute': None, '_experimental_distribute': None, '_service': None, '_cluster_spec': <tensorflow.python.training.server_lib.ClusterSpec object at 0xb4b492630>, '_task_type': 'worker', '_task_id': 0, '_global_id_in_cluster': 0, '_master': '', '_evaluation_master': '', '_is_chief': True, '_num_ps_replicas': 0, '_num_worker_replicas': 1}\n",
      "INFO:tensorflow:Calling model_fn.\n",
      "INFO:tensorflow:Done calling model_fn.\n",
      "INFO:tensorflow:Create CheckpointSaverHook.\n",
      "INFO:tensorflow:Graph was finalized.\n",
      "INFO:tensorflow:Running local_init_op.\n",
      "INFO:tensorflow:Done running local_init_op.\n",
      "INFO:tensorflow:Saving checkpoints for 0 into /var/folders/23/mg281cys48n4dvql2mw8hl480000gn/T/tmpd87ybgon/model.ckpt.\n",
      "INFO:tensorflow:loss = 80.27969, step = 1\n",
      "INFO:tensorflow:global_step/sec: 97.7196\n",
      "INFO:tensorflow:loss = 16.09288, step = 101 (1.025 sec)\n",
      "INFO:tensorflow:global_step/sec: 150.88\n",
      "INFO:tensorflow:loss = 5.6057744, step = 201 (0.663 sec)\n",
      "INFO:tensorflow:global_step/sec: 157.951\n",
      "INFO:tensorflow:loss = 12.584702, step = 301 (0.633 sec)\n",
      "INFO:tensorflow:global_step/sec: 159.419\n",
      "INFO:tensorflow:loss = 2.0894585, step = 401 (0.627 sec)\n",
      "INFO:tensorflow:global_step/sec: 154.781\n",
      "INFO:tensorflow:loss = 9.225822, step = 501 (0.646 sec)\n",
      "INFO:tensorflow:global_step/sec: 148.003\n",
      "INFO:tensorflow:loss = 8.118227, step = 601 (0.676 sec)\n",
      "INFO:tensorflow:global_step/sec: 160.677\n",
      "INFO:tensorflow:loss = 0.6530241, step = 701 (0.623 sec)\n",
      "INFO:tensorflow:global_step/sec: 159.435\n",
      "INFO:tensorflow:loss = 4.331426, step = 801 (0.627 sec)\n",
      "INFO:tensorflow:global_step/sec: 160.046\n",
      "INFO:tensorflow:loss = 1.5532515, step = 901 (0.626 sec)\n",
      "INFO:tensorflow:global_step/sec: 152.62\n",
      "INFO:tensorflow:loss = 5.2083516, step = 1001 (0.655 sec)\n",
      "INFO:tensorflow:global_step/sec: 158.309\n",
      "INFO:tensorflow:loss = 0.80289614, step = 1101 (0.632 sec)\n",
      "INFO:tensorflow:global_step/sec: 156.951\n",
      "INFO:tensorflow:loss = 3.1879454, step = 1201 (0.637 sec)\n",
      "INFO:tensorflow:global_step/sec: 156.105\n",
      "INFO:tensorflow:loss = 5.55963, step = 1301 (0.640 sec)\n",
      "INFO:tensorflow:global_step/sec: 159.384\n",
      "INFO:tensorflow:loss = 12.830042, step = 1401 (0.628 sec)\n",
      "INFO:tensorflow:global_step/sec: 150.165\n",
      "INFO:tensorflow:loss = 6.831172, step = 1501 (0.665 sec)\n",
      "INFO:tensorflow:global_step/sec: 157.142\n",
      "INFO:tensorflow:loss = 1.6350777, step = 1601 (0.636 sec)\n",
      "INFO:tensorflow:global_step/sec: 156.791\n",
      "INFO:tensorflow:loss = 1.961627, step = 1701 (0.638 sec)\n",
      "INFO:tensorflow:global_step/sec: 152.265\n",
      "INFO:tensorflow:loss = 1.4227533, step = 1801 (0.657 sec)\n",
      "INFO:tensorflow:Saving checkpoints for 1875 into /var/folders/23/mg281cys48n4dvql2mw8hl480000gn/T/tmpd87ybgon/model.ckpt.\n",
      "INFO:tensorflow:Loss for final step: 1.0556056.\n"
     ]
    },
    {
     "data": {
      "text/plain": [
       "<tensorflow.python.estimator.canned.dnn.DNNClassifier at 0xb30a00eb8>"
      ]
     },
     "execution_count": 23,
     "metadata": {},
     "output_type": "execute_result"
    }
   ],
   "source": [
    "random.seed(42)\n",
    "np.random.seed(42)\n",
    "tf.set_random_seed(42)\n",
    "\n",
    "my_config = tf.estimator.RunConfig(tf_random_seed=42)\n",
    "\n",
    "feature_cols = [tf.feature_column.numeric_column(\"X\", shape=[28 * 28])]\n",
    "dnn_clf = tf.estimator.DNNClassifier(hidden_units=[300, 100], n_classes=10,\n",
    "                                     feature_columns=feature_cols,\n",
    "                                     config=my_config)\n",
    "dnn_clf.train(input_fn=input_fn)"
   ]
  },
  {
   "cell_type": "markdown",
   "metadata": {},
   "source": [
    "The final loss should be exactly 1.0556093."
   ]
  },
  {
   "cell_type": "markdown",
   "metadata": {},
   "source": [
    "```python\n",
    "indices = np.random.permutation(len(X_train))\n",
    "X_train_shuffled = X_train[indices]\n",
    "y_train_shuffled = y_train[indices]\n",
    "\n",
    "input_fn = tf.estimator.inputs.numpy_input_fn(\n",
    "    x={\"X\": X_train_shuffled}, y=y_train_shuffled,\n",
    "    num_epochs=10, batch_size=32, shuffle=False)\n",
    "dnn_clf.train(input_fn=input_fn)\n",
    "```"
   ]
  },
  {
   "cell_type": "markdown",
   "metadata": {},
   "source": [
    "#### Keras API"
   ]
  },
  {
   "cell_type": "markdown",
   "metadata": {},
   "source": [
    "If you use the Keras API, all you need to do is set the random seed any time you clear the session:"
   ]
  },
  {
   "cell_type": "code",
   "execution_count": 24,
   "metadata": {},
   "outputs": [
    {
     "name": "stdout",
     "output_type": "stream",
     "text": [
      "Epoch 1/10\n",
      "60000/60000 [==============================] - 11s 179us/step - loss: 0.5700 - acc: 0.8538\n",
      "Epoch 2/10\n",
      "60000/60000 [==============================] - 10s 171us/step - loss: 0.2816 - acc: 0.9198\n",
      "Epoch 3/10\n",
      "60000/60000 [==============================] - 10s 172us/step - loss: 0.2313 - acc: 0.9345\n",
      "Epoch 4/10\n",
      "60000/60000 [==============================] - 10s 173us/step - loss: 0.1971 - acc: 0.9446\n",
      "Epoch 5/10\n",
      "60000/60000 [==============================] - 11s 175us/step - loss: 0.1718 - acc: 0.9504\n",
      "Epoch 6/10\n",
      "60000/60000 [==============================] - 10s 171us/step - loss: 0.1520 - acc: 0.9565\n",
      "Epoch 7/10\n",
      "60000/60000 [==============================] - 11s 176us/step - loss: 0.1360 - acc: 0.9617\n",
      "Epoch 8/10\n",
      "60000/60000 [==============================] - 10s 173us/step - loss: 0.1223 - acc: 0.9653\n",
      "Epoch 9/10\n",
      "60000/60000 [==============================] - 10s 171us/step - loss: 0.1108 - acc: 0.9688\n",
      "Epoch 10/10\n",
      "60000/60000 [==============================] - 10s 171us/step - loss: 0.1015 - acc: 0.9715\n"
     ]
    },
    {
     "data": {
      "text/plain": [
       "<tensorflow.python.keras.callbacks.History at 0xb4e1a6b38>"
      ]
     },
     "execution_count": 24,
     "metadata": {},
     "output_type": "execute_result"
    }
   ],
   "source": [
    "keras.backend.clear_session()\n",
    "\n",
    "random.seed(42)\n",
    "np.random.seed(42)\n",
    "tf.set_random_seed(42)\n",
    "\n",
    "model = keras.models.Sequential([\n",
    "    keras.layers.Dense(300, activation=\"relu\"),\n",
    "    keras.layers.Dense(100, activation=\"relu\"),\n",
    "    keras.layers.Dense(10, activation=\"softmax\"),\n",
    "])\n",
    "model.compile(loss=\"sparse_categorical_crossentropy\", optimizer=\"sgd\",\n",
    "              metrics=[\"accuracy\"])\n",
    "model.fit(X_train, y_train, epochs=10)"
   ]
  },
  {
   "cell_type": "markdown",
   "metadata": {},
   "source": [
    "You should get exactly 97.16% accuracy on the training set at the end of training."
   ]
  },
  {
   "cell_type": "markdown",
   "metadata": {},
   "source": [
    "## Eliminate other sources of variability"
   ]
  },
  {
   "cell_type": "markdown",
   "metadata": {},
   "source": [
    "For example, `os.listdir()` returns file names in an order that depends on how the files were indexed by the file system:"
   ]
  },
  {
   "cell_type": "code",
   "execution_count": 25,
   "metadata": {},
   "outputs": [
    {
     "data": {
      "text/plain": [
       "['my_test_foo_1',\n",
       " 'my_test_foo_6',\n",
       " 'my_test_foo_8',\n",
       " 'my_test_foo_9',\n",
       " 'my_test_foo_7',\n",
       " 'my_test_foo_0',\n",
       " 'my_test_foo_5',\n",
       " 'my_test_foo_2',\n",
       " 'my_test_foo_3',\n",
       " 'my_test_foo_4']"
      ]
     },
     "execution_count": 25,
     "metadata": {},
     "output_type": "execute_result"
    }
   ],
   "source": [
    "for i in range(10):\n",
    "    with open(\"my_test_foo_{}\".format(i), \"w\"):\n",
    "        pass\n",
    "\n",
    "[f for f in os.listdir() if f.startswith(\"my_test_foo_\")]"
   ]
  },
  {
   "cell_type": "code",
   "execution_count": 26,
   "metadata": {},
   "outputs": [
    {
     "data": {
      "text/plain": [
       "['my_test_bar_4',\n",
       " 'my_test_bar_3',\n",
       " 'my_test_bar_2',\n",
       " 'my_test_bar_5',\n",
       " 'my_test_bar_0',\n",
       " 'my_test_bar_7',\n",
       " 'my_test_bar_9',\n",
       " 'my_test_bar_8',\n",
       " 'my_test_bar_6',\n",
       " 'my_test_bar_1']"
      ]
     },
     "execution_count": 26,
     "metadata": {},
     "output_type": "execute_result"
    }
   ],
   "source": [
    "for i in range(10):\n",
    "    with open(\"my_test_bar_{}\".format(i), \"w\"):\n",
    "        pass\n",
    "\n",
    "[f for f in os.listdir() if f.startswith(\"my_test_bar_\")]"
   ]
  },
  {
   "cell_type": "markdown",
   "metadata": {},
   "source": [
    "You should sort the file names before you use them:"
   ]
  },
  {
   "cell_type": "code",
   "execution_count": 27,
   "metadata": {},
   "outputs": [],
   "source": [
    "filenames = os.listdir()\n",
    "filenames.sort()"
   ]
  },
  {
   "cell_type": "code",
   "execution_count": 28,
   "metadata": {},
   "outputs": [
    {
     "data": {
      "text/plain": [
       "['my_test_foo_0',\n",
       " 'my_test_foo_1',\n",
       " 'my_test_foo_2',\n",
       " 'my_test_foo_3',\n",
       " 'my_test_foo_4',\n",
       " 'my_test_foo_5',\n",
       " 'my_test_foo_6',\n",
       " 'my_test_foo_7',\n",
       " 'my_test_foo_8',\n",
       " 'my_test_foo_9']"
      ]
     },
     "execution_count": 28,
     "metadata": {},
     "output_type": "execute_result"
    }
   ],
   "source": [
    "[f for f in filenames if f.startswith(\"my_test_foo_\")]"
   ]
  },
  {
   "cell_type": "code",
   "execution_count": 29,
   "metadata": {},
   "outputs": [],
   "source": [
    "for f in os.listdir():\n",
    "    if f.startswith(\"my_test_foo_\") or f.startswith(\"my_test_bar_\"):\n",
    "        os.remove(f)"
   ]
  },
  {
   "cell_type": "markdown",
   "metadata": {},
   "source": [
    "I hope you enjoyed this notebook. If you do not get reproducible results, or if they are different than mine, then please [file an issue](https://github.com/ageron/handson-ml/issues) on github, specifying what version of Python, TensorFlow, and NumPy you are using, as well as your O.S. version. Thank you!"
   ]
  },
  {
   "cell_type": "markdown",
   "metadata": {},
   "source": [
    "If you want to learn more about Deep Learning and TensorFlow, check out my book [Hands-On Machine Learning with Scitkit-Learn and TensorFlow](http://homl.info/amazon), O'Reilly. You can also follow me on twitter [@aureliengeron](https://twitter.com/aureliengeron) or watch my videos on YouTube at [youtube.com/c/AurelienGeron](https://www.youtube.com/c/AurelienGeron)."
   ]
  },
  {
   "cell_type": "code",
   "execution_count": null,
   "metadata": {},
   "outputs": [],
   "source": []
  }
 ],
 "metadata": {
  "kernelspec": {
   "display_name": "Python 3",
   "language": "python",
   "name": "python3"
  },
  "language_info": {
   "codemirror_mode": {
    "name": "ipython",
    "version": 3
   },
   "file_extension": ".py",
   "mimetype": "text/x-python",
   "name": "python",
   "nbconvert_exporter": "python",
   "pygments_lexer": "ipython3",
   "version": "3.6.5"
  }
 },
 "nbformat": 4,
 "nbformat_minor": 2
}
